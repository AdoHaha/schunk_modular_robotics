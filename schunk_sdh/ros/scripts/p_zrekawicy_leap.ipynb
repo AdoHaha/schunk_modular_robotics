{
 "metadata": {
  "name": ""
 },
 "nbformat": 3,
 "nbformat_minor": 0,
 "worksheets": [
  {
   "cells": [
    {
     "cell_type": "markdown",
     "metadata": {},
     "source": [
      "### Translating data from data glove to SDH 2 with Leap Motion\n",
      "\n",
      "*Leap motion node* has to publish right gestures to start "
     ]
    },
    {
     "cell_type": "code",
     "collapsed": true,
     "input": [
      "#!/usr/bin/env python\n",
      "import roslib; roslib.load_manifest('schunk_sdh')\n",
      "import rospy\n",
      "from std_msgs.msg import String\n",
      "from std_msgs.msg import Float64\n",
      "from std_msgs.msg import Bool\n",
      "\n",
      "from dlonurdf.msg import Rekawica\n",
      "from dlonurdf.msg import Hand\n",
      "import math\n",
      "\n",
      "#import roslib; \n",
      "#roslib.load_manifest('dlonurdf')\n",
      "import sys \n",
      "#import rospy\n",
      "#import roslib\n",
      "import cob_srvs.srv\n",
      "import std_msgs.msg\n",
      "import control_msgs.msg\n",
      "import actionlib_msgs.msg\n",
      "import trajectory_msgs.msg\n",
      "import sensor_msgs.msg\n",
      "import collections\n",
      "import scipy.signal as signal"
     ],
     "language": "python",
     "metadata": {},
     "outputs": [],
     "prompt_number": 1
    },
    {
     "cell_type": "code",
     "collapsed": false,
     "input": [
      "fufu =Rekawica()\n",
      "hasattr(fufu,\"kciuk0\")\n",
      "print fufu.__setattr__('kciuk0',3)\n",
      "#print fufu\n",
      "move = False\n",
      "griptype='Flat Hand'\n",
      "grip_names = ['Cylinder grip', 'Three finger grip','Precision grip', 'Lateral grip','Wedge grip','Indicating pose','Open hand']\n"
     ],
     "language": "python",
     "metadata": {},
     "outputs": [
      {
       "output_type": "stream",
       "stream": "stdout",
       "text": [
        "None\n"
       ]
      }
     ],
     "prompt_number": 2
    },
    {
     "cell_type": "markdown",
     "metadata": {},
     "source": [
      "#### Subscribers to gesture and pose"
     ]
    },
    {
     "cell_type": "code",
     "collapsed": false,
     "input": [
      "def track_state(track_on):\n",
      "    '''Save last recognised gesture'''\n",
      "    global move\n",
      "    move=track_on.data\n",
      "    \n",
      "def grip_recog(grip):\n",
      "    ''' Save grip type recognised by predictor'''\n",
      "    global griptype\n",
      "    griptype=grip.data"
     ],
     "language": "python",
     "metadata": {},
     "outputs": [],
     "prompt_number": 3
    },
    {
     "cell_type": "code",
     "collapsed": true,
     "input": [
      "\n",
      "pub = rospy.Publisher('/sdh_controller/set_positions', control_msgs.msg.FollowJointTrajectoryActionGoal)\n",
      "pubshadow = rospy.Publisher('/shadow_joint_states', sensor_msgs.msg.JointState)\n",
      "rospy.init_node('glovetranslate')"
     ],
     "language": "python",
     "metadata": {},
     "outputs": [],
     "prompt_number": 4
    },
    {
     "cell_type": "code",
     "collapsed": false,
     "input": [
      "def gotopoint(pospos):\n",
      "    \n",
      "    punktdocel=trajectory_msgs.msg.JointTrajectoryPoint()\n",
      "    punktdocel.positions=pospos\n",
      "    punktdocel.velocities=[0.0,0.0,0.0,0.0,0.0,0.0,0.0]\n",
      "    mes=control_msgs.msg.FollowJointTrajectoryActionGoal()\n",
      "    mes.goal.trajectory.points.append(punktdocel)\n",
      "    h = std_msgs.msg.Header()\n",
      "    h.stamp = rospy.Time.now() # Note you need to call rospy.init_node() before this will work\n",
      "    mes.header=h\n",
      "    #mes.goal.trajectory.points=goalpos #=goalpos\n",
      "    #type(mes.goal.trajectory.points) #=goalpos\n",
      "    wyn=pub.publish(mes)\n",
      "    #print mes"
     ],
     "language": "python",
     "metadata": {},
     "outputs": [],
     "prompt_number": 5
    },
    {
     "cell_type": "code",
     "collapsed": true,
     "input": [
      "allsmoothfingersnames=[\"shadow_sdh_knuckle_joint\",\"shadow_sdh_thumb_2_joint\",\"shadow_sdh_thumb_3_joint\",\"shadow_sdh_finger_12_joint\",\"shadow_sdh_finger_13_joint\",\n",
      "                           \"shadow_sdh_finger_22_joint\",\"shadow_sdh_finger_23_joint\"]\n",
      "    \n",
      "allsmoothfingers=dict([(arr,collections.deque([])) for arr in allsmoothfingersnames]  )\n",
      "\n",
      "filters=dict()\n",
      "\n",
      "def moving_average(nowy,deqq, n=3):\n",
      "    '''Simple moving_average filtering, with window size n'''\n",
      "    if(len(deqq)==n):\n",
      "        deqq.popleft()\n",
      "    deqq.append(nowy)\n",
      "    \n",
      "    s = float(sum(deqq))\n",
      "    #if n not in filters:\n",
      "    #    filters[n]=signal.firwin(n, cutoff = 0.05) #, window = \"hamming\")\n",
      "        \n",
      "    if(len(deqq)==n):\n",
      "        \n",
      "        return s/float(n)\n",
      "        #return signal.lfilter(filters[n],1,deqq)[-1]\n",
      "    else:\n",
      "        return nowy\n",
      "def shadow_pose(pospos):\n",
      "    '''Function publishes shadow pose and command to a controller'''\n",
      "    jointstatez=sensor_msgs.msg.JointState()\n",
      "    jointstatez.name=['shadow_sdh_knuckle_joint','shadow_sdh_thumb_2_joint',\n",
      "                      'shadow_sdh_thumb_3_joint','shadow_sdh_finger_12_joint',\n",
      "                      'shadow_sdh_finger_13_joint','shadow_sdh_finger_22_joint',\n",
      "                      'shadow_sdh_finger_23_joint','shadow_sdh_finger_21_joint']\n",
      "    \n",
      "    #punktdocel.positions=pospos\n",
      "    pospos.append(pospos[0])\n",
      "    jointstatez.position=pospos\n",
      "    jointstatez.velocity=[0 for x in pospos]\n",
      "    jointstatez.effort=[0 for x in pospos]\n",
      "    #mes=control_msgs.msg.FollowJointTrajectoryActionGoal()\n",
      "    #mes.goal.trajectory.points.append(punktdocel)\n",
      "    h = std_msgs.msg.Header()\n",
      "    h.stamp = rospy.Time.now() # Note you need to call rospy.init_node() before this will work\n",
      "    jointstatez.header=h\n",
      "    #mes.goal.trajectory.points=goalpos #=goalpos\n",
      "    #type(mes.goal.trajectory.points) #=goalpos\n",
      "    wyn=pubshadow.publish(jointstatez)\n",
      "    gotopoint([pospos[0],pospos[1],pospos[2],pospos[3],pospos[4],pospos[5],pospos[6],])\n",
      "    #print mes\n",
      "tempdict=t=dict()\n",
      "\n",
      "def pobraniedanych(zrekawicy):\n",
      "\t'''Subscriber function for data glove'''\n",
      "    \n",
      "\tt[\"shadow_sdh_knuckle_joint\"]=0\n",
      "\tt[\"shadow_sdh_thumb_2_joint\"]=-zrekawicy.kciuk0*3.14/500+1.5\n",
      "\tt[\"shadow_sdh_thumb_3_joint\"]=-zrekawicy.kciuk1*3.14/500+math.pi-math.pi/2\n",
      "        \n",
      "\t#ob.palec2pods=0\n",
      "\tt[\"shadow_sdh_finger_12_joint\"]=-zrekawicy.palwska0*3.14/500+1.5\n",
      "\tt[\"shadow_sdh_finger_13_joint\"]=-zrekawicy.palwska1*3.14/500+math.pi-math.pi/2\n",
      "        \n",
      "\t#ob.palec1pods=0\n",
      "\tt[\"shadow_sdh_finger_22_joint\"]=-zrekawicy.palmal0*3.14/500+1.5\n",
      "\tt[\"shadow_sdh_finger_23_joint\"]=-zrekawicy.palmal1*3.14/500+math.pi-math.pi/2\n",
      "\t''''''\n",
      "        \n",
      "    where=[moving_average(t[name],allsmoothfingers[name],30) for name in allsmoothfingersnames] #filtering\n",
      "    \n",
      "    if not move:\n",
      "        return\n",
      "    shadow_pose(where)\n",
      "        #gotopoint(where)\n",
      "\t#pub.publish(ob)"
     ],
     "language": "python",
     "metadata": {},
     "outputs": [],
     "prompt_number": 6
    },
    {
     "cell_type": "markdown",
     "metadata": {},
     "source": [
      "#### Subscribe to topics"
     ]
    },
    {
     "cell_type": "code",
     "collapsed": false,
     "input": [
      "rospy.Subscriber(\"/track_on\",Bool,track_state)\n",
      "rospy.Subscriber(\"/griptype\",String,grip_recog)\n",
      "rospy.Subscriber(\"rekawica\",Rekawica,pobraniedanych)"
     ],
     "language": "python",
     "metadata": {},
     "outputs": [
      {
       "metadata": {},
       "output_type": "pyout",
       "prompt_number": 7,
       "text": [
        "<rospy.topics.Subscriber at 0x3a07790>"
       ]
      }
     ],
     "prompt_number": 7
    },
    {
     "cell_type": "code",
     "collapsed": true,
     "input": [
      "gotopoint([0,-1,0,-1,0,0,0])"
     ],
     "language": "python",
     "metadata": {},
     "outputs": [],
     "prompt_number": 8
    },
    {
     "cell_type": "code",
     "collapsed": false,
     "input": [
      "print [x for x,y in allsmoothfingers.iteritems()]"
     ],
     "language": "python",
     "metadata": {},
     "outputs": [
      {
       "output_type": "stream",
       "stream": "stdout",
       "text": [
        "['shadow_sdh_finger_12_joint', 'shadow_sdh_thumb_3_joint', 'shadow_sdh_knuckle_joint', 'shadow_sdh_finger_22_joint', 'shadow_sdh_finger_23_joint', 'shadow_sdh_thumb_2_joint', 'shadow_sdh_finger_13_joint']\n"
       ]
      }
     ],
     "prompt_number": 9
    },
    {
     "cell_type": "code",
     "collapsed": true,
     "input": [
      "def gotopoint(pospos):\n",
      "    \n",
      "    punktdocel=trajectory_msgs.msg.JointTrajectoryPoint()\n",
      "    punktdocel.positions=pospos\n",
      "    punktdocel.velocities=[0.0,0.0,0.0,0.0,0.0,0.0,0.0]\n",
      "    mes=control_msgs.msg.FollowJointTrajectoryActionGoal()\n",
      "    mes.goal.trajectory.points.append(punktdocel)\n",
      "    h = std_msgs.msg.Header()\n",
      "    h.stamp = rospy.Time.now() # Note you need to call rospy.init_node() before this will work\n",
      "    mes.header=h\n",
      "    #mes.goal.trajectory.points=goalpos #=goalpos\n",
      "    #type(mes.goal.trajectory.points) #=goalpos\n",
      "    wyn=pub.publish(mes)\n",
      "    #print mes"
     ],
     "language": "python",
     "metadata": {},
     "outputs": [],
     "prompt_number": 10
    },
    {
     "cell_type": "code",
     "collapsed": true,
     "input": [
      "aa=collections.deque([1,2,3,4])"
     ],
     "language": "python",
     "metadata": {},
     "outputs": [],
     "prompt_number": 11
    },
    {
     "cell_type": "code",
     "collapsed": false,
     "input": [
      "moving_average(3,aa,3)"
     ],
     "language": "python",
     "metadata": {},
     "outputs": [
      {
       "metadata": {},
       "output_type": "pyout",
       "prompt_number": 12,
       "text": [
        "3"
       ]
      }
     ],
     "prompt_number": 12
    },
    {
     "cell_type": "code",
     "collapsed": false,
     "input": [
      "print aa"
     ],
     "language": "python",
     "metadata": {},
     "outputs": [
      {
       "output_type": "stream",
       "stream": "stdout",
       "text": [
        "deque([1, 2, 3, 4, 3])\n"
       ]
      }
     ],
     "prompt_number": 13
    },
    {
     "cell_type": "code",
     "collapsed": false,
     "input": [
      "print allsmoothfingers"
     ],
     "language": "python",
     "metadata": {},
     "outputs": [
      {
       "output_type": "stream",
       "stream": "stdout",
       "text": [
        "{'shadow_sdh_finger_12_joint': deque([-0.22072000000000003, -0.22072000000000003, -0.22072000000000003, -0.22072000000000003, -0.22072000000000003, -0.22072000000000003, -0.22072000000000003, -0.22072000000000003, -0.22072000000000003, -0.22072000000000003, -0.2270000000000001, -0.22072000000000003, -0.22072000000000003, -0.21443999999999996, -0.22072000000000003, -0.22072000000000003, -0.22072000000000003, -0.22072000000000003, -0.22072000000000003, -0.22072000000000003, -0.22072000000000003, -0.22072000000000003, -0.22072000000000003, -0.22072000000000003, -0.22072000000000003, -0.2270000000000001, -0.22072000000000003, -0.22072000000000003, -0.22072000000000003, -0.22072000000000003]), 'shadow_sdh_thumb_3_joint': deque([-0.11224367320510331, -0.11224367320510331, -0.11224367320510331, -0.11224367320510331, -0.11224367320510331, -0.1185236732051036, -0.11224367320510331, -0.11224367320510331, -0.11224367320510331, -0.11224367320510331, -0.11224367320510331, -0.11224367320510331, -0.11224367320510331, -0.11224367320510331, -0.11224367320510331, -0.11224367320510331, -0.1185236732051036, -0.11224367320510331, -0.11224367320510331, -0.11224367320510331, -0.11224367320510331, -0.11224367320510331, -0.11224367320510331, -0.1185236732051036, -0.11224367320510331, -0.1185236732051036, -0.12480367320510366, -0.11224367320510331, -0.11224367320510331, -0.11224367320510331]), 'shadow_sdh_knuckle_joint': deque([0, 0, 0, 0, 0, 0, 0, 0, 0, 0, 0, 0, 0, 0, 0, 0, 0, 0, 0, 0, 0, 0, 0, 0, 0, 0, 0, 0, 0, 0]), 'shadow_sdh_finger_22_joint': deque([1.5, 1.5, 1.5, 1.5, 1.5, 1.5, 1.5, 1.5, 1.5, 1.5, 1.5, 1.5, 1.5, 1.5, 1.5, 1.5, 1.5, 1.5, 1.5, 1.5, 1.5, 1.5, 1.5, 1.5, 1.5, 1.5, 1.5, 1.5, 1.5, 1.5]), 'shadow_sdh_finger_23_joint': deque([-0.36972367320510346, -0.3634436732051034, -0.3634436732051034, -0.3634436732051034, -0.3634436732051034, -0.3634436732051034, -0.3634436732051034, -0.36972367320510346, -0.3634436732051034, -0.3634436732051034, -0.3634436732051034, -0.36972367320510346, -0.3634436732051034, -0.3634436732051034, -0.3634436732051034, -0.3634436732051034, -0.3634436732051034, -0.3634436732051034, -0.36972367320510346, -0.36972367320510346, -0.3634436732051034, -0.3634436732051034, -0.3634436732051034, -0.3634436732051034, -0.3634436732051034, -0.3634436732051034, -0.3634436732051034, -0.36972367320510346, -0.3634436732051034, -0.3634436732051034]), 'shadow_sdh_thumb_2_joint': deque([-0.44052, -0.44052, -0.44052, -0.44052, -0.4468000000000001, -0.44052, -0.44052, -0.44052, -0.44052, -0.44052, -0.44052, -0.44052, -0.44052, -0.44052, -0.4468000000000001, -0.44052, -0.4468000000000001, -0.44052, -0.4468000000000001, -0.4468000000000001, -0.44052, -0.44052, -0.44052, -0.44052, -0.44052, -0.44052, -0.4468000000000001, -0.44052, -0.44052, -0.4468000000000001]), 'shadow_sdh_finger_13_joint': deque([-0.31320367320510334, -0.31320367320510334, -0.31320367320510334, -0.31320367320510334, -0.31320367320510334, -0.31320367320510334, -0.31320367320510334, -0.31320367320510334, -0.31320367320510334, -0.31320367320510334, -0.31320367320510334, -0.31320367320510334, -0.3069236732051035, -0.31320367320510334, -0.31320367320510334, -0.31320367320510334, -0.31320367320510334, -0.3069236732051035, -0.31320367320510334, -0.31320367320510334, -0.31320367320510334, -0.31320367320510334, -0.31320367320510334, -0.31320367320510334, -0.31320367320510334, -0.31320367320510334, -0.31320367320510334, -0.31320367320510334, -0.31320367320510334, -0.31320367320510334])}\n"
       ]
      }
     ],
     "prompt_number": 14
    },
    {
     "cell_type": "code",
     "collapsed": false,
     "input": [
      "signal.lfilter(filters[15],1,[1,2,3,4,5,6,7,8,9,1,2,3,4,5])"
     ],
     "language": "python",
     "metadata": {},
     "outputs": [
      {
       "output_type": "pyout",
       "prompt_number": 8,
       "text": [
        "array([ 0.01040124,  0.03716154,  0.09697162,  0.21399211,  0.41508173,\n",
        "        0.72446895,  1.15893424,  1.72446895,  2.41508173,  3.12038093,\n",
        "        3.85612894,  4.49887086,  4.95721677,  5.19019347])"
       ]
      }
     ],
     "prompt_number": 8
    },
    {
     "cell_type": "code",
     "collapsed": true,
     "input": [
      "from pylab import *"
     ],
     "language": "python",
     "metadata": {},
     "outputs": [],
     "prompt_number": 11
    },
    {
     "cell_type": "code",
     "collapsed": true,
     "input": [
      "plot(range(len([1,2,3,4,5,6,7,8,9,1,2,3,4,5])),[1,2,3,4,5,6,7,8,9,1,2,3,4,5])\n",
      "show()"
     ],
     "language": "python",
     "metadata": {},
     "outputs": [],
     "prompt_number": 13
    },
    {
     "cell_type": "code",
     "collapsed": false,
     "input": [
      "signal.firwin(40, cutoff = 0.1, window = \"hamming\")"
     ],
     "language": "python",
     "metadata": {},
     "outputs": [
      {
       "output_type": "pyout",
       "prompt_number": 9,
       "text": [
        "array([-0.00020354, -0.00066898, -0.00132853, -0.00227244, -0.00348113,\n",
        "       -0.0047817 , -0.00583345, -0.00614999, -0.00515851, -0.0022895 ,\n",
        "        0.0029168 ,  0.01070557,  0.02102369,  0.03347458,  0.04732339,\n",
        "        0.06155612,  0.07498701,  0.08640007,  0.09470396,  0.09907658,\n",
        "        0.09907658,  0.09470396,  0.08640007,  0.07498701,  0.06155612,\n",
        "        0.04732339,  0.03347458,  0.02102369,  0.01070557,  0.0029168 ,\n",
        "       -0.0022895 , -0.00515851, -0.00614999, -0.00583345, -0.0047817 ,\n",
        "       -0.00348113, -0.00227244, -0.00132853, -0.00066898, -0.00020354])"
       ]
      }
     ],
     "prompt_number": 9
    },
    {
     "cell_type": "code",
     "collapsed": true,
     "input": [],
     "language": "python",
     "metadata": {},
     "outputs": []
    }
   ],
   "metadata": {}
  }
 ]
}