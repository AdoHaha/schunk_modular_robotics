{
 "metadata": {
  "name": "zrekawicy"
 }, 
 "nbformat": 2, 
 "worksheets": [
  {
   "cells": [
    {
     "cell_type": "code", 
     "collapsed": true, 
     "input": [
      "#!/usr/bin/env python", 
      "import roslib; roslib.load_manifest('schunk_sdh')", 
      "import rospy", 
      "from std_msgs.msg import String", 
      "from std_msgs.msg import Float64", 
      "from dlonurdf.msg import Rekawica", 
      "from dlonurdf.msg import Hand", 
      "import math", 
      "", 
      "#import roslib; ", 
      "#roslib.load_manifest('dlonurdf')", 
      "import sys ", 
      "#import rospy", 
      "#import roslib", 
      "import cob_srvs.srv", 
      "import std_msgs.msg", 
      "import control_msgs.msg", 
      "import actionlib_msgs.msg", 
      "import trajectory_msgs.msg", 
      "import sensor_msgs.msg"
     ], 
     "language": "python", 
     "outputs": [], 
     "prompt_number": 1
    }, 
    {
     "cell_type": "code", 
     "collapsed": true, 
     "input": [
      "", 
      "pub = rospy.Publisher('/sdh_controller/follow_joint_trajectory/goal', control_msgs.msg.FollowJointTrajectoryActionGoal)", 
      "pubshadow = rospy.Publisher('/shadow_joint_states', sensor_msgs.msg.JointState)", 
      "rospy.init_node('glovetranslate')"
     ], 
     "language": "python", 
     "outputs": [], 
     "prompt_number": 2
    }, 
    {
     "cell_type": "code", 
     "collapsed": false, 
     "input": [
      "rospy.Subscriber(\"rekawica\",Rekawica,pobraniedanych)"
     ], 
     "language": "python", 
     "outputs": [
      {
       "output_type": "pyout", 
       "prompt_number": 5, 
       "text": [
        "<rospy.topics.Subscriber at 0x1f39c90>"
       ]
      }
     ], 
     "prompt_number": 5
    }, 
    {
     "cell_type": "code", 
     "collapsed": true, 
     "input": [
      "", 
      "", 
      "## czytanie wskazan rekawicy", 
      "", 
      "", 
      "#coczemu={ 'kciuk0': ['palec0sro'], 'kciuk1':['palec0kon'],", 
      "# 'palwska0':['palec1sro'],'palwska1':['palec1kon'],'palmal0':['palec2sro'],'palmal1':['palec2kon']", 
      "", 
      "", 
      "#}", 
      "", 
      "", 
      "#coczemu={'palec0sro': ['kciuk0'],'palec0kon':['kciuk1'],'palec1sro':['palwska0'],", 
      "#'palec1kon':['palwska1'],'palec2sro':['palmal0'],'palec2kon':['palmal1']}", 
      "", 
      "", 
      "", 
      "def pobraniedanych(zrekawicy):", 
      "\t'''skal=1.2'''", 
      "\tshadow_sdh_knuckle_joint=0", 
      "\tshadow_sdh_thumb_2_joint=-zrekawicy.kciuk0*3.14/500+1.5", 
      "\tshadow_sdh_thumb_3_joint=-zrekawicy.kciuk1*3.14/500+math.pi-math.pi/2", 
      "        ", 
      "\t#ob.palec2pods=0", 
      "\tshadow_sdh_finger_12_joint=-zrekawicy.palwska0*3.14/500+1.5", 
      "\tshadow_sdh_finger_13_joint=-zrekawicy.palwska1*3.14/500+math.pi-math.pi/2", 
      "        ", 
      "\t#ob.palec1pods=0", 
      "\tshadow_sdh_finger_22_joint=-zrekawicy.palmal0*3.14/500+1.5", 
      "\tshadow_sdh_finger_23_joint=-zrekawicy.palmal1*3.14/500+math.pi-math.pi/2", 
      "\t''''''", 
      "        where=[shadow_sdh_knuckle_joint,shadow_sdh_thumb_2_joint,shadow_sdh_thumb_3_joint,shadow_sdh_finger_12_joint,shadow_sdh_finger_13_joint,", 
      "               shadow_sdh_finger_22_joint,shadow_sdh_finger_23_joint]", 
      "    ", 
      "        shadow_pose(where)", 
      "\t#pub.publish(ob)", 
      "", 
      "", 
      ""
     ], 
     "language": "python", 
     "outputs": [], 
     "prompt_number": 3
    }, 
    {
     "cell_type": "code", 
     "collapsed": true, 
     "input": [
      "", 
      "", 
      "def shadow_pose(pospos):", 
      "    ", 
      "    jointstatez=sensor_msgs.msg.JointState()", 
      "    jointstatez.name=['shadow_sdh_knuckle_joint','shadow_sdh_thumb_2_joint','shadow_sdh_thumb_3_joint','shadow_sdh_finger_12_joint','shadow_sdh_finger_13_joint','shadow_sdh_finger_22_joint','shadow_sdh_finger_23_joint','shadow_sdh_finger_21_joint']", 
      "    ", 
      "    #punktdocel.positions=pospos", 
      "    pospos.append(pospos[0])", 
      "    jointstatez.position=pospos", 
      "    jointstatez.velocity=[0 for x in pospos]", 
      "    jointstatez.effort=[0 for x in pospos]", 
      "    #mes=control_msgs.msg.FollowJointTrajectoryActionGoal()", 
      "    #mes.goal.trajectory.points.append(punktdocel)", 
      "    h = std_msgs.msg.Header()", 
      "    h.stamp = rospy.Time.now() # Note you need to call rospy.init_node() before this will work", 
      "    jointstatez.header=h", 
      "    #mes.goal.trajectory.points=goalpos #=goalpos", 
      "    #type(mes.goal.trajectory.points) #=goalpos", 
      "    wyn=pubshadow.publish(jointstatez)", 
      "    #print mes"
     ], 
     "language": "python", 
     "outputs": [], 
     "prompt_number": 4
    }, 
    {
     "cell_type": "code", 
     "collapsed": true, 
     "input": [
      "def gotopoint(pospos):", 
      "    ", 
      "    punktdocel=trajectory_msgs.msg.JointTrajectoryPoint()", 
      "    punktdocel.positions=pospos", 
      "    punktdocel.velocities=[0.0,0.0,0.0,0.0,0.0,0.0,0.0]", 
      "    mes=control_msgs.msg.FollowJointTrajectoryActionGoal()", 
      "    mes.goal.trajectory.points.append(punktdocel)", 
      "    h = std_msgs.msg.Header()", 
      "    h.stamp = rospy.Time.now() # Note you need to call rospy.init_node() before this will work", 
      "    mes.header=h", 
      "    #mes.goal.trajectory.points=goalpos #=goalpos", 
      "    #type(mes.goal.trajectory.points) #=goalpos", 
      "    wyn=pub.publish(mes)", 
      "    #print mes"
     ], 
     "language": "python", 
     "outputs": [], 
     "prompt_number": 8
    }, 
    {
     "cell_type": "code", 
     "collapsed": true, 
     "input": [], 
     "language": "python", 
     "outputs": []
    }
   ]
  }
 ]
}