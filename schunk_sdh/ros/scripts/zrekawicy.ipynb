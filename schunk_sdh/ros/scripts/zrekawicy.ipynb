{
 "metadata": {
  "name": "zrekawicy"
 }, 
 "nbformat": 2, 
 "worksheets": [
  {
   "cells": [
    {
     "cell_type": "code", 
     "collapsed": true, 
     "input": [
      "#!/usr/bin/env python", 
      "import roslib; roslib.load_manifest('schunk_sdh')", 
      "import rospy", 
      "from std_msgs.msg import String", 
      "from std_msgs.msg import Float64", 
      "from dlonurdf.msg import Rekawica", 
      "from dlonurdf.msg import Hand", 
      "import math", 
      "", 
      "#import roslib; ", 
      "#roslib.load_manifest('dlonurdf')", 
      "import sys ", 
      "#import rospy", 
      "#import roslib", 
      "import cob_srvs.srv", 
      "import std_msgs.msg", 
      "import control_msgs.msg", 
      "import actionlib_msgs.msg", 
      "import trajectory_msgs.msg", 
      "import sensor_msgs.msg", 
      "import collections", 
      "import scipy.signal as signal"
     ], 
     "language": "python", 
     "outputs": [], 
     "prompt_number": 1
    }, 
    {
     "cell_type": "code", 
     "collapsed": true, 
     "input": [
      "", 
      "pub = rospy.Publisher('/sdh_controller/follow_joint_trajectory/goal', control_msgs.msg.FollowJointTrajectoryActionGoal)", 
      "pubshadow = rospy.Publisher('/shadow_joint_states', sensor_msgs.msg.JointState)", 
      "rospy.init_node('glovetranslate')"
     ], 
     "language": "python", 
     "outputs": [], 
     "prompt_number": 2
    }, 
    {
     "cell_type": "code", 
     "collapsed": true, 
     "input": [
      "allsmoothfingersnames=[\"shadow_sdh_knuckle_joint\",\"shadow_sdh_thumb_2_joint\",\"shadow_sdh_thumb_3_joint\",\"shadow_sdh_finger_12_joint\",\"shadow_sdh_finger_13_joint\",", 
      "                           \"shadow_sdh_finger_22_joint\",\"shadow_sdh_finger_23_joint\"]", 
      "    ", 
      "allsmoothfingers=dict([(arr,collections.deque([])) for arr in allsmoothfingersnames]  )", 
      "", 
      "filters=dict()", 
      "", 
      "def moving_average(nowy,deqq, n=3):", 
      "    if(len(deqq)==n):", 
      "        deqq.popleft()", 
      "    deqq.append(nowy)", 
      "    ", 
      "    s = float(sum(deqq))", 
      "    #if n not in filters:", 
      "    #    filters[n]=signal.firwin(n, cutoff = 0.05) #, window = \"hamming\")", 
      "        ", 
      "    if(len(deqq)==n):", 
      "        ", 
      "        return s/float(n)", 
      "        #return signal.lfilter(filters[n],1,deqq)[-1]", 
      "    else:", 
      "        return nowy", 
      "def shadow_pose(pospos):", 
      "    ", 
      "    jointstatez=sensor_msgs.msg.JointState()", 
      "    jointstatez.name=['shadow_sdh_knuckle_joint','shadow_sdh_thumb_2_joint','shadow_sdh_thumb_3_joint','shadow_sdh_finger_12_joint','shadow_sdh_finger_13_joint','shadow_sdh_finger_22_joint','shadow_sdh_finger_23_joint','shadow_sdh_finger_21_joint']", 
      "    ", 
      "    #punktdocel.positions=pospos", 
      "    pospos.append(pospos[0])", 
      "    jointstatez.position=pospos", 
      "    jointstatez.velocity=[0 for x in pospos]", 
      "    jointstatez.effort=[0 for x in pospos]", 
      "    #mes=control_msgs.msg.FollowJointTrajectoryActionGoal()", 
      "    #mes.goal.trajectory.points.append(punktdocel)", 
      "    h = std_msgs.msg.Header()", 
      "    h.stamp = rospy.Time.now() # Note you need to call rospy.init_node() before this will work", 
      "    jointstatez.header=h", 
      "    #mes.goal.trajectory.points=goalpos #=goalpos", 
      "    #type(mes.goal.trajectory.points) #=goalpos", 
      "    wyn=pubshadow.publish(jointstatez)", 
      "    #print mes", 
      "tempdict=t=dict()   ", 
      "def pobraniedanych(zrekawicy):", 
      "\t'''skal=1.2'''", 
      "        #tempdict=dict()", 
      "        #t=tempdict", 
      "\tt[\"shadow_sdh_knuckle_joint\"]=0", 
      "\tt[\"shadow_sdh_thumb_2_joint\"]=-zrekawicy.kciuk0*3.14/500+1.5", 
      "\tt[\"shadow_sdh_thumb_3_joint\"]=-zrekawicy.kciuk1*3.14/500+math.pi-math.pi/2", 
      "        ", 
      "\t#ob.palec2pods=0", 
      "\tt[\"shadow_sdh_finger_12_joint\"]=-zrekawicy.palwska0*3.14/500+1.5", 
      "\tt[\"shadow_sdh_finger_13_joint\"]=-zrekawicy.palwska1*3.14/500+math.pi-math.pi/2", 
      "        ", 
      "\t#ob.palec1pods=0", 
      "\tt[\"shadow_sdh_finger_22_joint\"]=-zrekawicy.palmal0*3.14/500+1.5", 
      "\tt[\"shadow_sdh_finger_23_joint\"]=-zrekawicy.palmal1*3.14/500+math.pi-math.pi/2", 
      "\t''''''", 
      "        ", 
      "        where=[moving_average(t[name],allsmoothfingers[name],30) for name in allsmoothfingersnames]", 
      "        #print where", 
      "        ", 
      "        #where=[shadow_sdh_knuckle_joint,shadow_sdh_thumb_2_joint,shadow_sdh_thumb_3_joint,shadow_sdh_finger_12_joint,shadow_sdh_finger_13_joint,", 
      "        #       shadow_sdh_finger_22_joint,shadow_sdh_finger_23_joint]", 
      "    ", 
      "        shadow_pose(where)", 
      "\t#pub.publish(ob)"
     ], 
     "language": "python", 
     "outputs": [], 
     "prompt_number": 6
    }, 
    {
     "cell_type": "code", 
     "collapsed": false, 
     "input": [
      "rospy.Subscriber(\"rekawica\",Rekawica,pobraniedanych)"
     ], 
     "language": "python", 
     "outputs": [
      {
       "output_type": "pyout", 
       "prompt_number": 5, 
       "text": [
        "<rospy.topics.Subscriber at 0x36f54d0>"
       ]
      }
     ], 
     "prompt_number": 5
    }, 
    {
     "cell_type": "code", 
     "collapsed": true, 
     "input": [
      "#nn=dict()", 
      "#nn[\"aa\"]=\"ff\""
     ], 
     "language": "python", 
     "outputs": [], 
     "prompt_number": 45
    }, 
    {
     "cell_type": "code", 
     "collapsed": false, 
     "input": [
      "print [x for x,y in allsmoothfingers.iteritems()]"
     ], 
     "language": "python", 
     "outputs": [
      {
       "output_type": "stream", 
       "stream": "stdout", 
       "text": [
        "['shadow_sdh_finger_12_joint', 'shadow_sdh_thumb_3_joint', 'shadow_sdh_knuckle_joint', 'shadow_sdh_finger_22_joint', 'shadow_sdh_finger_23_joint', 'shadow_sdh_thumb_2_joint', 'shadow_sdh_finger_13_joint']"
       ]
      }
     ], 
     "prompt_number": 5
    }, 
    {
     "cell_type": "code", 
     "collapsed": true, 
     "input": [
      "def gotopoint(pospos):", 
      "    ", 
      "    punktdocel=trajectory_msgs.msg.JointTrajectoryPoint()", 
      "    punktdocel.positions=pospos", 
      "    punktdocel.velocities=[0.0,0.0,0.0,0.0,0.0,0.0,0.0]", 
      "    mes=control_msgs.msg.FollowJointTrajectoryActionGoal()", 
      "    mes.goal.trajectory.points.append(punktdocel)", 
      "    h = std_msgs.msg.Header()", 
      "    h.stamp = rospy.Time.now() # Note you need to call rospy.init_node() before this will work", 
      "    mes.header=h", 
      "    #mes.goal.trajectory.points=goalpos #=goalpos", 
      "    #type(mes.goal.trajectory.points) #=goalpos", 
      "    wyn=pub.publish(mes)", 
      "    #print mes"
     ], 
     "language": "python", 
     "outputs": [], 
     "prompt_number": 6
    }, 
    {
     "cell_type": "code", 
     "collapsed": true, 
     "input": [
      "aa=collections.deque([1,2,3,4])"
     ], 
     "language": "python", 
     "outputs": [], 
     "prompt_number": 7
    }, 
    {
     "cell_type": "code", 
     "collapsed": false, 
     "input": [
      "moving_average(3,aa,3)"
     ], 
     "language": "python", 
     "outputs": [
      {
       "output_type": "pyout", 
       "prompt_number": 8, 
       "text": [
        "3"
       ]
      }
     ], 
     "prompt_number": 8
    }, 
    {
     "cell_type": "code", 
     "collapsed": false, 
     "input": [
      "print aa"
     ], 
     "language": "python", 
     "outputs": [
      {
       "output_type": "stream", 
       "stream": "stdout", 
       "text": [
        "deque([1, 2, 3, 4, 3])"
       ]
      }
     ], 
     "prompt_number": 9
    }, 
    {
     "cell_type": "code", 
     "collapsed": false, 
     "input": [
      "print allsmoothfingers"
     ], 
     "language": "python", 
     "outputs": [
      {
       "output_type": "stream", 
       "stream": "stdout", 
       "text": [
        "{'shadow_sdh_finger_12_joint': deque([]), 'shadow_sdh_thumb_3_joint': deque([]), 'shadow_sdh_knuckle_joint': deque([]), 'shadow_sdh_finger_22_joint': deque([]), 'shadow_sdh_finger_23_joint': deque([]), 'shadow_sdh_thumb_2_joint': deque([]), 'shadow_sdh_finger_13_joint': deque([])}"
       ]
      }
     ], 
     "prompt_number": 10
    }, 
    {
     "cell_type": "code", 
     "collapsed": false, 
     "input": [
      "signal.lfilter(filters[15],1,[1,2,3,4,5,6,7,8,9,1,2,3,4,5])"
     ], 
     "language": "python", 
     "outputs": [
      {
       "output_type": "pyout", 
       "prompt_number": 8, 
       "text": [
        "array([ 0.01040124,  0.03716154,  0.09697162,  0.21399211,  0.41508173,", 
        "        0.72446895,  1.15893424,  1.72446895,  2.41508173,  3.12038093,", 
        "        3.85612894,  4.49887086,  4.95721677,  5.19019347])"
       ]
      }
     ], 
     "prompt_number": 8
    }, 
    {
     "cell_type": "code", 
     "collapsed": true, 
     "input": [
      "from pylab import *"
     ], 
     "language": "python", 
     "outputs": [], 
     "prompt_number": 11
    }, 
    {
     "cell_type": "code", 
     "collapsed": true, 
     "input": [
      "plot(range(len([1,2,3,4,5,6,7,8,9,1,2,3,4,5])),[1,2,3,4,5,6,7,8,9,1,2,3,4,5])", 
      "show()"
     ], 
     "language": "python", 
     "outputs": [], 
     "prompt_number": 13
    }, 
    {
     "cell_type": "code", 
     "collapsed": false, 
     "input": [
      "signal.firwin(40, cutoff = 0.1, window = \"hamming\")"
     ], 
     "language": "python", 
     "outputs": [
      {
       "output_type": "pyout", 
       "prompt_number": 9, 
       "text": [
        "array([-0.00020354, -0.00066898, -0.00132853, -0.00227244, -0.00348113,", 
        "       -0.0047817 , -0.00583345, -0.00614999, -0.00515851, -0.0022895 ,", 
        "        0.0029168 ,  0.01070557,  0.02102369,  0.03347458,  0.04732339,", 
        "        0.06155612,  0.07498701,  0.08640007,  0.09470396,  0.09907658,", 
        "        0.09907658,  0.09470396,  0.08640007,  0.07498701,  0.06155612,", 
        "        0.04732339,  0.03347458,  0.02102369,  0.01070557,  0.0029168 ,", 
        "       -0.0022895 , -0.00515851, -0.00614999, -0.00583345, -0.0047817 ,", 
        "       -0.00348113, -0.00227244, -0.00132853, -0.00066898, -0.00020354])"
       ]
      }
     ], 
     "prompt_number": 9
    }, 
    {
     "cell_type": "code", 
     "collapsed": true, 
     "input": [], 
     "language": "python", 
     "outputs": []
    }
   ]
  }
 ]
}