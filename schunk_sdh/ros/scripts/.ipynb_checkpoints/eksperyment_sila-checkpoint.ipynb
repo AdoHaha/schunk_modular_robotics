{
 "metadata": {
  "name": ""
 },
 "nbformat": 3,
 "nbformat_minor": 0,
 "worksheets": [
  {
   "cells": [
    {
     "cell_type": "code",
     "collapsed": false,
     "input": [
      "#!/usr/bin/env python\n",
      "import roslib; roslib.load_manifest('schunk_sdh')\n",
      "import rospy\n",
      "from std_msgs.msg import String\n",
      "from std_msgs.msg import Float64\n",
      "from dlonurdf.msg import Rekawica\n",
      "from dlonurdf.msg import Hand\n",
      "import schunk_sdh.msg\n",
      "import math\n",
      "\n",
      "#import roslib; \n",
      "#roslib.load_manifest('dlonurdf')\n",
      "import sys \n",
      "#import rospy\n",
      "#import roslib\n",
      "import cob_srvs.srv\n",
      "import std_msgs.msg\n",
      "import control_msgs.msg\n",
      "import actionlib_msgs.msg\n",
      "import trajectory_msgs.msg\n",
      "import sensor_msgs.msg\n",
      "import collections\n",
      "import scipy.signal as signal\n"
     ],
     "language": "python",
     "metadata": {},
     "outputs": [],
     "prompt_number": 1
    },
    {
     "cell_type": "code",
     "collapsed": false,
     "input": [
      "rospy.wait_for_service('/sdh_controller/init')\n",
      "try:\n",
      "          inithand = rospy.ServiceProxy('/sdh_controller/init', cob_srvs.srv.Trigger)\n",
      "          resp1 = inithand()\n",
      "          print resp1\n",
      "          #return resp1.sum\n",
      "except rospy.ServiceException, e:\n",
      "          print \"Service call failed: %s\"%e"
     ],
     "language": "python",
     "metadata": {},
     "outputs": [
      {
       "output_type": "stream",
       "stream": "stdout",
       "text": [
        "success: \n",
        "  data: True\n",
        "error_message: \n",
        "  data: sdh already initialized\n"
       ]
      }
     ],
     "prompt_number": 2
    },
    {
     "cell_type": "code",
     "collapsed": false,
     "input": [
      "pubstart = rospy.Publisher('/sdh_controller/follow_joint_trajectory/goal', control_msgs.msg.FollowJointTrajectoryActionGoal)\n",
      "pub = rospy.Publisher('/sdh_controller/set_positions', control_msgs.msg.FollowJointTrajectoryActionGoal)\n",
      "\n",
      "rospy.init_node('eksperyment_sila')"
     ],
     "language": "python",
     "metadata": {},
     "outputs": [],
     "prompt_number": 3
    },
    {
     "cell_type": "code",
     "collapsed": false,
     "input": [
      "def gotopoint(pospos): #while in speed mode\n",
      "    \n",
      "    punktdocel=trajectory_msgs.msg.JointTrajectoryPoint()\n",
      "    punktdocel.positions=pospos\n",
      "    punktdocel.velocities=[0.0,0.0,0.0,0.0,0.0,0.0,0.0]\n",
      "    mes=control_msgs.msg.FollowJointTrajectoryActionGoal()\n",
      "    mes.goal.trajectory.points.append(punktdocel)\n",
      "    h = std_msgs.msg.Header()\n",
      "    h.stamp = rospy.Time.now() # Note you need to call rospy.init_node() before this will work\n",
      "    mes.header=h\n",
      "    #mes.goal.trajectory.points=goalpos #=goalpos\n",
      "    #type(mes.goal.trajectory.points) #=goalpos\n",
      "    wyn=pub.publish(mes)\n",
      "    #print mes\n",
      "\n",
      "def gotopoint2(pospos): #while in position mode\n",
      "    \n",
      "    punktdocel=trajectory_msgs.msg.JointTrajectoryPoint()\n",
      "    punktdocel.positions=pospos\n",
      "    punktdocel.velocities=[0.0,0.0,0.0,0.0,0.0,0.0,0.0]\n",
      "    mes=control_msgs.msg.FollowJointTrajectoryActionGoal()\n",
      "    mes.goal.trajectory.points.append(punktdocel)\n",
      "    h = std_msgs.msg.Header()\n",
      "    h.stamp = rospy.Time.now() # Note you need to call rospy.init_node() before this will work\n",
      "    mes.header=h\n",
      "    #mes.goal.trajectory.points=goalpos #=goalpos\n",
      "    #type(mes.goal.trajectory.points) #=goalpos\n",
      "    wyn=pubstart.publish(mes)\n",
      "    #print mes"
     ],
     "language": "python",
     "metadata": {},
     "outputs": [],
     "prompt_number": 4
    },
    {
     "cell_type": "code",
     "collapsed": false,
     "input": [
      "#\n",
      "#rosservice call /sdh_controller/set_operation_mode [softposition]\n",
      "def setOperationMode(operationmode):\n",
      "    \n",
      "    rospy.wait_for_service('/sdh_controller/set_operation_mode')\n",
      "    try:\n",
      "              optype = rospy.ServiceProxy('/sdh_controller/set_operation_mode', cob_srvs.srv.SetOperationMode)\n",
      "              typetoset=std_msgs.msg.String()\n",
      "              typetoset.data=operationmode\n",
      "              #print inithand\n",
      "              #optype.operation_mode=\"softposition\"\n",
      "              #optype.data='softposition'\n",
      "              optype2 = optype(typetoset)\n",
      "              #print resp1\n",
      "              #return resp1.sum\n",
      "    except rospy.ServiceException, e:\n",
      "              print \"Service call failed: %s\"%e\n",
      "    return optype2.success"
     ],
     "language": "python",
     "metadata": {},
     "outputs": [],
     "prompt_number": 5
    },
    {
     "cell_type": "code",
     "collapsed": false,
     "input": [
      "import math\n",
      "p=math.pi/2\n",
      "pp=0.999999*p\n",
      "#gotopoint2([0,0,-0.02,-pp,-pp,-pp,-pp])"
     ],
     "language": "python",
     "metadata": {},
     "outputs": [],
     "prompt_number": 6
    },
    {
     "cell_type": "code",
     "collapsed": false,
     "input": [
      "#print setOperationMode(\"softposition\")\n",
      "gotopoint2([0,-math.pi/4,0,-pp,-pp,-pp,-pp])"
     ],
     "language": "python",
     "metadata": {},
     "outputs": [],
     "prompt_number": 7
    },
    {
     "cell_type": "code",
     "collapsed": false,
     "input": [
      "import pickle\n",
      "class Tactile_odbior:\n",
      "    \n",
      "    def __init__(self,topic_string):\n",
      "        rospy.Subscriber(topic_string,schunk_sdh.msg.TactileSensor,self.nowypom)\n",
      "        self.recorded_matrices=[]\n",
      "        self.additional_name=\"\"\n",
      "        self.recording=False\n",
      "        self.summ=0.0\n",
      "        self.reg=False\n",
      "    def nowypom(self,nowypp):\n",
      "        self.matrix=nowypp\n",
      "        \n",
      "        if getattr(self,\"recording\"):\n",
      "            self.recorded_matrices.append(self.matrix)\n",
      "        if self.reg:\n",
      "            uchyb=-mean(tactile.matrix.tactile_matrix[1].tactile_array)+self.reg_val\n",
      "            self.summ+=uchyb/10000.\n",
      "            gotopoint([0,self.summ,0,-pp,-pp,-pp,-pp])\n",
      "    def zadaj_wart(self,wart):\n",
      "        self.reg=True\n",
      "        self.reg_val=wart\n",
      "    def rec(self):\n",
      "        self.recording=True\n",
      "    def rec_new(self,additional_name=\"\"):\n",
      "        self.recorded_matrices=[]\n",
      "        self.recording=True\n",
      "        self.additional_name=additional_name\n",
      "    def stop_rec(self):\n",
      "        if self.recording:\n",
      "            self.recording=False\n",
      "            filename=\"\"+str(self.recorded_matrices[-1].header.stamp.secs)+\"_\"+self.additional_name+\"_tactile.p\"\n",
      "            pickle.dump(self.recorded_matrices,open(filename, \"wb\" ))\n",
      "            "
     ],
     "language": "python",
     "metadata": {},
     "outputs": [],
     "prompt_number": 8
    },
    {
     "cell_type": "code",
     "collapsed": false,
     "input": [
      "tactile=Tactile_odbior(r\"/sdh_controller/tactile_data\")\n",
      "print tactile.matrix"
     ],
     "language": "python",
     "metadata": {},
     "outputs": [
      {
       "output_type": "stream",
       "stream": "stdout",
       "text": [
        "<__main__.Tactile_odbior instance at 0x4fd5998>\n"
       ]
      }
     ],
     "prompt_number": 9
    },
    {
     "cell_type": "markdown",
     "metadata": {},
     "source": [
      "#### testy pozycja"
     ]
    },
    {
     "cell_type": "code",
     "collapsed": false,
     "input": [
      "import geometry_msgs.msg\n",
      "\n",
      "class Leap_pozycja:\n",
      "    def __init__(self,nazwa_topica=\"leap_tool_position\"):\n",
      "        #self.recording=False\n",
      "        self.recorded_pos=[]\n",
      "        rospy.Subscriber(nazwa_topica,geometry_msgs.msg.Point,self.nowapozycja)\n",
      "        self.rec_while=0\n",
      "        self.events={}\n",
      "        self.pozycja=None\n",
      "    def nowapozycja(self,pozycja):\n",
      "        self.pozycja=pozycja\n",
      "        \n",
      "        for key,function in self.events.iteritems():\n",
      "            function()\n",
      "        \n",
      "    def recording(self):\n",
      "            pozycja=self.pozycja\n",
      "            if [pozycja.x,pozycja.y,pozycja.z]!=[0,0,0]:\n",
      "                self.recorded_pos.append([pozycja.x,pozycja.y,pozycja.z])\n",
      "                if self.rec_while:\n",
      "                    if len(recorded_pos)>=self.rec_while:\n",
      "                        self.stop_rec(self)\n",
      "    def rec(self):\n",
      "        self.events[\"recording\"]=self.recording\n",
      "        \n",
      "    def rec_new(self,additional_name=\"\"):\n",
      "        self.recorded_pos=[]\n",
      "        self.rec()\n",
      "        self.additional_name=additional_name\n",
      "        \n",
      "    def stop_rec(self):\n",
      "        if \"recording\" in self.events:\n",
      "            #self.recording:\n",
      "            del self.events[\"recording\"]\n",
      "            \n",
      "            filename=r\"logipozycja/angle_\"+self.additional_name+\"_leap_positions.p\"\n",
      "            pickle.dump(self.recorded_pos,open(filename, \"wb\" ))        \n"
     ],
     "language": "python",
     "metadata": {},
     "outputs": [],
     "prompt_number": 9
    },
    {
     "cell_type": "code",
     "collapsed": false,
     "input": [
      "leap_pos=Leap_pozycja()"
     ],
     "language": "python",
     "metadata": {},
     "outputs": [],
     "prompt_number": 10
    },
    {
     "cell_type": "code",
     "collapsed": false,
     "input": [
      "gotopoint2([0,0,-0.0,-pp,-pp,-pp,-pp])"
     ],
     "language": "python",
     "metadata": {},
     "outputs": [],
     "prompt_number": 11
    },
    {
     "cell_type": "code",
     "collapsed": false,
     "input": [
      "print leap_pos.pozycja\n",
      "#leap_pos.rec_new(\"-90\")\n",
      "gotopoint2([0,0,-pp,-pp,-pp,-pp,-pp])\n",
      "\n",
      "#leap_pos.rec_new(\"A2-90\")"
     ],
     "language": "python",
     "metadata": {},
     "outputs": [
      {
       "output_type": "stream",
       "stream": "stdout",
       "text": [
        "x: 140.933258057\n",
        "y: 164.395507812\n",
        "z: 57.0936317444\n"
       ]
      }
     ],
     "prompt_number": 12
    },
    {
     "cell_type": "code",
     "collapsed": false,
     "input": [
      "leap_pos.stop_rec()"
     ],
     "language": "python",
     "metadata": {},
     "outputs": [],
     "prompt_number": 22
    },
    {
     "cell_type": "code",
     "collapsed": false,
     "input": [
      "luk=numpy.array(leap_pos.recorded_pos)\n",
      "\n",
      "from mpl_toolkits.mplot3d.axes3d import Axes3D\n",
      "#projection='3d'\n",
      "fig = plt.figure(figsize=(8,6))\n",
      "ax = fig.add_subplot(1, 1, 1, projection='3d')\n",
      "plot(luk[:,2],luk[:,1],luk[:,0],'r.',luk[:,2],luk[:,1],luk[:,0],'b')"
     ],
     "language": "python",
     "metadata": {},
     "outputs": [
      {
       "ename": "IndexError",
       "evalue": "too many indices",
       "output_type": "pyerr",
       "traceback": [
        "\u001b[1;31m---------------------------------------------------------------------------\u001b[0m\n\u001b[1;31mIndexError\u001b[0m                                Traceback (most recent call last)",
        "\u001b[1;32m<ipython-input-23-24ebd52bfb05>\u001b[0m in \u001b[0;36m<module>\u001b[1;34m()\u001b[0m\n\u001b[0;32m      5\u001b[0m \u001b[0mfig\u001b[0m \u001b[1;33m=\u001b[0m \u001b[0mplt\u001b[0m\u001b[1;33m.\u001b[0m\u001b[0mfigure\u001b[0m\u001b[1;33m(\u001b[0m\u001b[0mfigsize\u001b[0m\u001b[1;33m=\u001b[0m\u001b[1;33m(\u001b[0m\u001b[1;36m8\u001b[0m\u001b[1;33m,\u001b[0m\u001b[1;36m6\u001b[0m\u001b[1;33m)\u001b[0m\u001b[1;33m)\u001b[0m\u001b[1;33m\u001b[0m\u001b[0m\n\u001b[0;32m      6\u001b[0m \u001b[0max\u001b[0m \u001b[1;33m=\u001b[0m \u001b[0mfig\u001b[0m\u001b[1;33m.\u001b[0m\u001b[0madd_subplot\u001b[0m\u001b[1;33m(\u001b[0m\u001b[1;36m1\u001b[0m\u001b[1;33m,\u001b[0m \u001b[1;36m1\u001b[0m\u001b[1;33m,\u001b[0m \u001b[1;36m1\u001b[0m\u001b[1;33m,\u001b[0m \u001b[0mprojection\u001b[0m\u001b[1;33m=\u001b[0m\u001b[1;34m'3d'\u001b[0m\u001b[1;33m)\u001b[0m\u001b[1;33m\u001b[0m\u001b[0m\n\u001b[1;32m----> 7\u001b[1;33m \u001b[0mplot\u001b[0m\u001b[1;33m(\u001b[0m\u001b[0mluk\u001b[0m\u001b[1;33m[\u001b[0m\u001b[1;33m:\u001b[0m\u001b[1;33m,\u001b[0m\u001b[1;36m2\u001b[0m\u001b[1;33m]\u001b[0m\u001b[1;33m,\u001b[0m\u001b[0mluk\u001b[0m\u001b[1;33m[\u001b[0m\u001b[1;33m:\u001b[0m\u001b[1;33m,\u001b[0m\u001b[1;36m1\u001b[0m\u001b[1;33m]\u001b[0m\u001b[1;33m,\u001b[0m\u001b[0mluk\u001b[0m\u001b[1;33m[\u001b[0m\u001b[1;33m:\u001b[0m\u001b[1;33m,\u001b[0m\u001b[1;36m0\u001b[0m\u001b[1;33m]\u001b[0m\u001b[1;33m,\u001b[0m\u001b[1;34m'r.'\u001b[0m\u001b[1;33m,\u001b[0m\u001b[0mluk\u001b[0m\u001b[1;33m[\u001b[0m\u001b[1;33m:\u001b[0m\u001b[1;33m,\u001b[0m\u001b[1;36m2\u001b[0m\u001b[1;33m]\u001b[0m\u001b[1;33m,\u001b[0m\u001b[0mluk\u001b[0m\u001b[1;33m[\u001b[0m\u001b[1;33m:\u001b[0m\u001b[1;33m,\u001b[0m\u001b[1;36m1\u001b[0m\u001b[1;33m]\u001b[0m\u001b[1;33m,\u001b[0m\u001b[0mluk\u001b[0m\u001b[1;33m[\u001b[0m\u001b[1;33m:\u001b[0m\u001b[1;33m,\u001b[0m\u001b[1;36m0\u001b[0m\u001b[1;33m]\u001b[0m\u001b[1;33m,\u001b[0m\u001b[1;34m'b'\u001b[0m\u001b[1;33m)\u001b[0m\u001b[1;33m\u001b[0m\u001b[0m\n\u001b[0m",
        "\u001b[1;31mIndexError\u001b[0m: too many indices"
       ]
      },
      {
       "metadata": {},
       "output_type": "display_data",
       "png": "[encoded data removed]",
       "text": [
        "<matplotlib.figure.Figure at 0x53344d0>"
       ]
      }
     ],
     "prompt_number": 23
    },
    {
     "cell_type": "markdown",
     "metadata": {},
     "source": [
      "#### eksperyment powtarzalno\u015b\u0107 100x"
     ]
    },
    {
     "cell_type": "code",
     "collapsed": false,
     "input": [
      "class Joint_state_receiver:\n",
      "    def __init__(self,nazwa_topica=r\"/joint_states\"):\n",
      "        rospy.Subscriber(nazwa_topica,sensor_msgs.msg.JointState,self.joints_received)\n",
      "    def joints_received(self,joints):\n",
      "        self.joints=joints\n",
      "        "
     ],
     "language": "python",
     "metadata": {},
     "outputs": [],
     "prompt_number": 13
    },
    {
     "cell_type": "code",
     "collapsed": false,
     "input": [
      "import time\n",
      "class Pomiary_eksperyment:\n",
      "    def __init__(self,sdh_joint_obj,leap_obj,pozycja_pomiar,pozycja_postoj,nazwa_pomiaru):\n",
      "        self.current_time=0.0\n",
      "        self.sdh_joints=sdh_joint_obj\n",
      "        self.leap_pos=leap_obj\n",
      "        self.state=\"STOP\"\n",
      "        self.pozycja_pomiar=pozycja_pomiar\n",
      "        self.pozycja_postoj=pozycja_postoj\n",
      "        self.nazwa_pomiaru=nazwa_pomiaru\n",
      "        self.razy=0\n",
      "        self.max_pom=100\n",
      "    def stop(self):\n",
      "        self.state=\"STOP\"\n",
      "        if \"pomiary\" in self.leap_pos.events:\n",
      "            del self.leap_pos.events[\"pomiary\"] #=self.kolejny_pomiar        \n",
      "    def start(self):\n",
      "        self.razy=0\n",
      "        self.state=\"START\"\n",
      "        self.current_time=time.time()\n",
      "        self.last_time=time.time()\n",
      "        self.leap_pos.events[\"pomiary\"]=self.kolejny_pomiar\n",
      "    def kolejny_pomiar(self):\n",
      "        ''' kolejne zdarzenia:\n",
      "        DG\n",
      "        do gory\n",
      "        ---- odczekaj 1s ----\n",
      "        DD\n",
      "        do dolu\n",
      "        \n",
      "        ---- odczekaj 1.5s ----\n",
      "        POM\n",
      "        rozpocznij pomiar leap\n",
      "        ---- odczekaj 25 s ----\n",
      "        PODS\n",
      "        zmierz enkodery\n",
      "        zakoncz pomiar, dodaj do array_pomiary\n",
      "        jesli mniej niz 100 powtorz\n",
      "        \n",
      "        '''\n",
      "        \n",
      "        last_time=self.last_time\n",
      "\n",
      "        self.current_time=time.time()\n",
      "        deltat=self.current_time-self.last_time\n",
      "        \n",
      "        if self.state==\"START\":\n",
      "            \n",
      "            self.pomiary=[]\n",
      "\n",
      "            gotopoint2(self.pozycja_postoj)\n",
      "            self.state=\"DG\"\n",
      "            self.last_time=time.time()\n",
      "            \n",
      "        elif self.state==\"DG\" and deltat>1:\n",
      "            gotopoint2(self.pozycja_pomiar)\n",
      "            self.state=\"DD\"\n",
      "            self.last_time=time.time()\n",
      "        elif self.state==\"DD\" and deltat>8.5:\n",
      "            print leap_pos.pozycja\n",
      "            self.leap_pos.rec_new(self.nazwa_pomiaru+str(self.razy))\n",
      "            self.last_time=time.time()\n",
      "            self.state=\"POM\"\n",
      "            \n",
      "        elif self.state==\"POM\" and deltat>20:    \n",
      "            self.leap_pos.stop_rec()\n",
      "            self.pomiary.append((list(self.leap_pos.recorded_pos),self.sdh_joints.joints))\n",
      "            gotopoint2(self.pozycja_postoj)\n",
      "            self.last_time=time.time()\n",
      "            \n",
      "            pickle.dump(self.pomiary,open(\"logipozycja/full_\"+self.nazwa_pomiaru,\"wb\"))\n",
      "            self.razy+=1\n",
      "            if self.razy<=self.max_pom:\n",
      "                self.state=\"DG\"\n",
      "            else:\n",
      "                self.state=\"STOP\"\n",
      "                if \"pomiary\" in self.leap_pos.events:\n",
      "                    del self.leap_pos.events[\"pomiary\"] #=self.kolejny_pomiar\n",
      "            #leap_pos.rec_new(\"-90\")\n",
      "#gotopoint2([0,0,-pp+0.2,-pp,-pp,-pp,-pp])\n",
      "#pomiary=[]if \n",
      "        \n",
      "        "
     ],
     "language": "python",
     "metadata": {},
     "outputs": [],
     "prompt_number": 25
    },
    {
     "cell_type": "code",
     "collapsed": false,
     "input": [
      "sdh_joints=Joint_state_receiver()\n",
      "#print sdh_joints.joints.position"
     ],
     "language": "python",
     "metadata": {},
     "outputs": [],
     "prompt_number": 26
    },
    {
     "cell_type": "code",
     "collapsed": false,
     "input": [
      "pomiary45A1=Pomiary_eksperyment(sdh_joints,leap_pos,\n",
      "                              [0,-math.pi/4,0,-pp,-pp,-pp,-pp],\n",
      "                              [0,-math.pi/4+0.2,0,-pp,-pp,-pp,-pp],\"kat_A1m45\")"
     ],
     "language": "python",
     "metadata": {},
     "outputs": [],
     "prompt_number": 19
    },
    {
     "cell_type": "code",
     "collapsed": false,
     "input": [
      "#pomiary90=Pomiary_eksperyment(sdh_joints,leap_pos,\n",
      "#                              [0,0,0,-pp,-pp,-pp,-pp],\n",
      "#                              [0,0,-0.2,-pp,-pp,-pp,-pp],\"kat_zero\")"
     ],
     "language": "python",
     "metadata": {},
     "outputs": [],
     "prompt_number": 30
    },
    {
     "cell_type": "code",
     "collapsed": false,
     "input": [
      "pomiary45A1.stop()"
     ],
     "language": "python",
     "metadata": {},
     "outputs": [
      {
       "ename": "NameError",
       "evalue": "name 'pomiary45A1' is not defined",
       "output_type": "pyerr",
       "traceback": [
        "\u001b[1;31m---------------------------------------------------------------------------\u001b[0m\n\u001b[1;31mNameError\u001b[0m                                 Traceback (most recent call last)",
        "\u001b[1;32m<ipython-input-35-7d7cd41a037a>\u001b[0m in \u001b[0;36m<module>\u001b[1;34m()\u001b[0m\n\u001b[1;32m----> 1\u001b[1;33m \u001b[0mpomiary45A1\u001b[0m\u001b[1;33m.\u001b[0m\u001b[0mstop\u001b[0m\u001b[1;33m(\u001b[0m\u001b[1;33m)\u001b[0m\u001b[1;33m\u001b[0m\u001b[0m\n\u001b[0m",
        "\u001b[1;31mNameError\u001b[0m: name 'pomiary45A1' is not defined"
       ]
      }
     ],
     "prompt_number": 35
    },
    {
     "cell_type": "code",
     "collapsed": false,
     "input": [
      "print len(pomiary90.pomiary)"
     ],
     "language": "python",
     "metadata": {},
     "outputs": [
      {
       "ename": "NameError",
       "evalue": "name 'pomiary90' is not defined",
       "output_type": "pyerr",
       "traceback": [
        "\u001b[1;31m---------------------------------------------------------------------------\u001b[0m\n\u001b[1;31mNameError\u001b[0m                                 Traceback (most recent call last)",
        "\u001b[1;32m<ipython-input-27-834ae8e8f541>\u001b[0m in \u001b[0;36m<module>\u001b[1;34m()\u001b[0m\n\u001b[1;32m----> 1\u001b[1;33m \u001b[1;32mprint\u001b[0m \u001b[0mlen\u001b[0m\u001b[1;33m(\u001b[0m\u001b[0mpomiary90\u001b[0m\u001b[1;33m.\u001b[0m\u001b[0mpomiary\u001b[0m\u001b[1;33m)\u001b[0m\u001b[1;33m\u001b[0m\u001b[0m\n\u001b[0m",
        "\u001b[1;31mNameError\u001b[0m: name 'pomiary90' is not defined"
       ]
      }
     ],
     "prompt_number": 27
    },
    {
     "cell_type": "code",
     "collapsed": false,
     "input": [
      "print sdh_joints.joints.position"
     ],
     "language": "python",
     "metadata": {},
     "outputs": [
      {
       "output_type": "stream",
       "stream": "stdout",
       "text": [
        "(6.002999305350835e-05, -0.00016362462108519135, 1.6147166287113538e-05, 0.00010226538411458335, -1.6147166287113538e-05, 0.0002045307682291667, 4.844149581359467e-05, 6.002999305350835e-05)\n"
       ]
      }
     ],
     "prompt_number": 29
    },
    {
     "cell_type": "code",
     "collapsed": false,
     "input": [
      "#print leap_pos.pozycja\n",
      "#leap_pos.rec_new(\"-90\")\n",
      "#gotopoint2([0,0,-pp+0.2,-pp,-pp,-pp,-pp])\n",
      "#pomiary=[]"
     ],
     "language": "python",
     "metadata": {},
     "outputs": [],
     "prompt_number": 37
    },
    {
     "cell_type": "code",
     "collapsed": false,
     "input": [
      "gotopoint2([0,0,-pp/2,-pp,-pp,-pp,-pp])"
     ],
     "language": "python",
     "metadata": {},
     "outputs": [],
     "prompt_number": 30
    },
    {
     "cell_type": "code",
     "collapsed": false,
     "input": [
      "print leap_pos.pozycja\n",
      "#leap_pos.rec_new(\"-90\")\n",
      "#gotopoint2([0,0,-pp,-pp,-pp,-pp,-pp])"
     ],
     "language": "python",
     "metadata": {},
     "outputs": [
      {
       "output_type": "stream",
       "stream": "stdout",
       "text": [
        "x: 97.7003326416\n",
        "y: 186.813598633\n",
        "z: 32.4528198242\n"
       ]
      }
     ],
     "prompt_number": 16
    },
    {
     "cell_type": "code",
     "collapsed": false,
     "input": [
      "leap_pos.stop_rec()\n",
      "pomiary.append((list(leap_pos.recorded_pos),sdh_joints.joints))\n",
      "gotopoint2([0,0,-pp+0.2,-pp,-pp,-pp,-pp])"
     ],
     "language": "python",
     "metadata": {},
     "outputs": [],
     "prompt_number": 105
    },
    {
     "cell_type": "markdown",
     "metadata": {},
     "source": [
      "####koniec pomiar\u00f3w"
     ]
    },
    {
     "cell_type": "code",
     "collapsed": false,
     "input": [
      "print len(pomiary)\n",
      "pom=list(pomiary)\n",
      "import pickle\n",
      "pickle.dump(pom,open(\"dokladnosc_-90.p\",\"wb\"))"
     ],
     "language": "python",
     "metadata": {},
     "outputs": [
      {
       "output_type": "stream",
       "stream": "stdout",
       "text": [
        "22\n"
       ]
      }
     ],
     "prompt_number": 108
    },
    {
     "cell_type": "code",
     "collapsed": false,
     "input": [
      "print pomiary"
     ],
     "language": "python",
     "metadata": {},
     "outputs": [
      {
       "ename": "NameError",
       "evalue": "name 'pomiary' is not defined",
       "output_type": "pyerr",
       "traceback": [
        "\u001b[1;31m---------------------------------------------------------------------------\u001b[0m\n\u001b[1;31mNameError\u001b[0m                                 Traceback (most recent call last)",
        "\u001b[1;32m<ipython-input-31-f02f75605b4b>\u001b[0m in \u001b[0;36m<module>\u001b[1;34m()\u001b[0m\n\u001b[1;32m----> 1\u001b[1;33m \u001b[1;32mprint\u001b[0m \u001b[0mpomiary\u001b[0m\u001b[1;33m\u001b[0m\u001b[0m\n\u001b[0m",
        "\u001b[1;31mNameError\u001b[0m: name 'pomiary' is not defined"
       ]
      }
     ],
     "prompt_number": 31
    },
    {
     "cell_type": "code",
     "collapsed": false,
     "input": [
      "z=leap_pos.recorded_pos[200:]\n",
      "print len(leap_pos.recorded_pos)\n",
      "z_n=numpy.array(z)\n",
      "print numpy.std(z_n,0)\n",
      "print numpy.std(bez_n,0)\n"
     ],
     "language": "python",
     "metadata": {},
     "outputs": [
      {
       "output_type": "stream",
       "stream": "stdout",
       "text": [
        "433\n",
        "[ 0.0233976   0.03483493  0.0083772 ]\n",
        "[ 0.03067559  0.02340905  0.01123876]\n"
       ]
      }
     ],
     "prompt_number": 39
    },
    {
     "cell_type": "markdown",
     "metadata": {},
     "source": [
      "#### Esperyment"
     ]
    },
    {
     "cell_type": "code",
     "collapsed": false,
     "input": [
      "#0 stopni\n",
      "gotopoint2([0,0,-0.02,-pp,-pp,-pp,-pp])\n"
     ],
     "language": "python",
     "metadata": {},
     "outputs": [],
     "prompt_number": 32
    },
    {
     "cell_type": "markdown",
     "metadata": {},
     "source": [
      "### testy monety"
     ]
    },
    {
     "cell_type": "code",
     "collapsed": false,
     "input": [
      "print tactile.matrix"
     ],
     "language": "python",
     "metadata": {},
     "outputs": [
      {
       "output_type": "stream",
       "stream": "stdout",
       "text": [
        "header: \n",
        "  seq: 805\n",
        "  stamp: \n",
        "    secs: 1392210368\n",
        "    nsecs: 932615636\n",
        "  frame_id: ''\n",
        "tactile_matrix: \n",
        "  - \n",
        "    matrix_id: 0\n",
        "    cells_x: 6\n",
        "    cells_y: 14\n",
        "    tactile_array: [0, 0, 0, 0, 0, 0, 0, 0, 0, 0, 0, 0, 0, 0, 0, 0, 0, 0, 0, 0, 0, 0, 0, 0, 0, 0, 0, 0, 0, 0, 0, 0, 0, 0, 0, 0, 0, 0, 0, 0, 0, 0, 0, 0, 0, 0, 0, 0, 0, 0, 0, 0, 0, 0, 0, 0, 0, 0, 0, 0, 0, 0, 0, 0, 0, 0, 0, 0, 0, 0, 0, 0, 0, 0, 0, 0, 0, 0, 0, 0, 0, 0, 0, 0]\n",
        "  - \n",
        "    matrix_id: 1\n",
        "    cells_x: 6\n",
        "    cells_y: 13\n",
        "    tactile_array: [0, 0, 0, 0, 0, 0, 0, 0, 0, 0, 0, 0, 0, 0, 0, 0, 0, 0, 0, 278, 0, 0, 0, 0, 0, 684, 0, 0, 0, 0, 3362, 3224, 43, 584, 3060, 3362, 3360, 3362, 2863, 3362, 3362, 3362, 3361, 3363, 978, 1908, 3364, 3362, 3361, 3363, 48, 2403, 3364, 3361, 3363, 3363, 2116, 1393, 3367, 3360, 3363, 2644, 38, 219, 2725, 3361, 1669, 162, 0, 0, 23, 2577, 2003, 0, 0, 0, 0, 0]\n",
        "  - \n",
        "    matrix_id: 2\n",
        "    cells_x: 6\n",
        "    cells_y: 14\n",
        "    tactile_array: [0, 0, 0, 0, 0, 0, 0, 0, 0, 0, 0, 0, 0, 0, 0, 0, 0, 0, 0, 0, 0, 0, 0, 0, 0, 0, 0, 0, 0, 0, 0, 0, 0, 0, 0, 0, 0, 0, 0, 0, 0, 0, 0, 0, 0, 0, 0, 0, 0, 0, 0, 0, 0, 0, 0, 0, 0, 0, 0, 0, 0, 0, 0, 0, 0, 0, 0, 0, 0, 0, 0, 0, 0, 0, 0, 0, 0, 0, 0, 0, 0, 0, 0, 0]\n",
        "  - \n",
        "    matrix_id: 3\n",
        "    cells_x: 6\n",
        "    cells_y: 13\n",
        "    tactile_array: [0, 0, 0, 0, 0, 0, 0, 0, 0, 0, 0, 0, 0, 0, 0, 0, 0, 0, 0, 0, 0, 0, 0, 0, 0, 0, 0, 0, 0, 0, 0, 0, 0, 0, 0, 0, 0, 0, 0, 0, 0, 0, 0, 0, 0, 0, 0, 0, 0, 0, 0, 0, 0, 0, 0, 0, 0, 0, 0, 0, 0, 0, 0, 0, 0, 0, 0, 0, 0, 0, 0, 0, 0, 0, 0, 0, 0, 0]\n",
        "  - \n",
        "    matrix_id: 4\n",
        "    cells_x: 6\n",
        "    cells_y: 14\n",
        "    tactile_array: [0, 0, 0, 0, 0, 0, 0, 0, 0, 0, 0, 0, 0, 0, 0, 0, 0, 0, 0, 0, 0, 0, 0, 0, 0, 0, 0, 0, 0, 0, 0, 0, 0, 0, 0, 0, 0, 0, 0, 0, 0, 0, 0, 0, 0, 0, 0, 0, 0, 0, 0, 0, 0, 0, 0, 0, 0, 0, 0, 0, 0, 0, 0, 0, 0, 0, 0, 0, 0, 0, 0, 0, 0, 0, 0, 0, 0, 0, 0, 0, 0, 0, 0, 0]\n",
        "  - \n",
        "    matrix_id: 5\n",
        "    cells_x: 6\n",
        "    cells_y: 13\n",
        "    tactile_array: [0, 0, 0, 0, 0, 0, 0, 0, 0, 0, 0, 0, 0, 0, 0, 0, 0, 0, 0, 0, 0, 0, 0, 0, 0, 0, 0, 0, 0, 0, 0, 0, 0, 0, 0, 0, 0, 0, 0, 0, 0, 0, 0, 0, 0, 0, 0, 0, 0, 0, 0, 0, 0, 0, 0, 0, 0, 0, 0, 0, 0, 0, 0, 0, 0, 0, 0, 0, 0, 0, 0, 0, 0, 0, 0, 0, 0, 0]\n"
       ]
      }
     ],
     "prompt_number": 34
    },
    {
     "cell_type": "markdown",
     "metadata": {},
     "source": [
      "###testy si\u0142a"
     ]
    },
    {
     "cell_type": "code",
     "collapsed": false,
     "input": [
      "tactile.zadaj_wart(600)"
     ],
     "language": "python",
     "metadata": {},
     "outputs": [],
     "prompt_number": 18
    },
    {
     "cell_type": "code",
     "collapsed": false,
     "input": [
      "tactile.rec_new(\"power100A1b.log\")\n",
      "gotopoint([0,pp,0,-pp,-pp,-pp,-pp])\n"
     ],
     "language": "python",
     "metadata": {},
     "outputs": [],
     "prompt_number": 44
    },
    {
     "cell_type": "code",
     "collapsed": false,
     "input": [
      "tactile.stop_rec()\n",
      "#gotopoint([0,0,0,-pp,-pp,-pp,-pp])"
     ],
     "language": "python",
     "metadata": {},
     "outputs": [],
     "prompt_number": 45
    },
    {
     "cell_type": "code",
     "collapsed": false,
     "input": [
      "gotopoint([0,-0.02,0,-pp,-pp,-pp,-pp])\n",
      "print len(tactile.recorded_matrices)"
     ],
     "language": "python",
     "metadata": {},
     "outputs": [
      {
       "output_type": "stream",
       "stream": "stdout",
       "text": [
        "184\n"
       ]
      }
     ],
     "prompt_number": 46
    },
    {
     "cell_type": "code",
     "collapsed": false,
     "input": [
      "#print tactile.recorded_matrices[-1].tactile_matrix[1]\n",
      "print mean(tactile.matrix.tactile_matrix[1].tactile_array)\n",
      "print tactile.matrix.tactile_matrix[1]#.tactile_array\n",
      "#as array\n",
      "array_to_show=numpy.array([[tactile.matrix.tactile_matrix[1].tactile_array]]).reshape((6,13)).astype(float)\n",
      "array_to_show*=(1/array_to_show.max())*255\n",
      "print array_to_show.dtype\n",
      "pcolor(array_to_show)"
     ],
     "language": "python",
     "metadata": {},
     "outputs": [
      {
       "output_type": "stream",
       "stream": "stdout",
       "text": [
        "558.653846154\n",
        "matrix_id: 1\n",
        "cells_x: 6\n",
        "cells_y: 13\n",
        "tactile_array: [0, 0, 0, 0, 0, 0, 0, 0, 0, 0, 0, 0, 0, 0, 0, 0, 0, 0, 0, 0, 0, 0, 0, 0, 0, 0, 0, 0, 0, 0, 0, 0, 0, 0, 0, 0, 0, 0, 0, 0, 0, 0, 1486, 3358, 3352, 3354, 1049, 0, 3358, 3352, 3349, 3353, 3355, 0, 2261, 3352, 3352, 3353, 1151, 0, 0, 479, 234, 27, 0, 0, 0, 0, 0, 0, 0, 0, 0, 0, 0, 0, 0, 0]\n",
        "float64\n"
       ]
      },
      {
       "metadata": {},
       "output_type": "pyout",
       "prompt_number": 29,
       "text": [
        "<matplotlib.collections.PolyCollection at 0x58d7150>"
       ]
      },
      {
       "metadata": {},
       "output_type": "display_data",
       "png": "[encoded data removed]",
       "text": [
        "<matplotlib.figure.Figure at 0x4f2d810>"
       ]
      }
     ],
     "prompt_number": 29
    },
    {
     "cell_type": "code",
     "collapsed": false,
     "input": [
      "from PIL import Image\n",
      "im = Image.fromarray(array_to_show) # monochromatic image\n",
      "#imrgb = Image.merge('RGB', (im,im,im)) # color image\n",
      "im.show()"
     ],
     "language": "python",
     "metadata": {},
     "outputs": [],
     "prompt_number": 121
    },
    {
     "cell_type": "code",
     "collapsed": false,
     "input": [
      "nn=0\n",
      "tactile.reg=False"
     ],
     "language": "python",
     "metadata": {},
     "outputs": [],
     "prompt_number": 22
    },
    {
     "cell_type": "code",
     "collapsed": false,
     "input": [
      "kaka={\"fufu\":1,\"kuku\":2}\n",
      "for key,k in kaka.items():\n",
      "    print k"
     ],
     "language": "python",
     "metadata": {},
     "outputs": [
      {
       "output_type": "stream",
       "stream": "stdout",
       "text": [
        "1\n",
        "2\n"
       ]
      }
     ],
     "prompt_number": 122
    }
   ],
   "metadata": {}
  }
 ]
}