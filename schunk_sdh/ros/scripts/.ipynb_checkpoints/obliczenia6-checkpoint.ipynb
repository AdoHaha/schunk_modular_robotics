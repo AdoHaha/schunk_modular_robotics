{
 "metadata": {
  "name": ""
 },
 "nbformat": 3,
 "nbformat_minor": 0,
 "worksheets": [
  {
   "cells": [
    {
     "cell_type": "code",
     "collapsed": false,
     "input": [
      "import scipy\n",
      "import numpy\n",
      "'''\n",
      "0.0 -1.380022666666666 -0.048938339871770216 -1.5678200000000004 -0.003365006538436758 -1.4624386666666669 -0.11969300653843676 0.0 299 282 288 311 297 301 311 264 298 290\n",
      "0.0 0.222316 0.9116203267948967 -0.7450026666666668 1.6852803267948968 -0.759926666666667 1.5041203267948962 0.0 236 278 271 232 296 201 232 184 205 264\n",
      "0.0 -0.036088000000000155 0.6437349934615626 -1.1893813333333338 1.6763043267948976 -1.1216800000000005 1.4890736601282304 0.0 245 286 285 303 306 251 267 218 254 291\n",
      "0.0, -0.7318760000000001, 0.5813536601282296, -1.2567866666666672, 0.7006123267948963, -1.126913333333334, 0.5376643267948962, 0.0, 292, 295, 286, 320, 307, 292, 308, 261, 298, 301\n",
      "0.0, 0.25392533333333306, 0.9513936601282293, 0.07341866666666662, 1.50041366012823, -0.04625866666666678, 1.464826993461562, 0.0, 231, 275, 270, 241, 278, 193, 232, 184, 186, 257\n",
      "'''\n",
      "\n",
      "aar=[\n",
      "     [0.0, -1.380022666666666, -0.048938339871770216, -1.5678200000000004, -0.003365006538436758, -1.4624386666666669, -0.11969300653843676, 299, 282, 288, 311, 297, 301, 311, 264, 298, 290]\n",
      ",[0.0, 0.222316, 0.9116203267948967, -0.7450026666666668, 1.6852803267948968, -0.759926666666667, 1.5041203267948962, 236, 278, 271, 232, 296, 201, 232, 184, 205, 264]\n",
      ",[0.0, -0.036088000000000155, 0.6437349934615626, -1.1893813333333338, 1.6763043267948976, -1.1216800000000005,\n",
      "  1.4890736601282304, 245, 286, 285, 303, 306, 251, 267, 218, 254, 291]\n",
      ",[0.0, -0.7318760000000001, 0.5813536601282296, -1.2567866666666672, 0.7006123267948963, -1.126913333333334, 0.5376643267948962, 292, 295, 286, 320, 307, 292, 308, 261, 298, 301]\n",
      ",[0.0, 0.25392533333333306, 0.9513936601282293, 0.07341866666666662, 1.50041366012823, -0.04625866666666678, 1.464826993461562, 231, 275, 270, 241, 278, 193, 232, 184, 186, 257]\n",
      "     \n",
      "     \n",
      "     ]\n",
      "final=np.array(aar)\n",
      "allsmoothfingersnames=[\"shadow_sdh_knuckle_joint\",\"shadow_sdh_thumb_2_joint\",\"shadow_sdh_thumb_3_joint\",\n",
      "                       \"shadow_sdh_finger_12_joint\",\"shadow_sdh_finger_13_joint\",\n",
      "                           \"shadow_sdh_finger_22_joint\",\"shadow_sdh_finger_23_joint\"]\n",
      "'''lastarray=[\n",
      "               zrekawicy.kciuk0,zrekawicy.palwska0,zrekawicy.palsro0,\n",
      "               zrekawicy.palser0,zrekawicy.palmal0,zrekawicy.palmal1,\n",
      "               zrekawicy.palser1,zrekawicy.palsro1,\n",
      "               zrekawicy.palwska1,zrekawicy.kciuk1\n",
      "               ]'''\n",
      "x = np.array(final[:,7]) \n",
      "y = np.array(final[:,1])\n",
      "A = np.vstack([x, np.ones(len(x))]).T\n",
      "m, c = np.linalg.lstsq(A, y)[0]\n",
      "\n",
      "\n",
      "\n",
      "x = np.array(final[:,16])\n",
      "y = np.array(final[:,2])\n",
      "A = np.vstack([x, np.ones(len(x))]).T\n",
      "m, c = np.linalg.lstsq(A, y)[0]\n",
      "#print m,c\n",
      "\n",
      "x = np.array(final[:,12])\n",
      "y = np.array(final[:,6])\n",
      "A = np.vstack([x, np.ones(len(x))]).T\n",
      "m, c = np.linalg.lstsq(A, y)[0]\n",
      "print m,c\n"
     ],
     "language": "python",
     "metadata": {},
     "outputs": [
      {
       "output_type": "stream",
       "stream": "stdout",
       "text": [
        "-0.0127691466143 4.13683916184\n"
       ]
      }
     ],
     "prompt_number": 24
    },
    {
     "cell_type": "markdown",
     "metadata": {},
     "source": [
      "###Pickling alfas and betas"
     ]
    },
    {
     "cell_type": "code",
     "collapsed": false,
     "input": [
      "alfa={}\n",
      "beta={}\n",
      "alfa[\"shadow_sdh_knuckle_joint\"]=0\n",
      "beta[\"shadow_sdh_knuckle_joint\"]=0\n",
      "\n",
      "alfa[\"shadow_sdh_thumb_2_joint\"]=-0.02112\n",
      "beta[\"shadow_sdh_thumb_2_joint\"]=5.16\n",
      "#-zrekawicy.kciuk0*3.14/500+1.5+poprawki[\"shadow_sdh_thumb_2_joint\"]\n",
      "alfa[\"shadow_sdh_thumb_3_joint\"]=-0.0134869565458\n",
      "beta[\"shadow_sdh_thumb_3_joint\"]=4.39227286688\n",
      "#3.14/500+math.pi-math.pi/2+poprawki[\"shadow_sdh_thumb_3_joint\"]\n",
      "alfa[\"shadow_sdh_finger_12_joint\"]=-0.0335707808896\n",
      "beta[\"shadow_sdh_finger_12_joint\"]=10.2341307479\n",
      "\n",
      "\n",
      "#3.14/500+1.5+poprawki[\"shadow_sdh_finger_12_joint\"]\n",
      "alfa[\"shadow_sdh_finger_13_joint\"]=-0.0113418423433\n",
      "beta[\"shadow_sdh_finger_13_joint\"]=3.92689439641\n",
      "\n",
      "#3.14/500+math.pi-math.pi/2+poprawki[\"shadow_sdh_finger_13_joint\"]\n",
      "    \n",
      "#ob.palec1pods=0\n",
      "\n",
      "alfa[\"shadow_sdh_finger_22_joint\"]=-0.0380045237042\n",
      "beta[\"shadow_sdh_finger_22_joint\"]=10.3762991688\n",
      "#3.14/500+1.5+poprawki[\"shadow_sdh_finger_22_joint\"]\n",
      "alfa[\"shadow_sdh_finger_23_joint\"]=-0.0127691466143                  \n",
      "beta[\"shadow_sdh_finger_23_joint\"]=4.13683916184              \n"
     ],
     "language": "python",
     "metadata": {},
     "outputs": [],
     "prompt_number": 34
    },
    {
     "cell_type": "code",
     "collapsed": false,
     "input": [
      "'''import pickle\n",
      "pickle.dump( alfa, open( \"alfas.p\", \"wb\" ) )\n",
      "pickle.dump( beta, open( \"betas.p\", \"wb\" ) )\n",
      "'''"
     ],
     "language": "python",
     "metadata": {},
     "outputs": [],
     "prompt_number": 33
    },
    {
     "cell_type": "code",
     "collapsed": false,
     "input": [],
     "language": "python",
     "metadata": {},
     "outputs": [],
     "prompt_number": 35
    },
    {
     "cell_type": "code",
     "collapsed": false,
     "input": [],
     "language": "python",
     "metadata": {},
     "outputs": []
    }
   ],
   "metadata": {}
  }
 ]
}