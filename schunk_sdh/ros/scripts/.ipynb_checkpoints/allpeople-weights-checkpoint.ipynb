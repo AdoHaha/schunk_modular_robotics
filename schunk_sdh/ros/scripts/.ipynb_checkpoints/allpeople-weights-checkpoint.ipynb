{
 "metadata": {
  "name": ""
 },
 "nbformat": 3,
 "nbformat_minor": 0,
 "worksheets": [
  {
   "cells": [
    {
     "cell_type": "markdown",
     "metadata": {},
     "source": [
      "### Learning program using data from different persons"
     ]
    },
    {
     "cell_type": "code",
     "collapsed": false,
     "input": [
      "'''prediction node'''\n",
      "import roslib; \n",
      "roslib.load_manifest('schunk_sdh')\n",
      "import sys \n",
      "import rospy\n",
      "import roslib\n",
      "import cob_srvs.srv\n",
      "import std_msgs.msg\n",
      "import control_msgs.msg\n",
      "import actionlib_msgs.msg\n",
      "import trajectory_msgs.msg\n",
      "import collections\n",
      "from std_msgs.msg import String\n",
      "from std_msgs.msg import Float64\n",
      "from dlonurdf.msg import Rekawica\n",
      "from dlonurdf.msg import Hand\n",
      "\n",
      "import numpy as np\n",
      "from sklearn.svm import SVC\n",
      "import sklearn\n",
      "import pylab\n",
      "from sklearn import cross_validation\n",
      "import pickle\n",
      "#savedresults = pickle.load( open( \"predictionobject2.p\", \"rb\" ) )\n",
      "#print savedresults\n",
      "#clf=savedresults[\"predictor\"]\n",
      "#scaler=savedresults[\"scaler\"]"
     ],
     "language": "python",
     "metadata": {},
     "outputs": [],
     "prompt_number": 2
    },
    {
     "cell_type": "code",
     "collapsed": false,
     "input": [
      "zar= pickle.load(open(\"alluptonowSud2.p\",\"rb\"))\n",
      "print zar[11]"
     ],
     "language": "python",
     "metadata": {},
     "outputs": [
      {
       "output_type": "stream",
       "stream": "stdout",
       "text": [
        "[1, 261, 289, 296, 332, 238, 288, 300, 246, 282, 277]\n"
       ]
      }
     ],
     "prompt_number": 3
    },
    {
     "cell_type": "code",
     "collapsed": false,
     "input": [
      "#print zar\n",
      "#zar.pop(1)\n",
      "#zar.pop(11)\n",
      "#print zar"
     ],
     "language": "python",
     "metadata": {},
     "outputs": [],
     "prompt_number": 4
    },
    {
     "cell_type": "code",
     "collapsed": false,
     "input": [
      "pickle.dump( zar, open( \"alluptonowSud2.p\", \"wb\" ) )"
     ],
     "language": "python",
     "metadata": {},
     "outputs": [],
     "prompt_number": 28
    },
    {
     "cell_type": "code",
     "collapsed": false,
     "input": [
      "### preparing data \n",
      "before=pickle.load(open(\"alluptonow.p\",\"rb\"))\n",
      "iz=pickle.load(open(\"alluptonowIZ.p\",\"rb\"))\n",
      "gg=pickle.load(open(\"alluptonowgg.p\",\"rb\"))\n",
      "prze=pickle.load(open(\"alluptonowPrze.p\",\"rb\"))\n",
      "tig=pickle.load(open(\"alluptonowTigran.p\",\"rb\"))\n",
      "zar=pickle.load(open(\"alluptonowZar2.p\",\"rb\"))\n",
      "zar2=pickle.load(open(\"alluptonowZar3.p\",\"rb\"))\n",
      "mar=pickle.load(open(\"alluptonowMar.p\",\"rb\"))\n",
      "sud=pickle.load(open(\"alluptonowSud.p\",\"rb\"))\n",
      "sud2=pickle.load(open(\"alluptonowSud2.p\",\"rb\"))\n",
      "iz2=pickle.load(open(\"alluptonowIZ2.p\",\"rb\"))\n",
      "iz3=pickle.load(open(\"igor_new4.p\",\"rb\"))\n",
      "allexamples=before+iz+gg+prze+tig+zar+zar2+mar+sud+iz3\n",
      "#weights=[x+[0.5] for x in allexamples] #add weight for old data\n",
      "#iz3=pickle.load(open(\"igor_new.p\",\"rb\"))\n",
      "#weights2=[x+[1.0] for x in iz3]\n",
      "#allexamples_w=weights+weights2 #all data plus weights\n",
      "print np.random.shuffle(allexamples),np.random.shuffle(allexamples),np.random.shuffle(allexamples)\n",
      "allexamples2=array(allexamples)\n",
      "print allexamples2.shape\n",
      "\n",
      "#allexamples3.shape\n",
      "Xfull,Yfull=allexamples2[:, 1:11],allexamples2[:, 0]\n",
      "print Xfull.shape, Yfull.shape\n",
      "print len(sud)"
     ],
     "language": "python",
     "metadata": {},
     "outputs": [
      {
       "output_type": "stream",
       "stream": "stdout",
       "text": [
        "None None None\n",
        "(377, 11)\n",
        "(377, 10) (377,)\n",
        "28\n"
       ]
      }
     ],
     "prompt_number": 31
    },
    {
     "cell_type": "code",
     "collapsed": false,
     "input": [
      "#print len(allexamples)\n",
      "choosetest=np.random.choice(range(len(allexamples)),int(round(0.2*len(allexamples))),replace=False)\n",
      "#list( myBigList[i] for i in [87, 342, 217, 998, 500] )\n",
      "testdata=[allexamples[int(a)] for a in choosetest]\n",
      "\n",
      "\n",
      "choosetrain=set(range(len(allexamples)))-set(choosetest)\n",
      "#pickle.dump(testdata,open(\"testdata.p\",\"wb\"))\n",
      "\n",
      "traindata=[allexamples[int(a)] for a in choosetrain]\n",
      "#pickle.dump(traindata,open(\"traindata.p\",\"wb\"))\n",
      "print len(allexamples), len(allexamples)-len(traindata)-len(testdata)\n",
      "\n",
      "train=array(traindata)\n",
      "test=array(testdata)\n",
      "X,Y=train[:, 1:11],train[:, 0]\n",
      "#print X.shape,y.shape\n",
      "#X = X.toarray()\n",
      "#y=y.toarray()\n",
      "#Y=y\n",
      "Xtest,Ytest=test[:, 1:11],test[:, 0]"
     ],
     "language": "python",
     "metadata": {},
     "outputs": [
      {
       "output_type": "stream",
       "stream": "stdout",
       "text": [
        "377 0\n"
       ]
      }
     ],
     "prompt_number": 32
    },
    {
     "cell_type": "code",
     "collapsed": false,
     "input": [
      "#now using only traindata\n",
      "print(__doc__)\n",
      "\n",
      "import numpy as np\n",
      "import pylab as pl\n",
      "\n",
      "from sklearn.svm import SVC\n",
      "from sklearn.svm import LinearSVC\n",
      "from sklearn.preprocessing import StandardScaler\n",
      "from sklearn.datasets import load_iris\n",
      "from sklearn.cross_validation import StratifiedKFold\n",
      "from sklearn.grid_search import GridSearchCV\n",
      "\n",
      "\n",
      "\n",
      "scaler = StandardScaler()\n",
      "\n",
      "X22 = scaler.fit_transform(X)\n",
      "\n",
      "\n",
      "C_range = 2.0 ** np.arange(-3, 9,0.1)\n",
      "gamma_range = 2.0 ** np.arange(-5, 4)\n",
      "slo={'kernel': ['linear'], 'C': C_range}\n",
      "slo2={'C':C_range}\n",
      "#sklearn.svm.LinearSVC(penalty='l2', loss='l2', dual=True, tol=0.0001, \n",
      "#C=1.0, multi_class='ovr', fit_intercept=True, intercept_scaling=1, class_weight=None, verbose=0, random_state=None)\n",
      "\n",
      "param_grid = dict(gamma=gamma_range, C=C_range)\n",
      "cv = StratifiedKFold(y=Y, n_folds=10)\n",
      "grid = GridSearchCV(LinearSVC(), param_grid=slo2, cv=cv)\n",
      "grid.fit(X22, Y)\n",
      "\n",
      "print(\"The best classifier is: \", grid.best_estimator_)\n",
      "\n",
      "\n",
      "estim=grid.best_estimator_.fit(X22,Y)\n",
      "scaler=scaler\n"
     ],
     "language": "python",
     "metadata": {},
     "outputs": [
      {
       "output_type": "stream",
       "stream": "stdout",
       "text": [
        "prediction node\n",
        "('The best classifier is: ', LinearSVC(C=51.984153366799369, class_weight=None, dual=True,\n",
        "     fit_intercept=True, intercept_scaling=1, loss='l2', multi_class='ovr',\n",
        "     penalty='l2', random_state=None, tol=0.0001, verbose=0))"
       ]
      },
      {
       "output_type": "stream",
       "stream": "stdout",
       "text": [
        "\n"
       ]
      }
     ],
     "prompt_number": 35
    },
    {
     "cell_type": "code",
     "collapsed": false,
     "input": [
      "print scaler, estim"
     ],
     "language": "python",
     "metadata": {},
     "outputs": [
      {
       "output_type": "stream",
       "stream": "stdout",
       "text": [
        "StandardScaler(copy=True, with_mean=True, with_std=True) LinearSVC(C=51.9841533668, class_weight=None, dual=True, fit_intercept=True,\n",
        "     intercept_scaling=1, loss=l2, multi_class=ovr, penalty=l2,\n",
        "     random_state=None, tol=0.0001, verbose=0)\n"
       ]
      }
     ],
     "prompt_number": 36
    },
    {
     "cell_type": "code",
     "collapsed": false,
     "input": [
      "scaler2= sklearn.preprocessing.StandardScaler().fit(X)\n",
      "X_scaled=scaler2.transform(X)\n",
      "#clf3=sklearn.svm.SVC(C=16.0, cache_size=200, class_weight=None, coef0=0.0, degree=3,\n",
      "#  gamma=0.03125, kernel='rbf', max_iter=-1, probability=False,\n",
      "#  random_state=None, shrinking=True, tol=0.001, verbose=False)\n",
      "#clf3=sklearn.svm.SVC(C=2.828427124746197, cache_size=200, class_weight=None, coef0=0.0,\n",
      "#  degree=3, gamma=0.0, kernel='linear', max_iter=-1, probability=False,\n",
      "#  random_state=None, shrinking=True, tol=0.001, verbose=False)\n",
      "clf3=estim\n",
      "clf3.fit(X_scaled,Y)\n",
      "X_scaled.shape\n"
     ],
     "language": "python",
     "metadata": {},
     "outputs": [
      {
       "metadata": {},
       "output_type": "pyout",
       "prompt_number": 28,
       "text": [
        "(302, 10)"
       ]
      }
     ],
     "prompt_number": 28
    },
    {
     "cell_type": "code",
     "collapsed": false,
     "input": [
      "## results\n",
      "X_test_scaled=scaler.transform(Xtest)\n",
      "\n",
      "predyk=estim.predict(X_test_scaled);\n",
      "print sklearn.metrics.accuracy_score(Ytest,predyk)\n",
      "konf=sklearn.metrics.confusion_matrix(Ytest,predyk)\n",
      "target_names = ['Cylinder grip', 'Three finger grip','Precision grip', 'Lateral grip','Wedge grip','Indicating pose','Open hand']\n",
      "clasrap=sklearn.metrics.classification_report(Ytest,predyk , target_names=target_names)\n",
      "im=pylab.matshow(konf)\n",
      "cb1=pylab.colorbar()\n",
      "cb1.set_label('Number of predictions')\n",
      "#im.axes.set_xticklabels(['']+target_names)\n",
      "pylab.xticks([0,1,2,3,4,5,6],target_names,rotation='vertical',verticalalignment='bottom')\n",
      "pylab.yticks([0,1,2,3,4,5,6],target_names,verticalalignment='bottom')\n",
      "\n",
      "pylab.ylabel(\"Actual class\")\n",
      "pylab.xlabel(\"Predicted class\")\n",
      "pylab.show()\n",
      "#print indmax\n",
      "print(clasrap)\n",
      "\n",
      "##using allexamples\n",
      "ae=array(allexamples)\n",
      "Xall=ae[:,1:11] \n",
      "Yall=ae[:,0]\n",
      "Xall_scaled=scaler.transform(Xall)\n",
      "\n",
      "model=estim.fit(Xall_scaled,Yall)\n",
      "resultsp={\"scaler\":scaler,\"predictor\":model}\n",
      "pickle.dump( resultsp, open( \"predictionobject_all_linear.p\", \"wb\" ) )"
     ],
     "language": "python",
     "metadata": {},
     "outputs": [
      {
       "output_type": "stream",
       "stream": "stdout",
       "text": [
        "0.773333333333\n"
       ]
      },
      {
       "metadata": {},
       "output_type": "display_data",
       "png": "[encoded data removed]",
       "text": [
        "<matplotlib.figure.Figure at 0x7f10aff08950>"
       ]
      },
      {
       "output_type": "stream",
       "stream": "stdout",
       "text": [
        "                   precision    recall  f1-score   support\n",
        "\n",
        "    Cylinder grip       0.78      1.00      0.88        14\n",
        "Three finger grip       0.71      0.92      0.80        13\n",
        "   Precision grip       0.33      0.11      0.17         9\n",
        "     Lateral grip       0.33      0.25      0.29         8\n",
        "       Wedge grip       1.00      0.78      0.88         9\n",
        "  Indicating pose       0.93      1.00      0.96        13\n",
        "        Open hand       0.90      1.00      0.95         9\n",
        "\n",
        "      avg / total       0.73      0.77      0.74        75\n",
        "\n"
       ]
      }
     ],
     "prompt_number": 42
    },
    {
     "cell_type": "code",
     "collapsed": false,
     "input": [
      "print X_scaled,\"x test scaled\", X_test_scaled"
     ],
     "language": "python",
     "metadata": {},
     "outputs": [
      {
       "output_type": "stream",
       "stream": "stdout",
       "text": [
        "[[ 0.50099639 -0.15146498 -0.82532491 ..., -1.06321933 -1.77015159\n",
        "   0.20047125]\n",
        " [ 0.90778834  0.91221106 -0.1362445  ..., -1.06321933 -1.60273706\n",
        "   0.22658233]\n",
        " [ 1.02982592  0.41582891  0.30476697 ..., -1.09272085 -1.53995662\n",
        "   0.33102665]\n",
        " ..., \n",
        " [ 0.05352526  0.98312279  0.3598934  ..., -1.00421629  0.97126123\n",
        "  -0.26952819]\n",
        " [ 0.82642995  1.33768147  1.57267493 ...,  1.85743136  1.03404168\n",
        "   0.27880449]\n",
        " [ 1.47729706  0.98312279  1.3521692  ...,  1.62141919  0.95033442\n",
        "   0.59213745]] x test scaled [[ -6.38021047e-01  -1.35696449e+00  -6.04819177e-01   1.22993878e+00\n",
        "    7.56167108e-01   1.19034611e+00   1.23992785e+00   1.56241614e+00\n",
        "    9.71261231e-01   7.74915016e-01]\n",
        " [  1.35525947e+00   1.23131387e+00   1.35216920e+00   1.61190388e+00\n",
        "    1.75325030e+00   1.34049765e+00   1.63202708e+00   1.76892680e+00\n",
        "    1.09682212e+00   6.57415155e-01]\n",
        " [  1.34883644e-01  -9.66949942e-01   1.39387670e-01   8.69193967e-01\n",
        "    6.07348722e-01   1.34049765e+00   1.29594202e+00   1.41490853e+00\n",
        "    9.50334415e-01   8.40192716e-01]\n",
        " [  9.07788336e-01  -4.35111923e-01  -2.64449720e+00  -1.42259661e+00\n",
        "   -1.40169949e+00  -1.41228063e+00  -1.30871719e+00  -1.26972999e+00\n",
        "   -1.41439573e+00  -6.06395479e-02]\n",
        " [  7.45071559e-01   8.41299322e-01   4.70146268e-01  -6.44984922e-02\n",
        "   -4.79025499e-01   7.89941996e-01   9.03842788e-01   8.54379609e-01\n",
        "    5.73651738e-01  -3.33758010e+00]\n",
        " [ -7.19379436e-01  -8.60582338e-01  -1.32146281e+00  -9.34530102e-01\n",
        "   -9.55244336e-01   3.91842841e-02   3.99715199e-01   5.29862865e-01\n",
        "    8.62772214e-03  -2.30361569e-01]\n",
        " [ -1.93975526e+00   1.58587255e+00   1.35216920e+00   3.38686888e-01\n",
        "    5.77585044e-01  -1.38725537e+00  -1.56078098e+00  -1.21072694e+00\n",
        "   -1.66551751e+00  -7.78694251e-01]\n",
        " [ -8.41417019e-01  -8.60582338e-01  -6.87508827e-01   1.14505765e+00\n",
        "    7.85930785e-01   1.36552291e+00   1.49199164e+00   1.59191766e+00\n",
        "    9.50334415e-01  -3.33758010e+00]\n",
        " [ -3.12587493e-01  -1.10877341e+00   6.07962351e-01   1.20871850e+00\n",
        "    8.30576301e-01   1.11527034e+00   6.79786081e-01   5.29862865e-01\n",
        "    8.03846707e-01   6.44359615e-01]\n",
        " [  6.23033976e-01   4.51284775e-01   7.73341650e-01  -2.34260757e-01\n",
        "   -3.59970790e-01  -1.33720485e+00  -1.30871719e+00  -6.79699544e-01\n",
        "   -1.37859986e-01   6.57415155e-01]\n",
        " [ -6.38021047e-01  -1.42787622e+00   5.80399134e-01   1.39970105e+00\n",
        "    8.15694463e-01   1.41557342e+00   1.26793494e+00   1.20839788e+00\n",
        "    6.78285815e-01   2.52693413e-01]\n",
        " [  9.42044499e-02   4.86740643e-01   1.39387670e-01  -5.52565005e-01\n",
        "   -1.38681766e+00  -9.36800742e-01  -9.72632127e-01  -9.74714766e-01\n",
        "   -5.98249924e-01   8.40192716e-01]\n",
        " [  9.07788336e-01   1.32181964e-01  -2.59916296e-02  -4.67683872e-01\n",
        "   -1.96270565e-01   7.89941996e-01   5.11743552e-01   3.52853732e-01\n",
        "    3.64383584e-01  -3.33758010e+00]\n",
        " [  2.56921227e-01   1.30222560e+00   8.28468083e-01  -6.16225854e-01\n",
        "   -1.11894456e+00  -9.86851256e-01  -1.05665339e+00  -1.38773608e+00\n",
        "   -4.09908586e-01  -8.41738767e-03]\n",
        " [  1.75562839e-01  -3.28744319e-01  -1.91370929e-01  -2.55481041e-01\n",
        "    7.16025307e-02   1.06521982e+00   1.75658492e-01   2.34847644e-01\n",
        "    9.08480784e-01   6.31304075e-01]\n",
        " [ -5.56662659e-01  -7.54214734e-01  -1.32146281e+00  -9.13309819e-01\n",
        "   -9.10598820e-01  -1.36223011e+00  -1.02864630e+00  -9.45213243e-01\n",
        "   -1.43532254e+00  -7.26472091e-01]\n",
        " [  8.26429947e-01  -5.41479527e-01  -4.67003094e-01  -1.31649520e+00\n",
        "   -1.41658133e+00  -1.13700280e+00  -8.04589598e-01  -6.79699544e-01\n",
        "   -1.60273706e+00  -2.95639269e-01]\n",
        " [  1.59933464e+00   1.16040213e+00   1.40729563e+00   1.67556473e+00\n",
        "    1.69372294e+00   1.34049765e+00   1.29594202e+00   1.50341310e+00\n",
        "    9.29407600e-01   7.35748396e-01]\n",
        " [  1.35525947e+00   1.12494627e+00   1.18678990e+00   1.54824303e+00\n",
        "    1.72348662e+00   1.29044714e+00   1.49199164e+00   1.68042223e+00\n",
        "    9.08480784e-01   5.13804215e-01]\n",
        " [  9.42044499e-02   6.64019982e-01  -6.59945610e-01  -1.40137633e+00\n",
        "   -1.28264479e+00  -1.61248268e+00  -1.05665339e+00  -6.01675781e-02\n",
        "    9.50334415e-01   4.09359894e-01]\n",
        " [ -4.75304270e-01  -7.54214734e-01  -3.84313445e-01  -2.76701324e-01\n",
        "   -2.40916081e-01  -4.86346114e-01  -2.16440744e-01   7.36373521e-01\n",
        "    8.66627154e-01   6.05192995e-01]\n",
        " [ -7.60058630e-01  -5.41479527e-01   1.57158691e-03  -8.37642756e-04\n",
        "   -3.45088951e-01   4.89638911e-01   1.09989241e+00   1.32640396e+00\n",
        "    5.52724923e-01   7.22692855e-01]\n",
        " [  2.97600421e-01   1.05403453e+00   1.66950886e-01   8.40434899e-02\n",
        "    3.99002981e-01  -9.61825999e-01  -4.40497450e-01  -7.09201066e-01\n",
        "   -1.26790802e+00  -8.41738767e-03]\n",
        " [  1.75562839e-01  -2.57832583e-01  -1.04583064e+00   4.87228870e-01\n",
        "    1.15797675e+00   6.64815711e-01  -3.28469097e-01   9.42884176e-01\n",
        "    7.20139446e-01   7.87970556e-01]\n",
        " [  1.84340980e+00   1.37313734e+00   1.48998528e+00   1.71800529e+00\n",
        "    1.78301397e+00   1.39054817e+00   1.40797038e+00   1.62141919e+00\n",
        "    9.50334415e-01   7.87970556e-01]\n",
        " [ -5.97341853e-01   2.74005435e-01  -3.01623795e-01   1.47704339e-01\n",
        "    3.99002981e-01   1.06521982e+00   3.15693934e-01   6.18367432e-01\n",
        "    4.89944476e-01   1.09082473e-01]\n",
        " [ -7.19379436e-01  -9.31494074e-01   5.66980200e-02  -1.28159342e-01\n",
        "    5.62703206e-01   3.89537883e-01   2.31672669e-01   4.70859821e-01\n",
        "    8.24773523e-01   7.74915016e-01]\n",
        " [  4.19638004e-01  -1.51464980e-01  -4.67003094e-01  -2.76701324e-01\n",
        "   -6.87371240e-01   8.92347982e-02  -1.32419479e-01   2.05346121e-01\n",
        "    5.31798107e-01   2.00471253e-01]\n",
        " [ -1.08549218e+00   4.86740643e-01  -4.39439878e-01   4.44788304e-01\n",
        "    2.50184594e-01  -7.36598685e-01  -4.96511627e-01  -9.74714766e-01\n",
        "   -1.22605439e+00  -9.48416272e-01]\n",
        " [ -1.20752977e+00   1.12494627e+00   1.57158691e-03  -1.21039378e+00\n",
        "   -6.87371240e-01  -1.43730588e+00  -1.02864630e+00  -5.61693455e-01\n",
        "    9.71261231e-01  -4.13139129e-01]\n",
        " [  1.39593867e+00   1.51496081e+00   1.15922668e+00  -4.04023023e-01\n",
        "   -8.95716981e-01  -3.86245086e-01  -6.36547068e-01  -1.12222238e+00\n",
        "   -1.41439573e+00   6.05192995e-01]\n",
        " [  2.56921227e-01   6.64019982e-01  -5.77255961e-01  -1.33771548e+00\n",
        "   -1.17847192e+00  -1.33720485e+00  -8.60603774e-01   2.05346121e-01\n",
        "    9.71261231e-01   3.83248814e-01]\n",
        " [ -6.85123272e-02  -7.89670602e-01   6.63088784e-01   1.37848076e+00\n",
        "    1.02404020e+00   1.31547239e+00   9.31849876e-01   1.00188722e+00\n",
        "    1.01311486e+00   6.70470695e-01]\n",
        " [ -8.00737824e-01  -4.70567791e-01  -7.70198476e-01  -1.69846030e+00\n",
        "   -1.72909995e+00  -6.36497657e-01  -1.14067466e+00  -1.18122542e+00\n",
        "   -1.20512757e+00  -5.04527910e-01]\n",
        " [  2.97600421e-01   2.58143600e-02  -2.46497362e-01  -5.95005571e-01\n",
        "   -8.51071465e-01   2.89436855e-01   4.83736463e-01   6.18367432e-01\n",
        "   -2.00640432e-01  -2.14729277e-02]\n",
        " [ -1.37024654e+00   5.57652379e-01   6.63088784e-01   5.08449153e-01\n",
        "    1.21750411e+00  -5.61421886e-01  -6.08539980e-01  -7.38702588e-01\n",
        "   -1.03771305e+00  -9.35360732e-01]\n",
        " [ -3.93945882e-01  -1.42787622e+00   8.83594516e-01   1.27237935e+00\n",
        "    6.51994238e-01   1.34049765e+00   1.37996329e+00   1.23789940e+00\n",
        "    9.50334415e-01   8.27137176e-01]\n",
        " [ -8.82096213e-01  -7.89670602e-01  -1.18364672e+00  -6.44984922e-02\n",
        "    8.30576301e-01   1.14029560e+00   2.31672669e-01   7.06871998e-01\n",
        "    3.01603138e-01   5.66026375e-01]\n",
        " [  7.85750753e-01  -1.35696449e+00  -1.32146281e+00  -5.95005571e-01\n",
        "   -6.57607563e-01   6.42095412e-02  -1.88433655e-01   2.05346121e-01\n",
        "    2.80676322e-01  -6.35083310e-01]\n",
        " [  7.04392364e-01   2.38549567e-01   4.97709485e-01  -4.04023023e-01\n",
        "   -1.02965353e+00  -1.08662300e-02  -1.04412391e-01  -2.96179756e-01\n",
        "   -2.21567247e-01   2.39637873e-01]\n",
        " [ -4.75304270e-01  -1.53424383e+00   3.32330185e-01   8.05533117e-01\n",
        "    8.60339979e-01   1.34049765e+00   1.46398455e+00   1.56241614e+00\n",
        "    8.87553969e-01   7.09637315e-01]\n",
        " [  1.84340980e+00   3.09461303e-01  -1.91370929e-01   2.32585472e-01\n",
        "    1.60893563e-01  -3.58914871e-02  -4.83982140e-02  -3.84684322e-01\n",
        "   -7.44737632e-01   6.70470695e-01]\n",
        " [ -8.00737824e-01   1.62132842e+00   1.43485885e+00   1.63312416e+00\n",
        "    1.39608617e+00   1.39285312e-01  -7.48575421e-01  -1.32873303e+00\n",
        "   -1.01678623e+00  -4.39250210e-01]\n",
        " [ -7.60058630e-01   1.16040213e+00   3.59893402e-01  -7.85988120e-01\n",
        "   -1.13382640e+00  -1.26212908e+00  -1.19668883e+00  -6.01675781e-02\n",
        "    9.29407600e-01  -1.38972788e-01]\n",
        " [ -1.90549910e-01  -2.06608185e+00  -2.92012937e+00  -1.57113860e+00\n",
        "   -1.28264479e+00  -1.28715434e+00  -1.33672428e+00  -1.24022847e+00\n",
        "   -1.39346891e+00  -8.96194111e-01]\n",
        " [  5.00996393e-01   1.47950494e+00   1.26947955e+00   1.35726048e+00\n",
        "    1.53002272e+00  -4.61320857e-01   7.61596260e-03  -1.48672145e-01\n",
        "   -1.01678623e+00  -3.45284678e-02]\n",
        " [  1.28460614e-02  -1.46333209e+00   6.90652001e-01   8.05533117e-01\n",
        "    1.26214962e+00   7.39891482e-01  -4.83982140e-02   5.88865910e-01\n",
        "    8.03846707e-01   6.70470695e-01]\n",
        " [  5.35252556e-02  -4.70567791e-01   8.28468083e-01   6.99431701e-01\n",
        "    9.94276526e-01   1.29044714e+00   1.26793494e+00   1.35590549e+00\n",
        "    7.61993077e-01   4.48526514e-01]\n",
        " [ -1.09191522e-01   6.12702279e-02  -7.70198476e-01  -1.70599908e-01\n",
        "   -3.89734467e-01  -8.11674456e-01  -4.96511627e-01  -7.97705633e-01\n",
        "   -1.49810299e+00  -6.35083310e-01]\n",
        " [ -6.85123272e-02  -1.07331755e+00  -6.32382394e-01   8.26753400e-01\n",
        "    5.18057690e-01   1.36552291e+00   1.37996329e+00   1.53291462e+00\n",
        "    9.29407600e-01   8.01026096e-01]\n",
        " [ -2.71908299e-01  -1.35696449e+00  -2.69962363e+00  -1.71968058e+00\n",
        "   -1.37193582e+00  -1.51238165e+00  -1.44875263e+00  -1.35823455e+00\n",
        "   -1.53995662e+00  -5.04527910e-01]\n",
        " [  1.31458028e+00  -7.54214734e-01  -1.01826743e+00  -6.79886704e-01\n",
        "   -2.80666255e-03   6.42095412e-02  -6.36547068e-01  -1.18122542e+00\n",
        "   -1.05863986e+00   7.22692855e-01]\n",
        " [ -4.34625076e-01  -3.64200187e-01  -5.22129527e-01  -1.29527492e+00\n",
        "   -1.41658133e+00  -2.36093544e-01  -5.80532891e-01  -8.27207155e-01\n",
        "   -1.07956668e+00  -3.21750349e-01]\n",
        " [ -4.34625076e-01   1.67637832e-01   2.49640536e-01  -6.44984922e-02\n",
        "   -3.59970790e-01   6.89840968e-01   9.31849876e-01   5.78385106e-02\n",
        "    1.34188615e-01   8.40192716e-01]\n",
        " [ -1.37024654e+00   8.76755190e-01   1.04897382e+00   5.72110002e-01\n",
        "   -3.15325274e-01   1.89335827e-01   6.79786081e-01   3.82355255e-01\n",
        "    7.61993077e-01  -3.33758010e+00]\n",
        " [ -1.89907607e+00   7.34931718e-01   4.70146268e-01  -1.16795322e+00\n",
        "   -1.38681766e+00  -1.86043030e-01  -1.60426567e-01  -6.50198022e-01\n",
        "    6.15505369e-01  -4.13139129e-01]\n",
        " [  2.04680578e+00  -1.51464980e-01  -6.87508827e-01  -3.82802740e-01\n",
        "   -9.99889852e-01  -6.11472400e-01  -1.02864630e+00  -1.09272085e+00\n",
        "   -1.12142031e+00   9.05470416e-01]]\n"
       ]
      }
     ],
     "prompt_number": 138
    },
    {
     "cell_type": "code",
     "collapsed": false,
     "input": [
      "print X,\"xtest\",Xtest"
     ],
     "language": "python",
     "metadata": {},
     "outputs": [
      {
       "output_type": "stream",
       "stream": "stdout",
       "text": [
        "[[299 278 233 ..., 193 192 271]\n",
        " [275 239 275 ..., 282 319 310]\n",
        " [304 289 281 ..., 219 266 274]\n",
        " ..., \n",
        " [255 313 269 ..., 195 326 241]\n",
        " [320 317 312 ..., 289 329 306]\n",
        " [320 314 306 ..., 286 320 295]] xtest [[309 270 167 195 119 195 228 186 209 251]\n",
        " [280 244 165 181 121 191 223 183 203 217]\n",
        " [272 290 252 269 240 294 286 250 300 264]\n",
        " [273 261 215 219 152 197 238 197 208 200]\n",
        " [246 306 229 204 124 227 270 223 327 224]\n",
        " [291 277 267 258 202 301 311 253 323 304]\n",
        " [289 262 200 207 170 195 241 210 208 262]\n",
        " [331 305 289 272 211 257 286 227 268 318]\n",
        " [312 294 274 246 158 200 233 192 203 281]\n",
        " [292 257 213 226 248 196 235 198 234 287]\n",
        " [326 315 314 341 327 305 321 280 321 312]\n",
        " [253 300 283 293 280 188 219 180 210 187]\n",
        " [313 309 272 240 158 214 249 212 282 304]\n",
        " [314 311 304 334 333 302 328 287 324 299]\n",
        " [335 322 313 342 333 306 324 285 322 317]\n",
        " [295 264 253 270 199 277 290 247 314 281]\n",
        " [271 242 284 328 268 308 320 270 309 275]\n",
        " [257 314 263 205 167 194 238 210 323 224]\n",
        " [262 290 274 273 209 288 309 267 290 321]\n",
        " [248 324 311 322 293 173 220 179 180 184]\n",
        " [261 248 210 216 175 206 241 195 193 189]\n",
        " [319 261 226 230 213 254 252 189 226 311]\n",
        " [272 282 252 262 266 290 285 259 312 313]\n",
        " [326 302 312 339 329 306 328 287 318 318]\n",
        " [332 330 324 345 344 308 334 290 326 318]\n",
        " [273 242 260 311 258 311 326 275 293 306]\n",
        " [265 281 271 274 211 293 315 269 293 315]\n",
        " [231 229 167 194 121 196 226 183 198 227]\n",
        " [308 275 276 298 280 280 298 258 299 290]\n",
        " [282 266 215 198 121 190 232 192 193 231]\n",
        " [300 293 252 223 209 252 266 208 251   0]\n",
        " [232 304 289 203  90 254 293 205 306 224]\n",
        " [298 281 272 294 240 302 324 280 311 314]\n",
        " [292 317 306 242 211 192 262 197 212 223]\n",
        " [278 251 230 207 128 206 245 196 212 225]\n",
        " [269 256 265 256 251 267 283 245 316 315]\n",
        " [337 278 238 244 146 227 238 192 223 325]\n",
        " [304 246 234 219 177 184 219 187 213 295]\n",
        " [273 262 240 275 214 255 297 243 291 318]\n",
        " [295 257 284 282 210 288 309 262 317 320]\n",
        " [252 312 240 209 109 212 242 208 325 268]\n",
        " [309 311 194 179 125 239 257 239 205 295]\n",
        " [242 290 252 223 166 208 230 198 326 233]\n",
        " [257 243 314 313 286 307 320 266 315 267]\n",
        " [288 316 286 295 240 242 265 229 308 292]\n",
        " [328 318 300 244 176 198 237 196 206 317]\n",
        " [324 293 311 336 329 307 329 287 318 316]\n",
        " [302 313 289 274 202 273 281 230 270 317]\n",
        " [276 263 223 223 147 217 247 203 235 203]\n",
        " [294 292 278 231 179 241 252 208 323 285]\n",
        " [310 310 258 220 155 235 244 201 268 277]\n",
        " [312 321 314 342 334 311 333 289 326 315]]\n"
       ]
      }
     ],
     "prompt_number": 129
    },
    {
     "cell_type": "code",
     "collapsed": false,
     "input": [
      "print choosetrain"
     ],
     "language": "python",
     "metadata": {},
     "outputs": [
      {
       "output_type": "stream",
       "stream": "stdout",
       "text": [
        "set([0, 1, 2, 3, 5, 6, 7, 8, 9, 10, 11, 12, 13, 14, 15, 16, 17, 18, 19, 21, 22, 23, 24, 25, 26, 27, 28, 30, 31, 32, 33, 34, 36, 37, 38, 40, 41, 42, 43, 44, 45, 46, 47, 48, 49, 50, 51, 52, 54, 56, 57, 58, 59, 61, 63, 64, 66, 68, 69, 70, 71, 72, 73, 75, 76, 77, 79, 80, 82, 84, 86, 87, 88, 90, 91, 93, 94, 95, 96, 97, 99, 100, 102, 103, 105, 106, 107, 108, 109, 111, 112, 113, 114, 117, 118, 119, 121, 122, 123, 124, 125, 126, 128, 129, 130, 131, 132, 133, 134, 135, 136, 137, 138, 139, 140, 141, 143, 144, 145, 148, 149, 150, 151, 152, 153, 154, 155, 157, 158, 159, 160, 161, 162, 164, 165, 166, 167, 168, 169, 170, 171, 173, 174, 175, 177, 180, 181, 182, 184, 185, 186, 188, 189, 190, 191, 192, 193, 194, 195, 196, 198, 199, 202, 203, 204, 205, 206, 207, 208, 209, 212, 213, 214, 215, 218, 219, 220, 221, 223, 224, 226, 227, 228, 229, 230, 231, 232, 233, 234, 235, 237, 239, 240, 241, 243, 244, 245, 246, 247, 248, 249, 250, 251, 252, 253, 254, 255, 257, 259, 260])\n"
       ]
      }
     ],
     "prompt_number": 130
    },
    {
     "cell_type": "code",
     "collapsed": false,
     "input": [
      "print choosetest"
     ],
     "language": "python",
     "metadata": {},
     "outputs": [
      {
       "output_type": "stream",
       "stream": "stdout",
       "text": [
        "[200 201 210  67 187 211 238  39   4 222 104 197 216 261 101  35  74  81\n",
        " 176  29  65  62 242 116 258  53 172 147 236  83 142 110 127  89  78 156\n",
        " 179 225 163  85 183 217 256  20  92 178 115  60 120  98  55 146]\n"
       ]
      }
     ],
     "prompt_number": 131
    },
    {
     "cell_type": "code",
     "collapsed": false,
     "input": [
      "print scaler2"
     ],
     "language": "python",
     "metadata": {},
     "outputs": [
      {
       "output_type": "stream",
       "stream": "stdout",
       "text": [
        "StandardScaler(copy=True, with_mean=True, with_std=True)\n"
       ]
      }
     ],
     "prompt_number": 132
    },
    {
     "cell_type": "code",
     "collapsed": false,
     "input": [
      "#%pylab inline\n",
      " \n",
      "from sklearn.naive_bayes import GaussianNB\n",
      "from sklearn.datasets import load_digits\n",
      "import sklearn.cross_validation\n",
      "#now using only traindata\n",
      "print(__doc__)\n",
      "\n",
      "import numpy as np\n",
      "import pylab as pl\n",
      "\n",
      "from sklearn.svm import SVC\n",
      "from sklearn.preprocessing import StandardScaler\n",
      "from sklearn.datasets import load_iris\n",
      "from sklearn.cross_validation import StratifiedKFold\n",
      "from sklearn.grid_search import GridSearchCV\n",
      "#loading the digits dataset\n",
      "digits = load_digits()\n",
      " \n",
      "#seperating data sets for cross validation\n",
      "data_train,data_test,target_train,target_test =cross_validation.train_test_split(Xfull,Yfull,test_size = 0.20)\n",
      "#cross_validation.train_test_split(digits.data,digits.target,test_size = 0.20, random_state = 42)\n",
      " \n",
      "#assigning the Gaussian Naive Bayes Model\n",
      "#clf = GaussianNB()\n",
      " \n",
      "#compute the error\n",
      "def compute_error(x, y, model):\n",
      "    yfit = model.predict(x)\n",
      "    return 1-np.mean(yfit ==y)\n",
      "     \n",
      " \n",
      "def drawLearningCurve(model):\n",
      "    sizes = np.linspace(6, data_train.shape[0], (data_train.shape[0]-4)).astype(int)\n",
      "    train_error = np.zeros(sizes.shape)\n",
      "    crossval_error = np.zeros(sizes.shape)\n",
      "     \n",
      "    for i,size in enumerate(sizes):\n",
      "        model,scaler= bestforthisno(data_train[:size,:],target_train[:size])\n",
      "        data_train2=scaler.transform(data_train[:size,:])\n",
      "        data_test2=scaler.transform(data_test)\n",
      "        #getting the predicted results of the GaussianNB\n",
      "        model.fit(data_train2,target_train[:size])\n",
      "        predicted = model.predict(data_train2)\n",
      "         \n",
      "        #compute the validation error\n",
      "        crossval_error[i] = compute_error(data_test2,target_test,model)\n",
      "         \n",
      "        #compute the training error\n",
      "        train_error[i] = compute_error(data_train2[:size,:],target_train[:size],model)\n",
      "        #if i<15:\n",
      "        #    print data_train2.shape\n",
      "        print i,size,crossval_error[i], train_error[i]\n",
      "    #draw the plot\n",
      "    fig,ax = plt.subplots()\n",
      "    ax.plot(sizes,crossval_error,lw = 2, label='validation error')\n",
      "    ax.plot(sizes,train_error, lw = 2, label='training error')\n",
      "    ax.set_xlabel('no of samples')\n",
      "    ax.set_ylabel('error')\n",
      "     \n",
      "    ax.legend(loc = 0)\n",
      "    ax.set_xlim(0,data_train.shape[0])\n",
      "    ax.set_title('Learning Curve' )\n",
      "    print sizes.shape\n",
      "    print sizes\n",
      "drawLearningCurve(clf)"
     ],
     "language": "python",
     "metadata": {},
     "outputs": [
      {
       "output_type": "stream",
       "stream": "stdout",
       "text": [
        "prediction node\n",
        "0"
       ]
      },
      {
       "output_type": "stream",
       "stream": "stdout",
       "text": [
        " 6"
       ]
      },
      {
       "output_type": "stream",
       "stream": "stdout",
       "text": [
        " 0.810810810811 0.333333333333\n",
        "1"
       ]
      },
      {
       "output_type": "stream",
       "stream": "stdout",
       "text": [
        " 6 0.810810810811 0.333333333333\n",
        "2"
       ]
      },
      {
       "output_type": "stream",
       "stream": "stdout",
       "text": [
        " 7 0.918918918919 0.571428571429\n",
        "3"
       ]
      },
      {
       "output_type": "stream",
       "stream": "stdout",
       "text": [
        " 8 0.459459459459 0.0\n",
        "4"
       ]
      },
      {
       "output_type": "stream",
       "stream": "stdout",
       "text": [
        " 9 0.486486486486 0.0\n",
        "5"
       ]
      },
      {
       "output_type": "stream",
       "stream": "stdout",
       "text": [
        " 10 0.810810810811 0.2\n",
        "6"
       ]
      },
      {
       "output_type": "stream",
       "stream": "stdout",
       "text": [
        " 11 0.77027027027 0.0\n",
        "7"
       ]
      },
      {
       "output_type": "stream",
       "stream": "stdout",
       "text": [
        " 12 0.77027027027 0.0\n",
        "8"
       ]
      },
      {
       "output_type": "stream",
       "stream": "stdout",
       "text": [
        " 13 0.72972972973 0.0769230769231\n",
        "9"
       ]
      },
      {
       "output_type": "stream",
       "stream": "stdout",
       "text": [
        " 14 0.743243243243 0.142857142857\n",
        "10"
       ]
      },
      {
       "output_type": "stream",
       "stream": "stdout",
       "text": [
        " 15 0.743243243243 0.2\n",
        "11"
       ]
      },
      {
       "output_type": "stream",
       "stream": "stdout",
       "text": [
        " 16 0.743243243243 0.1875\n",
        "12"
       ]
      },
      {
       "output_type": "stream",
       "stream": "stdout",
       "text": [
        " 17 0.594594594595 0.117647058824\n",
        "13"
       ]
      },
      {
       "output_type": "stream",
       "stream": "stdout",
       "text": [
        " 18 0.621621621622 0.166666666667\n",
        "14"
       ]
      },
      {
       "output_type": "stream",
       "stream": "stdout",
       "text": [
        " 19 0.648648648649 0.210526315789\n",
        "15"
       ]
      },
      {
       "output_type": "stream",
       "stream": "stdout",
       "text": [
        " 20 0.608108108108 0.15\n",
        "16"
       ]
      },
      {
       "output_type": "stream",
       "stream": "stdout",
       "text": [
        " 21 0.648648648649 0.238095238095\n",
        "17"
       ]
      },
      {
       "output_type": "stream",
       "stream": "stdout",
       "text": [
        " 22 0.648648648649 0.227272727273\n",
        "18"
       ]
      },
      {
       "output_type": "stream",
       "stream": "stdout",
       "text": [
        " 23 0.554054054054 0.0869565217391\n",
        "19"
       ]
      },
      {
       "output_type": "stream",
       "stream": "stdout",
       "text": [
        " 24 0.445945945946 0.0416666666667\n",
        "20"
       ]
      },
      {
       "output_type": "stream",
       "stream": "stdout",
       "text": [
        " 25 0.459459459459 0.04\n",
        "21"
       ]
      },
      {
       "output_type": "stream",
       "stream": "stdout",
       "text": [
        " 26 0.445945945946 0.0\n",
        "22"
       ]
      },
      {
       "output_type": "stream",
       "stream": "stdout",
       "text": [
        " 27 0.337837837838 0.0\n",
        "23"
       ]
      },
      {
       "output_type": "stream",
       "stream": "stdout",
       "text": [
        " 28 0.351351351351 0.0\n",
        "24"
       ]
      },
      {
       "output_type": "stream",
       "stream": "stdout",
       "text": [
        " 29 0.445945945946 0.137931034483\n",
        "25"
       ]
      },
      {
       "output_type": "stream",
       "stream": "stdout",
       "text": [
        " 30 0.337837837838 0.0666666666667\n",
        "26"
       ]
      },
      {
       "output_type": "stream",
       "stream": "stdout",
       "text": [
        " 31 0.472972972973 0.0967741935484\n",
        "27"
       ]
      },
      {
       "output_type": "stream",
       "stream": "stdout",
       "text": [
        " 32 0.378378378378 0.0\n",
        "28"
       ]
      },
      {
       "output_type": "stream",
       "stream": "stdout",
       "text": [
        " 33 0.378378378378 0.0606060606061\n",
        "29"
       ]
      },
      {
       "output_type": "stream",
       "stream": "stdout",
       "text": [
        " 34 0.378378378378 0.0294117647059\n",
        "30"
       ]
      },
      {
       "output_type": "stream",
       "stream": "stdout",
       "text": [
        " 35 0.364864864865 0.0\n",
        "31"
       ]
      },
      {
       "output_type": "stream",
       "stream": "stdout",
       "text": [
        " 36 0.405405405405 0.0\n",
        "32"
       ]
      },
      {
       "output_type": "stream",
       "stream": "stdout",
       "text": [
        " 37 0.405405405405 0.0540540540541\n",
        "33"
       ]
      },
      {
       "output_type": "stream",
       "stream": "stdout",
       "text": [
        " 38 0.405405405405 0.0263157894737\n",
        "34"
       ]
      },
      {
       "output_type": "stream",
       "stream": "stdout",
       "text": [
        " 39 0.364864864865 0.025641025641\n",
        "35"
       ]
      },
      {
       "output_type": "stream",
       "stream": "stdout",
       "text": [
        " 40 0.364864864865 0.025\n",
        "36"
       ]
      },
      {
       "output_type": "stream",
       "stream": "stdout",
       "text": [
        " 41 0.418918918919 0.121951219512\n",
        "37"
       ]
      },
      {
       "output_type": "stream",
       "stream": "stdout",
       "text": [
        " 42 0.378378378378 0.0\n",
        "38"
       ]
      },
      {
       "output_type": "stream",
       "stream": "stdout",
       "text": [
        " 43 0.324324324324 0.0\n",
        "39"
       ]
      },
      {
       "output_type": "stream",
       "stream": "stdout",
       "text": [
        " 44 0.337837837838 0.0454545454545\n",
        "40"
       ]
      },
      {
       "output_type": "stream",
       "stream": "stdout",
       "text": [
        " 45 0.337837837838 0.0444444444444\n",
        "41"
       ]
      },
      {
       "output_type": "stream",
       "stream": "stdout",
       "text": [
        " 46 0.310810810811 0.0217391304348\n",
        "42"
       ]
      },
      {
       "output_type": "stream",
       "stream": "stdout",
       "text": [
        " 47 0.297297297297 0.0\n",
        "43"
       ]
      },
      {
       "output_type": "stream",
       "stream": "stdout",
       "text": [
        " 48 0.324324324324 0.0208333333333\n",
        "44"
       ]
      },
      {
       "output_type": "stream",
       "stream": "stdout",
       "text": [
        " 49 0.324324324324 0.0\n",
        "45"
       ]
      },
      {
       "output_type": "stream",
       "stream": "stdout",
       "text": [
        " 50 0.283783783784 0.04\n",
        "46"
       ]
      },
      {
       "output_type": "stream",
       "stream": "stdout",
       "text": [
        " 51 0.310810810811 0.0392156862745\n",
        "47"
       ]
      },
      {
       "output_type": "stream",
       "stream": "stdout",
       "text": [
        " 52 0.337837837838 0.0384615384615\n",
        "48"
       ]
      },
      {
       "output_type": "stream",
       "stream": "stdout",
       "text": [
        " 53 0.283783783784 0.0566037735849\n",
        "49"
       ]
      },
      {
       "output_type": "stream",
       "stream": "stdout",
       "text": [
        " 54 0.283783783784 0.0555555555556\n",
        "50"
       ]
      },
      {
       "output_type": "stream",
       "stream": "stdout",
       "text": [
        " 55 0.297297297297 0.0181818181818\n",
        "51"
       ]
      },
      {
       "output_type": "stream",
       "stream": "stdout",
       "text": [
        " 56 0.324324324324 0.0357142857143\n",
        "52"
       ]
      },
      {
       "output_type": "stream",
       "stream": "stdout",
       "text": [
        " 57 0.324324324324 0.0350877192982\n",
        "53"
       ]
      },
      {
       "output_type": "stream",
       "stream": "stdout",
       "text": [
        " 58 0.283783783784 0.051724137931\n",
        "54"
       ]
      },
      {
       "output_type": "stream",
       "stream": "stdout",
       "text": [
        " 59 0.310810810811 0.0338983050847\n",
        "55"
       ]
      },
      {
       "output_type": "stream",
       "stream": "stdout",
       "text": [
        " 60 0.310810810811 0.0333333333333\n",
        "56"
       ]
      },
      {
       "output_type": "stream",
       "stream": "stdout",
       "text": [
        " 61 0.310810810811 0.0327868852459\n",
        "57"
       ]
      },
      {
       "output_type": "stream",
       "stream": "stdout",
       "text": [
        " 62 0.324324324324 0.0806451612903\n",
        "58"
       ]
      },
      {
       "output_type": "stream",
       "stream": "stdout",
       "text": [
        " 63 0.324324324324 0.0793650793651\n",
        "59"
       ]
      },
      {
       "output_type": "stream",
       "stream": "stdout",
       "text": [
        " 64 0.27027027027 0.046875\n",
        "60"
       ]
      },
      {
       "output_type": "stream",
       "stream": "stdout",
       "text": [
        " 65 0.283783783784 0.0769230769231\n",
        "61"
       ]
      },
      {
       "output_type": "stream",
       "stream": "stdout",
       "text": [
        " 66 0.324324324324 0.030303030303\n",
        "62"
       ]
      },
      {
       "output_type": "stream",
       "stream": "stdout",
       "text": [
        " 67 0.324324324324 0.0746268656716\n",
        "63"
       ]
      },
      {
       "output_type": "stream",
       "stream": "stdout",
       "text": [
        " 68 0.310810810811 0.0294117647059\n",
        "64"
       ]
      },
      {
       "output_type": "stream",
       "stream": "stdout",
       "text": [
        " 69 0.297297297297 0.0869565217391\n",
        "65"
       ]
      },
      {
       "output_type": "stream",
       "stream": "stdout",
       "text": [
        " 70 0.337837837838 0.0571428571429\n",
        "66"
       ]
      },
      {
       "output_type": "stream",
       "stream": "stdout",
       "text": [
        " 71 0.337837837838 0.0140845070423\n",
        "67"
       ]
      },
      {
       "output_type": "stream",
       "stream": "stdout",
       "text": [
        " 72 0.310810810811 0.125\n",
        "68"
       ]
      },
      {
       "output_type": "stream",
       "stream": "stdout",
       "text": [
        " 73 0.310810810811 0.027397260274\n",
        "69"
       ]
      },
      {
       "output_type": "stream",
       "stream": "stdout",
       "text": [
        " 74 0.364864864865 0.027027027027\n",
        "70"
       ]
      },
      {
       "output_type": "stream",
       "stream": "stdout",
       "text": [
        " 75 0.364864864865 0.0\n",
        "71"
       ]
      },
      {
       "output_type": "stream",
       "stream": "stdout",
       "text": [
        " 76 0.297297297297 0.171052631579\n",
        "72"
       ]
      },
      {
       "output_type": "stream",
       "stream": "stdout",
       "text": [
        " 77 0.351351351351 0.0779220779221\n",
        "73"
       ]
      },
      {
       "output_type": "stream",
       "stream": "stdout",
       "text": [
        " 78 0.310810810811 0.102564102564\n",
        "74"
       ]
      },
      {
       "output_type": "stream",
       "stream": "stdout",
       "text": [
        " 79 0.310810810811 0.113924050633\n",
        "75"
       ]
      },
      {
       "output_type": "stream",
       "stream": "stdout",
       "text": [
        " 80 0.324324324324 0.075\n",
        "76"
       ]
      },
      {
       "output_type": "stream",
       "stream": "stdout",
       "text": [
        " 81 0.324324324324 0.0740740740741\n",
        "77"
       ]
      },
      {
       "output_type": "stream",
       "stream": "stdout",
       "text": [
        " 82 0.297297297297 0.0975609756098\n",
        "78"
       ]
      },
      {
       "output_type": "stream",
       "stream": "stdout",
       "text": [
        " 83 0.310810810811 0.180722891566\n",
        "79"
       ]
      },
      {
       "output_type": "stream",
       "stream": "stdout",
       "text": [
        " 84 0.283783783784 0.130952380952\n",
        "80"
       ]
      },
      {
       "output_type": "stream",
       "stream": "stdout",
       "text": [
        " 85 0.297297297297 0.164705882353\n",
        "81"
       ]
      },
      {
       "output_type": "stream",
       "stream": "stdout",
       "text": [
        " 86 0.310810810811 0.162790697674\n",
        "82"
       ]
      },
      {
       "output_type": "stream",
       "stream": "stdout",
       "text": [
        " 87 0.297297297297 0.137931034483\n",
        "83"
       ]
      },
      {
       "output_type": "stream",
       "stream": "stdout",
       "text": [
        " 88 0.297297297297 0.193181818182\n",
        "84"
       ]
      },
      {
       "output_type": "stream",
       "stream": "stdout",
       "text": [
        " 89 0.297297297297 0.112359550562\n",
        "85"
       ]
      },
      {
       "output_type": "stream",
       "stream": "stdout",
       "text": [
        " 90 0.337837837838 0.133333333333\n",
        "86"
       ]
      },
      {
       "output_type": "stream",
       "stream": "stdout",
       "text": [
        " 91 0.297297297297 0.175824175824\n",
        "87"
       ]
      },
      {
       "output_type": "stream",
       "stream": "stdout",
       "text": [
        " 92 0.310810810811 0.173913043478\n",
        "88"
       ]
      },
      {
       "output_type": "stream",
       "stream": "stdout",
       "text": [
        " 93 0.297297297297 0.172043010753\n",
        "89"
       ]
      },
      {
       "output_type": "stream",
       "stream": "stdout",
       "text": [
        " 94 0.27027027027 0.0744680851064\n",
        "90"
       ]
      },
      {
       "output_type": "stream",
       "stream": "stdout",
       "text": [
        " 95 0.324324324324 0.168421052632\n",
        "91"
       ]
      },
      {
       "output_type": "stream",
       "stream": "stdout",
       "text": [
        " 96 0.324324324324 0.125\n",
        "92"
       ]
      },
      {
       "output_type": "stream",
       "stream": "stdout",
       "text": [
        " 97 0.283783783784 0.0824742268041\n",
        "93"
       ]
      },
      {
       "output_type": "stream",
       "stream": "stdout",
       "text": [
        " 98 0.337837837838 0.15306122449\n",
        "94"
       ]
      },
      {
       "output_type": "stream",
       "stream": "stdout",
       "text": [
        " 99 0.27027027027 0.0707070707071\n",
        "95"
       ]
      },
      {
       "output_type": "stream",
       "stream": "stdout",
       "text": [
        " 100 0.351351351351 0.17\n",
        "96"
       ]
      },
      {
       "output_type": "stream",
       "stream": "stdout",
       "text": [
        " 101 0.337837837838 0.178217821782\n",
        "97"
       ]
      },
      {
       "output_type": "stream",
       "stream": "stdout",
       "text": [
        " 102 0.324324324324 0.147058823529\n",
        "98"
       ]
      },
      {
       "output_type": "stream",
       "stream": "stdout",
       "text": [
        " 103 0.310810810811 0.0485436893204\n",
        "99"
       ]
      },
      {
       "output_type": "stream",
       "stream": "stdout",
       "text": [
        " 104 0.297297297297 0.00961538461538\n",
        "100"
       ]
      },
      {
       "output_type": "stream",
       "stream": "stdout",
       "text": [
        " 105 0.324324324324 0.180952380952\n",
        "101"
       ]
      },
      {
       "output_type": "stream",
       "stream": "stdout",
       "text": [
        " 106 0.337837837838 0.122641509434\n",
        "102"
       ]
      },
      {
       "output_type": "stream",
       "stream": "stdout",
       "text": [
        " 107 0.324324324324 0.18691588785\n",
        "103"
       ]
      },
      {
       "output_type": "stream",
       "stream": "stdout",
       "text": [
        " 108 0.27027027027 0.0555555555556\n",
        "104"
       ]
      },
      {
       "output_type": "stream",
       "stream": "stdout",
       "text": [
        " 109 0.324324324324 0.0917431192661\n",
        "105"
       ]
      },
      {
       "output_type": "stream",
       "stream": "stdout",
       "text": [
        " 110 0.324324324324 0.0818181818182\n",
        "106"
       ]
      },
      {
       "output_type": "stream",
       "stream": "stdout",
       "text": [
        " 111 0.324324324324 0.198198198198\n",
        "107"
       ]
      },
      {
       "output_type": "stream",
       "stream": "stdout",
       "text": [
        " 112 0.324324324324 0.196428571429\n",
        "108"
       ]
      },
      {
       "output_type": "stream",
       "stream": "stdout",
       "text": [
        " 113 0.324324324324 0.0884955752212\n",
        "109"
       ]
      },
      {
       "output_type": "stream",
       "stream": "stdout",
       "text": [
        " 114 0.297297297297 0.122807017544\n",
        "110"
       ]
      },
      {
       "output_type": "stream",
       "stream": "stdout",
       "text": [
        " 115 0.324324324324 0.2\n",
        "111"
       ]
      },
      {
       "output_type": "stream",
       "stream": "stdout",
       "text": [
        " 116 0.337837837838 0.137931034483\n",
        "112"
       ]
      },
      {
       "output_type": "stream",
       "stream": "stdout",
       "text": [
        " 117 0.337837837838 0.196581196581\n",
        "113"
       ]
      },
      {
       "output_type": "stream",
       "stream": "stdout",
       "text": [
        " 118 0.324324324324 0.177966101695\n",
        "114"
       ]
      },
      {
       "output_type": "stream",
       "stream": "stdout",
       "text": [
        " 119 0.324324324324 0.176470588235\n",
        "115"
       ]
      },
      {
       "output_type": "stream",
       "stream": "stdout",
       "text": [
        " 120 0.310810810811 0.116666666667\n",
        "116"
       ]
      },
      {
       "output_type": "stream",
       "stream": "stdout",
       "text": [
        " 121 0.324324324324 0.107438016529\n",
        "117"
       ]
      },
      {
       "output_type": "stream",
       "stream": "stdout",
       "text": [
        " 122 0.324324324324 0.0737704918033\n",
        "118"
       ]
      },
      {
       "output_type": "stream",
       "stream": "stdout",
       "text": [
        " 123 0.297297297297 0.0\n",
        "119"
       ]
      },
      {
       "output_type": "stream",
       "stream": "stdout",
       "text": [
        " 124 0.337837837838 0.120967741935\n",
        "120"
       ]
      },
      {
       "output_type": "stream",
       "stream": "stdout",
       "text": [
        " 125 0.337837837838 0.184\n",
        "121"
       ]
      },
      {
       "output_type": "stream",
       "stream": "stdout",
       "text": [
        " 126 0.337837837838 0.134920634921\n",
        "122"
       ]
      },
      {
       "output_type": "stream",
       "stream": "stdout",
       "text": [
        " 127 0.337837837838 0.181102362205\n",
        "123"
       ]
      },
      {
       "output_type": "stream",
       "stream": "stdout",
       "text": [
        " 128 0.310810810811 0.09375\n",
        "124"
       ]
      },
      {
       "output_type": "stream",
       "stream": "stdout",
       "text": [
        " 129 0.297297297297 0.124031007752\n",
        "125"
       ]
      },
      {
       "output_type": "stream",
       "stream": "stdout",
       "text": [
        " 130 0.324324324324 0.246153846154\n",
        "126"
       ]
      },
      {
       "output_type": "stream",
       "stream": "stdout",
       "text": [
        " 131 0.324324324324 0.0687022900763\n",
        "127"
       ]
      },
      {
       "output_type": "stream",
       "stream": "stdout",
       "text": [
        " 132 0.324324324324 0.128787878788\n",
        "128"
       ]
      },
      {
       "output_type": "stream",
       "stream": "stdout",
       "text": [
        " 133 0.324324324324 0.105263157895\n",
        "129"
       ]
      },
      {
       "output_type": "stream",
       "stream": "stdout",
       "text": [
        " 134 0.297297297297 0.0223880597015\n",
        "130"
       ]
      },
      {
       "output_type": "stream",
       "stream": "stdout",
       "text": [
        " 135 0.283783783784 0.0592592592593\n",
        "131"
       ]
      },
      {
       "output_type": "stream",
       "stream": "stdout",
       "text": [
        " 136 0.364864864865 0.147058823529\n",
        "132"
       ]
      },
      {
       "output_type": "stream",
       "stream": "stdout",
       "text": [
        " 137 0.310810810811 0.124087591241\n",
        "133"
       ]
      },
      {
       "output_type": "stream",
       "stream": "stdout",
       "text": [
        " 138 0.310810810811 0.123188405797\n",
        "134"
       ]
      },
      {
       "output_type": "stream",
       "stream": "stdout",
       "text": [
        " 139 0.351351351351 0.122302158273\n",
        "135"
       ]
      },
      {
       "output_type": "stream",
       "stream": "stdout",
       "text": [
        " 140 0.256756756757 0.0571428571429\n",
        "136"
       ]
      },
      {
       "output_type": "stream",
       "stream": "stdout",
       "text": [
        " 141 0.324324324324 0.177304964539\n",
        "137"
       ]
      },
      {
       "output_type": "stream",
       "stream": "stdout",
       "text": [
        " 142 0.324324324324 0.19014084507\n",
        "138"
       ]
      },
      {
       "output_type": "stream",
       "stream": "stdout",
       "text": [
        " 143 0.337837837838 0.132867132867\n",
        "139"
       ]
      },
      {
       "output_type": "stream",
       "stream": "stdout",
       "text": [
        " 144 0.297297297297 0.0972222222222\n",
        "140"
       ]
      },
      {
       "output_type": "stream",
       "stream": "stdout",
       "text": [
        " 145 0.283783783784 0.00689655172414\n",
        "141"
       ]
      },
      {
       "output_type": "stream",
       "stream": "stdout",
       "text": [
        " 146 0.310810810811 0.0958904109589\n",
        "142"
       ]
      },
      {
       "output_type": "stream",
       "stream": "stdout",
       "text": [
        " 147 0.310810810811 0.0952380952381\n",
        "143"
       ]
      },
      {
       "output_type": "stream",
       "stream": "stdout",
       "text": [
        " 148 0.351351351351 0.222972972973\n",
        "144"
       ]
      },
      {
       "output_type": "stream",
       "stream": "stdout",
       "text": [
        " 149 0.297297297297 0.0738255033557\n",
        "145"
       ]
      },
      {
       "output_type": "stream",
       "stream": "stdout",
       "text": [
        " 150 0.324324324324 0.106666666667\n",
        "146"
       ]
      },
      {
       "output_type": "stream",
       "stream": "stdout",
       "text": [
        " 151 0.310810810811 0.0993377483444\n",
        "147"
       ]
      },
      {
       "output_type": "stream",
       "stream": "stdout",
       "text": [
        " 152 0.310810810811 0.0855263157895\n",
        "148"
       ]
      },
      {
       "output_type": "stream",
       "stream": "stdout",
       "text": [
        " 153 0.351351351351 0.169934640523\n",
        "149"
       ]
      },
      {
       "output_type": "stream",
       "stream": "stdout",
       "text": [
        " 154 0.297297297297 0.116883116883\n",
        "150"
       ]
      },
      {
       "output_type": "stream",
       "stream": "stdout",
       "text": [
        " 155 0.27027027027 0.0774193548387\n",
        "151"
       ]
      },
      {
       "output_type": "stream",
       "stream": "stdout",
       "text": [
        " 156 0.310810810811 0.102564102564\n",
        "152"
       ]
      },
      {
       "output_type": "stream",
       "stream": "stdout",
       "text": [
        " 157 0.310810810811 0.133757961783\n",
        "153"
       ]
      },
      {
       "output_type": "stream",
       "stream": "stdout",
       "text": [
        " 158 0.283783783784 0.0632911392405\n",
        "154"
       ]
      },
      {
       "output_type": "stream",
       "stream": "stdout",
       "text": [
        " 159 0.297297297297 0.0566037735849\n",
        "155"
       ]
      },
      {
       "output_type": "stream",
       "stream": "stdout",
       "text": [
        " 160 0.310810810811 0.14375\n",
        "156"
       ]
      },
      {
       "output_type": "stream",
       "stream": "stdout",
       "text": [
        " 161 0.310810810811 0.149068322981\n",
        "157"
       ]
      },
      {
       "output_type": "stream",
       "stream": "stdout",
       "text": [
        " 162 0.297297297297 0.0555555555556\n",
        "158"
       ]
      },
      {
       "output_type": "stream",
       "stream": "stdout",
       "text": [
        " 163 0.310810810811 0.147239263804\n",
        "159"
       ]
      },
      {
       "output_type": "stream",
       "stream": "stdout",
       "text": [
        " 164 0.297297297297 0.219512195122\n",
        "160"
       ]
      },
      {
       "output_type": "stream",
       "stream": "stdout",
       "text": [
        " 165 0.297297297297 0.115151515152\n",
        "161"
       ]
      },
      {
       "output_type": "stream",
       "stream": "stdout",
       "text": [
        " 166 0.351351351351 0.156626506024\n",
        "162"
       ]
      },
      {
       "output_type": "stream",
       "stream": "stdout",
       "text": [
        " 167 0.27027027027 0.0179640718563\n",
        "163"
       ]
      },
      {
       "output_type": "stream",
       "stream": "stdout",
       "text": [
        " 168 0.283783783784 0.0654761904762\n",
        "164"
       ]
      },
      {
       "output_type": "stream",
       "stream": "stdout",
       "text": [
        " 169 0.297297297297 0.213017751479\n",
        "165"
       ]
      },
      {
       "output_type": "stream",
       "stream": "stdout",
       "text": [
        " 170 0.297297297297 0.258823529412\n",
        "166"
       ]
      },
      {
       "output_type": "stream",
       "stream": "stdout",
       "text": [
        " 171 0.297297297297 0.146198830409\n",
        "167"
       ]
      },
      {
       "output_type": "stream",
       "stream": "stdout",
       "text": [
        " 172 0.297297297297 0.139534883721\n",
        "168"
       ]
      },
      {
       "output_type": "stream",
       "stream": "stdout",
       "text": [
        " 173 0.27027027027 0.0231213872832\n",
        "169"
       ]
      },
      {
       "output_type": "stream",
       "stream": "stdout",
       "text": [
        " 174 0.283783783784 0.0574712643678\n",
        "170"
       ]
      },
      {
       "output_type": "stream",
       "stream": "stdout",
       "text": [
        " 175 0.283783783784 0.04\n",
        "171"
       ]
      },
      {
       "output_type": "stream",
       "stream": "stdout",
       "text": [
        " 176 0.297297297297 0.136363636364\n",
        "172"
       ]
      },
      {
       "output_type": "stream",
       "stream": "stdout",
       "text": [
        " 177 0.256756756757 0.0225988700565\n",
        "173"
       ]
      },
      {
       "output_type": "stream",
       "stream": "stdout",
       "text": [
        " 178 0.256756756757 0.0112359550562\n",
        "174"
       ]
      },
      {
       "output_type": "stream",
       "stream": "stdout",
       "text": [
        " 179 0.337837837838 0.22905027933\n",
        "175"
       ]
      },
      {
       "output_type": "stream",
       "stream": "stdout",
       "text": [
        " 180 0.283783783784 0.1\n",
        "176"
       ]
      },
      {
       "output_type": "stream",
       "stream": "stdout",
       "text": [
        " 181 0.364864864865 0.104972375691\n",
        "177"
       ]
      },
      {
       "output_type": "stream",
       "stream": "stdout",
       "text": [
        " 182 0.297297297297 0.0604395604396\n",
        "178"
       ]
      },
      {
       "output_type": "stream",
       "stream": "stdout",
       "text": [
        " 183 0.256756756757 0.0218579234973\n",
        "179"
       ]
      },
      {
       "output_type": "stream",
       "stream": "stdout",
       "text": [
        " 184 0.297297297297 0.103260869565\n",
        "180"
       ]
      },
      {
       "output_type": "stream",
       "stream": "stdout",
       "text": [
        " 185 0.297297297297 0.0378378378378\n",
        "181"
       ]
      },
      {
       "output_type": "stream",
       "stream": "stdout",
       "text": [
        " 186 0.337837837838 0.172043010753\n",
        "182"
       ]
      },
      {
       "output_type": "stream",
       "stream": "stdout",
       "text": [
        " 187 0.337837837838 0.171122994652\n",
        "183"
       ]
      },
      {
       "output_type": "stream",
       "stream": "stdout",
       "text": [
        " 188 0.297297297297 0.11170212766\n",
        "184"
       ]
      },
      {
       "output_type": "stream",
       "stream": "stdout",
       "text": [
        " 189 0.351351351351 0.10582010582\n",
        "185"
       ]
      },
      {
       "output_type": "stream",
       "stream": "stdout",
       "text": [
        " 190 0.351351351351 0.173684210526\n",
        "186"
       ]
      },
      {
       "output_type": "stream",
       "stream": "stdout",
       "text": [
        " 191 0.351351351351 0.17277486911\n",
        "187"
       ]
      },
      {
       "output_type": "stream",
       "stream": "stdout",
       "text": [
        " 192 0.324324324324 0.119791666667\n",
        "188"
       ]
      },
      {
       "output_type": "stream",
       "stream": "stdout",
       "text": [
        " 193 0.337837837838 0.160621761658\n",
        "189"
       ]
      },
      {
       "output_type": "stream",
       "stream": "stdout",
       "text": [
        " 194 0.324324324324 0.118556701031\n",
        "190"
       ]
      },
      {
       "output_type": "stream",
       "stream": "stdout",
       "text": [
        " 195 0.283783783784 0.0871794871795\n",
        "191"
       ]
      },
      {
       "output_type": "stream",
       "stream": "stdout",
       "text": [
        " 196 0.297297297297 0.0867346938776\n",
        "192"
       ]
      },
      {
       "output_type": "stream",
       "stream": "stdout",
       "text": [
        " 197 0.351351351351 0.126903553299\n",
        "193"
       ]
      },
      {
       "output_type": "stream",
       "stream": "stdout",
       "text": [
        " 198 0.297297297297 0.0858585858586\n",
        "194"
       ]
      },
      {
       "output_type": "stream",
       "stream": "stdout",
       "text": [
        " 199 0.297297297297 0.0402010050251\n",
        "195"
       ]
      },
      {
       "output_type": "stream",
       "stream": "stdout",
       "text": [
        " 200 0.337837837838 0.17\n",
        "196"
       ]
      },
      {
       "output_type": "stream",
       "stream": "stdout",
       "text": [
        " 201 0.337837837838 0.1592039801\n",
        "197"
       ]
      },
      {
       "output_type": "stream",
       "stream": "stdout",
       "text": [
        " 202 0.283783783784 0.00990099009901\n",
        "198"
       ]
      },
      {
       "output_type": "stream",
       "stream": "stdout",
       "text": [
        " 203 0.310810810811 0.206896551724\n",
        "199"
       ]
      },
      {
       "output_type": "stream",
       "stream": "stdout",
       "text": [
        " 204 0.283783783784 0.00980392156863\n",
        "200"
       ]
      },
      {
       "output_type": "stream",
       "stream": "stdout",
       "text": [
        " 205 0.324324324324 0.0926829268293\n",
        "201"
       ]
      },
      {
       "output_type": "stream",
       "stream": "stdout",
       "text": [
        " 206 0.283783783784 0.0291262135922\n",
        "202"
       ]
      },
      {
       "output_type": "stream",
       "stream": "stdout",
       "text": [
        " 207 0.324324324324 0.173913043478\n",
        "203"
       ]
      },
      {
       "output_type": "stream",
       "stream": "stdout",
       "text": [
        " 208 0.297297297297 0.149038461538\n",
        "204"
       ]
      },
      {
       "output_type": "stream",
       "stream": "stdout",
       "text": [
        " 209 0.324324324324 0.0909090909091\n",
        "205"
       ]
      },
      {
       "output_type": "stream",
       "stream": "stdout",
       "text": [
        " 210 0.310810810811 0.119047619048\n",
        "206"
       ]
      },
      {
       "output_type": "stream",
       "stream": "stdout",
       "text": [
        " 211 0.283783783784 0.104265402844\n",
        "207"
       ]
      },
      {
       "output_type": "stream",
       "stream": "stdout",
       "text": [
        " 212 0.324324324324 0.0707547169811\n",
        "208"
       ]
      },
      {
       "output_type": "stream",
       "stream": "stdout",
       "text": [
        " 213 0.324324324324 0.0657276995305\n",
        "209"
       ]
      },
      {
       "output_type": "stream",
       "stream": "stdout",
       "text": [
        " 214 0.364864864865 0.107476635514\n",
        "210"
       ]
      },
      {
       "output_type": "stream",
       "stream": "stdout",
       "text": [
        " 215 0.364864864865 0.106976744186\n",
        "211"
       ]
      },
      {
       "output_type": "stream",
       "stream": "stdout",
       "text": [
        " 216 0.283783783784 0.101851851852\n",
        "212"
       ]
      },
      {
       "output_type": "stream",
       "stream": "stdout",
       "text": [
        " 217 0.283783783784 0.101382488479\n",
        "213"
       ]
      },
      {
       "output_type": "stream",
       "stream": "stdout",
       "text": [
        " 218 0.297297297297 0.0183486238532\n",
        "214"
       ]
      },
      {
       "output_type": "stream",
       "stream": "stdout",
       "text": [
        " 219 0.283783783784 0.0593607305936\n",
        "215"
       ]
      },
      {
       "output_type": "stream",
       "stream": "stdout",
       "text": [
        " 220 0.283783783784 0.0454545454545\n",
        "216"
       ]
      },
      {
       "output_type": "stream",
       "stream": "stdout",
       "text": [
        " 221 0.324324324324 0.108597285068\n",
        "217"
       ]
      },
      {
       "output_type": "stream",
       "stream": "stdout",
       "text": [
        " 222 0.297297297297 0.0990990990991\n",
        "218"
       ]
      },
      {
       "output_type": "stream",
       "stream": "stdout",
       "text": [
        " 223 0.297297297297 0.103139013453\n",
        "219"
       ]
      },
      {
       "output_type": "stream",
       "stream": "stdout",
       "text": [
        " 224 0.297297297297 0.0625\n",
        "220"
       ]
      },
      {
       "output_type": "stream",
       "stream": "stdout",
       "text": [
        " 225 0.324324324324 0.106666666667\n",
        "221"
       ]
      },
      {
       "output_type": "stream",
       "stream": "stdout",
       "text": [
        " 226 0.297297297297 0.0840707964602\n",
        "222"
       ]
      },
      {
       "output_type": "stream",
       "stream": "stdout",
       "text": [
        " 227 0.27027027027 0.0528634361233\n",
        "223"
       ]
      },
      {
       "output_type": "stream",
       "stream": "stdout",
       "text": [
        " 228 0.310810810811 0.0131578947368\n",
        "224"
       ]
      },
      {
       "output_type": "stream",
       "stream": "stdout",
       "text": [
        " 229 0.297297297297 0.00436681222707\n",
        "225"
       ]
      },
      {
       "output_type": "stream",
       "stream": "stdout",
       "text": [
        " 230 0.297297297297 0.0304347826087\n",
        "226"
       ]
      },
      {
       "output_type": "stream",
       "stream": "stdout",
       "text": [
        " 231 0.310810810811 0.012987012987\n",
        "227"
       ]
      },
      {
       "output_type": "stream",
       "stream": "stdout",
       "text": [
        " 232 0.27027027027 0.0646551724138\n",
        "228"
       ]
      },
      {
       "output_type": "stream",
       "stream": "stdout",
       "text": [
        " 233 0.27027027027 0.0643776824034\n",
        "229"
       ]
      },
      {
       "output_type": "stream",
       "stream": "stdout",
       "text": [
        " 234 0.337837837838 0.111111111111\n",
        "230"
       ]
      },
      {
       "output_type": "stream",
       "stream": "stdout",
       "text": [
        " 235 0.337837837838 0.131914893617\n",
        "231"
       ]
      },
      {
       "output_type": "stream",
       "stream": "stdout",
       "text": [
        " 236 0.310810810811 0.0847457627119\n",
        "232"
       ]
      },
      {
       "output_type": "stream",
       "stream": "stdout",
       "text": [
        " 237 0.324324324324 0.215189873418\n",
        "233"
       ]
      },
      {
       "output_type": "stream",
       "stream": "stdout",
       "text": [
        " 238 0.283783783784 0.046218487395\n",
        "234"
       ]
      },
      {
       "output_type": "stream",
       "stream": "stdout",
       "text": [
        " 239 0.324324324324 0.209205020921\n",
        "235"
       ]
      },
      {
       "output_type": "stream",
       "stream": "stdout",
       "text": [
        " 240 0.283783783784 0.0375\n",
        "236"
       ]
      },
      {
       "output_type": "stream",
       "stream": "stdout",
       "text": [
        " 241 0.283783783784 0.103734439834\n",
        "237"
       ]
      },
      {
       "output_type": "stream",
       "stream": "stdout",
       "text": [
        " 242 0.310810810811 0.095041322314\n",
        "238"
       ]
      },
      {
       "output_type": "stream",
       "stream": "stdout",
       "text": [
        " 243 0.324324324324 0.115226337449\n",
        "239"
       ]
      },
      {
       "output_type": "stream",
       "stream": "stdout",
       "text": [
        " 244 0.27027027027 0.0532786885246\n",
        "240"
       ]
      },
      {
       "output_type": "stream",
       "stream": "stdout",
       "text": [
        " 245 0.337837837838 0.114285714286\n",
        "241"
       ]
      },
      {
       "output_type": "stream",
       "stream": "stdout",
       "text": [
        " 246 0.310810810811 0.0772357723577\n",
        "242"
       ]
      },
      {
       "output_type": "stream",
       "stream": "stdout",
       "text": [
        " 247 0.324324324324 0.121457489879\n",
        "243"
       ]
      },
      {
       "output_type": "stream",
       "stream": "stdout",
       "text": [
        " 248 0.310810810811 0.116935483871\n",
        "244"
       ]
      },
      {
       "output_type": "stream",
       "stream": "stdout",
       "text": [
        " 249 0.310810810811 0.128514056225\n",
        "245"
       ]
      },
      {
       "output_type": "stream",
       "stream": "stdout",
       "text": [
        " 250 0.256756756757 0.092\n",
        "246"
       ]
      },
      {
       "output_type": "stream",
       "stream": "stdout",
       "text": [
        " 251 0.310810810811 0.103585657371\n",
        "247"
       ]
      },
      {
       "output_type": "stream",
       "stream": "stdout",
       "text": [
        " 252 0.310810810811 0.126984126984\n",
        "248"
       ]
      },
      {
       "output_type": "stream",
       "stream": "stdout",
       "text": [
        " 253 0.27027027027 0.0395256916996\n",
        "249"
       ]
      },
      {
       "output_type": "stream",
       "stream": "stdout",
       "text": [
        " 254 0.27027027027 0.0472440944882\n",
        "250"
       ]
      },
      {
       "output_type": "stream",
       "stream": "stdout",
       "text": [
        " 255 0.283783783784 0.121568627451\n",
        "251"
       ]
      },
      {
       "output_type": "stream",
       "stream": "stdout",
       "text": [
        " 256 0.243243243243 0.09375\n",
        "252"
       ]
      },
      {
       "output_type": "stream",
       "stream": "stdout",
       "text": [
        " 257 0.256756756757 0.0817120622568\n",
        "253"
       ]
      },
      {
       "output_type": "stream",
       "stream": "stdout",
       "text": [
        " 258 0.22972972973 0.0503875968992\n",
        "254"
       ]
      },
      {
       "output_type": "stream",
       "stream": "stdout",
       "text": [
        " 259 0.202702702703 0.030888030888\n",
        "255"
       ]
      },
      {
       "output_type": "stream",
       "stream": "stdout",
       "text": [
        " 260 0.22972972973 0.0769230769231\n",
        "256"
       ]
      },
      {
       "output_type": "stream",
       "stream": "stdout",
       "text": [
        " 261 0.27027027027 0.0344827586207\n",
        "257"
       ]
      },
      {
       "output_type": "stream",
       "stream": "stdout",
       "text": [
        " 262 0.243243243243 0.00763358778626\n",
        "258"
       ]
      },
      {
       "output_type": "stream",
       "stream": "stdout",
       "text": [
        " 263 0.27027027027 0.0342205323194\n",
        "259"
       ]
      },
      {
       "output_type": "stream",
       "stream": "stdout",
       "text": [
        " 264 0.243243243243 0.0454545454545\n",
        "260"
       ]
      },
      {
       "output_type": "stream",
       "stream": "stdout",
       "text": [
        " 265 0.283783783784 0.0301886792453\n",
        "261"
       ]
      },
      {
       "output_type": "stream",
       "stream": "stdout",
       "text": [
        " 266 0.22972972973 0.0187969924812\n",
        "262"
       ]
      },
      {
       "output_type": "stream",
       "stream": "stdout",
       "text": [
        " 267 0.256756756757 0.116104868914\n",
        "263"
       ]
      },
      {
       "output_type": "stream",
       "stream": "stdout",
       "text": [
        " 268 0.243243243243 0.0820895522388\n",
        "264"
       ]
      },
      {
       "output_type": "stream",
       "stream": "stdout",
       "text": [
        " 269 0.256756756757 0.115241635688\n",
        "265"
       ]
      },
      {
       "output_type": "stream",
       "stream": "stdout",
       "text": [
        " 270 0.283783783784 0.0407407407407\n",
        "266"
       ]
      },
      {
       "output_type": "stream",
       "stream": "stdout",
       "text": [
        " 271 0.27027027027 0.0405904059041\n",
        "267"
       ]
      },
      {
       "output_type": "stream",
       "stream": "stdout",
       "text": [
        " 272 0.243243243243 0.0404411764706\n",
        "268"
       ]
      },
      {
       "output_type": "stream",
       "stream": "stdout",
       "text": [
        " 273 0.22972972973 0.0586080586081\n",
        "269"
       ]
      },
      {
       "output_type": "stream",
       "stream": "stdout",
       "text": [
        " 274 0.283783783784 0.0729927007299\n",
        "270"
       ]
      },
      {
       "output_type": "stream",
       "stream": "stdout",
       "text": [
        " 275 0.283783783784 0.141818181818\n",
        "271"
       ]
      },
      {
       "output_type": "stream",
       "stream": "stdout",
       "text": [
        " 276 0.27027027027 0.0724637681159\n",
        "272"
       ]
      },
      {
       "output_type": "stream",
       "stream": "stdout",
       "text": [
        " 277 0.243243243243 0.0541516245487\n",
        "273"
       ]
      },
      {
       "output_type": "stream",
       "stream": "stdout",
       "text": [
        " 278 0.243243243243 0.0359712230216\n",
        "274"
       ]
      },
      {
       "output_type": "stream",
       "stream": "stdout",
       "text": [
        " 279 0.216216216216 0.0860215053763\n",
        "275"
       ]
      },
      {
       "output_type": "stream",
       "stream": "stdout",
       "text": [
        " 280 0.283783783784 0.142857142857\n",
        "276"
       ]
      },
      {
       "output_type": "stream",
       "stream": "stdout",
       "text": [
        " 281 0.256756756757 0.0533807829181\n",
        "277"
       ]
      },
      {
       "output_type": "stream",
       "stream": "stdout",
       "text": [
        " 282 0.216216216216 0.106382978723\n",
        "278"
       ]
      },
      {
       "output_type": "stream",
       "stream": "stdout",
       "text": [
        " 283 0.256756756757 0.0848056537102\n",
        "279"
       ]
      },
      {
       "output_type": "stream",
       "stream": "stdout",
       "text": [
        " 284 0.256756756757 0.0140845070423\n",
        "280"
       ]
      },
      {
       "output_type": "stream",
       "stream": "stdout",
       "text": [
        " 285 0.27027027027 0.0526315789474\n",
        "281"
       ]
      },
      {
       "output_type": "stream",
       "stream": "stdout",
       "text": [
        " 286 0.256756756757 0.0874125874126\n",
        "282"
       ]
      },
      {
       "output_type": "stream",
       "stream": "stdout",
       "text": [
        " 287 0.256756756757 0.0452961672474\n",
        "283"
       ]
      },
      {
       "output_type": "stream",
       "stream": "stdout",
       "text": [
        " 288 0.22972972973 0.0590277777778\n",
        "284"
       ]
      },
      {
       "output_type": "stream",
       "stream": "stdout",
       "text": [
        " 289 0.243243243243 0.0415224913495\n",
        "285"
       ]
      },
      {
       "output_type": "stream",
       "stream": "stdout",
       "text": [
        " 290 0.202702702703 0.0172413793103\n",
        "286"
       ]
      },
      {
       "output_type": "stream",
       "stream": "stdout",
       "text": [
        " 291 0.216216216216 0.0962199312715\n",
        "287"
       ]
      },
      {
       "output_type": "stream",
       "stream": "stdout",
       "text": [
        " 292 0.216216216216 0.0376712328767\n",
        "288"
       ]
      },
      {
       "output_type": "stream",
       "stream": "stdout",
       "text": [
        " 293 0.22972972973 0.0477815699659\n",
        "(289,)"
       ]
      },
      {
       "output_type": "stream",
       "stream": "stdout",
       "text": [
        "\n",
        "[  6   6   7   8   9  10  11  12  13  14  15  16  17  18  19  20  21  22\n",
        "  23  24  25  26  27  28  29  30  31  32  33  34  35  36  37  38  39  40\n",
        "  41  42  43  44  45  46  47  48  49  50  51  52  53  54  55  56  57  58\n",
        "  59  60  61  62  63  64  65  66  67  68  69  70  71  72  73  74  75  76\n",
        "  77  78  79  80  81  82  83  84  85  86  87  88  89  90  91  92  93  94\n",
        "  95  96  97  98  99 100 101 102 103 104 105 106 107 108 109 110 111 112\n",
        " 113 114 115 116 117 118 119 120 121 122 123 124 125 126 127 128 129 130\n",
        " 131 132 133 134 135 136 137 138 139 140 141 142 143 144 145 146 147 148\n",
        " 149 150 151 152 153 154 155 156 157 158 159 160 161 162 163 164 165 166\n",
        " 167 168 169 170 171 172 173 174 175 176 177 178 179 180 181 182 183 184\n",
        " 185 186 187 188 189 190 191 192 193 194 195 196 197 198 199 200 201 202\n",
        " 203 204 205 206 207 208 209 210 211 212 213 214 215 216 217 218 219 220\n",
        " 221 222 223 224 225 226 227 228 229 230 231 232 233 234 235 236 237 238\n",
        " 239 240 241 242 243 244 245 246 247 248 249 250 251 252 253 254 255 256\n",
        " 257 258 259 260 261 262 263 264 265 266 267 268 269 270 271 272 273 274\n",
        " 275 276 277 278 279 280 281 282 283 284 285 286 287 288 289 290 291 292\n",
        " 293]"
       ]
      },
      {
       "output_type": "stream",
       "stream": "stdout",
       "text": [
        "\n"
       ]
      },
      {
       "output_type": "stream",
       "stream": "stderr",
       "text": [
        "/usr/local/lib/python2.7/dist-packages/sklearn/cross_validation.py:401: Warning: The least populated class in y has only 1 members, which is too few. The minimum number of labels for any class cannot be less than n_folds=2.\n",
        "  % (min_labels, self.n_folds)), Warning)\n"
       ]
      },
      {
       "metadata": {},
       "output_type": "display_data",
       "png": "[encoded data removed]",
       "text": [
        "<matplotlib.figure.Figure at 0x2870050>"
       ]
      }
     ],
     "prompt_number": 25
    },
    {
     "cell_type": "code",
     "collapsed": false,
     "input": [
      "#(model,scaler)=bestforthisno(data_train,target_train)\n",
      "model=LinearSVC(C=36.758347359905287, class_weight=None, dual=True,\n",
      "     fit_intercept=True, intercept_scaling=1, loss='l2', multi_class='ovr',\n",
      "     penalty='l2', random_state=None, tol=0.0001, verbose=0)\n",
      "print model\n",
      "print scaler\n",
      "resultsp={\"scaler\":scaler,\"predictor\":model}\n",
      "pickle.dump( resultsp, open( \"predictionobject_all_people2b.p\", \"wb\" ) )\n",
      "\n",
      "## results\n",
      "X_test_scaled=scaler.transform(data_test)\n",
      "\n",
      "predyk=model.predict(X_test_scaled);\n",
      "print sklearn.metrics.accuracy_score(target_test,predyk)\n",
      "konf=sklearn.metrics.confusion_matrix(target_test,predyk)\n",
      "target_names = ['Cylinder grip', 'Three finger grip','Precision grip', 'Lateral grip','Wedge grip','Indicating pose','Open hand']\n",
      "clasrap=sklearn.metrics.classification_report(target_test,predyk , target_names=target_names)\n",
      "im=pylab.matshow(konf)\n",
      "cb1=pylab.colorbar()\n",
      "cb1.set_label('Number of predictions')\n",
      "#im.axes.set_xticklabels(['']+target_names)\n",
      "pylab.xticks([0,1,2,3,4,5,6],target_names,rotation='vertical',verticalalignment='bottom')\n",
      "pylab.yticks([0,1,2,3,4,5,6],target_names,verticalalignment='bottom')\n",
      "\n",
      "pylab.ylabel(\"Actual class\")\n",
      "pylab.xlabel(\"Predicted class\")\n",
      "pylab.show()\n",
      "#print indmax\n",
      "print(clasrap)\n",
      "\n",
      "print target_train.shape"
     ],
     "language": "python",
     "metadata": {},
     "outputs": [
      {
       "ename": "NameError",
       "evalue": "name 'data_test' is not defined",
       "output_type": "pyerr",
       "traceback": [
        "\u001b[1;31m---------------------------------------------------------------------------\u001b[0m\n\u001b[1;31mNameError\u001b[0m                                 Traceback (most recent call last)",
        "\u001b[1;32m<ipython-input-26-84e0f9e76fd9>\u001b[0m in \u001b[0;36m<module>\u001b[1;34m()\u001b[0m\n\u001b[0;32m      9\u001b[0m \u001b[1;33m\u001b[0m\u001b[0m\n\u001b[0;32m     10\u001b[0m \u001b[1;31m## results\u001b[0m\u001b[1;33m\u001b[0m\u001b[1;33m\u001b[0m\u001b[0m\n\u001b[1;32m---> 11\u001b[1;33m \u001b[0mX_test_scaled\u001b[0m\u001b[1;33m=\u001b[0m\u001b[0mscaler\u001b[0m\u001b[1;33m.\u001b[0m\u001b[0mtransform\u001b[0m\u001b[1;33m(\u001b[0m\u001b[0mdata_test\u001b[0m\u001b[1;33m)\u001b[0m\u001b[1;33m\u001b[0m\u001b[0m\n\u001b[0m\u001b[0;32m     12\u001b[0m \u001b[1;33m\u001b[0m\u001b[0m\n\u001b[0;32m     13\u001b[0m \u001b[0mpredyk\u001b[0m\u001b[1;33m=\u001b[0m\u001b[0mmodel\u001b[0m\u001b[1;33m.\u001b[0m\u001b[0mpredict\u001b[0m\u001b[1;33m(\u001b[0m\u001b[0mX_test_scaled\u001b[0m\u001b[1;33m)\u001b[0m\u001b[1;33m;\u001b[0m\u001b[1;33m\u001b[0m\u001b[0m\n",
        "\u001b[1;31mNameError\u001b[0m: name 'data_test' is not defined"
       ]
      },
      {
       "output_type": "stream",
       "stream": "stdout",
       "text": [
        "LinearSVC(C=36.7583473599, class_weight=None, dual=True, fit_intercept=True,\n",
        "     intercept_scaling=1, loss=l2, multi_class=ovr, penalty=l2,\n",
        "     random_state=None, tol=0.0001, verbose=0)\n",
        "StandardScaler(copy=True, with_mean=True, with_std=True)\n"
       ]
      }
     ],
     "prompt_number": 26
    },
    {
     "cell_type": "code",
     "collapsed": false,
     "input": [
      "data_train.shape[0]"
     ],
     "language": "python",
     "metadata": {},
     "outputs": [
      {
       "metadata": {},
       "output_type": "pyout",
       "prompt_number": 31,
       "text": [
        "293"
       ]
      }
     ],
     "prompt_number": 31
    },
    {
     "cell_type": "code",
     "collapsed": false,
     "input": [
      "def bestforthisno(X,Y):\n",
      "    \n",
      "\n",
      "    scaler = StandardScaler()\n",
      "    \n",
      "   \n",
      "    scaler=sklearn.preprocessing.StandardScaler().fit(X)\n",
      "    X22 = scaler.transform(X)\n",
      "    ##############################################################################\n",
      "    # Train classifier\n",
      "    #\n",
      "    # For an initial search, a logarithmic grid with basis\n",
      "    # 10 is often helpful. Using a basis of 2, a finer\n",
      "    # tuning can be achieved but at a much higher cost.\n",
      "    \n",
      "    C_range = 2.0 ** np.arange(-3, 9)\n",
      "    gamma_range = 2.0 ** np.arange(-5, 4)\n",
      "    param_grid = dict(gamma=gamma_range, C=C_range)\n",
      "    cv = StratifiedKFold(y=Y, n_folds=2)\n",
      "    grid = GridSearchCV(SVC(), param_grid=param_grid, cv=cv)\n",
      "    grid.fit(X22, Y)\n",
      "    \n",
      "    best=grid.best_estimator_\n",
      "    return (best,scaler)"
     ],
     "language": "python",
     "metadata": {},
     "outputs": [],
     "prompt_number": 5
    },
    {
     "cell_type": "code",
     "collapsed": false,
     "input": [
      "print Xfull.shape, Yfull"
     ],
     "language": "python",
     "metadata": {},
     "outputs": [
      {
       "output_type": "stream",
       "stream": "stdout",
       "text": [
        "(367, 10) [0 1 2 3 4 5 0 1 2 3 4 5 0 1 2 3 4 5 0 1 1 1 2 3 3 4 4 5 5 0 0 0 1 1 2 2 3\n",
        " 3 4 4 5 5 0 2 3 4 5 0 0 0 0 1 1 1 2 2 4 5 0 1 2 3 4 5 0 0 0 0 4 1 1 1 2 3\n",
        " 1 0 0 3 0 4 4 5 2 0 1 1 3 4 5 0 1 0 3 2 5 4 4 5 5 4 5 6 6 6 6 6 6 6 6 5 5\n",
        " 5 5 6 6 6 6 6 0 0 0 0 0 0 1 1 1 1 1 1 2 2 2 1 3 3 3 3 4 4 4 4 4 5 5 6 6 0\n",
        " 0 0 0 0 0 0 1 1 1 1 1 1 1 1 2 2 2 2 2 2 2 3 3 3 3 3 3 3 3 3 4 4 4 4 4 5 5\n",
        " 5 5 5 5 6 6 6 6 6 6 6 0 0 0 0 0 0 0 0 1 1 1 1 1 1 2 2 2 2 2 2 3 3 3 3 3 3\n",
        " 4 4 4 4 4 4 5 5 5 5 5 6 6 6 6 6 0 0 0 0 1 1 1 2 2 2 3 3 3 4 4 4 5 5 5 5 6\n",
        " 6 6 6 6 6 0 0 0 1 1 1 1 2 2 3 3 3 3 4 4 4 5 5 5 6 6 0 1 0 0 2 2 2 2 3 3 3\n",
        " 4 4 4 4 5 5 6 6 6 6 0 0 0 0 0 0 1 1 1 1 1 2 2 2 2 3 3 3 3 4 4 4 4 4 5 5 5\n",
        " 5 5 6 6 6 6 6 6 0 0 0 0 1 1 1 2 2 2 3 3 3 3 3 4 4 4 4 5 5 5 5 6 6 6]\n"
       ]
      }
     ],
     "prompt_number": 10
    },
    {
     "cell_type": "code",
     "collapsed": false,
     "input": [
      "print sizes"
     ],
     "language": "python",
     "metadata": {},
     "outputs": [
      {
       "ename": "NameError",
       "evalue": "name 'sizes' is not defined",
       "output_type": "pyerr",
       "traceback": [
        "\u001b[1;31m---------------------------------------------------------------------------\u001b[0m\n\u001b[1;31mNameError\u001b[0m                                 Traceback (most recent call last)",
        "\u001b[1;32m<ipython-input-169-36228695b7e0>\u001b[0m in \u001b[0;36m<module>\u001b[1;34m()\u001b[0m\n\u001b[1;32m----> 1\u001b[1;33m \u001b[1;32mprint\u001b[0m \u001b[0msizes\u001b[0m\u001b[1;33m\u001b[0m\u001b[0m\n\u001b[0m",
        "\u001b[1;31mNameError\u001b[0m: name 'sizes' is not defined"
       ]
      }
     ],
     "prompt_number": 169
    },
    {
     "cell_type": "code",
     "collapsed": false,
     "input": [
      "data_train, target_train\n",
      "res=[]\n",
      "from sklearn.ensemble import RandomForestClassifier\n",
      "from sklearn.cross_validation import cross_val_score\n",
      "for nn in xrange(1,20):\n",
      "    for mm in xrange(1,10):\n",
      "        clf = RandomForestClassifier(n_estimators=nn, max_depth=None,min_samples_split=1, max_features=mm)\n",
      "        scores = cross_val_score(clf, data_train, target_train,cv=10)\n",
      "        #print scores.mean(),nn,mm\n",
      "        res.append([nn,mm,scores.mean()])\n",
      "print \"fin?\""
     ],
     "language": "python",
     "metadata": {},
     "outputs": [
      {
       "output_type": "stream",
       "stream": "stdout",
       "text": [
        "fin?\n"
       ]
      }
     ],
     "prompt_number": 21
    },
    {
     "cell_type": "code",
     "collapsed": false,
     "input": [
      "fufu=np.array(res)\n",
      "print fufu.shape\n",
      "print fufu[np.argmax(fufu, axis=0)[2],:]\n"
     ],
     "language": "python",
     "metadata": {},
     "outputs": [
      {
       "output_type": "stream",
       "stream": "stdout",
       "text": [
        "(171, 3)\n",
        "[ 19.          9.          0.7745977]\n"
       ]
      }
     ],
     "prompt_number": 22
    },
    {
     "cell_type": "code",
     "collapsed": false,
     "input": [
      "drzewko1 = RandomForestClassifier(n_estimators=19, max_depth=None,min_samples_split=6,max_features=9)\n",
      "drzewko1.fit(data_train,target_train)\n",
      "\n",
      "\n",
      "predykdrz=drzewko1.predict(data_test);\n",
      "print sklearn.metrics.accuracy_score(target_test,predykdrz)\n",
      "konf=sklearn.metrics.confusion_matrix(target_test,predykdrz)\n",
      "target_names = ['Cylinder grip', 'Three finger grip','Precision grip', 'Lateral grip','Wedge grip','Indicating pose','Open hand']\n",
      "clasrap=sklearn.metrics.classification_report(target_test,predykdrz , target_names=target_names)\n",
      "im=pylab.matshow(konf)\n",
      "cb1=pylab.colorbar()\n",
      "cb1.set_label('Number of predictions')\n",
      "#im.axes.set_xticklabels(['']+target_names)\n",
      "pylab.xticks([0,1,2,3,4,5,6],target_names,rotation='vertical',verticalalignment='bottom')\n",
      "pylab.yticks([0,1,2,3,4,5,6],target_names,verticalalignment='bottom')\n",
      "\n",
      "pylab.ylabel(\"Actual class\")\n",
      "pylab.xlabel(\"Predicted class\")\n",
      "pylab.show()\n",
      "#print indmax\n",
      "print(clasrap)\n",
      "\n",
      "print target_train.shape\n",
      "#errordrzewko = compute_error(data_test,target_test,drzewko)"
     ],
     "language": "python",
     "metadata": {},
     "outputs": [
      {
       "output_type": "stream",
       "stream": "stdout",
       "text": [
        "0.783783783784\n"
       ]
      },
      {
       "metadata": {},
       "output_type": "display_data",
       "png": "[encoded data removed]",
       "text": [
        "<matplotlib.figure.Figure at 0x48c4990>"
       ]
      },
      {
       "output_type": "stream",
       "stream": "stdout",
       "text": [
        "                   precision    recall  f1-score   support\n",
        "\n",
        "    Cylinder grip       0.82      1.00      0.90        14\n",
        "Three finger grip       0.71      0.71      0.71         7\n",
        "   Precision grip       0.60      0.30      0.40        10\n",
        "     Lateral grip       0.46      0.60      0.52        10\n",
        "       Wedge grip       1.00      0.83      0.91        12\n",
        "  Indicating pose       0.90      1.00      0.95         9\n",
        "        Open hand       0.92      0.92      0.92        12\n",
        "\n",
        "      avg / total       0.79      0.78      0.77        74\n",
        "\n",
        "(293,)\n"
       ]
      }
     ],
     "prompt_number": 23
    },
    {
     "cell_type": "code",
     "collapsed": false,
     "input": [
      "def drawLearningCurve2(model):\n",
      "    sizes = np.linspace(6, data_train.shape[0], (data_train.shape[0]-4)).astype(int)\n",
      "    train_error = np.zeros(sizes.shape)\n",
      "    crossval_error = np.zeros(sizes.shape)\n",
      "     \n",
      "    for i,size in enumerate(sizes):\n",
      "        #model,scaler= bestforthisno(data_train[:size,:],target_train[:size])\n",
      "        data_train2=data_train[:size,:]\n",
      "        data_test2=data_test\n",
      "        #getting the predicted results of the GaussianNB\n",
      "        model.fit(data_train2,target_train[:size])\n",
      "        predicted = model.predict(data_train2)\n",
      "         \n",
      "        #compute the validation error\n",
      "        crossval_error[i] = compute_error(data_test2,target_test,model)\n",
      "         \n",
      "        #compute the training error\n",
      "        train_error[i] = compute_error(data_train2[:size,:],target_train[:size],model)\n",
      "        #if i<15:\n",
      "        #    print data_train2.shape\n",
      "        print i,size,crossval_error[i], train_error[i]\n",
      "    #draw the plot\n",
      "    fig,ax = plt.subplots()\n",
      "    ax.plot(sizes,crossval_error,lw = 2, label='validation error')\n",
      "    ax.plot(sizes,train_error, lw = 2, label='training error')\n",
      "    ax.set_xlabel('no of samples')\n",
      "    ax.set_ylabel('error')\n",
      "     \n",
      "    ax.legend(loc = 0)\n",
      "    ax.set_xlim(0,data_train.shape[0])\n",
      "    ax.set_title('Learning Curve' )\n",
      "    print sizes.shape\n",
      "    print sizes\n",
      "drawLearningCurve2(drzewko1)"
     ],
     "language": "python",
     "metadata": {},
     "outputs": [
      {
       "output_type": "stream",
       "stream": "stdout",
       "text": [
        "0 6 0.837837837838 0.666666666667\n",
        "1 6 0.837837837838 0.666666666667\n",
        "2 7 0.837837837838 0.428571428571\n",
        "3 8 0.689189189189 0.25\n",
        "4"
       ]
      },
      {
       "output_type": "stream",
       "stream": "stdout",
       "text": [
        " 9 0.594594594595 0.111111111111\n",
        "5 10 0.648648648649 0.2\n",
        "6 11 0.72972972973 0.272727272727\n",
        "7 12 0.689189189189 0.0833333333333\n",
        "8"
       ]
      },
      {
       "output_type": "stream",
       "stream": "stdout",
       "text": [
        " 13 0.756756756757 0.230769230769\n",
        "9 14 0.743243243243 0.214285714286\n",
        "10 15 0.621621621622 0.133333333333\n",
        "11 16 0.527027027027 0.0\n",
        "12"
       ]
      },
      {
       "output_type": "stream",
       "stream": "stdout",
       "text": [
        " 17 0.648648648649 0.117647058824\n",
        "13 18 0.608108108108 0.0555555555556\n",
        "14 19 0.581081081081 0.210526315789\n",
        "15 20 0.5 0.05\n",
        "16"
       ]
      },
      {
       "output_type": "stream",
       "stream": "stdout",
       "text": [
        " 21 0.540540540541 0.0\n",
        "17 22 0.486486486486 0.0\n",
        "18 23 0.540540540541 0.0434782608696\n",
        "19 24 0.472972972973 0.0\n",
        "20"
       ]
      },
      {
       "output_type": "stream",
       "stream": "stdout",
       "text": [
        " 25 0.527027027027 0.08\n",
        "21 26 0.513513513514 0.0\n",
        "22 27 0.540540540541 0.0\n",
        "23 28 0.472972972973 0.0714285714286\n",
        "24"
       ]
      },
      {
       "output_type": "stream",
       "stream": "stdout",
       "text": [
        " 29 0.459459459459 0.0689655172414\n",
        "25 30 0.527027027027 0.0\n",
        "26 31 0.554054054054 0.0967741935484\n",
        "27 32 0.540540540541 0.0\n",
        "28"
       ]
      },
      {
       "output_type": "stream",
       "stream": "stdout",
       "text": [
        " 33 0.527027027027 0.0606060606061\n",
        "29 34 0.445945945946 0.0294117647059\n",
        "30 35 0.472972972973 0.0285714285714\n",
        "31 36 0.527027027027 0.0277777777778\n",
        "32"
       ]
      },
      {
       "output_type": "stream",
       "stream": "stdout",
       "text": [
        " 37 0.486486486486 0.0\n",
        "33 38 0.418918918919 0.0526315789474\n",
        "34 39 0.432432432432 0.0\n",
        "35 40 0.418918918919 0.025\n",
        "36"
       ]
      },
      {
       "output_type": "stream",
       "stream": "stdout",
       "text": [
        " 41 0.432432432432 0.0\n",
        "37 42 0.5 0.0238095238095\n",
        "38 43 0.432432432432 0.0\n",
        "39 44 0.445945945946 0.0\n",
        "40"
       ]
      },
      {
       "output_type": "stream",
       "stream": "stdout",
       "text": [
        " 45 0.432432432432 0.0222222222222\n",
        "41 46 0.459459459459 0.0434782608696\n",
        "42 47 0.378378378378 0.0\n",
        "43 48 0.364864864865 0.0208333333333\n",
        "44"
       ]
      },
      {
       "output_type": "stream",
       "stream": "stdout",
       "text": [
        " 49 0.391891891892 0.0\n",
        "45 50 0.418918918919 0.04\n",
        "46 51 0.432432432432 0.0588235294118\n",
        "47 52 0.432432432432 0.0192307692308\n",
        "48"
       ]
      },
      {
       "output_type": "stream",
       "stream": "stdout",
       "text": [
        " 53 0.405405405405 0.0377358490566\n",
        "49 54 0.405405405405 0.037037037037\n",
        "50 55 0.337837837838 0.0363636363636\n",
        "51 56 0.459459459459 0.0357142857143\n",
        "52"
       ]
      },
      {
       "output_type": "stream",
       "stream": "stdout",
       "text": [
        " 57 0.432432432432 0.0526315789474\n",
        "53 58 0.378378378378 0.051724137931\n",
        "54 59 0.405405405405 0.0169491525424\n",
        "55 60 0.310810810811 0.05\n",
        "56"
       ]
      },
      {
       "output_type": "stream",
       "stream": "stdout",
       "text": [
        " 61 0.337837837838 0.0327868852459\n",
        "57 62 0.378378378378 0.0161290322581\n",
        "58 63 0.364864864865 0.031746031746\n",
        "59 64 0.391891891892 0.046875\n",
        "60"
       ]
      },
      {
       "output_type": "stream",
       "stream": "stdout",
       "text": [
        " 65 0.391891891892 0.0153846153846\n",
        "61 66 0.432432432432 0.0454545454545\n",
        "62 67 0.405405405405 0.0298507462687\n",
        "63 68 0.391891891892 0.0147058823529\n",
        "64"
       ]
      },
      {
       "output_type": "stream",
       "stream": "stdout",
       "text": [
        " 69 0.378378378378 0.0434782608696\n",
        "65 70 0.378378378378 0.0285714285714\n",
        "66 71 0.391891891892 0.0281690140845\n",
        "67 72 0.337837837838 0.0277777777778\n",
        "68"
       ]
      },
      {
       "output_type": "stream",
       "stream": "stdout",
       "text": [
        " 73 0.391891891892 0.0\n",
        "69 74 0.337837837838 0.0135135135135\n",
        "70 75 0.364864864865 0.0133333333333\n",
        "71"
       ]
      },
      {
       "output_type": "stream",
       "stream": "stdout",
       "text": [
        " 76 0.351351351351 0.0263157894737\n",
        "72 77 0.351351351351 0.0519480519481\n",
        "73 78 0.364864864865 0.025641025641\n",
        "74"
       ]
      },
      {
       "output_type": "stream",
       "stream": "stdout",
       "text": [
        " 79 0.337837837838 0.0126582278481\n",
        "75 80 0.351351351351 0.0375\n",
        "76 81 0.351351351351 0.0493827160494\n",
        "77"
       ]
      },
      {
       "output_type": "stream",
       "stream": "stdout",
       "text": [
        " 82 0.337837837838 0.0121951219512\n",
        "78 83 0.283783783784 0.0120481927711\n",
        "79 84 0.351351351351 0.0357142857143\n",
        "80"
       ]
      },
      {
       "output_type": "stream",
       "stream": "stdout",
       "text": [
        " 85 0.324324324324 0.0\n",
        "81 86 0.351351351351 0.0116279069767\n",
        "82 87 0.364864864865 0.0114942528736\n",
        "83"
       ]
      },
      {
       "output_type": "stream",
       "stream": "stdout",
       "text": [
        " 88 0.324324324324 0.0340909090909\n",
        "84 89 0.297297297297 0.0224719101124\n",
        "85 90 0.324324324324 0.0111111111111\n",
        "86"
       ]
      },
      {
       "output_type": "stream",
       "stream": "stdout",
       "text": [
        " 91 0.364864864865 0.021978021978\n",
        "87 92 0.283783783784 0.0326086956522\n",
        "88 93 0.283783783784 0.0\n",
        "89"
       ]
      },
      {
       "output_type": "stream",
       "stream": "stdout",
       "text": [
        " 94 0.310810810811 0.0212765957447\n",
        "90 95 0.297297297297 0.0210526315789\n",
        "91 96 0.324324324324 0.0208333333333\n",
        "92"
       ]
      },
      {
       "output_type": "stream",
       "stream": "stdout",
       "text": [
        " 97 0.378378378378 0.020618556701\n",
        "93 98 0.337837837838 0.0102040816327\n",
        "94 99 0.324324324324 0.010101010101\n",
        "95"
       ]
      },
      {
       "output_type": "stream",
       "stream": "stdout",
       "text": [
        " 100 0.283783783784 0.02\n",
        "96 101 0.405405405405 0.019801980198\n",
        "97 102 0.405405405405 0.0294117647059\n",
        "98"
       ]
      },
      {
       "output_type": "stream",
       "stream": "stdout",
       "text": [
        " 103 0.364864864865 0.0291262135922\n",
        "99 104 0.337837837838 0.00961538461538\n",
        "100 105 0.364864864865 0.0380952380952\n",
        "101"
       ]
      },
      {
       "output_type": "stream",
       "stream": "stdout",
       "text": [
        " 106 0.337837837838 0.0188679245283\n",
        "102 107 0.351351351351 0.018691588785\n",
        "103 108 0.364864864865 0.0185185185185\n",
        "104"
       ]
      },
      {
       "output_type": "stream",
       "stream": "stdout",
       "text": [
        " 109 0.337837837838 0.0183486238532\n",
        "105 110 0.351351351351 0.0181818181818\n",
        "106 111 0.364864864865 0.018018018018\n",
        "107"
       ]
      },
      {
       "output_type": "stream",
       "stream": "stdout",
       "text": [
        " 112 0.27027027027 0.0357142857143\n",
        "108 113 0.310810810811 0.00884955752212\n",
        "109 114 0.405405405405 0.00877192982456\n",
        "110"
       ]
      },
      {
       "output_type": "stream",
       "stream": "stdout",
       "text": [
        " 115 0.324324324324 0.00869565217391\n",
        "111 116 0.351351351351 0.0258620689655\n",
        "112 117 0.324324324324 0.034188034188\n",
        "113"
       ]
      },
      {
       "output_type": "stream",
       "stream": "stdout",
       "text": [
        " 118 0.351351351351 0.00847457627119\n",
        "114 119 0.337837837838 0.00840336134454\n",
        "115 120 0.364864864865 0.0416666666667\n",
        "116"
       ]
      },
      {
       "output_type": "stream",
       "stream": "stdout",
       "text": [
        " 121 0.337837837838 0.00826446280992\n",
        "117 122 0.324324324324 0.0245901639344\n",
        "118 123 0.297297297297 0.0162601626016\n",
        "119"
       ]
      },
      {
       "output_type": "stream",
       "stream": "stdout",
       "text": [
        " 124 0.324324324324 0.00806451612903\n",
        "120 125 0.310810810811 0.008\n",
        "121 126 0.337837837838 0.00793650793651\n",
        "122"
       ]
      },
      {
       "output_type": "stream",
       "stream": "stdout",
       "text": [
        " 127 0.27027027027 0.0157480314961\n",
        "123 128 0.324324324324 0.015625\n",
        "124 129 0.310810810811 0.046511627907\n",
        "125"
       ]
      },
      {
       "output_type": "stream",
       "stream": "stdout",
       "text": [
        " 130 0.324324324324 0.0153846153846\n",
        "126 131 0.256756756757 0.030534351145\n",
        "127 132 0.310810810811 0.0151515151515\n",
        "128"
       ]
      },
      {
       "output_type": "stream",
       "stream": "stdout",
       "text": [
        " 133 0.297297297297 0.0375939849624\n",
        "129 134 0.297297297297 0.0298507462687\n",
        "130 135 0.337837837838 0.0222222222222\n",
        "131"
       ]
      },
      {
       "output_type": "stream",
       "stream": "stdout",
       "text": [
        " 136 0.297297297297 0.0220588235294\n",
        "132 137 0.337837837838 0.021897810219\n",
        "133 138 0.324324324324 0.036231884058\n",
        "134"
       ]
      },
      {
       "output_type": "stream",
       "stream": "stdout",
       "text": [
        " 139 0.324324324324 0.00719424460432\n",
        "135 140 0.310810810811 0.05\n",
        "136 141 0.337837837838 0.0212765957447\n",
        "137"
       ]
      },
      {
       "output_type": "stream",
       "stream": "stdout",
       "text": [
        " 142 0.337837837838 0.0211267605634\n",
        "138 143 0.297297297297 0.020979020979\n",
        "139 144 0.27027027027 0.0208333333333\n",
        "140"
       ]
      },
      {
       "output_type": "stream",
       "stream": "stdout",
       "text": [
        " 145 0.310810810811 0.0344827586207\n",
        "141 146 0.337837837838 0.027397260274\n",
        "142 147 0.310810810811 0.0204081632653\n",
        "143"
       ]
      },
      {
       "output_type": "stream",
       "stream": "stdout",
       "text": [
        " 148 0.297297297297 0.0135135135135\n",
        "144 149 0.297297297297 0.0134228187919\n",
        "145 150 0.310810810811 0.00666666666667\n",
        "146"
       ]
      },
      {
       "output_type": "stream",
       "stream": "stdout",
       "text": [
        " 151 0.310810810811 0.0331125827815\n",
        "147 152 0.256756756757 0.0460526315789\n",
        "148 153 0.297297297297 0.0326797385621\n",
        "149"
       ]
      },
      {
       "output_type": "stream",
       "stream": "stdout",
       "text": [
        " 154 0.324324324324 0.025974025974\n",
        "150 155 0.27027027027 0.0258064516129\n",
        "151 156 0.297297297297 0.00641025641026\n",
        "152"
       ]
      },
      {
       "output_type": "stream",
       "stream": "stdout",
       "text": [
        " 157 0.283783783784 0.0382165605096\n",
        "153 158 0.27027027027 0.0316455696203\n",
        "154 159 0.283783783784 0.0314465408805\n",
        "155"
       ]
      },
      {
       "output_type": "stream",
       "stream": "stdout",
       "text": [
        " 160 0.283783783784 0.03125\n",
        "156 161 0.22972972973 0.0434782608696\n",
        "157 162 0.324324324324 0.0308641975309\n",
        "158"
       ]
      },
      {
       "output_type": "stream",
       "stream": "stdout",
       "text": [
        " 163 0.310810810811 0.0122699386503\n",
        "159 164 0.310810810811 0.0243902439024\n",
        "160 165 0.310810810811 0.0363636363636\n",
        "161"
       ]
      },
      {
       "output_type": "stream",
       "stream": "stdout",
       "text": [
        " 166 0.297297297297 0.0120481927711\n",
        "162 167 0.310810810811 0.0299401197605\n",
        "163 168 0.27027027027 0.0297619047619\n",
        "164"
       ]
      },
      {
       "output_type": "stream",
       "stream": "stdout",
       "text": [
        " 169 0.310810810811 0.0414201183432\n",
        "165 170 0.310810810811 0.0411764705882\n",
        "166 171 0.27027027027 0.0175438596491\n",
        "167"
       ]
      },
      {
       "output_type": "stream",
       "stream": "stdout",
       "text": [
        " 172 0.324324324324 0.0290697674419\n",
        "168 173 0.297297297297 0.0173410404624\n",
        "169"
       ]
      },
      {
       "output_type": "stream",
       "stream": "stdout",
       "text": [
        " 174 0.324324324324 0.0172413793103\n",
        "170 175 0.337837837838 0.0342857142857\n",
        "171 176 0.283783783784 0.0397727272727\n",
        "172"
       ]
      },
      {
       "output_type": "stream",
       "stream": "stdout",
       "text": [
        " 177 0.297297297297 0.0338983050847\n",
        "173 178 0.310810810811 0.0224719101124\n",
        "174 179 0.310810810811 0.0335195530726\n",
        "175"
       ]
      },
      {
       "output_type": "stream",
       "stream": "stdout",
       "text": [
        " 180 0.283783783784 0.0277777777778\n",
        "176 181 0.27027027027 0.0165745856354\n",
        "177 182 0.297297297297 0.0164835164835\n",
        "178"
       ]
      },
      {
       "output_type": "stream",
       "stream": "stdout",
       "text": [
        " 183 0.297297297297 0.0382513661202\n",
        "179 184 0.243243243243 0.0217391304348\n",
        "180"
       ]
      },
      {
       "output_type": "stream",
       "stream": "stdout",
       "text": [
        " 185 0.256756756757 0.027027027027\n",
        "181 186 0.283783783784 0.0268817204301\n",
        "182 187 0.297297297297 0.0160427807487\n",
        "183"
       ]
      },
      {
       "output_type": "stream",
       "stream": "stdout",
       "text": [
        " 188 0.324324324324 0.0159574468085\n",
        "184 189 0.297297297297 0.010582010582\n",
        "185"
       ]
      },
      {
       "output_type": "stream",
       "stream": "stdout",
       "text": [
        " 190 0.310810810811 0.0157894736842\n",
        "186 191 0.324324324324 0.020942408377\n",
        "187"
       ]
      },
      {
       "output_type": "stream",
       "stream": "stdout",
       "text": [
        " 192 0.310810810811 0.03125\n",
        "188 193 0.283783783784 0.0310880829016\n",
        "189"
       ]
      },
      {
       "output_type": "stream",
       "stream": "stdout",
       "text": [
        " 194 0.27027027027 0.0154639175258\n",
        "190 195 0.283783783784 0.025641025641\n",
        "191"
       ]
      },
      {
       "output_type": "stream",
       "stream": "stdout",
       "text": [
        " 196 0.256756756757 0.0255102040816\n",
        "192 197 0.283783783784 0.0152284263959\n",
        "193"
       ]
      },
      {
       "output_type": "stream",
       "stream": "stdout",
       "text": [
        " 198 0.243243243243 0.030303030303\n",
        "194 199 0.324324324324 0.0251256281407\n",
        "195"
       ]
      },
      {
       "output_type": "stream",
       "stream": "stdout",
       "text": [
        " 200 0.243243243243 0.02\n",
        "196 201 0.256756756757 0.0248756218905\n",
        "197"
       ]
      },
      {
       "output_type": "stream",
       "stream": "stdout",
       "text": [
        " 202 0.283783783784 0.0247524752475\n",
        "198 203 0.243243243243 0.0197044334975\n",
        "199"
       ]
      },
      {
       "output_type": "stream",
       "stream": "stdout",
       "text": [
        " 204 0.243243243243 0.00980392156863\n",
        "200 205 0.27027027027 0.019512195122\n",
        "201"
       ]
      },
      {
       "output_type": "stream",
       "stream": "stdout",
       "text": [
        " 206 0.243243243243 0.0242718446602\n",
        "202 207 0.27027027027 0.0193236714976\n",
        "203"
       ]
      },
      {
       "output_type": "stream",
       "stream": "stdout",
       "text": [
        " 208 0.256756756757 0.0336538461538\n",
        "204 209 0.256756756757 0.0191387559809\n",
        "205"
       ]
      },
      {
       "output_type": "stream",
       "stream": "stdout",
       "text": [
        " 210 0.283783783784 0.0333333333333\n",
        "206 211 0.27027027027 0.0189573459716\n",
        "207"
       ]
      },
      {
       "output_type": "stream",
       "stream": "stdout",
       "text": [
        " 212 0.283783783784 0.0330188679245\n",
        "208 213 0.243243243243 0.0281690140845\n",
        "209"
       ]
      },
      {
       "output_type": "stream",
       "stream": "stdout",
       "text": [
        " 214 0.283783783784 0.018691588785\n",
        "210 215 0.243243243243 0.0186046511628\n",
        "211"
       ]
      },
      {
       "output_type": "stream",
       "stream": "stdout",
       "text": [
        " 216 0.297297297297 0.0277777777778\n",
        "212 217 0.256756756757 0.0230414746544\n",
        "213"
       ]
      },
      {
       "output_type": "stream",
       "stream": "stdout",
       "text": [
        " 218 0.297297297297 0.0366972477064\n",
        "214 219 0.283783783784 0.0228310502283\n",
        "215"
       ]
      },
      {
       "output_type": "stream",
       "stream": "stdout",
       "text": [
        " 220 0.324324324324 0.0136363636364\n",
        "216 221 0.297297297297 0.027149321267\n",
        "217"
       ]
      },
      {
       "output_type": "stream",
       "stream": "stdout",
       "text": [
        " 222 0.256756756757 0.0315315315315\n",
        "218 223 0.22972972973 0.0224215246637\n",
        "219"
       ]
      },
      {
       "output_type": "stream",
       "stream": "stdout",
       "text": [
        " 224 0.243243243243 0.00892857142857\n",
        "220 225 0.27027027027 0.00888888888889\n",
        "221"
       ]
      },
      {
       "output_type": "stream",
       "stream": "stdout",
       "text": [
        " 226 0.256756756757 0.0221238938053\n",
        "222 227 0.283783783784 0.0132158590308\n",
        "223"
       ]
      },
      {
       "output_type": "stream",
       "stream": "stdout",
       "text": [
        " 228 0.243243243243 0.0175438596491\n",
        "224 229 0.283783783784 0.0131004366812\n",
        "225"
       ]
      },
      {
       "output_type": "stream",
       "stream": "stdout",
       "text": [
        " 230 0.256756756757 0.0130434782609\n",
        "226 231 0.243243243243 0.021645021645\n",
        "227"
       ]
      },
      {
       "output_type": "stream",
       "stream": "stdout",
       "text": [
        " 232 0.22972972973 0.0172413793103\n",
        "228 233 0.324324324324 0.0386266094421\n",
        "229"
       ]
      },
      {
       "output_type": "stream",
       "stream": "stdout",
       "text": [
        " 234 0.297297297297 0.0128205128205\n",
        "230 235 0.22972972973 0.0255319148936\n",
        "231"
       ]
      },
      {
       "output_type": "stream",
       "stream": "stdout",
       "text": [
        " 236 0.324324324324 0.0127118644068\n",
        "232 237 0.310810810811 0.0210970464135\n",
        "233"
       ]
      },
      {
       "output_type": "stream",
       "stream": "stdout",
       "text": [
        " 238 0.256756756757 0.0168067226891\n",
        "234 239 0.283783783784 0.0209205020921\n",
        "235"
       ]
      },
      {
       "output_type": "stream",
       "stream": "stdout",
       "text": [
        " 240 0.297297297297 0.00416666666667\n",
        "236 241 0.27027027027 0.0165975103734\n",
        "237"
       ]
      },
      {
       "output_type": "stream",
       "stream": "stdout",
       "text": [
        " 242 0.27027027027 0.0247933884298\n",
        "238 243 0.297297297297 0.0329218106996\n",
        "239"
       ]
      },
      {
       "output_type": "stream",
       "stream": "stdout",
       "text": [
        " 244 0.256756756757 0.016393442623\n",
        "240 245 0.283783783784 0.0244897959184\n",
        "241"
       ]
      },
      {
       "output_type": "stream",
       "stream": "stdout",
       "text": [
        " 246 0.27027027027 0.0243902439024\n",
        "242 247 0.297297297297 0.0161943319838\n",
        "243"
       ]
      },
      {
       "output_type": "stream",
       "stream": "stdout",
       "text": [
        " 248 0.256756756757 0.0120967741935\n",
        "244 249 0.283783783784 0.0200803212851\n",
        "245"
       ]
      },
      {
       "output_type": "stream",
       "stream": "stdout",
       "text": [
        " 250 0.22972972973 0.02\n",
        "246 251 0.297297297297 0.0239043824701\n",
        "247"
       ]
      },
      {
       "output_type": "stream",
       "stream": "stdout",
       "text": [
        " 252 0.243243243243 0.0198412698413\n",
        "248 253 0.256756756757 0.00790513833992\n",
        "249"
       ]
      },
      {
       "output_type": "stream",
       "stream": "stdout",
       "text": [
        " 254 0.22972972973 0.0236220472441\n",
        "250 255 0.27027027027 0.0156862745098\n",
        "251"
       ]
      },
      {
       "output_type": "stream",
       "stream": "stdout",
       "text": [
        " 256 0.27027027027 0.0234375\n",
        "252 257 0.27027027027 0.0194552529183\n",
        "253"
       ]
      },
      {
       "output_type": "stream",
       "stream": "stdout",
       "text": [
        " 258 0.256756756757 0.0193798449612\n",
        "254 259 0.216216216216 0.027027027027\n",
        "255"
       ]
      },
      {
       "output_type": "stream",
       "stream": "stdout",
       "text": [
        " 260 0.27027027027 0.0307692307692\n",
        "256 261 0.297297297297 0.0344827586207\n",
        "257"
       ]
      },
      {
       "output_type": "stream",
       "stream": "stdout",
       "text": [
        " 262 0.27027027027 0.0152671755725\n",
        "258 263 0.243243243243 0.0228136882129\n",
        "259"
       ]
      },
      {
       "output_type": "stream",
       "stream": "stdout",
       "text": [
        " 264 0.27027027027 0.0151515151515\n",
        "260 265 0.27027027027 0.0264150943396\n",
        "261"
       ]
      },
      {
       "output_type": "stream",
       "stream": "stdout",
       "text": [
        " 266 0.243243243243 0.0300751879699\n",
        "262 267 0.283783783784 0.0299625468165\n",
        "263"
       ]
      },
      {
       "output_type": "stream",
       "stream": "stdout",
       "text": [
        " 268 0.256756756757 0.0223880597015\n",
        "264 269 0.256756756757 0.0334572490706\n",
        "265"
       ]
      },
      {
       "output_type": "stream",
       "stream": "stdout",
       "text": [
        " 270 0.216216216216 0.0185185185185\n",
        "266 271 0.216216216216 0.0184501845018\n",
        "267"
       ]
      },
      {
       "output_type": "stream",
       "stream": "stdout",
       "text": [
        " 272 0.243243243243 0.0147058823529\n",
        "268 273 0.297297297297 0.018315018315\n",
        "269"
       ]
      },
      {
       "output_type": "stream",
       "stream": "stdout",
       "text": [
        " 274 0.27027027027 0.0255474452555\n",
        "270 275 0.22972972973 0.0181818181818\n",
        "271"
       ]
      },
      {
       "output_type": "stream",
       "stream": "stdout",
       "text": [
        " 276 0.22972972973 0.0398550724638\n",
        "272 277 0.243243243243 0.014440433213\n",
        "273"
       ]
      },
      {
       "output_type": "stream",
       "stream": "stdout",
       "text": [
        " 278 0.297297297297 0.0215827338129\n",
        "274 279 0.22972972973 0.0179211469534\n",
        "275"
       ]
      },
      {
       "output_type": "stream",
       "stream": "stdout",
       "text": [
        " 280 0.189189189189 0.0285714285714\n",
        "276 281 0.256756756757 0.0213523131673\n",
        "277"
       ]
      },
      {
       "output_type": "stream",
       "stream": "stdout",
       "text": [
        " 282 0.27027027027 0.0248226950355\n",
        "278 283 0.27027027027 0.0318021201413\n",
        "279"
       ]
      },
      {
       "output_type": "stream",
       "stream": "stdout",
       "text": [
        " 284 0.256756756757 0.0105633802817\n",
        "280 285 0.175675675676 0.0315789473684\n",
        "281"
       ]
      },
      {
       "output_type": "stream",
       "stream": "stdout",
       "text": [
        " 286 0.283783783784 0.013986013986\n",
        "282 287 0.189189189189 0.0174216027875\n",
        "283"
       ]
      },
      {
       "output_type": "stream",
       "stream": "stdout",
       "text": [
        " 288 0.243243243243 0.0208333333333\n",
        "284 289 0.243243243243 0.0242214532872\n",
        "285"
       ]
      },
      {
       "output_type": "stream",
       "stream": "stdout",
       "text": [
        " 290 0.243243243243 0.0172413793103\n",
        "286 291 0.27027027027 0.0103092783505\n",
        "287"
       ]
      },
      {
       "output_type": "stream",
       "stream": "stdout",
       "text": [
        " 292 0.283783783784 0.00684931506849\n",
        "288 293 0.22972972973 0.0102389078498\n",
        "(289,)"
       ]
      },
      {
       "output_type": "stream",
       "stream": "stdout",
       "text": [
        "\n",
        "[  6   6   7   8   9  10  11  12  13  14  15  16  17  18  19  20  21  22\n",
        "  23  24  25  26  27  28  29  30  31  32  33  34  35  36  37  38  39  40\n",
        "  41  42  43  44  45  46  47  48  49  50  51  52  53  54  55  56  57  58\n",
        "  59  60  61  62  63  64  65  66  67  68  69  70  71  72  73  74  75  76\n",
        "  77  78  79  80  81  82  83  84  85  86  87  88  89  90  91  92  93  94\n",
        "  95  96  97  98  99 100 101 102 103 104 105 106 107 108 109 110 111 112\n",
        " 113 114 115 116 117 118 119 120 121 122 123 124 125 126 127 128 129 130\n",
        " 131 132 133 134 135 136 137 138 139 140 141 142 143 144 145 146 147 148\n",
        " 149 150 151 152 153 154 155 156 157 158 159 160 161 162 163 164 165 166\n",
        " 167 168 169 170 171 172 173 174 175 176 177 178 179 180 181 182 183 184\n",
        " 185 186 187 188 189 190 191 192 193 194 195 196 197 198 199 200 201 202\n",
        " 203 204 205 206 207 208 209 210 211 212 213 214 215 216 217 218 219 220\n",
        " 221 222 223 224 225 226 227 228 229 230 231 232 233 234 235 236 237 238\n",
        " 239 240 241 242 243 244 245 246 247 248 249 250 251 252 253 254 255 256\n",
        " 257 258 259 260 261 262 263 264 265 266 267 268 269 270 271 272 273 274\n",
        " 275 276 277 278 279 280 281 282 283 284 285 286 287 288 289 290 291 292\n",
        " 293]\n"
       ]
      },
      {
       "metadata": {},
       "output_type": "display_data",
       "png": "[encoded data removed]",
       "text": [
        "<matplotlib.figure.Figure at 0x353ca50>"
       ]
      }
     ],
     "prompt_number": 24
    },
    {
     "cell_type": "code",
     "collapsed": false,
     "input": [
      "data_train.shape\n",
      "%timeit -n 10000 drzewko1.predict(data_train[randint(0,293),:])"
     ],
     "language": "python",
     "metadata": {},
     "outputs": [
      {
       "output_type": "stream",
       "stream": "stdout",
       "text": [
        "10000 loops, best of 3: 2.65 ms per loop\n"
       ]
      }
     ],
     "prompt_number": 87
    },
    {
     "cell_type": "code",
     "collapsed": false,
     "input": [
      "%timeit -n 10000 model.predict(data_train[randint(0,293),:])"
     ],
     "language": "python",
     "metadata": {},
     "outputs": [
      {
       "output_type": "stream",
       "stream": "stdout",
       "text": [
        "10000 loops, best of 3: 79 \u00b5s per loop\n"
       ]
      }
     ],
     "prompt_number": 88
    },
    {
     "cell_type": "code",
     "collapsed": false,
     "input": [
      "randint(0,10)"
     ],
     "language": "python",
     "metadata": {},
     "outputs": [
      {
       "metadata": {},
       "output_type": "pyout",
       "prompt_number": 81,
       "text": [
        "3"
       ]
      }
     ],
     "prompt_number": 81
    },
    {
     "cell_type": "code",
     "collapsed": false,
     "input": [],
     "language": "python",
     "metadata": {},
     "outputs": []
    }
   ],
   "metadata": {}
  }
 ]
}