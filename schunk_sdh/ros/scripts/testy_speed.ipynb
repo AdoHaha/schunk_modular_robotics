{
 "metadata": {
  "name": ""
 },
 "nbformat": 3,
 "nbformat_minor": 0,
 "worksheets": [
  {
   "cells": [
    {
     "cell_type": "code",
     "collapsed": false,
     "input": [
      "'''prediction node'''\n",
      "import roslib; \n",
      "roslib.load_manifest('schunk_sdh')\n",
      "import sys \n",
      "import rospy\n",
      "import roslib\n",
      "import cob_srvs.srv\n",
      "import std_msgs.msg\n",
      "import control_msgs.msg\n",
      "import actionlib_msgs.msg\n",
      "import trajectory_msgs.msg\n",
      "import collections\n",
      "from std_msgs.msg import String\n",
      "from std_msgs.msg import Float64\n",
      "\n",
      "from dlonurdf.msg import Rekawica\n",
      "from dlonurdf.msg import Hand\n",
      "import dlonurdf.msg\n",
      "\n",
      "import numpy as np\n",
      "from sklearn.svm import SVC\n",
      "import sklearn\n",
      "import pylab\n",
      "from sklearn import cross_validation\n",
      "import pickle\n",
      "#savedresults = pickle.load( open( \"predictionobject2.p\", \"rb\" ) )\n",
      "#savedresults = pickle.load( open( \"predictionobject_all_people_new.p\",\"rb\"))\n",
      "savedresults = pickle.load( open(\"predictionobject_all_linear.p\",\"rb\"))\n",
      "print savedresults\n",
      "clf=savedresults[\"predictor\"]\n",
      "scaler=savedresults[\"scaler\"]"
     ],
     "language": "python",
     "metadata": {},
     "outputs": [
      {
       "output_type": "stream",
       "stream": "stdout",
       "text": [
        "{'predictor': LinearSVC(C=51.984153366799369, class_weight=None, dual=True,\n",
        "     fit_intercept=True, intercept_scaling=1, loss='l2', multi_class='ovr',\n",
        "     penalty='l2', random_state=None, tol=0.0001, verbose=0), 'scaler': StandardScaler(copy=True, with_mean=True, with_std=True)}\n"
       ]
      }
     ],
     "prompt_number": 1
    },
    {
     "cell_type": "code",
     "collapsed": false,
     "input": [
      "%timeit -n 10000 clf.predict(scaler.transform(Xfull[randint(0,293),:]).astype(float))\n",
      "#%timeit -n 10000 clf.predict(Xfull[randint(0,293),:].astype(float))"
     ],
     "language": "python",
     "metadata": {},
     "outputs": [
      {
       "output_type": "stream",
       "stream": "stdout",
       "text": [
        "10000 loops, best of 3: 81.5 \u00b5s per loop\n"
       ]
      }
     ],
     "prompt_number": 8
    },
    {
     "cell_type": "code",
     "collapsed": false,
     "input": [
      "### preparing data \n",
      "before=pickle.load(open(\"alluptonow.p\",\"rb\"))\n",
      "iz=pickle.load(open(\"alluptonowIZ.p\",\"rb\"))\n",
      "gg=pickle.load(open(\"alluptonowgg.p\",\"rb\"))\n",
      "prze=pickle.load(open(\"alluptonowPrze.p\",\"rb\"))\n",
      "tig=pickle.load(open(\"alluptonowTigran.p\",\"rb\"))\n",
      "zar=pickle.load(open(\"alluptonowZar2.p\",\"rb\"))\n",
      "zar2=pickle.load(open(\"alluptonowZar3.p\",\"rb\"))\n",
      "mar=pickle.load(open(\"alluptonowMar.p\",\"rb\"))\n",
      "sud=pickle.load(open(\"alluptonowSud.p\",\"rb\"))\n",
      "sud2=pickle.load(open(\"alluptonowSud2.p\",\"rb\"))\n",
      "iz2=pickle.load(open(\"alluptonowIZ2.p\",\"rb\"))\n",
      "iz3=pickle.load(open(\"igor_new4.p\",\"rb\"))\n",
      "allexamples=before+iz+gg+prze+tig+zar+zar2+mar+sud+iz3\n",
      "#weights=[x+[0.5] for x in allexamples] #add weight for old data\n",
      "#iz3=pickle.load(open(\"igor_new.p\",\"rb\"))\n",
      "#weights2=[x+[1.0] for x in iz3]\n",
      "#allexamples_w=weights+weights2 #all data plus weights\n",
      "print np.random.shuffle(allexamples),np.random.shuffle(allexamples),np.random.shuffle(allexamples)\n",
      "allexamples2=array(allexamples)\n",
      "print allexamples2.shape\n",
      "\n",
      "#allexamples3.shape\n",
      "Xfull,Yfull=allexamples2[:, 1:11],allexamples2[:, 0]\n",
      "print Xfull.shape, Yfull.shape\n",
      "print len(sud)"
     ],
     "language": "python",
     "metadata": {},
     "outputs": [
      {
       "output_type": "stream",
       "stream": "stdout",
       "text": [
        "None None None\n",
        "(377, 11)\n",
        "(377, 10) (377,)\n",
        "28\n"
       ]
      }
     ],
     "prompt_number": 3
    },
    {
     "cell_type": "code",
     "collapsed": false,
     "input": [],
     "language": "python",
     "metadata": {},
     "outputs": []
    }
   ],
   "metadata": {}
  }
 ]
}