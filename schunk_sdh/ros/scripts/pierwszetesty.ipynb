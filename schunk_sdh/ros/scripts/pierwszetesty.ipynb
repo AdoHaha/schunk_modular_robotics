{
 "metadata": {
  "name": ""
 },
 "nbformat": 3,
 "nbformat_minor": 0,
 "worksheets": [
  {
   "cells": [
    {
     "cell_type": "code",
     "collapsed": true,
     "input": [
      "import roslib; \n",
      "roslib.load_manifest('schunk_sdh')\n",
      "import sys \n",
      "import rospy\n",
      "import roslib\n",
      "import cob_srvs.srv\n",
      "import std_msgs.msg\n",
      "import control_msgs.msg\n",
      "import actionlib_msgs.msg\n",
      "import trajectory_msgs.msg\n",
      "import collections\n"
     ],
     "language": "python",
     "metadata": {},
     "outputs": [
      {
       "ename": "ImportError",
       "evalue": "No module named String.msg",
       "output_type": "pyerr",
       "traceback": [
        "\u001b[1;31m---------------------------------------------------------------------------\u001b[0m\n\u001b[1;31mImportError\u001b[0m                               Traceback (most recent call last)",
        "\u001b[1;32m<ipython-input-42-ad7f8b1f98be>\u001b[0m in \u001b[0;36m<module>\u001b[1;34m()\u001b[0m\n\u001b[0;32m     10\u001b[0m \u001b[1;32mimport\u001b[0m \u001b[0mtrajectory_msgs\u001b[0m\u001b[1;33m.\u001b[0m\u001b[0mmsg\u001b[0m\u001b[1;33m\u001b[0m\u001b[0m\n\u001b[0;32m     11\u001b[0m \u001b[1;32mimport\u001b[0m \u001b[0mcollections\u001b[0m\u001b[1;33m\u001b[0m\u001b[0m\n\u001b[1;32m---> 12\u001b[1;33m \u001b[1;32mimport\u001b[0m \u001b[0mString\u001b[0m\u001b[1;33m.\u001b[0m\u001b[0mmsg\u001b[0m\u001b[1;33m\u001b[0m\u001b[0m\n\u001b[0m",
        "\u001b[1;31mImportError\u001b[0m: No module named String.msg"
       ]
      }
     ],
     "prompt_number": 42
    },
    {
     "cell_type": "code",
     "collapsed": false,
     "input": [
      "rospy.wait_for_service('/sdh_controller/init')\n",
      "try:\n",
      "          inithand = rospy.ServiceProxy('/sdh_controller/init', cob_srvs.srv.Trigger)\n",
      "          resp1 = inithand()\n",
      "          print resp1\n",
      "          #return resp1.sum\n",
      "except rospy.ServiceException, e:\n",
      "          print \"Service call failed: %s\"%e"
     ],
     "language": "python",
     "metadata": {},
     "outputs": [
      {
       "output_type": "stream",
       "stream": "stdout",
       "text": [
        "success: \n",
        "  data: True\n",
        "error_message: \n",
        "  data: ''\n"
       ]
      }
     ],
     "prompt_number": 5
    },
    {
     "cell_type": "code",
     "collapsed": true,
     "input": [
      "\n",
      "\n",
      "\n",
      "pub = rospy.Publisher('/sdh_controller/follow_joint_trajectory/goal', control_msgs.msg.FollowJointTrajectoryActionGoal)\n",
      "rospy.init_node('ipythoncontrol')"
     ],
     "language": "python",
     "metadata": {},
     "outputs": [],
     "prompt_number": 6
    },
    {
     "cell_type": "code",
     "collapsed": false,
     "input": [
      "print rospy"
     ],
     "language": "python",
     "metadata": {},
     "outputs": [
      {
       "output_type": "stream",
       "stream": "stdout",
       "text": [
        "<module 'rospy' from '/opt/ros/groovy/lib/python2.7/dist-packages/rospy/__init__.pyc'>\n"
       ]
      }
     ],
     "prompt_number": 7
    },
    {
     "cell_type": "code",
     "collapsed": true,
     "input": [
      "def gotopoint(pospos):\n",
      "    \n",
      "    punktdocel=trajectory_msgs.msg.JointTrajectoryPoint()\n",
      "    punktdocel.positions=pospos\n",
      "    punktdocel.velocities=[0.0,0.0,0.0,0.0,0.0,0.0,0.0]\n",
      "    mes=control_msgs.msg.FollowJointTrajectoryActionGoal()\n",
      "    mes.goal.trajectory.points.append(punktdocel)\n",
      "    h = std_msgs.msg.Header()\n",
      "    h.stamp = rospy.Time.now() # Note you need to call rospy.init_node() before this will work\n",
      "    mes.header=h\n",
      "    #mes.goal.trajectory.points=goalpos #=goalpos\n",
      "    #type(mes.goal.trajectory.points) #=goalpos\n",
      "    wyn=pub.publish(mes)\n",
      "    #print mes"
     ],
     "language": "python",
     "metadata": {},
     "outputs": [],
     "prompt_number": 8
    },
    {
     "cell_type": "code",
     "collapsed": true,
     "input": [
      "gotopoint([0,0,0,0,0,0,0])"
     ],
     "language": "python",
     "metadata": {},
     "outputs": [],
     "prompt_number": 16
    },
    {
     "cell_type": "code",
     "collapsed": false,
     "input": [
      "#TODO\n",
      "#rosservice call /sdh_controller/set_operation_mode [softposition]\n",
      "def setOperationMode(operationmode):\n",
      "    \n",
      "    rospy.wait_for_service('/sdh_controller/set_operation_mode')\n",
      "    try:\n",
      "              optype = rospy.ServiceProxy('/sdh_controller/set_operation_mode', cob_srvs.srv.SetOperationMode)\n",
      "              typetoset=std_msgs.msg.String()\n",
      "              typetoset.data=operationmode\n",
      "              #print inithand\n",
      "              #optype.operation_mode=\"softposition\"\n",
      "              #optype.data='softposition'\n",
      "              optype2 = optype(typetoset)\n",
      "              #print resp1\n",
      "              #return resp1.sum\n",
      "    except rospy.ServiceException, e:\n",
      "              print \"Service call failed: %s\"%e\n",
      "    return optype2.success"
     ],
     "language": "python",
     "metadata": {},
     "outputs": [],
     "prompt_number": 45
    },
    {
     "cell_type": "code",
     "collapsed": true,
     "input": [
      "setOperationMode(\"position\")"
     ],
     "language": "python",
     "metadata": {},
     "outputs": [],
     "prompt_number": 46
    },
    {
     "cell_type": "code",
     "collapsed": false,
     "input": [
      "rospy.get_name()"
     ],
     "language": "python",
     "metadata": {},
     "outputs": [
      {
       "output_type": "pyout",
       "prompt_number": 52,
       "text": [
        "'/ipythoncontrol'"
       ]
      }
     ],
     "prompt_number": 52
    },
    {
     "cell_type": "code",
     "collapsed": false,
     "input": [
      "plot([1,2,3],[1,2,4])"
     ],
     "language": "python",
     "metadata": {},
     "outputs": [
      {
       "ename": "NameError",
       "evalue": "name 'plot' is not defined",
       "output_type": "pyerr",
       "traceback": [
        "\u001b[0;31m---------------------------------------------------------------------------\u001b[0m\n\u001b[0;31mNameError\u001b[0m                                 Traceback (most recent call last)",
        "\u001b[0;32m/home/ros/<ipython-input-10-d435e68e30ed>\u001b[0m in \u001b[0;36m<module>\u001b[0;34m()\u001b[0m\n\u001b[0;32m----> 1\u001b[0;31m \u001b[0mplot\u001b[0m\u001b[0;34m(\u001b[0m\u001b[0;34m[\u001b[0m\u001b[0;36m1\u001b[0m\u001b[0;34m,\u001b[0m\u001b[0;36m2\u001b[0m\u001b[0;34m,\u001b[0m\u001b[0;36m3\u001b[0m\u001b[0;34m]\u001b[0m\u001b[0;34m,\u001b[0m\u001b[0;34m[\u001b[0m\u001b[0;36m1\u001b[0m\u001b[0;34m,\u001b[0m\u001b[0;36m2\u001b[0m\u001b[0;34m,\u001b[0m\u001b[0;36m4\u001b[0m\u001b[0;34m]\u001b[0m\u001b[0;34m)\u001b[0m\u001b[0;34m\u001b[0m\u001b[0m\n\u001b[0m",
        "\u001b[0;31mNameError\u001b[0m: name 'plot' is not defined"
       ]
      }
     ],
     "prompt_number": 10
    },
    {
     "cell_type": "code",
     "collapsed": true,
     "input": [],
     "language": "python",
     "metadata": {},
     "outputs": []
    }
   ],
   "metadata": {}
  }
 ]
}