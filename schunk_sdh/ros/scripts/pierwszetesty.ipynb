{
 "metadata": {
  "name": "pierwszetesty"
 }, 
 "nbformat": 2, 
 "worksheets": [
  {
   "cells": [
    {
     "cell_type": "code", 
     "collapsed": true, 
     "input": [
      "import roslib; ", 
      "roslib.load_manifest('schunk_sdh')", 
      "import sys ", 
      "import rospy", 
      "import roslib", 
      "import cob_srvs.srv", 
      "import std_msgs.msg", 
      "import control_msgs.msg", 
      "import actionlib_msgs.msg", 
      "import trajectory_msgs.msg", 
      "import collections"
     ], 
     "language": "python", 
     "outputs": [], 
     "prompt_number": 1
    }, 
    {
     "cell_type": "code", 
     "collapsed": false, 
     "input": [
      "rospy.wait_for_service('/sdh_controller/init')", 
      "try:", 
      "          inithand = rospy.ServiceProxy('/sdh_controller/init', cob_srvs.srv.Trigger)", 
      "          resp1 = inithand()", 
      "          print resp1", 
      "          #return resp1.sum", 
      "except rospy.ServiceException, e:", 
      "          print \"Service call failed: %s\"%e"
     ], 
     "language": "python", 
     "outputs": [
      {
       "output_type": "stream", 
       "stream": "stdout", 
       "text": [
        "success: ", 
        "  data: True", 
        "error_message: ", 
        "  data: ''"
       ]
      }
     ], 
     "prompt_number": 2
    }, 
    {
     "cell_type": "code", 
     "collapsed": true, 
     "input": [
      "", 
      "", 
      "", 
      "pub = rospy.Publisher('/sdh_controller/follow_joint_trajectory/goal', control_msgs.msg.FollowJointTrajectoryActionGoal)", 
      "rospy.init_node('ipythoncontrol')"
     ], 
     "language": "python", 
     "outputs": [], 
     "prompt_number": 3
    }, 
    {
     "cell_type": "code", 
     "collapsed": false, 
     "input": [
      "print rospy"
     ], 
     "language": "python", 
     "outputs": [
      {
       "output_type": "stream", 
       "stream": "stdout", 
       "text": [
        "<module 'rospy' from '/opt/ros/fuerte/lib/python2.7/dist-packages/rospy/__init__.pyc'>"
       ]
      }
     ], 
     "prompt_number": 4
    }, 
    {
     "cell_type": "code", 
     "collapsed": true, 
     "input": [
      "def gotopoint(pospos):", 
      "    ", 
      "    punktdocel=trajectory_msgs.msg.JointTrajectoryPoint()", 
      "    punktdocel.positions=pospos", 
      "    punktdocel.velocities=[0.0,0.0,0.0,0.0,0.0,0.0,0.0]", 
      "    mes=control_msgs.msg.FollowJointTrajectoryActionGoal()", 
      "    mes.goal.trajectory.points.append(punktdocel)", 
      "    h = std_msgs.msg.Header()", 
      "    h.stamp = rospy.Time.now() # Note you need to call rospy.init_node() before this will work", 
      "    mes.header=h", 
      "    #mes.goal.trajectory.points=goalpos #=goalpos", 
      "    #type(mes.goal.trajectory.points) #=goalpos", 
      "    wyn=pub.publish(mes)", 
      "    #print mes"
     ], 
     "language": "python", 
     "outputs": [], 
     "prompt_number": 5
    }, 
    {
     "cell_type": "code", 
     "collapsed": true, 
     "input": [
      "gotopoint([0,0,0,0,0,0,0])"
     ], 
     "language": "python", 
     "outputs": [], 
     "prompt_number": 8
    }, 
    {
     "cell_type": "code", 
     "collapsed": false, 
     "input": [
      "#TODO", 
      "rosservice call /sdh_controller/set_operation_mode [softposition]", 
      "", 
      "rospy.wait_for_service('/sdh_controller/set_operation_mode')", 
      "try:", 
      "          inithand = rospy.ServiceProxy('/sdh_controller/set_operation_mode', cob_srvs.srv.Trigger)", 
      "          resp1 = inithand()", 
      "          print resp1", 
      "          #return resp1.sum", 
      "except rospy.ServiceException, e:", 
      "          print \"Service call failed: %s\"%e"
     ], 
     "language": "python", 
     "outputs": [
      {
       "output_type": "stream", 
       "stream": "stdout", 
       "text": [
        "<module 'roslib' from '/opt/ros/fuerte/lib/python2.7/dist-packages/roslib/__init__.pyc'>"
       ]
      }
     ], 
     "prompt_number": 29
    }, 
    {
     "cell_type": "code", 
     "collapsed": true, 
     "input": [
      "def togo(tocojest):", 
      "    print tocojest"
     ], 
     "language": "python", 
     "outputs": [], 
     "prompt_number": 46
    }, 
    {
     "cell_type": "code", 
     "collapsed": false, 
     "input": [
      "rospy.get_name()"
     ], 
     "language": "python", 
     "outputs": [
      {
       "output_type": "pyout", 
       "prompt_number": 52, 
       "text": [
        "'/ipythoncontrol'"
       ]
      }
     ], 
     "prompt_number": 52
    }, 
    {
     "cell_type": "code", 
     "collapsed": false, 
     "input": [
      "plot([1,2,3],[1,2,4])"
     ], 
     "language": "python", 
     "outputs": [
      {
       "ename": "NameError", 
       "evalue": "name 'plot' is not defined", 
       "output_type": "pyerr", 
       "traceback": [
        "\u001b[0;31m---------------------------------------------------------------------------\u001b[0m\n\u001b[0;31mNameError\u001b[0m                                 Traceback (most recent call last)", 
        "\u001b[0;32m/home/ros/<ipython-input-10-d435e68e30ed>\u001b[0m in \u001b[0;36m<module>\u001b[0;34m()\u001b[0m\n\u001b[0;32m----> 1\u001b[0;31m \u001b[0mplot\u001b[0m\u001b[0;34m(\u001b[0m\u001b[0;34m[\u001b[0m\u001b[0;36m1\u001b[0m\u001b[0;34m,\u001b[0m\u001b[0;36m2\u001b[0m\u001b[0;34m,\u001b[0m\u001b[0;36m3\u001b[0m\u001b[0;34m]\u001b[0m\u001b[0;34m,\u001b[0m\u001b[0;34m[\u001b[0m\u001b[0;36m1\u001b[0m\u001b[0;34m,\u001b[0m\u001b[0;36m2\u001b[0m\u001b[0;34m,\u001b[0m\u001b[0;36m4\u001b[0m\u001b[0;34m]\u001b[0m\u001b[0;34m)\u001b[0m\u001b[0;34m\u001b[0m\u001b[0m\n\u001b[0m", 
        "\u001b[0;31mNameError\u001b[0m: name 'plot' is not defined"
       ]
      }
     ], 
     "prompt_number": 10
    }, 
    {
     "cell_type": "code", 
     "collapsed": true, 
     "input": [], 
     "language": "python", 
     "outputs": []
    }
   ]
  }
 ]
}