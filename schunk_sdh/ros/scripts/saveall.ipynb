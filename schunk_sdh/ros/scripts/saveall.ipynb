{
 "metadata": {
  "name": ""
 },
 "nbformat": 3,
 "nbformat_minor": 0,
 "worksheets": [
  {
   "cells": [
    {
     "cell_type": "code",
     "collapsed": false,
     "input": [
      "#!/usr/bin/env python\n",
      "\n",
      "import math,random,pygame\n",
      "\n",
      "\n",
      "\n",
      "'''prediction node'''\n",
      "import roslib; \n",
      "roslib.load_manifest('handkinect')\n",
      "import sys \n",
      "import rospy\n",
      "import roslib\n",
      "\n",
      "from std_msgs.msg import String\n",
      "from std_msgs.msg import Float64\n",
      "from dlonurdf.msg import Rekawica\n",
      "from dlonurdf.msg import Hand\n",
      "from handkinect.msg import HandKinect\n",
      "import numpy as np\n",
      "from sklearn.svm import SVC\n",
      "import sklearn\n",
      "import pylab\n",
      "from sklearn import cross_validation\n",
      "import pickle\n",
      "lastarray=[]\n",
      "alluptonow=[]\n",
      "tfFrameNames=[\"root\",\"wrist\",\"thumb_proximal\",\"thumb_medial\",\"thumb_distal\",\"index_proximal\",\"index_medial\",\"index_distal\",\n",
      "\"middle_proximal\",\"middle_medial\",\"middle_distal\",\"ring_proximal\",\"ring_medial\",\"ring_distal\",\"pinky_proximal\",\"pinky_medial\",\"pinky_distal\"]\n",
      "\n",
      "def lastzr(zrekawicy):\n",
      "\tglobal lastarray\n",
      "\tlastarray=[zrekawicy.kciuk0,zrekawicy.palwska0,zrekawicy.palsro0,\n",
      "             zrekawicy.palser0,zrekawicy.palmal0,zrekawicy.palmal1,\n",
      "             zrekawicy.palser1,zrekawicy.palsro1,\n",
      "             zrekawicy.palwska1,zrekawicy.kciuk1]\n",
      "def kinect(zkinecta):\n",
      "    global lastarray\n",
      "    wholeframe=[zkinecta.__getattr__(element) for element in tfFrameNames]\n",
      "    wholeframe.extend(lastarray)\n",
      "    alluptonow.append(wholeframe)\n",
      "    pickle.dump( alluptonow, open( \"dokalib.p\", \"wb\" ) )\n",
      "    "
     ],
     "language": "python",
     "metadata": {},
     "outputs": [],
     "prompt_number": 1
    },
    {
     "cell_type": "code",
     "collapsed": false,
     "input": [
      "rospy.init_node('keyboardsave')\n",
      "rospy.Subscriber(\"rekawica\",Rekawica,lastzr)\n",
      "rospy.Subscriber(\"hand_angles\",HandKinect,kinect)"
     ],
     "language": "python",
     "metadata": {},
     "outputs": [
      {
       "metadata": {},
       "output_type": "pyout",
       "prompt_number": 2,
       "text": [
        "<rospy.topics.Subscriber at 0x5c3fd90>"
       ]
      }
     ],
     "prompt_number": 2
    },
    {
     "cell_type": "code",
     "collapsed": false,
     "input": [],
     "language": "python",
     "metadata": {},
     "outputs": []
    }
   ],
   "metadata": {}
  }
 ]
}