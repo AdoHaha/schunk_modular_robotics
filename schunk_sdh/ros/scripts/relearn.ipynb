{
 "metadata": {
  "name": ""
 },
 "nbformat": 3,
 "nbformat_minor": 0,
 "worksheets": [
  {
   "cells": [
    {
     "cell_type": "code",
     "collapsed": false,
     "input": [
      "'''prediction node'''\n",
      "import roslib; \n",
      "roslib.load_manifest('schunk_sdh')\n",
      "import sys \n",
      "import rospy\n",
      "import roslib\n",
      "import cob_srvs.srv\n",
      "import std_msgs.msg\n",
      "import control_msgs.msg\n",
      "import actionlib_msgs.msg\n",
      "import trajectory_msgs.msg\n",
      "import collections\n",
      "from std_msgs.msg import String\n",
      "from std_msgs.msg import Float64\n",
      "\n",
      "from dlonurdf.msg import Rekawica\n",
      "from dlonurdf.msg import Hand\n",
      "\n",
      "import numpy as np\n",
      "from sklearn.svm import SVC\n",
      "import sklearn\n",
      "import pylab\n",
      "from sklearn import cross_validation\n",
      "import pickle\n",
      "#savedresults = pickle.load( open( \"predictionobject2.p\", \"rb\" ) )\n",
      "savedresults = pickle.load( open( \"predictionobject_all_people.p\",\"rb\"))\n",
      "print savedresults\n",
      "clf=savedresults[\"predictor\"]\n",
      "scaler=savedresults[\"scaler\"]\n",
      "\n",
      "\n"
     ],
     "language": "python",
     "metadata": {},
     "outputs": [
      {
       "output_type": "stream",
       "stream": "stdout",
       "text": [
        "{'predictor': SVC(C=8.0, cache_size=200, class_weight=None, coef0=0.0, degree=3,\n",
        "  gamma=0.03125, kernel='rbf', max_iter=-1, probability=False,\n",
        "  random_state=None, shrinking=True, tol=0.001, verbose=False), 'scaler': StandardScaler(copy=True, with_mean=True, with_std=True)}\n"
       ]
      }
     ],
     "prompt_number": 7
    },
    {
     "cell_type": "code",
     "collapsed": false,
     "input": [
      "### preparing data \n",
      "before=pickle.load(open(\"alluptonow.p\",\"rb\"))\n",
      "iz=pickle.load(open(\"alluptonowIZ.p\",\"rb\"))\n",
      "gg=pickle.load(open(\"alluptonowgg.p\",\"rb\"))\n",
      "prze=pickle.load(open(\"alluptonowPrze.p\",\"rb\"))\n",
      "tig=pickle.load(open(\"alluptonowTigran.p\",\"rb\"))\n",
      "zar=pickle.load(open(\"alluptonowZar2.p\",\"rb\"))\n",
      "zar2=pickle.load(open(\"alluptonowZar3.p\",\"rb\"))\n",
      "mar=pickle.load(open(\"alluptonowMar.p\",\"rb\"))\n",
      "sud=pickle.load(open(\"alluptonowSud.p\",\"rb\"))\n",
      "sud2=pickle.load(open(\"alluptonowSud2.p\",\"rb\"))\n",
      "iz2=pickle.load(open(\"alluptonowIZ2.p\",\"rb\"))\n",
      "allexamples=before+iz+gg+prze+tig+zar+zar2+mar+sud\n",
      "weights=[x+[0.25] for x in allexamples] #add weight for old data\n",
      "iz3=pickle.load(open(\"igor_new4.p\",\"rb\"))\n",
      "weights2=[x+[1.0] for x in iz3]\n",
      "allexamples_w=weights+weights2 #all data plus weights\n",
      "#print np.random.shuffle(allexamples),np.random.shuffle(allexamples),np.random.shuffle(allexamples)\n",
      "allexamples2=array(allexamples_w)\n",
      "#print allexamples2[1,:]\n",
      "#print allexamples2.shape\n",
      "\n",
      "#allexamples3.shape\n",
      "Xfull,Yfull,weights=allexamples2[:, 1:11],allexamples2[:, 0],allexamples2[:,11]\n",
      "print weights\n",
      "print Xfull[100,:]\n",
      "#print Xfull.shape, Yfull.shape\n",
      "print len(sud)"
     ],
     "language": "python",
     "metadata": {},
     "outputs": [
      {
       "output_type": "stream",
       "stream": "stdout",
       "text": [
        "[ 0.25  0.25  0.25  0.25  0.25  0.25  0.25  0.25  0.25  0.25  0.25  0.25\n",
        "  0.25  0.25  0.25  0.25  0.25  0.25  0.25  0.25  0.25  0.25  0.25  0.25\n",
        "  0.25  0.25  0.25  0.25  0.25  0.25  0.25  0.25  0.25  0.25  0.25  0.25\n",
        "  0.25  0.25  0.25  0.25  0.25  0.25  0.25  0.25  0.25  0.25  0.25  0.25\n",
        "  0.25  0.25  0.25  0.25  0.25  0.25  0.25  0.25  0.25  0.25  0.25  0.25\n",
        "  0.25  0.25  0.25  0.25  0.25  0.25  0.25  0.25  0.25  0.25  0.25  0.25\n",
        "  0.25  0.25  0.25  0.25  0.25  0.25  0.25  0.25  0.25  0.25  0.25  0.25\n",
        "  0.25  0.25  0.25  0.25  0.25  0.25  0.25  0.25  0.25  0.25  0.25  0.25\n",
        "  0.25  0.25  0.25  0.25  0.25  0.25  0.25  0.25  0.25  0.25  0.25  0.25\n",
        "  0.25  0.25  0.25  0.25  0.25  0.25  0.25  0.25  0.25  0.25  0.25  0.25\n",
        "  0.25  0.25  0.25  0.25  0.25  0.25  0.25  0.25  0.25  0.25  0.25  0.25\n",
        "  0.25  0.25  0.25  0.25  0.25  0.25  0.25  0.25  0.25  0.25  0.25  0.25\n",
        "  0.25  0.25  0.25  0.25  0.25  0.25  0.25  0.25  0.25  0.25  0.25  0.25\n",
        "  0.25  0.25  0.25  0.25  0.25  0.25  0.25  0.25  0.25  0.25  0.25  0.25\n",
        "  0.25  0.25  0.25  0.25  0.25  0.25  0.25  0.25  0.25  0.25  0.25  0.25\n",
        "  0.25  0.25  0.25  0.25  0.25  0.25  0.25  0.25  0.25  0.25  0.25  0.25\n",
        "  0.25  0.25  0.25  0.25  0.25  0.25  0.25  0.25  0.25  0.25  0.25  0.25\n",
        "  0.25  0.25  0.25  0.25  0.25  0.25  0.25  0.25  0.25  0.25  0.25  0.25\n",
        "  0.25  0.25  0.25  0.25  0.25  0.25  0.25  0.25  0.25  0.25  0.25  0.25\n",
        "  0.25  0.25  0.25  0.25  0.25  0.25  0.25  0.25  0.25  0.25  0.25  0.25\n",
        "  0.25  0.25  0.25  0.25  0.25  0.25  0.25  0.25  0.25  0.25  0.25  0.25\n",
        "  0.25  0.25  0.25  0.25  0.25  0.25  0.25  0.25  0.25  0.25  0.25  0.25\n",
        "  0.25  0.25  0.25  0.25  0.25  0.25  0.25  0.25  0.25  0.25  0.25  0.25\n",
        "  0.25  0.25  0.25  0.25  0.25  0.25  0.25  0.25  0.25  0.25  0.25  0.25\n",
        "  0.25  0.25  0.25  0.25  0.25  0.25  0.25  0.25  0.25  0.25  0.25  0.25\n",
        "  0.25  0.25  0.25  0.25  0.25  0.25  0.25  0.25  0.25  0.25  0.25  0.25\n",
        "  0.25  0.25  0.25  0.25  0.25  0.25  0.25  0.25  0.25  0.25  0.25  0.25\n",
        "  0.25  0.25  0.25  0.25  0.25  0.25  0.25  0.25  0.25  0.25  0.25  0.25\n",
        "  0.25  0.25  0.25  0.25  0.25  0.25  0.25  0.25  0.25  0.25  0.25  0.25\n",
        "  0.25  0.25  0.25  0.25  0.25  0.25  0.25  0.25  0.25  0.25  0.25  0.25\n",
        "  0.25  0.25  0.25  0.25  0.25  0.25  0.25  1.    1.    1.    1.    1.    1.\n",
        "  1.    1.    1.    1.  ]\n",
        "[ 255.  309.  262.  193.  119.  207.  233.  195.  320.  233.]\n",
        "28\n"
       ]
      }
     ],
     "prompt_number": 41
    },
    {
     "cell_type": "code",
     "collapsed": false,
     "input": [
      "X_scaled=scaler.transform(Xfull)\n",
      "#clf3=sklearn.svm.SVC(C=16.0, cache_size=200, class_weight=None, coef0=0.0, degree=3,\n",
      "#  gamma=0.03125, kernel='rbf', max_iter=-1, probability=False,\n",
      "#  random_state=None, shrinking=True, tol=0.001, verbose=False)\n",
      "clf.fit(X_scaled,Yfull,sample_weight=4*weights)\n",
      "resultsp={\"scaler\":scaler,\"predictor\":clf}\n",
      "pickle.dump( resultsp, open( \"predictionobject_all_people_new.p\", \"wb\" ) )\n"
     ],
     "language": "python",
     "metadata": {},
     "outputs": [],
     "prompt_number": 43
    },
    {
     "cell_type": "code",
     "collapsed": false,
     "input": [
      "print f"
     ],
     "language": "python",
     "metadata": {},
     "outputs": [
      {
       "output_type": "stream",
       "stream": "stdout",
       "text": [
        "[1, 2]\n"
       ]
      }
     ],
     "prompt_number": 5
    },
    {
     "cell_type": "code",
     "collapsed": false,
     "input": [
      "print f.pop()"
     ],
     "language": "python",
     "metadata": {},
     "outputs": [
      {
       "output_type": "stream",
       "stream": "stdout",
       "text": [
        "2\n"
       ]
      }
     ],
     "prompt_number": 6
    },
    {
     "cell_type": "code",
     "collapsed": false,
     "input": [
      "iz3=pickle.load(open(\"glove_current.pkl\",\"rb\"))\n",
      "iz4=pickle.load(open(\"igor_new2.p\",\"rb\"))"
     ],
     "language": "python",
     "metadata": {},
     "outputs": [],
     "prompt_number": 30
    },
    {
     "cell_type": "code",
     "collapsed": false,
     "input": [
      "print iz3"
     ],
     "language": "python",
     "metadata": {},
     "outputs": [
      {
       "output_type": "stream",
       "stream": "stdout",
       "text": [
        "[[6, 291, 289, 295, 312, 292, 298, 309, 258, 302, 291], [5, 205, 276, 241, 158, 232, 203, 233, 210, 294, 263], [0, 255, 231, 201, 172, 194, 210, 211, 178, 208, 289], [0, 225, 245, 211, 193, 217, 242, 229, 184, 220, 272], [0, 224, 237, 204, 195, 222, 227, 233, 191, 211, 255], [1, 261, 242, 277, 268, 231, 240, 268, 259, 301, 281], [1, 236, 240, 249, 290, 232, 271, 290, 257, 303, 274], [1, 261, 240, 253, 283, 229, 286, 297, 247, 304, 281], [1, 256, 270, 303, 328, 280, 301, 270, 226, 288, 282], [1, 267, 237, 230, 255, 216, 275, 294, 259, 306, 285]]\n"
       ]
      }
     ],
     "prompt_number": 31
    },
    {
     "cell_type": "code",
     "collapsed": false,
     "input": [],
     "language": "python",
     "metadata": {},
     "outputs": []
    }
   ],
   "metadata": {}
  }
 ]
}