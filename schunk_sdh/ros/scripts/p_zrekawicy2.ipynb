{
 "metadata": {
  "name": ""
 },
 "nbformat": 3,
 "nbformat_minor": 0,
 "worksheets": [
  {
   "cells": [
    {
     "cell_type": "markdown",
     "metadata": {},
     "source": [
      "### Notebook do filtrowania sygna\u0142\u00f3w z r\u0119kawicy"
     ]
    },
    {
     "cell_type": "code",
     "collapsed": true,
     "input": [
      "#!/usr/bin/env python\n",
      "import roslib; roslib.load_manifest('schunk_sdh')\n",
      "import rospy\n",
      "from std_msgs.msg import String\n",
      "from std_msgs.msg import Float64\n",
      "from dlonurdf.msg import Rekawica\n",
      "from dlonurdf.msg import Hand\n",
      "import math\n",
      "\n",
      "#import roslib; \n",
      "#roslib.load_manifest('dlonurdf')\n",
      "import sys \n",
      "#import rospy\n",
      "#import roslib\n",
      "import cob_srvs.srv\n",
      "import std_msgs.msg\n",
      "import control_msgs.msg\n",
      "import actionlib_msgs.msg\n",
      "import trajectory_msgs.msg\n",
      "import sensor_msgs.msg\n",
      "import collections\n",
      "import scipy.signal as signal"
     ],
     "language": "python",
     "metadata": {},
     "outputs": [],
     "prompt_number": 9
    },
    {
     "cell_type": "code",
     "collapsed": false,
     "input": [
      "fufu =Rekawica()\n",
      "hasattr(fufu,\"kciuk0\")\n",
      "print fufu.__setattr__('kciuk0',3)\n",
      "#print fufu"
     ],
     "language": "python",
     "metadata": {},
     "outputs": [
      {
       "output_type": "stream",
       "stream": "stdout",
       "text": [
        "None\n"
       ]
      }
     ],
     "prompt_number": 10
    },
    {
     "cell_type": "code",
     "collapsed": true,
     "input": [
      "\n",
      "pub = rospy.Publisher('/sdh_controller/set_positions', control_msgs.msg.FollowJointTrajectoryActionGoal)\n",
      "pubshadow = rospy.Publisher('/shadow_joint_states', sensor_msgs.msg.JointState)\n",
      "rospy.init_node('glovetranslate')"
     ],
     "language": "python",
     "metadata": {},
     "outputs": [],
     "prompt_number": 11
    },
    {
     "cell_type": "code",
     "collapsed": false,
     "input": [
      "def grip_recog(grip):\n",
      "    ''' Save grip type recognised by predictor'''\n",
      "    global griptype\n",
      "    griptype=grip.data"
     ],
     "language": "python",
     "metadata": {},
     "outputs": [],
     "prompt_number": 12
    },
    {
     "cell_type": "code",
     "collapsed": false,
     "input": [
      "def gotopoint(pospos):\n",
      "    \n",
      "    punktdocel=trajectory_msgs.msg.JointTrajectoryPoint()\n",
      "    punktdocel.positions=pospos\n",
      "    punktdocel.velocities=[0.0,0.0,0.0,0.0,0.0,0.0,0.0]\n",
      "    mes=control_msgs.msg.FollowJointTrajectoryActionGoal()\n",
      "    mes.goal.trajectory.points.append(punktdocel)\n",
      "    h = std_msgs.msg.Header()\n",
      "    h.stamp = rospy.Time.now() # Note you need to call rospy.init_node() before this will work\n",
      "    mes.header=h\n",
      "    #mes.goal.trajectory.points=goalpos #=goalpos\n",
      "    #type(mes.goal.trajectory.points) #=goalpos\n",
      "    wyn=pub.publish(mes)\n",
      "    #print mes"
     ],
     "language": "python",
     "metadata": {},
     "outputs": [],
     "prompt_number": 13
    },
    {
     "cell_type": "code",
     "collapsed": true,
     "input": [
      "allsmoothfingersnames=[\"shadow_sdh_knuckle_joint\",\"shadow_sdh_thumb_2_joint\",\"shadow_sdh_thumb_3_joint\",\"shadow_sdh_finger_12_joint\",\"shadow_sdh_finger_13_joint\",\n",
      "                           \"shadow_sdh_finger_22_joint\",\"shadow_sdh_finger_23_joint\"]\n",
      "    \n",
      "allsmoothfingers=dict([(arr,collections.deque([])) for arr in allsmoothfingersnames]  )\n",
      "\n",
      "filters=dict()\n",
      "\n",
      "def moving_average(nowy,deqq, n=3):\n",
      "    if(len(deqq)==n):\n",
      "        deqq.popleft()\n",
      "    deqq.append(nowy)\n",
      "    \n",
      "    s = float(sum(deqq))\n",
      "    #if n not in filters:\n",
      "    #    filters[n]=signal.firwin(n, cutoff = 0.05) #, window = \"hamming\")\n",
      "        \n",
      "    if(len(deqq)==n):\n",
      "        \n",
      "        return s/float(n)\n",
      "        #return signal.lfilter(filters[n],1,deqq)[-1]\n",
      "    else:\n",
      "        return nowy\n",
      "def shadow_pose(pospos):\n",
      "    \n",
      "    jointstatez=sensor_msgs.msg.JointState()\n",
      "    jointstatez.name=['shadow_sdh_knuckle_joint','shadow_sdh_thumb_2_joint',\n",
      "                      'shadow_sdh_thumb_3_joint','shadow_sdh_finger_12_joint',\n",
      "                      'shadow_sdh_finger_13_joint','shadow_sdh_finger_22_joint',\n",
      "                      'shadow_sdh_finger_23_joint','shadow_sdh_finger_21_joint']\n",
      "    \n",
      "    #punktdocel.positions=pospos\n",
      "    pospos.append(pospos[0])\n",
      "    jointstatez.position=pospos\n",
      "    jointstatez.velocity=[0 for x in pospos]\n",
      "    jointstatez.effort=[0 for x in pospos]\n",
      "    #mes=control_msgs.msg.FollowJointTrajectoryActionGoal()\n",
      "    #mes.goal.trajectory.points.append(punktdocel)\n",
      "    h = std_msgs.msg.Header()\n",
      "    h.stamp = rospy.Time.now() # Note you need to call rospy.init_node() before this will work\n",
      "    jointstatez.header=h\n",
      "    #mes.goal.trajectory.points=goalpos #=goalpos\n",
      "    #type(mes.goal.trajectory.points) #=goalpos\n",
      "    wyn=pubshadow.publish(jointstatez)\n",
      "    gotopoint([pospos[0],pospos[1],pospos[2],pospos[3],pospos[4],pospos[5],pospos[6],])\n",
      "    #print mes\n",
      "tempdict=t=dict()   \n",
      "def pobraniedanych(zrekawicy):\n",
      "\t'''skal=1.2'''\n",
      "        #tempdict=dict()\n",
      "        #t=tempdict\n",
      "\tt[\"shadow_sdh_knuckle_joint\"]=0\n",
      "\tt[\"shadow_sdh_thumb_2_joint\"]=-zrekawicy.kciuk0*3.14/500+1.5\n",
      "\tt[\"shadow_sdh_thumb_3_joint\"]=-zrekawicy.kciuk1*3.14/500+math.pi-math.pi/2\n",
      "        \n",
      "\t#ob.palec2pods=0\n",
      "\tt[\"shadow_sdh_finger_12_joint\"]=-zrekawicy.palwska0*3.14/500+1.5\n",
      "\tt[\"shadow_sdh_finger_13_joint\"]=-zrekawicy.palwska1*3.14/500+math.pi-math.pi/2\n",
      "        \n",
      "\t#ob.palec1pods=0\n",
      "\tt[\"shadow_sdh_finger_22_joint\"]=-zrekawicy.palmal0*3.14/500+1.5\n",
      "\tt[\"shadow_sdh_finger_23_joint\"]=-zrekawicy.palmal1*3.14/500+math.pi-math.pi/2\n",
      "\t''''''\n",
      "        \n",
      "        where=[moving_average(t[name],allsmoothfingers[name],30) for name in allsmoothfingersnames]\n",
      "        #print where\n",
      "        \n",
      "        #where=[shadow_sdh_knuckle_joint,shadow_sdh_thumb_2_joint,shadow_sdh_thumb_3_joint,shadow_sdh_finger_12_joint,shadow_sdh_finger_13_joint,\n",
      "        #       shadow_sdh_finger_22_joint,shadow_sdh_finger_23_joint]\n",
      "        #print where\n",
      "        shadow_pose(where)\n",
      "        #gotopoint(where)\n",
      "\t#pub.publish(ob)"
     ],
     "language": "python",
     "metadata": {},
     "outputs": [
      {
       "output_type": "stream",
       "stream": "stderr",
       "text": [
        "[ERROR] [WallTime: 1389285495.170395] bad callback: <function pobraniedanych at 0x4191410>\n",
        "Traceback (most recent call last):\n",
        "  File \"/opt/ros/groovy/lib/python2.7/dist-packages/rospy/topics.py\", line 681, in _invoke_callback\n",
        "    cb(msg)\n",
        "  File \"<ipython-input-6-041444d12a39>\", line 64, in pobraniedanych\n",
        "    where=[moving_average(t[name],allsmoothfingers[name],30) for name in allsmoothfingersnames]\n",
        "KeyError: 'shadow_sdh_thumb_3_joint'\n",
        "\n"
       ]
      }
     ],
     "prompt_number": 14
    },
    {
     "cell_type": "code",
     "collapsed": false,
     "input": [
      "rospy.Subscriber(\"rekawica\",Rekawica,pobraniedanych)\n",
      "\n",
      "#rospy.Subscriber(\"griptype\",String,pobraniedanych) #reacting on griptype"
     ],
     "language": "python",
     "metadata": {},
     "outputs": [
      {
       "metadata": {},
       "output_type": "pyout",
       "prompt_number": 7,
       "text": [
        "<rospy.topics.Subscriber at 0x2e90450>"
       ]
      }
     ],
     "prompt_number": 7
    },
    {
     "cell_type": "code",
     "collapsed": true,
     "input": [
      "gotopoint([0,-1,0,-1,0,0,0])"
     ],
     "language": "python",
     "metadata": {},
     "outputs": [
      {
       "ename": "NameError",
       "evalue": "name 'gotopoint' is not defined",
       "output_type": "pyerr",
       "traceback": [
        "\u001b[1;31m---------------------------------------------------------------------------\u001b[0m\n\u001b[1;31mNameError\u001b[0m                                 Traceback (most recent call last)",
        "\u001b[1;32m<ipython-input-1-3e2b0457e429>\u001b[0m in \u001b[0;36m<module>\u001b[1;34m()\u001b[0m\n\u001b[1;32m----> 1\u001b[1;33m \u001b[0mgotopoint\u001b[0m\u001b[1;33m(\u001b[0m\u001b[1;33m[\u001b[0m\u001b[1;36m0\u001b[0m\u001b[1;33m,\u001b[0m\u001b[1;33m-\u001b[0m\u001b[1;36m1\u001b[0m\u001b[1;33m,\u001b[0m\u001b[1;36m0\u001b[0m\u001b[1;33m,\u001b[0m\u001b[1;33m-\u001b[0m\u001b[1;36m1\u001b[0m\u001b[1;33m,\u001b[0m\u001b[1;36m0\u001b[0m\u001b[1;33m,\u001b[0m\u001b[1;36m0\u001b[0m\u001b[1;33m,\u001b[0m\u001b[1;36m0\u001b[0m\u001b[1;33m]\u001b[0m\u001b[1;33m)\u001b[0m\u001b[1;33m\u001b[0m\u001b[0m\n\u001b[0m",
        "\u001b[1;31mNameError\u001b[0m: name 'gotopoint' is not defined"
       ]
      }
     ],
     "prompt_number": 1
    },
    {
     "cell_type": "code",
     "collapsed": false,
     "input": [
      "print allsmoothfingers"
     ],
     "language": "python",
     "metadata": {},
     "outputs": [
      {
       "output_type": "stream",
       "stream": "stdout",
       "text": [
        "{'shadow_sdh_finger_12_joint': deque([-0.23956000000000022, -0.24584000000000006, -0.24584000000000006, -0.23956000000000022, -0.24584000000000006, -0.24584000000000006, -0.24584000000000006, -0.24584000000000006, -0.24584000000000006, -0.24584000000000006, -0.24584000000000006, -0.24584000000000006, -0.24584000000000006, -0.24584000000000006, -0.24584000000000006, -0.24584000000000006, -0.24584000000000006, -0.24584000000000006, -0.23956000000000022, -0.24584000000000006, -0.23956000000000022, -0.24584000000000006, -0.24584000000000006, -0.24584000000000006, -0.24584000000000006, -0.24584000000000006, -0.24584000000000006, -0.2521200000000001, -0.24584000000000006, -0.24584000000000006]), 'shadow_sdh_thumb_3_joint': deque([-0.4199636732051035, -0.4199636732051035, -0.4199636732051035, -0.41368367320510346, -0.4199636732051035, -0.4199636732051035, -0.41368367320510346, -0.4199636732051035, -0.4199636732051035, -0.4199636732051035, -0.4199636732051035, -0.4199636732051035, -0.4199636732051035, -0.4199636732051035, -0.4199636732051035, -0.4262436732051036, -0.4199636732051035, -0.41368367320510346, -0.4199636732051035, -0.4199636732051035, -0.4199636732051035, -0.4199636732051035, -0.4199636732051035, -0.4199636732051035, -0.4199636732051035, -0.41368367320510346, -0.41368367320510346, -0.4199636732051035, -0.4199636732051035, -0.41368367320510346]), 'shadow_sdh_knuckle_joint': deque([0, 0, 0, 0, 0, 0, 0, 0, 0, 0, 0, 0, 0, 0, 0, 0, 0, 0, 0, 0, 0, 0, 0, 0, 0, 0, 0, 0, 0, 0]), 'shadow_sdh_finger_22_joint': deque([-0.3463200000000002, -0.3463200000000002, -0.3463200000000002, -0.3400399999999999, -0.3463200000000002, -0.35260000000000025, -0.3463200000000002, -0.35260000000000025, -0.3463200000000002, -0.35260000000000025, -0.3463200000000002, -0.3463200000000002, -0.35260000000000025, -0.3463200000000002, -0.3463200000000002, -0.3463200000000002, -0.3463200000000002, -0.35260000000000025, -0.35260000000000025, -0.3463200000000002, -0.3463200000000002, -0.35260000000000025, -0.35260000000000025, -0.3463200000000002, -0.3463200000000002, -0.3463200000000002, -0.3463200000000002, -0.3463200000000002, -0.35260000000000025, -0.3463200000000002]), 'shadow_sdh_finger_23_joint': deque([-0.30064367320510343, -0.2943636732051036, -0.30064367320510343, -0.2943636732051036, -0.30064367320510343, -0.30064367320510343, -0.2943636732051036, -0.2943636732051036, -0.30064367320510343, -0.2943636732051036, -0.2943636732051036, -0.2943636732051036, -0.30064367320510343, -0.30064367320510343, -0.30064367320510343, -0.2943636732051036, -0.2943636732051036, -0.2943636732051036, -0.30064367320510343, -0.30064367320510343, -0.2943636732051036, -0.30064367320510343, -0.30064367320510343, -0.2943636732051036, -0.2943636732051036, -0.2943636732051036, -0.2943636732051036, -0.30064367320510343, -0.30064367320510343, -0.2943636732051036]), 'shadow_sdh_thumb_2_joint': deque([-0.3023600000000002, -0.3023600000000002, -0.3023600000000002, -0.3023600000000002, -0.2960800000000001, -0.30864, -0.3023600000000002, -0.3023600000000002, -0.3023600000000002, -0.3023600000000002, -0.3023600000000002, -0.2960800000000001, -0.3023600000000002, -0.3023600000000002, -0.3023600000000002, -0.3023600000000002, -0.3023600000000002, -0.3023600000000002, -0.2960800000000001, -0.3023600000000002, -0.3023600000000002, -0.3023600000000002, -0.3023600000000002, -0.3023600000000002, -0.3023600000000002, -0.3023600000000002, -0.3023600000000002, -0.3023600000000002, -0.3023600000000002, -0.3023600000000002]), 'shadow_sdh_finger_13_joint': deque([-0.3508836732051035, -0.35716367320510356, -0.34460367320510343, -0.34460367320510343, -0.34460367320510343, -0.34460367320510343, -0.34460367320510343, -0.35716367320510356, -0.3508836732051035, -0.34460367320510343, -0.35716367320510356, -0.3508836732051035, -0.34460367320510343, -0.3508836732051035, -0.3508836732051035, -0.35716367320510356, -0.35716367320510356, -0.34460367320510343, -0.3508836732051035, -0.35716367320510356, -0.35716367320510356, -0.3508836732051035, -0.34460367320510343, -0.3508836732051035, -0.34460367320510343, -0.3383236732051036, -0.3383236732051036, -0.34460367320510343, -0.34460367320510343, -0.34460367320510343])}\n"
       ]
      }
     ],
     "prompt_number": 15
    },
    {
     "cell_type": "code",
     "collapsed": true,
     "input": [
      "def gotopoint(pospos):\n",
      "    \n",
      "    punktdocel=trajectory_msgs.msg.JointTrajectoryPoint()\n",
      "    punktdocel.positions=pospos\n",
      "    punktdocel.velocities=[0.0,0.0,0.0,0.0,0.0,0.0,0.0]\n",
      "    mes=control_msgs.msg.FollowJointTrajectoryActionGoal()\n",
      "    mes.goal.trajectory.points.append(punktdocel)\n",
      "    h = std_msgs.msg.Header()\n",
      "    h.stamp = rospy.Time.now() # Note you need to call rospy.init_node() before this will work\n",
      "    mes.header=h\n",
      "    #mes.goal.trajectory.points=goalpos #=goalpos\n",
      "    #type(mes.goal.trajectory.points) #=goalpos\n",
      "    wyn=pub.publish(mes)\n",
      "    #print mes"
     ],
     "language": "python",
     "metadata": {},
     "outputs": [],
     "prompt_number": 6
    },
    {
     "cell_type": "code",
     "collapsed": true,
     "input": [
      "aa=collections.deque([1,2,3,4])"
     ],
     "language": "python",
     "metadata": {},
     "outputs": [],
     "prompt_number": 7
    },
    {
     "cell_type": "code",
     "collapsed": false,
     "input": [
      "moving_average(3,aa,3)"
     ],
     "language": "python",
     "metadata": {},
     "outputs": [
      {
       "output_type": "pyout",
       "prompt_number": 8,
       "text": [
        "3"
       ]
      }
     ],
     "prompt_number": 8
    },
    {
     "cell_type": "code",
     "collapsed": false,
     "input": [
      "print aa"
     ],
     "language": "python",
     "metadata": {},
     "outputs": [
      {
       "output_type": "stream",
       "stream": "stdout",
       "text": [
        "deque([1, 2, 3, 4, 3])"
       ]
      }
     ],
     "prompt_number": 9
    },
    {
     "cell_type": "code",
     "collapsed": false,
     "input": [
      "print allsmoothfingers"
     ],
     "language": "python",
     "metadata": {},
     "outputs": [
      {
       "output_type": "stream",
       "stream": "stdout",
       "text": [
        "{'shadow_sdh_finger_12_joint': deque([]), 'shadow_sdh_thumb_3_joint': deque([]), 'shadow_sdh_knuckle_joint': deque([]), 'shadow_sdh_finger_22_joint': deque([]), 'shadow_sdh_finger_23_joint': deque([]), 'shadow_sdh_thumb_2_joint': deque([]), 'shadow_sdh_finger_13_joint': deque([])}"
       ]
      }
     ],
     "prompt_number": 10
    },
    {
     "cell_type": "code",
     "collapsed": false,
     "input": [
      "signal.lfilter(filters[15],1,[1,2,3,4,5,6,7,8,9,1,2,3,4,5])"
     ],
     "language": "python",
     "metadata": {},
     "outputs": [
      {
       "output_type": "pyout",
       "prompt_number": 8,
       "text": [
        "array([ 0.01040124,  0.03716154,  0.09697162,  0.21399211,  0.41508173,\n",
        "        0.72446895,  1.15893424,  1.72446895,  2.41508173,  3.12038093,\n",
        "        3.85612894,  4.49887086,  4.95721677,  5.19019347])"
       ]
      }
     ],
     "prompt_number": 8
    },
    {
     "cell_type": "code",
     "collapsed": true,
     "input": [
      "from pylab import *"
     ],
     "language": "python",
     "metadata": {},
     "outputs": [],
     "prompt_number": 11
    },
    {
     "cell_type": "code",
     "collapsed": true,
     "input": [
      "plot(range(len([1,2,3,4,5,6,7,8,9,1,2,3,4,5])),[1,2,3,4,5,6,7,8,9,1,2,3,4,5])\n",
      "show()"
     ],
     "language": "python",
     "metadata": {},
     "outputs": [],
     "prompt_number": 13
    },
    {
     "cell_type": "code",
     "collapsed": false,
     "input": [
      "signal.firwin(40, cutoff = 0.1, window = \"hamming\")"
     ],
     "language": "python",
     "metadata": {},
     "outputs": [
      {
       "output_type": "pyout",
       "prompt_number": 9,
       "text": [
        "array([-0.00020354, -0.00066898, -0.00132853, -0.00227244, -0.00348113,\n",
        "       -0.0047817 , -0.00583345, -0.00614999, -0.00515851, -0.0022895 ,\n",
        "        0.0029168 ,  0.01070557,  0.02102369,  0.03347458,  0.04732339,\n",
        "        0.06155612,  0.07498701,  0.08640007,  0.09470396,  0.09907658,\n",
        "        0.09907658,  0.09470396,  0.08640007,  0.07498701,  0.06155612,\n",
        "        0.04732339,  0.03347458,  0.02102369,  0.01070557,  0.0029168 ,\n",
        "       -0.0022895 , -0.00515851, -0.00614999, -0.00583345, -0.0047817 ,\n",
        "       -0.00348113, -0.00227244, -0.00132853, -0.00066898, -0.00020354])"
       ]
      }
     ],
     "prompt_number": 9
    },
    {
     "cell_type": "code",
     "collapsed": true,
     "input": [],
     "language": "python",
     "metadata": {},
     "outputs": []
    }
   ],
   "metadata": {}
  }
 ]
}