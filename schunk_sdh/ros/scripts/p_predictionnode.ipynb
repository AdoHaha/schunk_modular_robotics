{
 "metadata": {
  "name": ""
 },
 "nbformat": 3,
 "nbformat_minor": 0,
 "worksheets": [
  {
   "cells": [
    {
     "cell_type": "markdown",
     "metadata": {},
     "source": [
      "Grip type recognition\n",
      "=============\n",
      "\n",
      "Recognised grip type is published in a topic *griptype*"
     ]
    },
    {
     "cell_type": "code",
     "collapsed": false,
     "input": [
      "'''prediction node'''\n",
      "import roslib; \n",
      "roslib.load_manifest('schunk_sdh')\n",
      "import sys \n",
      "import rospy\n",
      "import roslib\n",
      "import cob_srvs.srv\n",
      "import std_msgs.msg\n",
      "import control_msgs.msg\n",
      "import actionlib_msgs.msg\n",
      "import trajectory_msgs.msg\n",
      "import collections\n",
      "from std_msgs.msg import String\n",
      "from std_msgs.msg import Float64\n",
      "\n",
      "from dlonurdf.msg import Rekawica\n",
      "from dlonurdf.msg import Hand\n",
      "import dlonurdf.msg\n",
      "\n",
      "import numpy as np\n",
      "from sklearn.svm import SVC\n",
      "import sklearn\n",
      "import pylab\n",
      "from sklearn import cross_validation\n",
      "import pickle\n",
      "#savedresults = pickle.load( open( \"predictionobject2.p\", \"rb\" ) )\n",
      "#savedresults = pickle.load( open( \"predictionobject_all_people_new.p\",\"rb\"))\n",
      "savedresults = pickle.load( open(\"predictionobject_all_linear.p\",\"rb\"))\n",
      "print savedresults\n",
      "clf=savedresults[\"predictor\"]\n",
      "scaler=savedresults[\"scaler\"]"
     ],
     "language": "python",
     "metadata": {},
     "outputs": [
      {
       "output_type": "stream",
       "stream": "stdout",
       "text": [
        "{'predictor': LinearSVC(C=51.984153366799369, class_weight=None, dual=True,\n",
        "     fit_intercept=True, intercept_scaling=1, loss='l2', multi_class='ovr',\n",
        "     penalty='l2', random_state=None, tol=0.0001, verbose=0), 'scaler': StandardScaler(copy=True, with_mean=True, with_std=True)}\n"
       ]
      }
     ],
     "prompt_number": 1
    },
    {
     "cell_type": "code",
     "collapsed": false,
     "input": [
      "\n",
      "pub = rospy.Publisher('/griptype', String)\n",
      "#pubshadow = rospy.Publisher('/shadow_joint_states', sensor_msgs.msg.JointState)\n",
      "rospy.init_node('griptype')\n"
     ],
     "language": "python",
     "metadata": {},
     "outputs": [
      {
       "output_type": "stream",
       "stream": "stdout",
       "text": [
        "[6]\n",
        "[ 0.11474809  0.8498541   0.47091357  1.02712759  1.31706334  0.24241748\n",
        "  1.40396885  2.18568926  0.32781263  0.62415971]\n",
        "(1, 7)\n",
        "[[-2.13435456 -1.93685502 -1.08364374  0.13158148 -3.18541215 -5.55732101\n",
        "   0.26075915]]\n"
       ]
      },
      {
       "output_type": "stream",
       "stream": "stderr",
       "text": [
        "/usr/local/lib/python2.7/dist-packages/sklearn/utils/validation.py:278: UserWarning: StandardScaler assumes floating point values as input, got int64\n",
        "  \"got %s\" % (estimator, X.dtype))\n"
       ]
      }
     ],
     "prompt_number": 2
    },
    {
     "cell_type": "code",
     "collapsed": false,
     "input": [
      "przykladowy=[291,305,279,309,297,264,324,302,289,302]\n",
      "x_vec=scaler.transform(przykladowy).astype(float)\n",
      "print clf.predict(x_vec);\n",
      "zz=clf.decision_function(x_vec);\n",
      "#print x_vec\n",
      "#print zz.shape\n",
      "print zz\n",
      "maxisnormal=numpy.exp(zz)\n",
      "wspol=maxisnormal/numpy.sum(maxisnormal)\n",
      "print maxisnormal,wspol"
     ],
     "language": "python",
     "metadata": {},
     "outputs": [
      {
       "output_type": "stream",
       "stream": "stdout",
       "text": [
        "[6]\n",
        "[[-2.13435456 -1.93685502 -1.08364374  0.13158148 -3.18541215 -5.55732101\n",
        "   0.26075915]]\n",
        "[[ 0.11832093  0.14415661  0.33836038  1.14063085  0.0413612   0.0038591\n",
        "   1.29791502]] [[ 0.03835855  0.04673423  0.10969329  0.36978193  0.01340892  0.00125108\n",
        "   0.420772  ]]\n"
       ]
      }
     ],
     "prompt_number": 16
    },
    {
     "cell_type": "code",
     "collapsed": false,
     "input": [
      "print dlonurdf.msg"
     ],
     "language": "python",
     "metadata": {},
     "outputs": [
      {
       "output_type": "stream",
       "stream": "stdout",
       "text": [
        "<module 'dlonurdf.msg' from '/home/igor/groovy_workspace/dlonurdf/src/dlonurdf/msg/__init__.pyc'>\n"
       ]
      }
     ],
     "prompt_number": 3
    },
    {
     "cell_type": "markdown",
     "metadata": {},
     "source": [
      "### Types of recognised grips and gestures:\n",
      "\n",
      "1. Cylinder grip\n",
      "2. Three finger grip\n",
      "3. Precision grip\n",
      "4. Lateral grip\n",
      "5. Wedge grip\n",
      "6. Indicating pose\n",
      "7. Flat hand\n"
     ]
    },
    {
     "cell_type": "code",
     "collapsed": false,
     "input": [
      "target_names = ['Cylinder grip', 'Three finger grip','Precision', 'Lateral','Wedge','Indicating pose','Flat hand']\n",
      "def predict(zrekawicy):\n",
      "    #r=zrekawicy.\n",
      "    xvector=[zrekawicy.kciuk0,zrekawicy.palwska0,zrekawicy.palsro0,\n",
      "             zrekawicy.palser0,zrekawicy.palmal0,zrekawicy.palmal1,\n",
      "             zrekawicy.palser1,zrekawicy.palsro1,\n",
      "             zrekawicy.palwska1,zrekawicy.kciuk1]\n",
      "    xvector=[float(x) for x in xvector] # for scaler\n",
      "    X_test_scaled= \n",
      "    res=clf.predict(X_test_scaled);\n",
      "    #print res[0]\n",
      "    nr=int(res[0])\n",
      "    #res=String\n",
      "    res=target_names[nr]\n",
      "    pub.publish(res)\n",
      "    "
     ],
     "language": "python",
     "metadata": {},
     "outputs": [],
     "prompt_number": 4
    },
    {
     "cell_type": "code",
     "collapsed": false,
     "input": [
      "rospy.Subscriber(\"rekawica\",Rekawica,predict)"
     ],
     "language": "python",
     "metadata": {},
     "outputs": [
      {
       "metadata": {},
       "output_type": "pyout",
       "prompt_number": 5,
       "text": [
        "<rospy.topics.Subscriber at 0x4447410>"
       ]
      }
     ],
     "prompt_number": 5
    },
    {
     "cell_type": "code",
     "collapsed": false,
     "input": [
      "clf"
     ],
     "language": "python",
     "metadata": {},
     "outputs": [
      {
       "output_type": "stream",
       "stream": "stderr",
       "text": [
        "/usr/local/lib/python2.7/dist-packages/sklearn/utils/validation.py:278: UserWarning: StandardScaler assumes floating point values as input, got int64\n",
        "  \"got %s\" % (estimator, X.dtype))\n"
       ]
      },
      {
       "metadata": {},
       "output_type": "pyout",
       "prompt_number": 5,
       "text": [
        "SVC(C=11, cache_size=200, class_weight=None, coef0=0.0, degree=3, gamma=0.008,\n",
        "  kernel='rbf', max_iter=-1, probability=False, random_state=None,\n",
        "  shrinking=True, tol=0.001, verbose=False)"
       ]
      }
     ],
     "prompt_number": 5
    },
    {
     "cell_type": "code",
     "collapsed": false,
     "input": [
      "randint(0.0,10.0)"
     ],
     "language": "python",
     "metadata": {},
     "outputs": [
      {
       "output_type": "stream",
       "stream": "stderr",
       "text": [
        "/usr/local/lib/python2.7/dist-packages/sklearn/utils/validation.py:278: UserWarning: StandardScaler assumes floating point values as input, got int64\n",
        "  \"got %s\" % (estimator, X.dtype))\n"
       ]
      },
      {
       "metadata": {},
       "output_type": "pyout",
       "prompt_number": 5,
       "text": [
        "8"
       ]
      }
     ],
     "prompt_number": 5
    },
    {
     "cell_type": "code",
     "collapsed": false,
     "input": [],
     "language": "python",
     "metadata": {},
     "outputs": []
    }
   ],
   "metadata": {}
  }
 ]
}