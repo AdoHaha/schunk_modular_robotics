{
 "metadata": {
  "name": ""
 },
 "nbformat": 3,
 "nbformat_minor": 0,
 "worksheets": [
  {
   "cells": [
    {
     "cell_type": "code",
     "collapsed": true,
     "input": [
      "import numpy as np\n",
      "\n",
      "fu= open(\"./uczeniedata/gesturestrain2.txt\")\n",
      "#f.readline()\n",
      "data = np.loadtxt(fu,float,'#',',')\n",
      "\n",
      "\n",
      "\n",
      "fu2 = open(\"./uczeniedata/gesturestest2.txt\")\n",
      "data2 = np.loadtxt(fu2,float,'#',',')\n",
      "\n",
      "fu3 = open(\"./uczeniedata/gestures3.txt\")\n",
      "data3 = np.loadtxt(fu3,float,'#',',')\n",
      "data33=data3[nonzero(data3[:,0]!=4)[0],:]\n",
      "data33=data3[nonzero(data3[:,0]!=5)[0],:]"
     ],
     "language": "python",
     "metadata": {},
     "outputs": [],
     "prompt_number": 86
    },
    {
     "cell_type": "code",
     "collapsed": true,
     "input": [
      "f5=pickle.load( open( \"alluptonow.p\", \"rb\" ) )\n",
      "len(f5)\n",
      "f55=array(f5)\n",
      "X,y=f55[:, 1:11],f55[:, 0]\n"
     ],
     "language": "python",
     "metadata": {},
     "outputs": [],
     "prompt_number": 91
    },
    {
     "cell_type": "code",
     "collapsed": false,
     "input": [
      "scaler2=sklearn.scaler = sklearn.preprocessing.StandardScaler().fit(X)\n",
      "X_scaled=scaler2.transform(X)\n",
      "#print scaler.mean_\n",
      "#X_test_scaled=scaler.transform(Xtest)\n",
      "\n",
      "target_names = ['Cylinder grip', 'Three finger grip','Precision', 'Lateral','Wedge','Indicating pose']\n",
      "#print scaler.mean_\n",
      "\n",
      "clf2 = sklearn.svm.SVC(gamma=0.008,C=11)\n",
      "   #clf = sklearn.svm.LinearSVC()\n",
      "clf2.fit(X_scaled,y)\n",
      "import pickle\n",
      "resultsp={\"scaler\":scaler2,\"predictor\":clf2}\n",
      "pickle.dump( resultsp, open( \"predictionobject2.p\", \"wb\" ) )"
     ],
     "language": "python",
     "metadata": {},
     "outputs": [],
     "prompt_number": 92
    },
    {
     "cell_type": "code",
     "collapsed": true,
     "input": [
      "from sklearn.metrics import accuracy_score\n",
      "X,y=data[:, 1:11],data[:, 0]\n",
      "#data2=concatenate((data2,data33))\n",
      "Xtest,ytest=data2[:, 1:11],data2[:, 0]\n",
      "Xtest2,ytest2=data3[:, 1:11],data3[:, 0]"
     ],
     "language": "python",
     "metadata": {},
     "outputs": [],
     "prompt_number": 57
    },
    {
     "cell_type": "code",
     "collapsed": false,
     "input": [
      "print Xtest.shape"
     ],
     "language": "python",
     "metadata": {},
     "outputs": [
      {
       "output_type": "stream",
       "stream": "stdout",
       "text": [
        "(71, 10)\n"
       ]
      }
     ],
     "prompt_number": 58
    },
    {
     "cell_type": "code",
     "collapsed": false,
     "input": [
      "print X.shape"
     ],
     "language": "python",
     "metadata": {},
     "outputs": [
      {
       "output_type": "stream",
       "stream": "stdout",
       "text": [
        "(265, 10)\n"
       ]
      }
     ],
     "prompt_number": 59
    },
    {
     "cell_type": "code",
     "collapsed": true,
     "input": [
      "import itertools\n",
      "#calosc=itertools.combinations([1,2],11)"
     ],
     "language": "python",
     "metadata": {},
     "outputs": [],
     "prompt_number": 60
    },
    {
     "cell_type": "code",
     "collapsed": false,
     "input": [
      "from sklearn.svm import SVC\n",
      "import sklearn\n",
      "import pylab\n",
      "from sklearn import cross_validation\n",
      "wyniki=[]\n",
      "wyniki2=[]\n",
      "wyniki3=[]\n",
      "n=0\n",
      "scaler=sklearn.scaler = sklearn.preprocessing.StandardScaler().fit(X)\n",
      "X_scaled=scaler.transform(X)\n",
      "#print scaler.mean_\n",
      "X_test_scaled=scaler.transform(Xtest)\n",
      "konfuzje=[]\n",
      "clasrap=[]\n",
      "\n",
      "target_names = ['Cylinder grip', 'Three finger grip','Precision', 'Lateral','Wedge','Indicating pose']\n",
      "#print scaler.mean_\n",
      "for x in itertools.combinations(range(0,10), 10):\n",
      "   # print x\n",
      "    clf = sklearn.svm.SVC(gamma=0.008,C=11)\n",
      "   #clf = sklearn.svm.LinearSVC()\n",
      "    clf.fit(X_scaled[:,x],y)\n",
      "    \n",
      "    predyk=clf.predict(X_test_scaled[:,x]);\n",
      "    wyniki.append(sklearn.metrics.accuracy_score(ytest,predyk))\n",
      "    wyniki2.append(x);\n",
      "    \n",
      "    konfuzje.append(sklearn.metrics.confusion_matrix(ytest,predyk))\n",
      "    clasrap.append(sklearn.metrics.classification_report(ytest,predyk , target_names=target_names))\n",
      "print max(wyniki)   \n",
      "indmax=wyniki.index(max(wyniki));\n",
      "print wyniki2[indmax]\n",
      "#im=pylab.matshow(konfuzje[indmax],cmap=cm.gray)\n",
      "im=pylab.matshow(konfuzje[indmax])\n",
      "cb1=pylab.colorbar()\n",
      "cb1.set_label('Number of predictions')\n",
      "#im.axes.set_xticklabels(['']+target_names)\n",
      "pylab.xticks([0,1,2,3,4,5],target_names,rotation='vertical',verticalalignment='bottom')\n",
      "pylab.yticks([0,1,2,3,4,5],target_names,verticalalignment='bottom')\n",
      "\n",
      "pylab.ylabel(\"Actual class\")\n",
      "pylab.xlabel(\"Predicted class\")\n",
      "pylab.show()\n",
      "print indmax\n",
      "print(clasrap[indmax])\n",
      "    "
     ],
     "language": "python",
     "metadata": {},
     "outputs": [
      {
       "output_type": "stream",
       "stream": "stdout",
       "text": [
        "0.859154929577\n",
        "(0, 1, 2, 3, 4, 5, 6, 7, 8, 9)\n"
       ]
      },
      {
       "metadata": {},
       "output_type": "display_data",
       "png": "[encoded data removed]",
       "text": [
        "<matplotlib.figure.Figure at 0x35fb410>"
       ]
      },
      {
       "output_type": "stream",
       "stream": "stdout",
       "text": [
        "0\n",
        "                    precision    recall  f1-score   support\n",
        "\n",
        "     Cylinder grip       0.93      0.93      0.93        14\n",
        "Three finiger grip       0.77      1.00      0.87        10\n",
        "         Precision       0.70      0.78      0.74         9\n",
        "           Lateral       0.86      0.86      0.86        14\n",
        "             Wedge       0.93      0.87      0.90        15\n",
        "   Indicating pose       1.00      0.67      0.80         9\n",
        "\n",
        "       avg / total       0.87      0.86      0.86        71\n",
        "\n"
       ]
      }
     ],
     "prompt_number": 65
    },
    {
     "cell_type": "code",
     "collapsed": false,
     "input": [
      "print scaler.mean_"
     ],
     "language": "python",
     "metadata": {},
     "outputs": [
      {
       "output_type": "stream",
       "stream": "stdout",
       "text": [
        "[ 281.06415094  291.39245283  264.96226415  247.10566038  191.83018868\n",
        "  250.67924528  281.71320755  229.50566038  279.30566038  274.04528302]\n"
       ]
      }
     ],
     "prompt_number": 62
    },
    {
     "cell_type": "code",
     "collapsed": false,
     "input": [
      "#save results to file\n",
      "import pickle\n",
      "resultsp={\"scaler\":scaler,\"predictor\":clf}\n",
      "pickle.dump( resultsp, open( \"predictionobject.p\", \"wb\" ) )"
     ],
     "language": "python",
     "metadata": {},
     "outputs": [],
     "prompt_number": 63
    },
    {
     "cell_type": "code",
     "collapsed": true,
     "input": [
      "shape(X_scaled)"
     ],
     "language": "python",
     "metadata": {},
     "outputs": [
      {
       "metadata": {},
       "output_type": "pyout",
       "prompt_number": 64,
       "text": [
        "(265, 10)"
       ]
      }
     ],
     "prompt_number": 64
    },
    {
     "cell_type": "code",
     "collapsed": false,
     "input": [
      "print data22"
     ],
     "language": "python",
     "metadata": {},
     "outputs": [
      {
       "output_type": "stream",
       "stream": "stdout",
       "text": [
        "[[   1.    259.8   282.9   242.88  282.62  269.9   242.06  286.28  230.4\n",
        "   264.68  234.78  213.22]\n",
        " [   1.    266.64  286.64  249.1   290.82  279.22  254.06  291.72  234.78\n",
        "   269.78  243.9   325.5 ]\n",
        " [   1.    264.52  236.36  239.58  278.06  248.72  235.88  281.06  224.48\n",
        "   258.12  229.5   381.58]\n",
        " [   1.    267.78  277.82  281.32  302.5   275.54  243.7   270.44  216.98\n",
        "   236.68  223.76  371.68]\n",
        " [   2.    278.68  266.7   231.3   308.06  273.24  297.    324.86  281.68\n",
        "   319.74  318.4   171.18]\n",
        " [   2.    274.8   259.24  247.8   311.24  279.38  296.84  324.96  280.02\n",
        "   323.42  311.8   235.98]\n",
        " [   2.    277.54  255.62  250.32  309.42  271.88  304.44  322.3   273.1\n",
        "   320.1   305.12  232.26]\n",
        " [   2.    280.56  262.7   255.04  317.46  274.78  305.22  325.9   279.88\n",
        "   324.88  305.84  281.86]\n",
        " [   3.    304.    310.98  291.42  293.2   218.5   224.54  267.32  216.\n",
        "   302.58  322.42  368.96]\n",
        " [   3.    293.96  314.88  292.12  284.3   225.8   222.72  261.56  206.66\n",
        "   290.6   299.84  318.28]\n",
        " [   3.    294.54  298.82  287.56  273.36  231.66  220.38  251.9   201.12\n",
        "   294.36  307.1   356.1 ]\n",
        " [   3.    289.88  304.2   288.48  286.5   244.9   229.36  264.98  211.62\n",
        "   287.66  295.82  303.76]\n",
        " [   5.    292.9   291.26  262.64  210.2   162.48  183.72  247.58  198.16\n",
        "   226.84  298.84  423.66]\n",
        " [   5.    299.22  297.82  254.34  221.8   233.06  199.14  253.26  199.\n",
        "   229.68  304.54  427.32]\n",
        " [   5.    301.38  281.56  192.1   243.98  222.72  250.76  267.56  195.28\n",
        "   254.62  306.9   434.56]\n",
        " [   5.    287.02  286.18  214.4   236.36  283.3   192.    239.22  196.\n",
        "   226.88  289.48  423.22]\n",
        " [   6.    293.68  313.46  280.7   222.76  187.4   227.48  251.4   203.\n",
        "   323.28  301.96  372.1 ]\n",
        " [   6.    269.74  315.52  279.54  231.    198.32  231.8   258.06  209.44\n",
        "   323.68  242.3   352.14]\n",
        " [   6.    263.94  310.84  271.84  230.86  189.98  231.48  254.92  212.\n",
        "   323.9   252.14  359.26]\n",
        " [   6.    268.3   312.16  273.44  226.44  168.    223.42  256.64  209.54\n",
        "   323.94  259.68  384.16]\n",
        " [   1.    291.    244.    240.    311.    269.    293.    313.    258.\n",
        "   304.    253.    211.  ]\n",
        " [   1.    259.    323.    304.    285.    231.    213.    251.    206.\n",
        "   244.    232.    378.  ]\n",
        " [   1.    272.    308.    276.    287.    248.    242.    267.    215.\n",
        "   253.    216.    185.  ]\n",
        " [   1.    248.    296.    254.    262.    196.    198.    237.    203.\n",
        "   233.    210.    353.  ]\n",
        " [   1.    281.    283.    280.    314.    271.    235.    268.    215.\n",
        "   248.    216.    334.  ]\n",
        " [   1.    280.    289.    272.    280.    240.    250.    298.    239.\n",
        "   263.    237.    288.  ]\n",
        " [   2.    259.    248.    273.    300.    247.    315.    329.    280.\n",
        "   319.    303.    283.  ]\n",
        " [   2.    273.    246.    289.    317.    269.    292.    311.    255.\n",
        "   302.    303.    244.  ]\n",
        " [   2.    274.    248.    312.    302.    195.    308.    313.    238.\n",
        "   277.    286.    323.  ]\n",
        " [   2.    293.    279.    274.    306.    285.    270.    302.    244.\n",
        "   300.    305.    292.  ]\n",
        " [   2.    262.    258.    249.    301.    280.    311.    330.    280.\n",
        "   328.    311.    264.  ]\n",
        " [   2.    271.    254.    268.    310.    299.    311.    331.    278.\n",
        "   326.    308.    290.  ]\n",
        " [   3.    281.    327.    300.    286.    246.    271.    291.    233.\n",
        "   307.    274.    352.  ]\n",
        " [   3.    286.    310.    263.    230.    157.    243.    288.    244.\n",
        "   309.    254.    362.  ]\n",
        " [   3.    278.    314.    284.    268.    201.    266.    295.    233.\n",
        "   310.    284.    193.  ]\n",
        " [   3.    298.    309.    279.    278.    231.    272.    311.    264.\n",
        "   309.    291.    364.  ]\n",
        " [   3.    289.    314.    265.    254.    200.    267.    302.    248.\n",
        "   294.    275.    334.  ]\n",
        " [   5.    280.    314.    261.    223.    190.    257.    273.    208.\n",
        "   227.    258.    366.  ]\n",
        " [   5.    285.    314.    287.    253.    188.    254.    284.    224.\n",
        "   256.    289.    384.  ]\n",
        " [   5.    299.    309.    287.    249.    182.    260.    281.    225.\n",
        "   256.    293.    415.  ]\n",
        " [   5.    300.    323.    293.    251.    185.    265.    283.    225.\n",
        "   264.    301.    417.  ]\n",
        " [   6.    280.    304.    261.    190.    113.    221.    292.    242.\n",
        "   327.    271.    358.  ]\n",
        " [   6.    259.    295.    261.    193.    116.    222.    288.    241.\n",
        "   327.    258.    354.  ]\n",
        " [   6.    290.    299.    280.    225.    137.    243.    287.    237.\n",
        "   327.    296.    351.  ]\n",
        " [   6.    271.    299.    260.    203.    118.    231.    280.    239.\n",
        "   326.    267.    354.  ]]"
       ]
      }
     ],
     "prompt_number": 44
    },
    {
     "cell_type": "code",
     "collapsed": true,
     "input": [],
     "language": "python",
     "metadata": {},
     "outputs": []
    }
   ],
   "metadata": {}
  }
 ]
}