{
 "metadata": {
  "name": "zabawy"
 }, 
 "nbformat": 2, 
 "worksheets": [
  {
   "cells": [
    {
     "cell_type": "code", 
     "collapsed": false, 
     "input": [
      "from collections import deque", 
      "import itertools", 
      "from pylab import *", 
      "import scipy.signal as signal", 
      "#Lowpass FIR filter", 
      "#Designing a lowpass FIR filter is very simple to do with SciPy, all you need to do is to define the window length, cut off frequency and the window:", 
      "", 
      "", 
      "n = 12", 
      "a = signal.firwin(n, cutoff = 0.3, window = \"hamming\")", 
      "def moving_average(iterable, n=3):", 
      "    # moving_average([40, 30, 50, 46, 39, 44]) --> 40.0 42.0 45.0 43.0", 
      "    # http://en.wikipedia.org/wiki/Moving_average", 
      "    it = iter(iterable)", 
      "    d = deque(itertools.islice(it, n-1))", 
      "    d.appendleft(0)", 
      "    s = sum(d)", 
      "    for elem in it:", 
      "        s += elem - d.popleft()", 
      "        d.append(elem)", 
      "        yield s / float(n)", 
      "        ", 
      "for a in moving_average(range(33)):", 
      "    print a"
     ], 
     "language": "python", 
     "outputs": [
      {
       "output_type": "stream", 
       "stream": "stdout", 
       "text": [
        "1.0", 
        "2.0", 
        "3.0", 
        "4.0", 
        "5.0", 
        "6.0", 
        "7.0", 
        "8.0", 
        "9.0", 
        "10.0", 
        "11.0", 
        "12.0", 
        "13.0", 
        "14.0", 
        "15.0", 
        "16.0", 
        "17.0", 
        "18.0", 
        "19.0", 
        "20.0", 
        "21.0", 
        "22.0", 
        "23.0", 
        "24.0", 
        "25.0", 
        "26.0", 
        "27.0", 
        "28.0", 
        "29.0", 
        "30.0", 
        "31.0"
       ]
      }
     ], 
     "prompt_number": 16
    }, 
    {
     "cell_type": "code", 
     "collapsed": false, 
     "input": [
      "array(itertools.islice([1,2,3], 2)])"
     ], 
     "language": "python", 
     "outputs": [
      {
       "ename": "SyntaxError", 
       "evalue": "invalid syntax (<ipython-input-19-5a0929fded59>, line 1)", 
       "output_type": "pyerr", 
       "traceback": [
        "\u001b[0;36m  File \u001b[0;32m\"<ipython-input-19-5a0929fded59>\"\u001b[0;36m, line \u001b[0;32m1\u001b[0m\n\u001b[0;31m    array(itertools.islice([1,2,3], 2)])\u001b[0m\n\u001b[0m                                      ^\u001b[0m\n\u001b[0;31mSyntaxError\u001b[0m\u001b[0;31m:\u001b[0m invalid syntax\n"
       ]
      }
     ], 
     "prompt_number": 19
    }, 
    {
     "cell_type": "code", 
     "collapsed": false, 
     "input": [
      "d=deque([1,2,3])"
     ], 
     "language": "python", 
     "outputs": [], 
     "prompt_number": 21
    }, 
    {
     "cell_type": "code", 
     "collapsed": false, 
     "input": [
      "array([ 1, 23,  4,  6,  7,  8])[-1]"
     ], 
     "language": "python", 
     "outputs": [
      {
       "output_type": "pyout", 
       "prompt_number": 35, 
       "text": [
        "8"
       ]
      }
     ], 
     "prompt_number": 35
    }, 
    {
     "cell_type": "code", 
     "collapsed": false, 
     "input": [
      "from pylab import *", 
      "import scipy.signal as signal", 
      "#Lowpass FIR filter", 
      "#Designing a lowpass FIR filter is very simple to do with SciPy, all you need to do is to define the window length, cut off frequency and the window:", 
      "", 
      "n = 10", 
      "a = signal.firwin(n, cutoff = 0.3, window = \"hamming\")", 
      "#Frequency and phase response", 
      "'''mfreqz(a)", 
      "show()", 
      "#Impulse and step response", 
      "figure(2)", 
      "impz(a)", 
      "show()'''", 
      "print a"
     ], 
     "language": "python", 
     "outputs": [
      {
       "output_type": "stream", 
       "stream": "stdout", 
       "text": [
        "[-0.00529514 -0.00280325  0.04350478  0.16948784  0.29510577  0.29510577", 
        "  0.16948784  0.04350478 -0.00280325 -0.00529514]"
       ]
      }
     ], 
     "prompt_number": 31
    }, 
    {
     "cell_type": "code", 
     "collapsed": false, 
     "input": [
      "print a"
     ], 
     "language": "python", 
     "outputs": [
      {
       "output_type": "stream", 
       "stream": "stdout", 
       "text": [
        "[-0.00416087 -0.00972751 -0.00500671  0.0549806   0.17783698  0.2860775", 
        "  0.2860775   0.17783698  0.0549806  -0.00500671 -0.00972751 -0.00416087]"
       ]
      }
     ], 
     "prompt_number": 27
    }, 
    {
     "cell_type": "code", 
     "collapsed": true, 
     "input": [], 
     "language": "python", 
     "outputs": []
    }
   ]
  }
 ]
}