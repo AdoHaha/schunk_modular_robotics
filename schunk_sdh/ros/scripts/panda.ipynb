{
 "metadata": {
  "name": ""
 },
 "nbformat": 3,
 "nbformat_minor": 0,
 "worksheets": [
  {
   "cells": [
    {
     "cell_type": "code",
     "collapsed": false,
     "input": [
      "import pandas as pd\n",
      "import matplotlib.pyplot as plt\n",
<<<<<<< HEAD
      "speedval = pd.read_csv('/home/ros/groovy_workspace/sandbox/schunk_modular_robotics/schunk_sdh/ros/scripts/ava2.csv', index_col=0, parse_dates=True)\n",
      "#plot(arange(10))"
=======
      "speedval = pd.read_csv('/home/igor/fuerte_workspace/sandbox/schunk_modular_robotics/schunk_sdh/ros/scripts/ava2.csv', index_col=0, parse_dates=True)\n"
>>>>>>> 12ab78bc2b813a1a76d0c4fcf5eede04fdcc82b4
     ],
     "language": "python",
     "metadata": {},
     "outputs": [],
<<<<<<< HEAD
     "prompt_number": 8
=======
     "prompt_number": 67
    },
    {
     "cell_type": "code",
     "collapsed": false,
     "input": [
      "for key in speedval:\n",
      "    print key"
     ],
     "language": "python",
     "metadata": {},
     "outputs": [
      {
       "output_type": "stream",
       "stream": "stdout",
       "text": [
        " link0\n",
        " link1\n",
        " link2\n",
        " link3\n",
        " link4\n",
        " link5\n",
        " link6\n"
       ]
      }
     ],
     "prompt_number": 68
>>>>>>> 12ab78bc2b813a1a76d0c4fcf5eede04fdcc82b4
    },
    {
     "cell_type": "code",
     "collapsed": false,
     "input": [
<<<<<<< HEAD
      "fufu=speedval.cumsum()\n",
      "speedval.plot()\n",
      "#fufu.plot()"
=======
      "speedval.columns"
>>>>>>> 12ab78bc2b813a1a76d0c4fcf5eede04fdcc82b4
     ],
     "language": "python",
     "metadata": {},
     "outputs": [
      {
       "metadata": {},
       "output_type": "pyout",
<<<<<<< HEAD
       "prompt_number": 9,
       "text": [
        "<matplotlib.axes.AxesSubplot at 0x5e3f510>"
       ]
      }
     ],
     "prompt_number": 9
    },
    {
     "cell_type": "code",
     "collapsed": false,
     "input": [
      "plot(speedval[0])"
=======
       "prompt_number": 69,
       "text": [
        "Index([u' link0', u' link1', u' link2', u' link3', u' link4', u' link5', u' link6'], dtype=object)"
       ]
      }
     ],
     "prompt_number": 69
    },
    {
     "cell_type": "code",
     "collapsed": true,
     "input": [
      "plot(speedval[u' link1'])"
>>>>>>> 12ab78bc2b813a1a76d0c4fcf5eede04fdcc82b4
     ],
     "language": "python",
     "metadata": {},
     "outputs": [
      {
<<<<<<< HEAD
       "ename": "KeyError",
       "evalue": "'no item named 0'",
       "output_type": "pyerr",
       "traceback": [
        "\u001b[0;31m---------------------------------------------------------------------------\u001b[0m\n\u001b[0;31mKeyError\u001b[0m                                  Traceback (most recent call last)",
        "\u001b[0;32m/home/ros/<ipython-input-26-bd7ec09fea98>\u001b[0m in \u001b[0;36m<module>\u001b[0;34m()\u001b[0m\n\u001b[0;32m----> 1\u001b[0;31m \u001b[0mplot\u001b[0m\u001b[0;34m(\u001b[0m\u001b[0mspeedval\u001b[0m\u001b[0;34m[\u001b[0m\u001b[0;36m0\u001b[0m\u001b[0;34m]\u001b[0m\u001b[0;34m)\u001b[0m\u001b[0;34m\u001b[0m\u001b[0m\n\u001b[0m",
        "\u001b[0;32m/usr/lib/pymodules/python2.7/pandas/core/frame.pyc\u001b[0m in \u001b[0;36m__getitem__\u001b[0;34m(self, key)\u001b[0m\n\u001b[1;32m   1376\u001b[0m             \u001b[0;32mreturn\u001b[0m \u001b[0mself\u001b[0m\u001b[0;34m.\u001b[0m\u001b[0m_getitem_multilevel\u001b[0m\u001b[0;34m(\u001b[0m\u001b[0mkey\u001b[0m\u001b[0;34m)\u001b[0m\u001b[0;34m\u001b[0m\u001b[0m\n\u001b[1;32m   1377\u001b[0m         \u001b[0;32melse\u001b[0m\u001b[0;34m:\u001b[0m\u001b[0;34m\u001b[0m\u001b[0m\n\u001b[0;32m-> 1378\u001b[0;31m             \u001b[0;32mreturn\u001b[0m \u001b[0mself\u001b[0m\u001b[0;34m.\u001b[0m\u001b[0m_get_item_cache\u001b[0m\u001b[0;34m(\u001b[0m\u001b[0mkey\u001b[0m\u001b[0;34m)\u001b[0m\u001b[0;34m\u001b[0m\u001b[0m\n\u001b[0m\u001b[1;32m   1379\u001b[0m \u001b[0;34m\u001b[0m\u001b[0m\n\u001b[1;32m   1380\u001b[0m     \u001b[0;32mdef\u001b[0m \u001b[0m_getitem_array\u001b[0m\u001b[0;34m(\u001b[0m\u001b[0mself\u001b[0m\u001b[0;34m,\u001b[0m \u001b[0mkey\u001b[0m\u001b[0;34m)\u001b[0m\u001b[0;34m:\u001b[0m\u001b[0;34m\u001b[0m\u001b[0m\n",
        "\u001b[0;32m/usr/lib/pymodules/python2.7/pandas/core/generic.pyc\u001b[0m in \u001b[0;36m_get_item_cache\u001b[0;34m(self, item)\u001b[0m\n\u001b[1;32m    280\u001b[0m             \u001b[0;32mreturn\u001b[0m \u001b[0mcache\u001b[0m\u001b[0;34m[\u001b[0m\u001b[0mitem\u001b[0m\u001b[0;34m]\u001b[0m\u001b[0;34m\u001b[0m\u001b[0m\n\u001b[1;32m    281\u001b[0m         \u001b[0;32mexcept\u001b[0m \u001b[0mException\u001b[0m\u001b[0;34m:\u001b[0m\u001b[0;34m\u001b[0m\u001b[0m\n\u001b[0;32m--> 282\u001b[0;31m             \u001b[0mvalues\u001b[0m \u001b[0;34m=\u001b[0m \u001b[0mself\u001b[0m\u001b[0;34m.\u001b[0m\u001b[0m_data\u001b[0m\u001b[0;34m.\u001b[0m\u001b[0mget\u001b[0m\u001b[0;34m(\u001b[0m\u001b[0mitem\u001b[0m\u001b[0;34m)\u001b[0m\u001b[0;34m\u001b[0m\u001b[0m\n\u001b[0m\u001b[1;32m    283\u001b[0m             \u001b[0mres\u001b[0m \u001b[0;34m=\u001b[0m \u001b[0mself\u001b[0m\u001b[0;34m.\u001b[0m\u001b[0m_box_item_values\u001b[0m\u001b[0;34m(\u001b[0m\u001b[0mitem\u001b[0m\u001b[0;34m,\u001b[0m \u001b[0mvalues\u001b[0m\u001b[0;34m)\u001b[0m\u001b[0;34m\u001b[0m\u001b[0m\n\u001b[1;32m    284\u001b[0m             \u001b[0mcache\u001b[0m\u001b[0;34m[\u001b[0m\u001b[0mitem\u001b[0m\u001b[0;34m]\u001b[0m \u001b[0;34m=\u001b[0m \u001b[0mres\u001b[0m\u001b[0;34m\u001b[0m\u001b[0m\n",
        "\u001b[0;32m/usr/lib/pymodules/python2.7/pandas/core/internals.pyc\u001b[0m in \u001b[0;36mget\u001b[0;34m(self, item)\u001b[0m\n\u001b[1;32m    581\u001b[0m \u001b[0;34m\u001b[0m\u001b[0m\n\u001b[1;32m    582\u001b[0m     \u001b[0;32mdef\u001b[0m \u001b[0mget\u001b[0m\u001b[0;34m(\u001b[0m\u001b[0mself\u001b[0m\u001b[0;34m,\u001b[0m \u001b[0mitem\u001b[0m\u001b[0;34m)\u001b[0m\u001b[0;34m:\u001b[0m\u001b[0;34m\u001b[0m\u001b[0m\n\u001b[0;32m--> 583\u001b[0;31m         \u001b[0m_\u001b[0m\u001b[0;34m,\u001b[0m \u001b[0mblock\u001b[0m \u001b[0;34m=\u001b[0m \u001b[0mself\u001b[0m\u001b[0;34m.\u001b[0m\u001b[0m_find_block\u001b[0m\u001b[0;34m(\u001b[0m\u001b[0mitem\u001b[0m\u001b[0;34m)\u001b[0m\u001b[0;34m\u001b[0m\u001b[0m\n\u001b[0m\u001b[1;32m    584\u001b[0m         \u001b[0;32mreturn\u001b[0m \u001b[0mblock\u001b[0m\u001b[0;34m.\u001b[0m\u001b[0mget\u001b[0m\u001b[0;34m(\u001b[0m\u001b[0mitem\u001b[0m\u001b[0;34m)\u001b[0m\u001b[0;34m\u001b[0m\u001b[0m\n\u001b[1;32m    585\u001b[0m \u001b[0;34m\u001b[0m\u001b[0m\n",
        "\u001b[0;32m/usr/lib/pymodules/python2.7/pandas/core/internals.pyc\u001b[0m in \u001b[0;36m_find_block\u001b[0;34m(self, item)\u001b[0m\n\u001b[1;32m    659\u001b[0m \u001b[0;34m\u001b[0m\u001b[0m\n\u001b[1;32m    660\u001b[0m     \u001b[0;32mdef\u001b[0m \u001b[0m_find_block\u001b[0m\u001b[0;34m(\u001b[0m\u001b[0mself\u001b[0m\u001b[0;34m,\u001b[0m \u001b[0mitem\u001b[0m\u001b[0;34m)\u001b[0m\u001b[0;34m:\u001b[0m\u001b[0;34m\u001b[0m\u001b[0m\n\u001b[0;32m--> 661\u001b[0;31m         \u001b[0mself\u001b[0m\u001b[0;34m.\u001b[0m\u001b[0m_check_have\u001b[0m\u001b[0;34m(\u001b[0m\u001b[0mitem\u001b[0m\u001b[0;34m)\u001b[0m\u001b[0;34m\u001b[0m\u001b[0m\n\u001b[0m\u001b[1;32m    662\u001b[0m         \u001b[0;32mfor\u001b[0m \u001b[0mi\u001b[0m\u001b[0;34m,\u001b[0m \u001b[0mblock\u001b[0m \u001b[0;32min\u001b[0m \u001b[0menumerate\u001b[0m\u001b[0;34m(\u001b[0m\u001b[0mself\u001b[0m\u001b[0;34m.\u001b[0m\u001b[0mblocks\u001b[0m\u001b[0;34m)\u001b[0m\u001b[0;34m:\u001b[0m\u001b[0;34m\u001b[0m\u001b[0m\n\u001b[1;32m    663\u001b[0m             \u001b[0;32mif\u001b[0m \u001b[0mitem\u001b[0m \u001b[0;32min\u001b[0m \u001b[0mblock\u001b[0m\u001b[0;34m:\u001b[0m\u001b[0;34m\u001b[0m\u001b[0m\n",
        "\u001b[0;32m/usr/lib/pymodules/python2.7/pandas/core/internals.pyc\u001b[0m in \u001b[0;36m_check_have\u001b[0;34m(self, item)\u001b[0m\n\u001b[1;32m    666\u001b[0m     \u001b[0;32mdef\u001b[0m \u001b[0m_check_have\u001b[0m\u001b[0;34m(\u001b[0m\u001b[0mself\u001b[0m\u001b[0;34m,\u001b[0m \u001b[0mitem\u001b[0m\u001b[0;34m)\u001b[0m\u001b[0;34m:\u001b[0m\u001b[0;34m\u001b[0m\u001b[0m\n\u001b[1;32m    667\u001b[0m         \u001b[0;32mif\u001b[0m \u001b[0mitem\u001b[0m \u001b[0;32mnot\u001b[0m \u001b[0;32min\u001b[0m \u001b[0mself\u001b[0m\u001b[0;34m.\u001b[0m\u001b[0mitems\u001b[0m\u001b[0;34m:\u001b[0m\u001b[0;34m\u001b[0m\u001b[0m\n\u001b[0;32m--> 668\u001b[0;31m             \u001b[0;32mraise\u001b[0m \u001b[0mKeyError\u001b[0m\u001b[0;34m(\u001b[0m\u001b[0;34m'no item named %s'\u001b[0m \u001b[0;34m%\u001b[0m \u001b[0mstr\u001b[0m\u001b[0;34m(\u001b[0m\u001b[0mitem\u001b[0m\u001b[0;34m)\u001b[0m\u001b[0;34m)\u001b[0m\u001b[0;34m\u001b[0m\u001b[0m\n\u001b[0m\u001b[1;32m    669\u001b[0m \u001b[0;34m\u001b[0m\u001b[0m\n\u001b[1;32m    670\u001b[0m     \u001b[0;32mdef\u001b[0m \u001b[0mreindex_axis\u001b[0m\u001b[0;34m(\u001b[0m\u001b[0mself\u001b[0m\u001b[0;34m,\u001b[0m \u001b[0mnew_axis\u001b[0m\u001b[0;34m,\u001b[0m \u001b[0mmethod\u001b[0m\u001b[0;34m=\u001b[0m\u001b[0mNone\u001b[0m\u001b[0;34m,\u001b[0m \u001b[0maxis\u001b[0m\u001b[0;34m=\u001b[0m\u001b[0;36m0\u001b[0m\u001b[0;34m,\u001b[0m \u001b[0mcopy\u001b[0m\u001b[0;34m=\u001b[0m\u001b[0mTrue\u001b[0m\u001b[0;34m)\u001b[0m\u001b[0;34m:\u001b[0m\u001b[0;34m\u001b[0m\u001b[0m\n",
        "\u001b[0;31mKeyError\u001b[0m: 'no item named 0'"
       ]
      }
     ],
     "prompt_number": 26
    },
    {
     "cell_type": "code",
     "collapsed": true,
=======
       "metadata": {},
       "output_type": "pyout",
       "prompt_number": 77,
       "text": [
        "[<matplotlib.lines.Line2D at 0x6012850>]"
       ]
      },
      {
       "metadata": {},
       "output_type": "display_data",
       "png": "iVBORw0KGgoAAAANSUhEUgAAAYAAAAD9CAYAAAC1DKAUAAAABHNCSVQICAgIfAhkiAAAAAlwSFlz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\n",
       "text": [
        "<matplotlib.figure.Figure at 0x54a6810>"
       ]
      }
     ],
     "prompt_number": 77
    },
    {
     "cell_type": "code",
     "collapsed": false,
>>>>>>> 12ab78bc2b813a1a76d0c4fcf5eede04fdcc82b4
     "input": [],
     "language": "python",
     "metadata": {},
     "outputs": []
    }
   ],
   "metadata": {}
  }
 ]
}