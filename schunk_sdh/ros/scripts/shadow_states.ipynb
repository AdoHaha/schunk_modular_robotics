{
 "metadata": {
  "name": "shadow_states"
 }, 
 "nbformat": 2, 
 "worksheets": [
  {
   "cells": [
    {
     "cell_type": "code", 
     "collapsed": true, 
     "input": [
      "#!/usr/bin/env python", 
      "import roslib; roslib.load_manifest('schunk_sdh')", 
      "import rospy", 
      "from std_msgs.msg import String", 
      "from std_msgs.msg import Float64", 
      "from dlonurdf.msg import Rekawica", 
      "from dlonurdf.msg import Hand", 
      "", 
      "", 
      "import math", 
      "", 
      "#import roslib; ", 
      "#roslib.load_manifest('dlonurdf')", 
      "import sys ", 
      "#import rospy", 
      "#import roslib", 
      "import cob_srvs.srv", 
      "import std_msgs.msg", 
      "import control_msgs.msg", 
      "import actionlib_msgs.msg", 
      "import trajectory_msgs.msg", 
      "import sensor_msgs.msg"
     ], 
     "language": "python", 
     "outputs": [], 
     "prompt_number": 1
    }, 
    {
     "cell_type": "code", 
     "collapsed": true, 
     "input": [
      "", 
      "pub = rospy.Publisher('/shadow_joint_states', sensor_msgs.msg.JointState)", 
      "rospy.init_node('shadowteststates')"
     ], 
     "language": "python", 
     "outputs": [], 
     "prompt_number": 2
    }, 
    {
     "cell_type": "code", 
     "collapsed": true, 
     "input": [
      "'''", 
      "Header header", 
      "    uint32 seq", 
      "    time stamp", 
      "    string frame_id", 
      "string[] name", 
      "float64[] position", 
      "float64[] velocity", 
      "float64[] effort", 
      "'''", 
      "", 
      "", 
      "def shadow_pose(pospos):", 
      "    ", 
      "    jointstatez=sensor_msgs.msg.JointState()", 
      "    jointstatez.name=['shadow_sdh_knuckle_joint','shadow_sdh_thumb_2_joint','shadow_sdh_thumb_3_joint','shadow_sdh_finger_12_joint','shadow_sdh_finger_13_joint','shadow_sdh_finger_22_joint','shadow_sdh_finger_23_joint','shadow_sdh_finger_21_joint']", 
      "    ", 
      "    #punktdocel.positions=pospos", 
      "    jointstatez.position=pospos", 
      "    jointstatez.velocity=[0 for x in pospos]", 
      "    jointstatez.effort=[0 for x in pospos]", 
      "    #mes=control_msgs.msg.FollowJointTrajectoryActionGoal()", 
      "    #mes.goal.trajectory.points.append(punktdocel)", 
      "    h = std_msgs.msg.Header()", 
      "    h.stamp = rospy.Time.now() # Note you need to call rospy.init_node() before this will work", 
      "    jointstatez.header=h", 
      "    #mes.goal.trajectory.points=goalpos #=goalpos", 
      "    #type(mes.goal.trajectory.points) #=goalpos", 
      "    wyn=pub.publish(jointstatez)", 
      "    #print mes"
     ], 
     "language": "python", 
     "outputs": [], 
     "prompt_number": 3
    }, 
    {
     "cell_type": "code", 
     "collapsed": true, 
     "input": [
      "shadow_pose([0,-1,1,0,0,0,0,0])"
     ], 
     "language": "python", 
     "outputs": [], 
     "prompt_number": 4
    }, 
    {
     "cell_type": "code", 
     "collapsed": true, 
     "input": [], 
     "language": "python", 
     "outputs": []
    }
   ]
  }
 ]
}