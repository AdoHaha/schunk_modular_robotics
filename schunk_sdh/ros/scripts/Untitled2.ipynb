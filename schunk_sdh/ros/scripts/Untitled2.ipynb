{
 "metadata": {
  "name": ""
 },
 "nbformat": 3,
 "nbformat_minor": 0,
 "worksheets": [
  {
   "cells": [
    {
     "cell_type": "code",
     "collapsed": false,
     "input": [
<<<<<<< HEAD
      "print 7606298220-7607754491\n",
      "print 6154448-6170582"
=======
      "import pandas as pd\n",
      "import random\n",
      "\n",
      "#Iterable\n",
      "list_data = [10, 20, 30, 20, 15, 30, 45]\n",
      "\n",
      "#Dicts of iterables\n",
      "cat_1 = ['y1', 'y2', 'y3', 'y4']\n",
      "index_1 = range(0, 21, 1)\n",
      "multi_iter1 = {'index': index_1}\n",
      "for cat in cat_1:\n",
      "    multi_iter1[cat] = [random.randint(10, 100) for x in index_1]\n",
      "\n",
      "cat_2 = ['y' + str(x) for x in range(0, 10, 1)]\n",
      "index_2 = range(1, 21, 1)\n",
      "multi_iter2 = {'index': index_2}\n",
      "for cat in cat_2:\n",
      "    multi_iter2[cat] = [random.randint(10, 100) for x in index_2]\n",
      "\n",
      "#Pandas\n",
      "import pandas as pd\n",
      "\n",
      "farm_1 = {'apples': 10, 'berries': 32, 'squash': 21, 'melons': 13, 'corn': 18}\n",
      "farm_2 = {'apples': 15, 'berries': 43, 'squash': 17, 'melons': 10, 'corn': 22}\n",
      "farm_3 = {'apples': 6, 'berries': 24, 'squash': 22, 'melons': 16, 'corn': 30}\n",
      "farm_4 = {'apples': 12, 'berries': 30, 'squash': 15, 'melons': 9, 'corn': 15}\n",
      "\n",
      "farm_data = [farm_1, farm_2, farm_3, farm_4]\n",
      "farm_index = ['Farm 1', 'Farm 2', 'Farm 3', 'Farm 4']\n",
      "df_farm = pd.DataFrame(farm_data, index=farm_index)\n",
      "\n",
      "#As DataFrames\n",
      "index_3 = multi_iter2.pop('index')\n",
      "df_1 = pd.DataFrame(multi_iter2, index=index_3)\n",
      "df_1 = df_1.reindex(columns=sorted(df_1.columns))\n",
      "\n",
      "cat_4 = ['Metric_' + str(x) for x in range(0, 10, 1)]\n",
      "index_4 = ['Data 1', 'Data 2', 'Data 3', 'Data 4']\n",
      "data_3 = {}\n",
      "for cat in cat_4:\n",
      "    data_3[cat] = [random.randint(10, 100) for x in index_4]\n",
      "df_2 = pd.DataFrame(data_3, index=index_4)\n",
      "\n",
      "import pandas.io.data as web\n",
      "all_data = {}\n",
      "for ticker in ['AAPL', 'GOOG', 'IBM', 'YHOO', 'MSFT']:\n",
      "    all_data[ticker] = web.get_data_yahoo(ticker, '1/1/2010', '1/1/2013')\n",
      "price = pd.DataFrame({tic: data['Adj Close']\n",
      "                      for tic, data in all_data.iteritems()})"
     ],
     "language": "python",
     "metadata": {},
     "outputs": [],
     "prompt_number": 2
    },
    {
     "cell_type": "code",
     "collapsed": false,
     "input": [
      "stacked = vincent.StackedArea(price)\n",
      "stacked.axis_titles(x='Date', y='Price')\n",
      "stacked.legend(title='Tech Stocks')\n",
      "stacked.colors(brew='Accent')"
     ],
     "language": "python",
     "metadata": {},
     "outputs": [],
     "prompt_number": 3
    },
    {
     "cell_type": "code",
     "collapsed": false,
     "input": [
      "area = vincent.Area(list_data)"
     ],
     "language": "python",
     "metadata": {},
     "outputs": [],
     "prompt_number": 4
    },
    {
     "cell_type": "code",
     "collapsed": false,
     "input": [
      "print area"
>>>>>>> 12ab78bc2b813a1a76d0c4fcf5eede04fdcc82b4
     ],
     "language": "python",
     "metadata": {},
     "outputs": [
      {
       "output_type": "stream",
       "stream": "stdout",
       "text": [
<<<<<<< HEAD
        "-1456271\n",
        "-16134\n"
       ]
      }
     ],
     "prompt_number": 3
=======
        "<vincent.charts.Area object at 0x3352910>\n"
       ]
      }
     ],
     "prompt_number": 5
>>>>>>> 12ab78bc2b813a1a76d0c4fcf5eede04fdcc82b4
    },
    {
     "cell_type": "code",
     "collapsed": false,
     "input": [],
     "language": "python",
     "metadata": {},
     "outputs": []
    }
   ],
   "metadata": {}
  }
 ]
}