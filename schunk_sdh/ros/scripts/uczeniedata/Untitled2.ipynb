{
 "metadata": {
  "name": ""
 },
 "nbformat": 3,
 "nbformat_minor": 0,
 "worksheets": [
  {
   "cells": [
    {
     "cell_type": "code",
     "collapsed": false,
     "input": [
      "def remove_html_markup(s):\n",
      "    tag   = False\n",
      "    quote = False\n",
      "    out   = \"\"\n",
      "\n",
      "    for c in s:\n",
      "        if c == '<' and not quote:\n",
      "            tag = True\n",
      "        elif c == '>' and not quote:\n",
      "            tag = False\n",
      "        elif c == '\"' or c == \"'\" and tag:\n",
      "            assert False\n",
      "            quote = not quote\n",
      "        elif not tag:\n",
      "            out = out + c\n",
      "    return out\n",
      "    "
     ],
     "language": "python",
     "metadata": {},
     "outputs": [],
     "prompt_number": 6
    },
    {
     "cell_type": "code",
     "collapsed": false,
     "input": [
      "remove_html_markup(\"'foo'\")"
     ],
     "language": "python",
     "metadata": {},
     "outputs": [
      {
       "metadata": {},
       "output_type": "pyout",
       "prompt_number": 8,
       "text": [
        "\"'foo'\""
       ]
      }
     ],
     "prompt_number": 8
    },
    {
     "cell_type": "code",
     "collapsed": false,
     "input": [
      "#!/usr/bin/env python\n",
      "# Simple debugger\n",
      "import sys\n",
      "import readline\n",
      "\n",
      "def remove_html_markup(s):\n",
      "    tag   = False\n",
      "    quote = False\n",
      "    out   = \"\"\n",
      "\n",
      "    for c in s:\n",
      "        if c == '<' and not quote:\n",
      "            tag = True\n",
      "        elif c == '>' and not quote:\n",
      "            tag = False\n",
      "        elif c == '\"' or c == \"'\" and tag:\n",
      "            quote = not quote\n",
      "        elif not tag:\n",
      "            out = out + c\n",
      "    return out\n",
      "\n",
      "# main program that runs the buggy program\n",
      "def main():\n",
      "    print remove_html_markup('xyz')\n",
      "    print remove_html_markup('\"<b>foo</b>\"')\n",
      "    print remove_html_markup(\"'<b>foo</b>'\")\n",
      "\n",
      "# globals\n",
      "breakpoints = {9: True, 14: True}\n",
      "stepping = False\n",
      "\n",
      "def debug(command, my_locals):\n",
      "    global stepping\n",
      "    global breakpoints\n",
      "\n",
      "    if command.find(' ') > 0:\n",
      "        arg = command.split(' ')[1]\n",
      "    else:\n",
      "        arg = None\n",
      "\n",
      "    if command.startswith('s'):     # step\n",
      "        stepping = True\n",
      "        return True\n",
      "    elif command.startswith('c'):   # continue\n",
      "        stepping = False\n",
      "        return True\n",
      "    elif command.startswith('q'):   # quit\n",
      "        sys.exit(0)\n",
      "    else:\n",
      "        print \"No such command\", repr(command)\n",
      "\n",
      "    return False\n",
      "\n",
      "commands = [\"s\", \"s\", \"q\"]\n",
      "\n",
      "def input_command():\n",
      "    #command = raw_input(\"(my-spyder) \")\n",
      "    global commands\n",
      "    command = commands.pop(0)\n",
      "    return command\n",
      "\n",
      "def traceit(frame, event, trace_arg):\n",
      "    global stepping\n",
      "\n",
      "    if event == 'line':\n",
      "        if stepping or breakpoints.has_key(frame.f_lineno):\n",
      "            resume = False\n",
      "            while not resume:\n",
      "                print event, frame.f_lineno, frame.f_code.co_name, frame.f_locals\n",
      "                command = input_command()\n",
      "                resume = debug(command, frame.f_locals)\n",
      "    return traceit\n",
      "\n",
      "sys.settrace(traceit)\n",
      "\n",
      "print remove_html_markup('xyz')"
     ],
     "language": "python",
     "metadata": {},
     "outputs": [
      {
       "ename": "SystemExit",
       "evalue": "0",
       "output_type": "pyerr",
       "traceback": [
        "An exception has occurred, use %tb to see the full traceback.\n",
        "\u001b[1;31mSystemExit\u001b[0m\u001b[1;31m:\u001b[0m 0\n"
       ]
      },
      {
       "output_type": "stream",
       "stream": "stdout",
       "text": [
        "line 9 remove_html_markup {'quote': False, 's': 'xyz', 'tag': False}\n",
        "line 11 remove_html_markup {'quote': False, 's': 'xyz', 'tag': False, 'out': ''}\n",
        "line 12 remove_html_markup {'quote': False, 's': 'xyz', 'tag': False, 'c': 'x', 'out': ''}\n"
       ]
      },
      {
       "output_type": "stream",
       "stream": "stderr",
       "text": [
        "To exit: use 'exit', 'quit', or Ctrl-D.\n"
       ]
      }
     ],
     "prompt_number": 11
    },
    {
     "cell_type": "code",
     "collapsed": false,
     "input": [
      "def franio():\n",
      "    print \"cos\"\n",
      "    assert zuzia()==5"
     ],
     "language": "python",
     "metadata": {},
     "outputs": [],
     "prompt_number": 16
    },
    {
     "cell_type": "code",
     "collapsed": false,
     "input": [
      "franio()"
     ],
     "language": "python",
     "metadata": {},
     "outputs": [
      {
       "ename": "AssertionError",
       "evalue": "",
       "output_type": "pyerr",
       "traceback": [
        "\u001b[1;31m---------------------------------------------------------------------------\u001b[0m\n\u001b[1;31mAssertionError\u001b[0m                            Traceback (most recent call last)",
        "\u001b[1;32m<ipython-input-17-3718670f6ca0>\u001b[0m in \u001b[0;36m<module>\u001b[1;34m()\u001b[0m\n\u001b[1;32m----> 1\u001b[1;33m \u001b[0mfranio\u001b[0m\u001b[1;33m(\u001b[0m\u001b[1;33m)\u001b[0m\u001b[1;33m\u001b[0m\u001b[0m\n\u001b[0m",
        "\u001b[1;32m<ipython-input-16-cd26eeedb818>\u001b[0m in \u001b[0;36mfranio\u001b[1;34m()\u001b[0m\n\u001b[0;32m      1\u001b[0m \u001b[1;32mdef\u001b[0m \u001b[0mfranio\u001b[0m\u001b[1;33m(\u001b[0m\u001b[1;33m)\u001b[0m\u001b[1;33m:\u001b[0m\u001b[1;33m\u001b[0m\u001b[0m\n\u001b[0;32m      2\u001b[0m     \u001b[1;32mprint\u001b[0m \u001b[1;34m\"cos\"\u001b[0m\u001b[1;33m\u001b[0m\u001b[0m\n\u001b[1;32m----> 3\u001b[1;33m     \u001b[1;32massert\u001b[0m \u001b[0mzuzia\u001b[0m\u001b[1;33m(\u001b[0m\u001b[1;33m)\u001b[0m\u001b[1;33m==\u001b[0m\u001b[1;36m5\u001b[0m\u001b[1;33m\u001b[0m\u001b[0m\n\u001b[0m",
        "\u001b[1;31mAssertionError\u001b[0m: "
       ]
      },
      {
       "output_type": "stream",
       "stream": "stdout",
       "text": [
        "cos\n"
       ]
      }
     ],
     "prompt_number": 17
    },
    {
     "cell_type": "code",
     "collapsed": false,
     "input": [
      "def zuzia():\n",
      "    return 3"
     ],
     "language": "python",
     "metadata": {},
     "outputs": [],
     "prompt_number": 15
    },
    {
     "cell_type": "code",
     "collapsed": false,
     "input": [
      "import math\n",
      "import random\n",
      "def sq(x):\n",
      "    assert x>= 0\n",
      "    y=math.sqrt(x)\n",
      "    assert y*y ==x\n",
      "    return y\n",
      "\n",
      "for i in range(1,1000):\n",
      "    r =random.random()*10000\n",
      "    z= sq(r)\n",
      "print done"
     ],
     "language": "python",
     "metadata": {},
     "outputs": [
      {
       "ename": "AssertionError",
       "evalue": "",
       "output_type": "pyerr",
       "traceback": [
        "\u001b[1;31m---------------------------------------------------------------------------\u001b[0m\n\u001b[1;31mAssertionError\u001b[0m                            Traceback (most recent call last)",
        "\u001b[1;32m<ipython-input-20-88999a9adac7>\u001b[0m in \u001b[0;36m<module>\u001b[1;34m()\u001b[0m\n\u001b[0;32m      9\u001b[0m \u001b[1;32mfor\u001b[0m \u001b[0mi\u001b[0m \u001b[1;32min\u001b[0m \u001b[0mrange\u001b[0m\u001b[1;33m(\u001b[0m\u001b[1;36m1\u001b[0m\u001b[1;33m,\u001b[0m\u001b[1;36m1000\u001b[0m\u001b[1;33m)\u001b[0m\u001b[1;33m:\u001b[0m\u001b[1;33m\u001b[0m\u001b[0m\n\u001b[0;32m     10\u001b[0m     \u001b[0mr\u001b[0m \u001b[1;33m=\u001b[0m\u001b[0mrandom\u001b[0m\u001b[1;33m.\u001b[0m\u001b[0mrandom\u001b[0m\u001b[1;33m(\u001b[0m\u001b[1;33m)\u001b[0m\u001b[1;33m*\u001b[0m\u001b[1;36m10000\u001b[0m\u001b[1;33m\u001b[0m\u001b[0m\n\u001b[1;32m---> 11\u001b[1;33m     \u001b[0mz\u001b[0m\u001b[1;33m=\u001b[0m \u001b[0msq\u001b[0m\u001b[1;33m(\u001b[0m\u001b[0mr\u001b[0m\u001b[1;33m)\u001b[0m\u001b[1;33m\u001b[0m\u001b[0m\n\u001b[0m\u001b[0;32m     12\u001b[0m \u001b[1;32mprint\u001b[0m \u001b[0mdone\u001b[0m\u001b[1;33m\u001b[0m\u001b[0m\n",
        "\u001b[1;32m<ipython-input-20-88999a9adac7>\u001b[0m in \u001b[0;36msq\u001b[1;34m(x)\u001b[0m\n\u001b[0;32m      4\u001b[0m     \u001b[1;32massert\u001b[0m \u001b[0mx\u001b[0m\u001b[1;33m>=\u001b[0m \u001b[1;36m0\u001b[0m\u001b[1;33m\u001b[0m\u001b[0m\n\u001b[0;32m      5\u001b[0m     \u001b[0my\u001b[0m\u001b[1;33m=\u001b[0m\u001b[0mmath\u001b[0m\u001b[1;33m.\u001b[0m\u001b[0msqrt\u001b[0m\u001b[1;33m(\u001b[0m\u001b[0mx\u001b[0m\u001b[1;33m)\u001b[0m\u001b[1;33m\u001b[0m\u001b[0m\n\u001b[1;32m----> 6\u001b[1;33m     \u001b[1;32massert\u001b[0m \u001b[0my\u001b[0m\u001b[1;33m*\u001b[0m\u001b[0my\u001b[0m \u001b[1;33m==\u001b[0m\u001b[0mx\u001b[0m\u001b[1;33m\u001b[0m\u001b[0m\n\u001b[0m\u001b[0;32m      7\u001b[0m     \u001b[1;32mreturn\u001b[0m \u001b[0my\u001b[0m\u001b[1;33m\u001b[0m\u001b[0m\n\u001b[0;32m      8\u001b[0m \u001b[1;33m\u001b[0m\u001b[0m\n",
        "\u001b[1;31mAssertionError\u001b[0m: "
       ]
      }
     ],
     "prompt_number": 20
    },
    {
     "cell_type": "code",
     "collapsed": false,
     "input": [],
     "language": "python",
     "metadata": {},
     "outputs": []
    }
   ],
   "metadata": {}
  }
 ]
}