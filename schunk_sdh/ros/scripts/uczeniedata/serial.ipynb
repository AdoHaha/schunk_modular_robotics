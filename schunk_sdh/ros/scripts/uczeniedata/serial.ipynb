{
 "metadata": {
  "name": "serial"
 }, 
 "nbformat": 2, 
 "worksheets": [
  {
   "cells": [
    {
     "cell_type": "code", 
     "collapsed": true, 
     "input": [
      "#sudo rfcomm connect 1", 
      "", 
      "import serial", 
      "import time", 
      "import struct", 
      "import termios", 
      "#ser = serial.Serial('/dev/ttyACM1',57600)", 
      "", 
      "ser = serial.Serial('/dev/rfcomm0',57600,timeout=0.02)", 
      "#ser.flushInput()"
     ], 
     "language": "python", 
     "outputs": [], 
     "prompt_number": 1
    }, 
    {
     "cell_type": "code", 
     "collapsed": false, 
     "input": [
      "ser.open()", 
      "", 
      "#ser.read(1000000000)", 
      "while(ser.inWaiting()>0):", 
      "    ser.readline()", 
      "time.sleep(2)"
     ], 
     "language": "python", 
     "outputs": [
      {
       "ename": "SyntaxError", 
       "evalue": "invalid syntax (<ipython-input-94-e7608a20b02b>, line 1)", 
       "output_type": "pyerr", 
       "traceback": [
        "\u001b[0;36m  File \u001b[0;32m\"<ipython-input-94-e7608a20b02b>\"\u001b[0;36m, line \u001b[0;32m1\u001b[0m\n\u001b[0;31m    print wsp=wsp2\u001b[0m\n\u001b[0m             ^\u001b[0m\n\u001b[0;31mSyntaxError\u001b[0m\u001b[0;31m:\u001b[0m invalid syntax\n"
       ]
      }
     ], 
     "prompt_number": 94
    }, 
    {
     "cell_type": "code", 
     "collapsed": false, 
     "input": [
      "ser.open()", 
      "", 
      "#ser.read(1000000000)", 
      "while(ser.inWaiting()>0):", 
      "    ser.readline()", 
      "time.sleep(2)", 
      "#ser.flushOutput()", 
      "wsp=1", 
      "sp=30 #wsp wyp", 
      "kp=sp", 
      "", 
      "kl=int(round(sp*wsp))", 
      "print kp,kl", 
      "ser.write(bytearray([100,kl,kp]))", 
      "#ser.write([5])", 
      "#ser.flushInput()  # Flush startup text in serial input", 
      "", 
      "time.sleep(0.002)", 
      "#print ser.readline()", 
      "", 
      "", 
      "", 
      "n,ff=0,0;", 
      "poklewe=[];", 
      "pokprawe=[];", 
      "dokonca=True;", 
      "czas=[]", 
      "ciagi=[]", 
      "#ser.flushInput()", 
      "#time.sleep(0.1)", 
      "while(dokonca or ser.inWaiting()>0):", 
      "    ciag=ser.readline();", 
      "    #print len(ciag)", 
      "    #print ciag", 
      "    if(len(ciag)==12):", 
      "        ciagi.append(ciag)", 
      "        k1,k2,lewe,prawe,tim,s,s  = struct.unpack(\"<cchhLcc\",ciag)", 
      "     #   print ord(co),ord(ss),ord(k1),ord(k2)", 
      "        poklewe.append(lewe);", 
      "        pokprawe.append(prawe);", 
      "        czas.append(tim)", 
      "        ff=ff+1", 
      "     #   print lewe,prawe,tim", 
      "    #print n, \"fufu\",ord(c),ord(i)", 
      "    #print(ciag)", 
      "    n=n+1", 
      "    ", 
      "    if(ciag==\"fin\" or ciag==\"fin\\n\" or n==1000):", 
      "    #    print ciag", 
      "        time.sleep(1.2)", 
      "        dokonca=False;", 
      "    ", 
      "    if(n==2000):", 
      "        time.sleep(1)", 
      "ser.close()", 
      "print \"koniec\""
     ], 
     "language": "python", 
     "outputs": [
      {
       "output_type": "stream", 
       "stream": "stdout", 
       "text": [
        "30 30", 
        "koniec"
       ]
      }, 
      {
       "output_type": "stream", 
       "stream": "stdout", 
       "text": []
      }
     ], 
     "prompt_number": 64
    }, 
    {
     "cell_type": "code", 
     "collapsed": true, 
     "input": [
      "ser.close()"
     ], 
     "language": "python", 
     "outputs": [], 
     "prompt_number": 46
    }, 
    {
     "cell_type": "code", 
     "collapsed": false, 
     "input": [
      "import matplotlib.pyplot as plt", 
      "plt.plot(czas[0:300], poklewe[0:300],'ro',czas[0:300],pokprawe[0:300],'bo')"
     ], 
     "language": "python", 
     "outputs": [
      {
       "output_type": "pyout", 
       "prompt_number": 49, 
       "text": [
        "[<matplotlib.lines.Line2D at 0x6111150>,", 
        " <matplotlib.lines.Line2D at 0x61115d0>]"
       ]
      }, 
      {
       "output_type": "display_data", 
       "png": "[encoded data removed]"
      }
     ], 
     "prompt_number": 49
    }, 
    {
     "cell_type": "code", 
     "collapsed": false, 
     "input": [
      "print shape(czas)", 
      "print shape(poklewe)", 
      "print shape(pokprawe)"
     ], 
     "language": "python", 
     "outputs": [
      {
       "output_type": "stream", 
       "stream": "stdout", 
       "text": [
        "(976,)", 
        "(976,)", 
        "(976,)"
       ]
      }
     ], 
     "prompt_number": 7
    }, 
    {
     "cell_type": "code", 
     "collapsed": false, 
     "input": [
      "plt.plot(czas, poklewe,'b',czas,pokprawe,'r')", 
      "import scipy"
     ], 
     "language": "python", 
     "outputs": [
      {
       "output_type": "display_data", 
       "png": "[encoded data removed]"
      }
     ], 
     "prompt_number": 50
    }, 
    {
     "cell_type": "code", 
     "collapsed": false, 
     "input": [
      "from scipy.signal import lfilter", 
      "deltalewe=lfilter([1.0,-1.0],[1.0],poklewe)", 
      "deltaprawe=lfilter([1.0,-1.0],[1.0],pokprawe)", 
      "deltaczas=lfilter([1.0,-1.0],[1.0],czas)", 
      "plt.plot(czas, deltalewe,czas,deltaprawe)", 
      "#plt.plot(czas, deltalewe/deltaczas,czas,deltaprawe/deltaczas)"
     ], 
     "language": "python", 
     "outputs": [
      {
       "output_type": "pyout", 
       "prompt_number": 32, 
       "text": [
        "[<matplotlib.lines.Line2D at 0x53ecd10>,", 
        " <matplotlib.lines.Line2D at 0x53ece10>]"
       ]
      }, 
      {
       "output_type": "display_data", 
       "png": "[encoded data removed]"
      }
     ], 
     "prompt_number": 32
    }, 
    {
     "cell_type": "code", 
     "collapsed": true, 
     "input": [
      "#print czas, poklewe,pokprawe"
     ], 
     "language": "python", 
     "outputs": [], 
     "prompt_number": 89
    }, 
    {
     "cell_type": "code", 
     "collapsed": false, 
     "input": [
      "#speed estimation", 
      "import numpy", 
      "import scipy", 
      "from scipy.stats import *", 
      "#from sklearn import linear_model", 
      "#regr = linear_model.LinearRegression()", 
      "x=numpy.array([czas[200:]])", 
      "ylewe=numpy.array([poklewe[200:]])", 
      "", 
      "yprawe=numpy.array([pokprawe[200:]])", 
      "#print regr.coef_.shape", 
      "#LinearRegression(copy_X=True, fit_intercept=True, normalize=False)", 
      "slope, intercept, r_value, p_value, std_err = scipy.stats.linregress(x,ylewe)", 
      "slope2, intercept2, r_value2, p_value2, std_err2 = scipy.stats.linregress(x,yprawe)", 
      "", 
      "print slope,intercept,r_value,p_value,std_err", 
      "print slope2,intercept2,r_value2,p_value2,std_err2", 
      "kk=slope*kl/(slope2*kp)", 
      "print kk", 
      "wsp2=wsp*slope2/slope", 
      "print kp,kl,wsp2"
     ], 
     "language": "python", 
     "outputs": [
      {
       "output_type": "stream", 
       "stream": "stdout", 
       "text": [
        "0.0215047993439 -2977981.82985 0.999083993242 nan nan", 
        "0.0207942448546 -2879584.77227 0.999217186744 nan nan", 
        "1.03417072821", 
        "30 30 0.966958329723"
       ]
      }
     ], 
     "prompt_number": 55
    }, 
    {
     "cell_type": "code", 
     "collapsed": false, 
     "input": [
      "numpy.array([czas[100:]]).shape[1]"
     ], 
     "language": "python", 
     "outputs": [
      {
       "output_type": "pyout", 
       "prompt_number": 101, 
       "text": [
        "2363"
       ]
      }
     ], 
     "prompt_number": 101
    }, 
    {
     "cell_type": "code", 
     "collapsed": false, 
     "input": [
      "x=struct.pack('h',188)", 
      "map(ord, x)"
     ], 
     "language": "python", 
     "outputs": [
      {
       "output_type": "pyout", 
       "prompt_number": 44, 
       "text": [
        "[188, 0]"
       ]
      }
     ], 
     "prompt_number": 44
    }, 
    {
     "cell_type": "code", 
     "collapsed": true, 
     "input": [
      "ser = serial.Serial('/dev/rfcomm1',57600,timeout=0.001)"
     ], 
     "language": "python", 
     "outputs": []
    }, 
    {
     "cell_type": "code", 
     "collapsed": false, 
     "input": [
      "print ser"
     ], 
     "language": "python", 
     "outputs": [
      {
       "output_type": "stream", 
       "stream": "stdout", 
       "text": [
        "Serial<id=0x434afd0, open=True>(port='/dev/rfcomm1', baudrate=57600, bytesize=8, parity='N', stopbits=1, timeout=0.001, xonxoff=False, rtscts=False, dsrdtr=False)"
       ]
      }
     ], 
     "prompt_number": 2
    }, 
    {
     "cell_type": "code", 
     "collapsed": false, 
     "input": [
      "ser.inWaiting()"
     ], 
     "language": "python", 
     "outputs": [
      {
       "output_type": "pyout", 
       "prompt_number": 3, 
       "text": [
        "0"
       ]
      }
     ], 
     "prompt_number": 3
    }, 
    {
     "cell_type": "code", 
     "collapsed": true, 
     "input": [
      "ser.close()"
     ], 
     "language": "python", 
     "outputs": [], 
     "prompt_number": 4
    }, 
    {
     "cell_type": "code", 
     "collapsed": false, 
     "input": [
      "print ser"
     ], 
     "language": "python", 
     "outputs": [
      {
       "output_type": "stream", 
       "stream": "stdout", 
       "text": [
        "Serial<id=0x434afd0, open=False>(port='/dev/rfcomm1', baudrate=57600, bytesize=8, parity='N', stopbits=1, timeout=0.001, xonxoff=False, rtscts=False, dsrdtr=False)"
       ]
      }
     ], 
     "prompt_number": 5
    }, 
    {
     "cell_type": "code", 
     "collapsed": true, 
     "input": [
      "ser.open()"
     ], 
     "language": "python", 
     "outputs": [], 
     "prompt_number": 6
    }, 
    {
     "cell_type": "code", 
     "collapsed": false, 
     "input": [
      "print ser"
     ], 
     "language": "python", 
     "outputs": [
      {
       "output_type": "stream", 
       "stream": "stdout", 
       "text": [
        "Serial<id=0x434afd0, open=True>(port='/dev/rfcomm1', baudrate=57600, bytesize=8, parity='N', stopbits=1, timeout=0.001, xonxoff=False, rtscts=False, dsrdtr=False)"
       ]
      }
     ], 
     "prompt_number": 7
    }, 
    {
     "cell_type": "code", 
     "collapsed": true, 
     "input": [
      "#czas[100:]"
     ], 
     "language": "python", 
     "outputs": [], 
     "prompt_number": 58
    }, 
    {
     "cell_type": "code", 
     "collapsed": false, 
     "input": [
      "print ser.readline()"
     ], 
     "language": "python", 
     "outputs": [
      {
       "output_type": "stream", 
       "stream": "stdout", 
       "text": []
      }
     ], 
     "prompt_number": 20
    }, 
    {
     "cell_type": "code", 
     "collapsed": false, 
     "input": [
      "ser.write('z')"
     ], 
     "language": "python", 
     "outputs": [
      {
       "output_type": "pyout", 
       "prompt_number": 27, 
       "text": [
        "1"
       ]
      }
     ], 
     "prompt_number": 27
    }, 
    {
     "cell_type": "code", 
     "collapsed": true, 
     "input": [
      "ser.flushInput"
     ], 
     "language": "python", 
     "outputs": [], 
     "prompt_number": 14
    }, 
    {
     "cell_type": "code", 
     "collapsed": false, 
     "input": [
      "print Ser.availible()"
     ], 
     "language": "python", 
     "outputs": [
      {
       "ename": "NameError", 
       "evalue": "name 'Seria' is not defined", 
       "output_type": "pyerr", 
       "traceback": [
        "\u001b[0;31m---------------------------------------------------------------------------\u001b[0m\n\u001b[0;31mNameError\u001b[0m                                 Traceback (most recent call last)", 
        "\u001b[0;32m/home/igor/<ipython-input-22-6ade85b702a6>\u001b[0m in \u001b[0;36m<module>\u001b[0;34m()\u001b[0m\n\u001b[0;32m----> 1\u001b[0;31m \u001b[0;32mprint\u001b[0m \u001b[0mSeria\u001b[0m\u001b[0;34m.\u001b[0m\u001b[0mavailible\u001b[0m\u001b[0;34m(\u001b[0m\u001b[0;34m)\u001b[0m\u001b[0;34m\u001b[0m\u001b[0m\n\u001b[0m", 
        "\u001b[0;31mNameError\u001b[0m: name 'Seria' is not defined"
       ]
      }
     ], 
     "prompt_number": 22
    }, 
    {
     "cell_type": "code", 
     "collapsed": true, 
     "input": [
      "ser.close()"
     ], 
     "language": "python", 
     "outputs": [], 
     "prompt_number": 23
    }, 
    {
     "cell_type": "code", 
     "collapsed": true, 
     "input": [
      "ser.open()"
     ], 
     "language": "python", 
     "outputs": [], 
     "prompt_number": 18
    }, 
    {
     "cell_type": "code", 
     "collapsed": false, 
     "input": [
      "ser.write('q')", 
      "ser.readlines()"
     ], 
     "language": "python", 
     "outputs": [
      {
       "output_type": "pyout", 
       "prompt_number": 19, 
       "text": [
        "[]"
       ]
      }
     ], 
     "prompt_number": 19
    }, 
    {
     "cell_type": "code", 
     "collapsed": false, 
     "input": [
      "ser.buffer"
     ], 
     "language": "python", 
     "outputs": [
      {
       "ename": "AttributeError", 
       "evalue": "'Serial' object has no attribute 'buffer'", 
       "output_type": "pyerr", 
       "traceback": [
        "\u001b[0;31m---------------------------------------------------------------------------\u001b[0m\n\u001b[0;31mAttributeError\u001b[0m                            Traceback (most recent call last)", 
        "\u001b[0;32m/home/igor/<ipython-input-32-bee9f0cf3768>\u001b[0m in \u001b[0;36m<module>\u001b[0;34m()\u001b[0m\n\u001b[0;32m----> 1\u001b[0;31m \u001b[0mser\u001b[0m\u001b[0;34m.\u001b[0m\u001b[0mbuffer\u001b[0m\u001b[0;34m\u001b[0m\u001b[0m\n\u001b[0m", 
        "\u001b[0;31mAttributeError\u001b[0m: 'Serial' object has no attribute 'buffer'"
       ]
      }
     ], 
     "prompt_number": 32
    }, 
    {
     "cell_type": "code", 
     "collapsed": false, 
     "input": [
      "print ser.fd"
     ], 
     "language": "python", 
     "outputs": [
      {
       "output_type": "stream", 
       "stream": "stdout", 
       "text": [
        "None"
       ]
      }
     ], 
     "prompt_number": 8
    }, 
    {
     "cell_type": "code", 
     "collapsed": true, 
     "input": [
      "import termios "
     ], 
     "language": "python", 
     "outputs": [], 
     "prompt_number": 4
    }, 
    {
     "cell_type": "code", 
     "collapsed": true, 
     "input": [
      "import serial", 
      "import time", 
      "import struct", 
      "#ser = serial.Serial('/dev/ttyACM1',57600)", 
      "", 
      "ser = serial.Serial('/dev/rfcomm1',57600,timeout=0.002)", 
      "ser.open()", 
      "ser.flushInput()", 
      "ser.close()"
     ], 
     "language": "python", 
     "outputs": [], 
     "prompt_number": 22
    }, 
    {
     "cell_type": "code", 
     "collapsed": true, 
     "input": [
      "ser.open()"
     ], 
     "language": "python", 
     "outputs": [], 
     "prompt_number": 23
    }, 
    {
     "cell_type": "code", 
     "collapsed": false, 
     "input": [
      "ser.write('d')"
     ], 
     "language": "python", 
     "outputs": [
      {
       "output_type": "pyout", 
       "prompt_number": 24, 
       "text": [
        "1"
       ]
      }
     ], 
     "prompt_number": 24
    }, 
    {
     "cell_type": "code", 
     "collapsed": false, 
     "input": [
      "ser.readline()"
     ], 
     "language": "python", 
     "outputs": [
      {
       "output_type": "pyout", 
       "prompt_number": 25, 
       "text": [
        "''"
       ]
      }
     ], 
     "prompt_number": 25
    }, 
    {
     "cell_type": "code", 
     "collapsed": true, 
     "input": [
      "ser.close()"
     ], 
     "language": "python", 
     "outputs": [], 
     "prompt_number": 26
    }, 
    {
     "cell_type": "code", 
     "collapsed": true, 
     "input": [
      "import termios"
     ], 
     "language": "python", 
     "outputs": [], 
     "prompt_number": 27
    }, 
    {
     "cell_type": "code", 
     "collapsed": false, 
     "input": [
      "n"
     ], 
     "language": "python", 
     "outputs": [
      {
       "output_type": "pyout", 
       "prompt_number": 49, 
       "text": [
        "4151"
       ]
      }
     ], 
     "prompt_number": 49
    }, 
    {
     "cell_type": "code", 
     "collapsed": false, 
     "input": [
      "print kp,kl"
     ], 
     "language": "python", 
     "outputs": [
      {
       "output_type": "stream", 
       "stream": "stdout", 
       "text": [
        "125 124"
       ]
      }
     ], 
     "prompt_number": 57
    }, 
    {
     "cell_type": "code", 
     "collapsed": false, 
     "input": [
      "import math", 
      "przel=2*math.pi/48", 
      "x1=array([21.5047,66.500,82.5313,89.82765,120.48025424,132.6497642,162.82148,194.7182749160,210.716047809,212.393232427,218.551812730,238.28415,251])*przel", 
      "x2=array([20.7942,64.039,82.4209,87.668449,119.66514187,129.764144175,162.630229967,190.535783862,202.24630695,206.828063805,221.261822,226.1008,233.66853])*przel", 
      "x11=array([21.5047,66.500,82.5313,89.82765,120.48025424,132.6497642,162.82148,194.7182749160,210.716047809,212.393232427,218.551812730,238.28415,251])", 
      "x22=array([20.7942,64.039,82.4209,87.668449,119.66514187,129.764144175,162.630229967,190.535783862,202.24630695,206.828063805,221.261822,226.1008,233.66853])", 
      "tt1=array([30,40,45,49,55,60,75,100,125,150,175,200,255])", 
      "tt2=array([30,40,45,50,55,60,75,100,125,150,175,200,255])", 
      "plt.plot(tt1, x1,'b',tt2,x2,'r')"
     ], 
     "language": "python", 
     "outputs": [
      {
       "output_type": "pyout", 
       "prompt_number": 7, 
       "text": [
        "[<matplotlib.lines.Line2D at 0x442b050>,", 
        " <matplotlib.lines.Line2D at 0x442b150>]"
       ]
      }, 
      {
       "output_type": "display_data", 
       "png": "[encoded data removed]"
      }
     ], 
     "prompt_number": 7
    }, 
    {
     "cell_type": "code", 
     "collapsed": false, 
     "input": [
      "def twiddle(tol = 0.2): #Make this tolerance bigger if you are timing out!", 
      "############## ADD CODE BELOW ####################", 
      "            ", 
      "", 
      "", 
      "    # -------------", 
      "    # Add code here", 
      "    # -------------", 
      "#tysiac razy probkujemy", 
      "    nnx=0", 
      "    sukcesy=[]", 
      "    parametry=[]", 
      "    while(nnx<10001):", 
      "\t    ", 
      "\t    p=np.random.uniform(0,1000,3).tolist()", 
      "\t    #p=[0,0,0]", 
      "\t    dp=[1,1,1]", 
      "\t    besterr=100000", 
      "\t    besterr=run(p)", 
      "", 
      "\t    nnn=1000", 
      "\t    paramt=p+[]", 
      "\t    num=0", 
      "", 
      "            while ((sum(dp)>tol) and num<nnn):", 
      "\t\tnum+=1", 
      "\t\t", 
      "\t\tfor nn in range(len(p)):", 
      "\t\t    param2=paramt+[]", 
      "\t\t    ", 
      "\t\t    param2[nn]=param2[nn]+dp[nn] ", 
      "\t\t    ", 
      "\t\t    err=run(param2)", 
      "\t\t    ", 
      "\t\t    if(besterr<err): #porazka", 
      "\t\t        param2=paramt+[]", 
      "\t\t        param2[nn]=param2[nn]-dp[nn] #odejmuje", 
      "\t\t        err=run(param2)", 
      "\t\t        ", 
      "\t\t    if(besterr>err): #sukces wiecej teraz", 
      "\t\t        dp[nn]=1.1*dp[nn]", 
      "\t\t        besterr=err", 
      "\t\t        paramt=param2", 
      "\t\t    else:", 
      "\t\t        dp[nn]=0.9*dp[nn]", 
      "", 
      "            sukcesy.append(besterr)", 
      "            parametry.append(paramt)", 
      "            nnx+=1", 
      "            if(nnx%100==0):", 
      "                print nnx,paramt,besterr  ", 
      "    params=parametry[sukcesy.index(min(sukcesy))]", 
      "            ", 
      "         #  params=paramt", 
      "  #  print num", 
      "    print params", 
      "    #print dp", 
      "    #print params", 
      "    #print exxp(tt1,params)", 
      "    plt.plot(tt2, x22,'b',tt1,exxp(tt2,params),'r')", 
      "    return run(params)", 
      "", 
      "def run(params):", 
      "    xxx1=exxp(tt2,params)", 
      "    #print xxx1", 
      "    kk=np.sum((xxx1-x22)**2)", 
      "", 
      "    return kk", 
      "    ", 
      "def exxp(t,params):", 
      "    K=params[0]", 
      "    tau=params[1]", 
      "    opoz=params[2]", 
      "    t2=t-opoz", 
      "    ", 
      "    t2[t2<0]=0", 
      "", 
      "    ff=numpy.exp(-tau*t2)", 
      "  ", 
      "    ff=1-ff", 
      "    ", 
      "    ff=K*ff", 
      "    ", 
      "    return ff", 
      "twiddle(0.002)"
     ], 
     "language": "python", 
     "outputs": [
      {
       "output_type": "stream", 
       "stream": "stdout", 
       "text": [
        "100 [619.6648287782069, 10.340038704042321, 781.9403196293049] 351284.074105", 
        "200"
       ]
      }, 
      {
       "output_type": "stream", 
       "stream": "stdout", 
       "text": [
        " [149.81810193403118, 261.9684912301089, 10.019133256138236] 59496.6281377", 
        "300"
       ]
      }, 
      {
       "output_type": "stream", 
       "stream": "stdout", 
       "text": [
        " [233.6694608058534, 973.9746197567675, 224.68212087591988] 296683.092193", 
        "400"
       ]
      }, 
      {
       "output_type": "stream", 
       "stream": "stdout", 
       "text": [
        " [921.8519817977931, 342.9403793718986, 536.0929705510014] 351284.074105", 
        "500"
       ]
      }, 
      {
       "output_type": "stream", 
       "stream": "stdout", 
       "text": [
        " [149.81619891130023, 638.5002893282033, 7.229755388816428] 59496.6281392", 
        "600"
       ]
      }, 
      {
       "output_type": "stream", 
       "stream": "stdout", 
       "text": [
        " [149.81612773271914, 11.220929554496383, 24.195435216119886] 59496.6281411", 
        "700"
       ]
      }, 
      {
       "output_type": "stream", 
       "stream": "stdout", 
       "text": [
        " [265.9362496135573, 608.3251609788449, 325.7590605383295] 351284.074105", 
        "800"
       ]
      }, 
      {
       "output_type": "stream", 
       "stream": "stdout", 
       "text": [
        " [450.4682321377682, 702.3552541690541, 628.1196233733934] 351284.074105", 
        "900"
       ]
      }, 
      {
       "output_type": "stream", 
       "stream": "stdout", 
       "text": [
        " [431.4727459566, 357.2387582366453, 894.2747309603199] 351284.074105", 
        "1000"
       ]
      }, 
      {
       "output_type": "stream", 
       "stream": "stdout", 
       "text": [
        " [433.0005170603879, 18.563639904198403, 699.0033363187639] 351284.074105", 
        "1100"
       ]
      }, 
      {
       "output_type": "stream", 
       "stream": "stdout", 
       "text": [
        " [227.00944859063398, 982.4803477519806, 160.63420979641208] 196682.930776", 
        "1200"
       ]
      }, 
      {
       "output_type": "stream", 
       "stream": "stdout", 
       "text": [
        " [865.9393815297417, 983.2902810029732, 670.6320760941691] 351284.074105", 
        "1300"
       ]
      }, 
      {
       "output_type": "stream", 
       "stream": "stdout", 
       "text": [
        " [705.3000630830602, 266.6942686939683, 875.3814470671612] 351284.074105", 
        "1400"
       ]
      }, 
      {
       "output_type": "stream", 
       "stream": "stdout", 
       "text": [
        " [450.7565201373922, 252.55984530112065, 336.8449363658498] 351284.074105", 
        "1500"
       ]
      }, 
      {
       "output_type": "stream", 
       "stream": "stdout", 
       "text": [
        " [380.376390397158, 573.7317974643639, 297.3949282076156] 351284.074105", 
        "1600"
       ]
      }, 
      {
       "output_type": "stream", 
       "stream": "stdout", 
       "text": [
        " [530.7681331782728, 903.2503351639125, 763.3960148706379] 351284.074105", 
        "1700"
       ]
      }, 
      {
       "output_type": "stream", 
       "stream": "stdout", 
       "text": [
        " [803.6149192473824, 676.8899773433722, 255.87770032872405] 351284.074105", 
        "1800"
       ]
      }, 
      {
       "output_type": "stream", 
       "stream": "stdout", 
       "text": [
        " [206.19160055174106, 929.9738866394802, 69.93477222766431] 53707.9707533", 
        "1900"
       ]
      }, 
      {
       "output_type": "stream", 
       "stream": "stdout", 
       "text": [
        " [849.2590213966297, 309.16814698390385, 678.4183241479896] 351284.074105", 
        "2000"
       ]
      }, 
      {
       "output_type": "stream", 
       "stream": "stdout", 
       "text": [
        " [229.88371830398, 175.20154028211155, 193.60243153104452] 245590.155702", 
        "2100"
       ]
      }, 
      {
       "output_type": "stream", 
       "stream": "stdout", 
       "text": [
        " [229.88363568386424, 727.090440390679, 195.71874642469567] 245590.155703", 
        "2200"
       ]
      }, 
      {
       "output_type": "stream", 
       "stream": "stdout", 
       "text": [
        " [791.934101948138, 202.75995466528707, 262.34152292864854] 351284.074105", 
        "2300"
       ]
      }, 
      {
       "output_type": "stream", 
       "stream": "stdout", 
       "text": [
        " [539.5861806760246, 361.83050296121576, 328.49720288064464] 351284.074105", 
        "2400"
       ]
      }, 
      {
       "output_type": "stream", 
       "stream": "stdout", 
       "text": [
        " [233.66943620326063, 403.77036878665496, 200.13412045842404] 296683.092193", 
        "2500"
       ]
      }, 
      {
       "output_type": "stream", 
       "stream": "stdout", 
       "text": [
        " [472.60223458787067, 402.3538992659922, 818.2058414988782] 351284.074105", 
        "2600"
       ]
      }, 
      {
       "output_type": "stream", 
       "stream": "stdout", 
       "text": [
        " [878.7664425215963, 932.036425601617, 708.8071410707084] 351284.074105", 
        "2700"
       ]
      }, 
      {
       "output_type": "stream", 
       "stream": "stdout", 
       "text": [
        " [233.66951717010113, 616.5650392895676, 224.10795782061456] 296683.092193", 
        "2800"
       ]
      }, 
      {
       "output_type": "stream", 
       "stream": "stdout", 
       "text": [
        " [239.7981943711478, 866.3221856306332, 312.3307483276053] 351284.074105", 
        "2900"
       ]
      }, 
      {
       "output_type": "stream", 
       "stream": "stdout", 
       "text": [
        " [960.9580433298556, 468.78744365073146, 558.9656028966514] 351284.074105", 
        "3000"
       ]
      }, 
      {
       "output_type": "stream", 
       "stream": "stdout", 
       "text": [
        " [919.8097333743333, 864.4501739472277, 539.4611597478523] 351284.074105", 
        "3100"
       ]
      }, 
      {
       "output_type": "stream", 
       "stream": "stdout", 
       "text": [
        " [251.55544471625745, 443.6683981605141, 953.6205707663422] 351284.074105", 
        "3200"
       ]
      }, 
      {
       "output_type": "stream", 
       "stream": "stdout", 
       "text": [
        " [337.84297687893826, 430.668244469775, 549.6268179727668] 351284.074105", 
        "3300"
       ]
      }, 
      {
       "output_type": "stream", 
       "stream": "stdout", 
       "text": [
        " [982.9842840317675, 130.91045061922756, 968.071558164232] 351284.074105", 
        "3400"
       ]
      }, 
      {
       "output_type": "stream", 
       "stream": "stdout", 
       "text": [
        " [418.3775318077808, 18.03359503387614, 487.09711946347545] 351284.074105", 
        "3500"
       ]
      }, 
      {
       "output_type": "stream", 
       "stream": "stdout", 
       "text": [
        " [356.9732865962845, 888.8954427833057, 769.0010629348068] 351284.074105", 
        "3600"
       ]
      }, 
      {
       "output_type": "stream", 
       "stream": "stdout", 
       "text": [
        " [49.6590682923439, 184.3119986543832, 296.03730408542003] 351284.074105", 
        "3700"
       ]
      }, 
      {
       "output_type": "stream", 
       "stream": "stdout", 
       "text": [
        " [491.652987421775, 552.2404279589862, 265.1561512904753] 351284.074105", 
        "3800"
       ]
      }, 
      {
       "output_type": "stream", 
       "stream": "stdout", 
       "text": [
        " [437.2916745081841, 290.5055868312182, 397.90264996748994] 351284.074105", 
        "3900"
       ]
      }, 
      {
       "output_type": "stream", 
       "stream": "stdout", 
       "text": [
        " [344.15802645676285, 584.9978636097886, 569.0460105525688] 351284.074105", 
        "4000"
       ]
      }, 
      {
       "output_type": "stream", 
       "stream": "stdout", 
       "text": [
        " [399.83429053075247, 8.653642626433866, 751.4343210546318] 351284.074105", 
        "4100"
       ]
      }, 
      {
       "output_type": "stream", 
       "stream": "stdout", 
       "text": [
        " [770.435245499392, 549.8548645171593, 437.9494758588077] 351284.074105", 
        "4200"
       ]
      }, 
      {
       "output_type": "stream", 
       "stream": "stdout", 
       "text": [
        " [233.66760023347425, 933.168620540417, 220.94980141098463] 296683.092193", 
        "4300"
       ]
      }, 
      {
       "output_type": "stream", 
       "stream": "stdout", 
       "text": [
        " [665.0743102958959, 493.7908097496183, 978.8303715047418] 351284.074105", 
        "4400"
       ]
      }, 
      {
       "output_type": "stream", 
       "stream": "stdout", 
       "text": [
        " [660.2124944298677, 425.5486102365259, 757.2573928253668] 351284.074105", 
        "4500"
       ]
      }, 
      {
       "output_type": "stream", 
       "stream": "stdout", 
       "text": [
        " [346.66251836348493, 99.72832115590569, 467.955260083039] 351284.074105", 
        "4600"
       ]
      }, 
      {
       "output_type": "stream", 
       "stream": "stdout", 
       "text": [
        " [164.71385945359884, 252.1793132386756, 304.29313004351263] 351284.074105", 
        "4700"
       ]
      }, 
      {
       "output_type": "stream", 
       "stream": "stdout", 
       "text": [
        " [598.8634481420506, 990.6883280816443, 974.725477649058] 351284.074105", 
        "4800"
       ]
      }, 
      {
       "output_type": "stream", 
       "stream": "stdout", 
       "text": [
        " [445.42553563595146, 171.6202555950087, 426.54043421736145] 351284.074105", 
        "4900"
       ]
      }, 
      {
       "output_type": "stream", 
       "stream": "stdout", 
       "text": [
        " [204.6203518736387, 586.7760002757333, 521.6743234403858] 351284.074105", 
        "5000"
       ]
      }, 
      {
       "output_type": "stream", 
       "stream": "stdout", 
       "text": [
        " [29.924641847441478, 179.18431161859226, 530.3710121921198] 351284.074105", 
        "5100"
       ]
      }, 
      {
       "output_type": "stream", 
       "stream": "stdout", 
       "text": [
        " [619.5241887598602, 751.6798068551287, 943.3990198027514] 351284.074105", 
        "5200"
       ]
      }, 
      {
       "output_type": "stream", 
       "stream": "stdout", 
       "text": [
        " [278.31027242153215, 388.081876745336, 662.552260537188] 351284.074105", 
        "5300"
       ]
      }, 
      {
       "output_type": "stream", 
       "stream": "stdout", 
       "text": [
        " [960.825199568032, 374.10510322499704, 438.517026672436] 351284.074105", 
        "5400"
       ]
      }, 
      {
       "output_type": "stream", 
       "stream": "stdout", 
       "text": [
        " [827.0644907388669, 464.9757544354166, 901.9653454016577] 351284.074105", 
        "5500"
       ]
      }, 
      {
       "output_type": "stream", 
       "stream": "stdout", 
       "text": [
        " [308.97320003190185, 392.6971472564782, 509.76718149893674] 351284.074105", 
        "5600"
       ]
      }, 
      {
       "output_type": "stream", 
       "stream": "stdout", 
       "text": [
        " [160.57008144725214, 464.3966279481164, 37.7710863762698] 41894.8527297", 
        "5700"
       ]
      }, 
      {
       "output_type": "stream", 
       "stream": "stdout", 
       "text": [
        " [213.43921391481, 32.07299946732589, 96.06821230645556] 77943.7147419", 
        "5800"
       ]
      }, 
      {
       "output_type": "stream", 
       "stream": "stdout", 
       "text": [
        " [169.3456391473322, 68.25246861750023, 40.99251003334171] 35830.6901614", 
        "5900"
       ]
      }, 
      {
       "output_type": "stream", 
       "stream": "stdout", 
       "text": [
        " [20.064368355689254, 348.6495667271712, 682.9654374925958] 351284.074105", 
        "6000"
       ]
      }, 
      {
       "output_type": "stream", 
       "stream": "stdout", 
       "text": [
        " [568.8535413732268, 523.1392613067188, 751.3197883814393] 351284.074105", 
        "6100"
       ]
      }, 
      {
       "output_type": "stream", 
       "stream": "stdout", 
       "text": [
        " [562.116090083619, 542.3051898029412, 284.22538421252295] 351284.074105", 
        "6200"
       ]
      }, 
      {
       "output_type": "stream", 
       "stream": "stdout", 
       "text": [
        " [595.7647266920361, 83.00956426609496, 345.2850520886996] 351284.074105", 
        "6300"
       ]
      }, 
      {
       "output_type": "stream", 
       "stream": "stdout", 
       "text": [
        " [357.30797418753, 913.2704930456363, 689.1107795482006] 351284.074105", 
        "6400"
       ]
      }, 
      {
       "output_type": "stream", 
       "stream": "stdout", 
       "text": [
        " [6.093915035287001, 178.78675506554586, 755.4006277396055] 351284.074105", 
        "6500"
       ]
      }, 
      {
       "output_type": "stream", 
       "stream": "stdout", 
       "text": [
        " [952.9509048027977, 166.98383864956546, 779.7217136904756] 351284.074105", 
        "6600"
       ]
      }, 
      {
       "output_type": "stream", 
       "stream": "stdout", 
       "text": [
        " [698.5101972911659, 591.4081872857893, 741.5070269125033] 351284.074105", 
        "6700"
       ]
      }, 
      {
       "output_type": "stream", 
       "stream": "stdout", 
       "text": [
        " [876.6920292409438, 43.05437226430864, 828.8347813174684] 351284.074105", 
        "6800"
       ]
      }, 
      {
       "output_type": "stream", 
       "stream": "stdout", 
       "text": [
        " [43.31967543791426, 603.9179781419939, 860.0785277081233] 351284.074105", 
        "6900"
       ]
      }, 
      {
       "output_type": "stream", 
       "stream": "stdout", 
       "text": [
        " [964.3172283129011, 610.699107084513, 932.1237708114813] 351284.074105", 
        "7000"
       ]
      }, 
      {
       "output_type": "stream", 
       "stream": "stdout", 
       "text": [
        " [246.46718784663534, 986.3685443621462, 614.8734614202515] 351284.074105", 
        "7100"
       ]
      }, 
      {
       "output_type": "stream", 
       "stream": "stdout", 
       "text": [
        " [858.2613182149806, 410.25615125610517, 409.32149617269386] 351284.074105", 
        "7200"
       ]
      }, 
      {
       "output_type": "stream", 
       "stream": "stdout", 
       "text": [
        " [178.03592811569462, 958.5168479904985, 47.41760401178985] 34312.5997787", 
        "7300"
       ]
      }, 
      {
       "output_type": "stream", 
       "stream": "stdout", 
       "text": [
        " [522.2317343014022, 446.9720066748384, 727.050824795539] 351284.074105", 
        "7400"
       ]
      }, 
      {
       "output_type": "stream", 
       "stream": "stdout", 
       "text": [
        " [851.1892379620191, 906.7379929262352, 954.6943874903267] 351284.074105", 
        "7500"
       ]
      }, 
      {
       "output_type": "stream", 
       "stream": "stdout", 
       "text": [
        " [629.3578938524734, 618.0326107292939, 813.9950233415681] 351284.074105", 
        "7600"
       ]
      }, 
      {
       "output_type": "stream", 
       "stream": "stdout", 
       "text": [
        " [547.1416509562038, 699.801452971118, 784.6967203964198] 351284.074105", 
        "7700"
       ]
      }, 
      {
       "output_type": "stream", 
       "stream": "stdout", 
       "text": [
        " [227.0113115034168, 610.1026776392661, 154.3469369782422] 196682.930776", 
        "7800"
       ]
      }, 
      {
       "output_type": "stream", 
       "stream": "stdout", 
       "text": [
        " [756.6057212601862, 571.7890591143209, 958.2633880417224] 351284.074105", 
        "7900"
       ]
      }, 
      {
       "output_type": "stream", 
       "stream": "stdout", 
       "text": [
        " [287.5402844219238, 266.00532654387354, 331.3728832208396] 351284.074105", 
        "8000"
       ]
      }, 
      {
       "output_type": "stream", 
       "stream": "stdout", 
       "text": [
        " [816.2396940379653, 91.36470706180833, 574.6351543175501] 351284.074105", 
        "8100"
       ]
      }, 
      {
       "output_type": "stream", 
       "stream": "stdout", 
       "text": [
        " [33.34489043083677, 383.15587117966555, 498.8527968404193] 351284.074105", 
        "8200"
       ]
      }, 
      {
       "output_type": "stream", 
       "stream": "stdout", 
       "text": [
        " [645.6794609121068, 259.72826682249325, 784.8253096136499] 351284.074105", 
        "8300"
       ]
      }, 
      {
       "output_type": "stream", 
       "stream": "stdout", 
       "text": [
        " [233.66957829640674, 241.5274712054889, 244.69864041885546] 296683.092194", 
        "8400"
       ]
      }, 
      {
       "output_type": "stream", 
       "stream": "stdout", 
       "text": [
        " [213.43917519885187, 6.462632830057657, 78.91700684694136] 77943.7147424", 
        "8500"
       ]
      }, 
      {
       "output_type": "stream", 
       "stream": "stdout", 
       "text": [
        " [334.182907359342, 40.034293683796406, 970.33637343737] 351284.074105", 
        "8600"
       ]
      }, 
      {
       "output_type": "stream", 
       "stream": "stdout", 
       "text": [
        " [233.66953980656567, 645.3710611595084, 237.6936232586554] 296683.092193", 
        "8700"
       ]
      }, 
      {
       "output_type": "stream", 
       "stream": "stdout", 
       "text": [
        " [314.0257469499609, 898.9194303903822, 949.3486979752175] 351284.074105", 
        "8800"
       ]
      }, 
      {
       "output_type": "stream", 
       "stream": "stdout", 
       "text": [
        " [149.81618175791235, 725.384402046307, 25.40694617637762] 59496.6281397", 
        "8900"
       ]
      }, 
      {
       "output_type": "stream", 
       "stream": "stdout", 
       "text": [
        " [299.50472851072294, 166.12827171056978, 613.0912730467013] 351284.074105", 
        "9000"
       ]
      }, 
      {
       "output_type": "stream", 
       "stream": "stdout", 
       "text": [
        " [160.56802570006207, 828.0863464124272, 34.23699608293307] 41894.8527319", 
        "9100"
       ]
      }, 
      {
       "output_type": "stream", 
       "stream": "stdout", 
       "text": [
        " [460.7309023402102, 866.2719064105189, 992.3694530664416] 351284.074105", 
        "9200"
       ]
      }, 
      {
       "output_type": "stream", 
       "stream": "stdout", 
       "text": [
        " [227.01141818335898, 225.49790164505868, 171.5932865061528] 196682.930777", 
        "9300"
       ]
      }, 
      {
       "output_type": "stream", 
       "stream": "stdout", 
       "text": [
        " [779.9519651137226, 80.81708870281712, 503.61684002689054] 351284.074105", 
        "9400"
       ]
      }, 
      {
       "output_type": "stream", 
       "stream": "stdout", 
       "text": [
        " [674.0294884567604, 889.5588992854603, 671.7679803604825] 351284.074105", 
        "9500"
       ]
      }, 
      {
       "output_type": "stream", 
       "stream": "stdout", 
       "text": [
        " [115.95123082441783, 911.9369133691841, 452.498201478053] 351284.074105", 
        "9600"
       ]
      }, 
      {
       "output_type": "stream", 
       "stream": "stdout", 
       "text": [
        " [861.8285510494569, 399.41310350660683, 690.447967579325] 351284.074105", 
        "9700"
       ]
      }, 
      {
       "output_type": "stream", 
       "stream": "stdout", 
       "text": [
        " [351.01959382763494, 280.01221951950106, 598.614070380784] 351284.074105", 
        "9800"
       ]
      }, 
      {
       "output_type": "stream", 
       "stream": "stdout", 
       "text": [
        " [196.62834993596113, 103.62846424495031, 58.21683480326678] 41978.917497", 
        "9900"
       ]
      }, 
      {
       "output_type": "stream", 
       "stream": "stdout", 
       "text": [
        " [401.6250450236801, 352.6364621548408, 989.7698419972255] 351284.074105", 
        "10000"
       ]
      }, 
      {
       "output_type": "stream", 
       "stream": "stdout", 
       "text": [
        " [357.5533689179106, 159.90954371950085, 927.5303325640467] 351284.074105", 
        "[228.10197703606406, 0.023891790742906732, 26.184557008518425]"
       ]
      }, 
      {
       "output_type": "pyout", 
       "prompt_number": 8, 
       "text": [
        "364.36499013181117"
       ]
      }, 
      {
       "output_type": "display_data", 
       "png": "[encoded data removed]"
      }
     ], 
     "prompt_number": 8
    }, 
    {
     "cell_type": "code", 
     "collapsed": false, 
     "input": [
      "np.random.randint(1000, size=3).tolist()"
     ], 
     "language": "python", 
     "outputs": [
      {
       "output_type": "pyout", 
       "prompt_number": 121, 
       "text": [
        "[693, 336, 161]"
       ]
      }
     ], 
     "prompt_number": 121
    }, 
    {
     "cell_type": "code", 
     "collapsed": false, 
     "input": [
      "s = np.random.uniform(0,1000,3)", 
      "print s"
     ], 
     "language": "python", 
     "outputs": [
      {
       "output_type": "stream", 
       "stream": "stdout", 
       "text": [
        "[ 606.61873417  262.14690527    1.95905866]"
       ]
      }
     ], 
     "prompt_number": 153
    }, 
    {
     "cell_type": "code", 
     "collapsed": false, 
     "input": [
      "run([31.280575318124367, 0.022141549160679005, 25.478904386927102])"
     ], 
     "language": "python", 
     "outputs": [
      {
       "output_type": "pyout", 
       "prompt_number": 6, 
       "text": [
        "262924.57785204262"
       ]
      }
     ], 
     "prompt_number": 6
    }, 
    {
     "cell_type": "code", 
     "collapsed": false, 
     "input": [
      "#import ", 
      "run([228, 0.024, 28])", 
      "tt3=(-numpy.log((228-tt2)/228.0)/0.024)+26", 
      "plt.plot(tt2,exxp(tt3,[228, 0.024, 26]),'r')", 
      "    "
     ], 
     "language": "python", 
     "outputs": [
      {
       "output_type": "pyout", 
       "prompt_number": 42, 
       "text": [
        "[<matplotlib.lines.Line2D at 0x6260710>]"
       ]
      }, 
      {
       "output_type": "display_data", 
       "png": "[encoded data removed]"
      }
     ], 
     "prompt_number": 42
    }, 
    {
     "cell_type": "code", 
     "collapsed": false, 
     "input": [
      "print tt2"
     ], 
     "language": "python", 
     "outputs": [
      {
       "output_type": "stream", 
       "stream": "stdout", 
       "text": [
        "[ 30  40  45  50  55  60  75 100 125 150 175 200 255]"
       ]
      }
     ], 
     "prompt_number": 31
    }, 
    {
     "cell_type": "code", 
     "collapsed": false, 
     "input": [
      "numpy.log((228-30)/228.0)"
     ], 
     "language": "python", 
     "outputs": [
      {
       "output_type": "pyout", 
       "prompt_number": 33, 
       "text": [
        "-0.14107859825990549"
       ]
      }
     ], 
     "prompt_number": 33
    }, 
    {
     "cell_type": "code", 
     "collapsed": false, 
     "input": [
      "import tkSimpleDialog", 
      "", 
      "move = tkSimpleDialog.askstring('Input',\"Where would you like to attack? \")", 
      "print move"
     ], 
     "language": "python", 
     "outputs": [
      {
       "output_type": "stream", 
       "stream": "stdout", 
       "text": [
        "tutam"
       ]
      }
     ], 
     "prompt_number": 11
    }, 
    {
     "cell_type": "code", 
     "collapsed": false, 
     "input": [
      "print move"
     ], 
     "language": "python", 
     "outputs": [
      {
       "output_type": "stream", 
       "stream": "stdout", 
       "text": [
        "costam"
       ]
      }
     ], 
     "prompt_number": 9
    }, 
    {
     "cell_type": "code", 
     "collapsed": true, 
     "input": [
      "import serial", 
      "import time", 
      "import struct", 
      "import termios", 
      "#ser2 = serial.Serial('/dev/ttyACM1',57600)", 
      "def rungo(params):", 
      "", 
      " ser.open();", 
      " while(ser.inWaiting()>0):", 
      "    ser.readline()", 
      "    ", 
      "#import struct", 
      " p=params[0]", 
      " i=params[1]", 
      " d=params[2]", 
      " dowys=struct.pack(\"fff\",p,i,d)", 
      " dowys=\"l\"+dowys", 
      " #print dowys", 
      " ser.write(dowys)", 
      " time.sleep(5)", 
      " wynik=3000", 
      " while(ser.inWaiting()>0):", 
      "        ", 
      "    wynik=ser.readline()", 
      "    print wynik", 
      " ser.close()", 
      " return int(wynik)"
     ], 
     "language": "python", 
     "outputs": [], 
     "prompt_number": 101
    }, 
    {
     "cell_type": "code", 
     "collapsed": false, 
     "input": [
      "rungo([850,0.1,100])"
     ], 
     "language": "python", 
     "outputs": [
      {
       "output_type": "stream", 
       "stream": "stdout", 
       "text": [
        "2919"
       ]
      }, 
      {
       "output_type": "pyout", 
       "prompt_number": 151, 
       "text": [
        "2919"
       ]
      }
     ], 
     "prompt_number": 151
    }, 
    {
     "cell_type": "code", 
     "collapsed": false, 
     "input": [
      "", 
      "", 
      "def twiddle2(tol = 0.2): #Make this tolerance bigger if you are timing out!", 
      "############## ADD CODE BELOW ####################", 
      "            ", 
      "", 
      "", 
      "    # -------------", 
      "    # Add code here", 
      "    # -------------", 
      "", 
      "    p=[850,0.1,100]", 
      "    dp=[100,0.3,10]", 
      "    besterr=1000000", 
      "    besterr=rungo(p)", 
      "", 
      "    nnn=30", 
      "    paramt=p+[]", 
      "    num=0", 
      "    while (((dp[0]+dp[1]+dp[2])>tol) and num<nnn):", 
      "        num+=1", 
      "        print num", 
      "        #paramt", 
      "        for nn in range(len(p)):", 
      "            param2=paramt+[]", 
      "            param2[nn]=param2[nn]+dp[nn]", 
      "            err=rungo(param2)", 
      "            if(besterr<err):", 
      "                param2=paramt+[]", 
      "                param2[nn]=param2[nn]-dp[nn]", 
      "                err=rungo(param2)", 
      "                ", 
      "            if(besterr>err):", 
      "                dp[nn]=1.4*dp[nn]", 
      "                besterr=err", 
      "                paramt=param2", 
      "            else:", 
      "                dp[nn]=0.7*dp[nn]", 
      "            print err,besterr,paramt,param2", 
      "            ", 
      "    params=paramt", 
      "  #  print num", 
      "    print params", 
      "    #print dp", 
      "    return rungo(params)", 
      "twiddle2(1)"
     ], 
     "language": "python", 
     "outputs": [
      {
       "output_type": "stream", 
       "stream": "stdout", 
       "text": [
        "2837", 
        "", 
        "1", 
        "2752"
       ]
      }, 
      {
       "output_type": "stream", 
       "stream": "stdout", 
       "text": [
        "", 
        "2752 2752 [950, 0.1, 100] [950, 0.1, 100]", 
        "2779"
       ]
      }, 
      {
       "output_type": "stream", 
       "stream": "stdout", 
       "text": [
        "", 
        "2901"
       ]
      }, 
      {
       "output_type": "stream", 
       "stream": "stdout", 
       "text": [
        "", 
        "2901 2752 [950, 0.1, 100] [950, -0.19999999999999998, 100]", 
        "2669"
       ]
      }, 
      {
       "output_type": "stream", 
       "stream": "stdout", 
       "text": [
        "", 
        "2669 2669 [950, 0.1, 110] [950, 0.1, 110]", 
        "2", 
        "3124"
       ]
      }, 
      {
       "output_type": "stream", 
       "stream": "stdout", 
       "text": [
        "", 
        "3090"
       ]
      }, 
      {
       "output_type": "stream", 
       "stream": "stdout", 
       "text": [
        "", 
        "3090 2669 [950, 0.1, 110] [810.0, 0.1, 110]", 
        "3035"
       ]
      }, 
      {
       "output_type": "stream", 
       "stream": "stdout", 
       "text": [
        "", 
        "2941"
       ]
      }, 
      {
       "output_type": "stream", 
       "stream": "stdout", 
       "text": [
        "", 
        "2941 2669 [950, 0.1, 110] [950, -0.10999999999999999, 110]", 
        "3106"
       ]
      }, 
      {
       "output_type": "stream", 
       "stream": "stdout", 
       "text": [
        "", 
        "3096"
       ]
      }, 
      {
       "output_type": "stream", 
       "stream": "stdout", 
       "text": [
        "", 
        "3096 2669 [950, 0.1, 110] [950, 0.1, 96.0]", 
        "3", 
        "3209"
       ]
      }, 
      {
       "output_type": "stream", 
       "stream": "stdout", 
       "text": [
        "", 
        "3213"
       ]
      }, 
      {
       "output_type": "stream", 
       "stream": "stdout", 
       "text": [
        "", 
        "3213 2669 [950, 0.1, 110] [852.0, 0.1, 110]", 
        "3219"
       ]
      }, 
      {
       "output_type": "stream", 
       "stream": "stdout", 
       "text": [
        "", 
        "2849"
       ]
      }, 
      {
       "output_type": "stream", 
       "stream": "stdout", 
       "text": [
        "", 
        "2849 2669 [950, 0.1, 110] [950, -0.046999999999999986, 110]", 
        "3039"
       ]
      }, 
      {
       "output_type": "stream", 
       "stream": "stdout", 
       "text": [
        "", 
        "3188"
       ]
      }, 
      {
       "output_type": "stream", 
       "stream": "stdout", 
       "text": [
        "", 
        "3188 2669 [950, 0.1, 110] [950, 0.1, 100.2]", 
        "4", 
        "3335"
       ]
      }, 
      {
       "output_type": "stream", 
       "stream": "stdout", 
       "text": [
        "", 
        "3251"
       ]
      }, 
      {
       "output_type": "stream", 
       "stream": "stdout", 
       "text": [
        "", 
        "3251 2669 [950, 0.1, 110] [881.4, 0.1, 110]", 
        "3528"
       ]
      }, 
      {
       "output_type": "stream", 
       "stream": "stdout", 
       "text": [
        "", 
        "3442"
       ]
      }, 
      {
       "output_type": "stream", 
       "stream": "stdout", 
       "text": [
        "", 
        "3442 2669 [950, 0.1, 110] [950, -0.002899999999999986, 110]", 
        "3514"
       ]
      }, 
      {
       "ename": "KeyboardInterrupt", 
       "evalue": "", 
       "output_type": "pyerr", 
       "traceback": [
        "\u001b[0;31m---------------------------------------------------------------------------\u001b[0m\n\u001b[0;31mKeyboardInterrupt\u001b[0m                         Traceback (most recent call last)", 
        "\u001b[0;32m/home/igor/<ipython-input-135-89b314bbe401>\u001b[0m in \u001b[0;36m<module>\u001b[0;34m()\u001b[0m\n\u001b[1;32m     44\u001b[0m     \u001b[0;31m#print dp\u001b[0m\n\u001b[0;34m\u001b[0m\u001b[0m\n\u001b[1;32m     45\u001b[0m     \u001b[0;32mreturn\u001b[0m \u001b[0mrungo\u001b[0m\u001b[0;34m(\u001b[0m\u001b[0mparams\u001b[0m\u001b[0;34m)\u001b[0m\u001b[0;34m\u001b[0m\u001b[0m\n\u001b[0;32m---> 46\u001b[0;31m \u001b[0mtwiddle2\u001b[0m\u001b[0;34m(\u001b[0m\u001b[0;36m1\u001b[0m\u001b[0;34m)\u001b[0m\u001b[0;34m\u001b[0m\u001b[0m\n\u001b[0m", 
        "\u001b[0;32m/home/igor/<ipython-input-135-89b314bbe401>\u001b[0m in \u001b[0;36mtwiddle2\u001b[0;34m(tol)\u001b[0m\n\u001b[1;32m     29\u001b[0m                 \u001b[0mparam2\u001b[0m\u001b[0;34m=\u001b[0m\u001b[0mparamt\u001b[0m\u001b[0;34m+\u001b[0m\u001b[0;34m[\u001b[0m\u001b[0;34m]\u001b[0m\u001b[0;34m\u001b[0m\u001b[0m\n\u001b[1;32m     30\u001b[0m                 \u001b[0mparam2\u001b[0m\u001b[0;34m[\u001b[0m\u001b[0mnn\u001b[0m\u001b[0;34m]\u001b[0m\u001b[0;34m=\u001b[0m\u001b[0mparam2\u001b[0m\u001b[0;34m[\u001b[0m\u001b[0mnn\u001b[0m\u001b[0;34m]\u001b[0m\u001b[0;34m-\u001b[0m\u001b[0mdp\u001b[0m\u001b[0;34m[\u001b[0m\u001b[0mnn\u001b[0m\u001b[0;34m]\u001b[0m\u001b[0;34m\u001b[0m\u001b[0m\n\u001b[0;32m---> 31\u001b[0;31m                 \u001b[0merr\u001b[0m\u001b[0;34m=\u001b[0m\u001b[0mrungo\u001b[0m\u001b[0;34m(\u001b[0m\u001b[0mparam2\u001b[0m\u001b[0;34m)\u001b[0m\u001b[0;34m\u001b[0m\u001b[0m\n\u001b[0m\u001b[1;32m     32\u001b[0m \u001b[0;34m\u001b[0m\u001b[0m\n\u001b[1;32m     33\u001b[0m             \u001b[0;32mif\u001b[0m\u001b[0;34m(\u001b[0m\u001b[0mbesterr\u001b[0m\u001b[0;34m>\u001b[0m\u001b[0merr\u001b[0m\u001b[0;34m)\u001b[0m\u001b[0;34m:\u001b[0m\u001b[0;34m\u001b[0m\u001b[0m\n", 
        "\u001b[0;32m/home/igor/<ipython-input-101-9a2d9f204039>\u001b[0m in \u001b[0;36mrungo\u001b[0;34m(params)\u001b[0m\n\u001b[1;32m     18\u001b[0m  \u001b[0;31m#print dowys\u001b[0m\n\u001b[0;34m\u001b[0m\u001b[0m\n\u001b[1;32m     19\u001b[0m  \u001b[0mser\u001b[0m\u001b[0;34m.\u001b[0m\u001b[0mwrite\u001b[0m\u001b[0;34m(\u001b[0m\u001b[0mdowys\u001b[0m\u001b[0;34m)\u001b[0m\u001b[0;34m\u001b[0m\u001b[0m\n\u001b[0;32m---> 20\u001b[0;31m  \u001b[0mtime\u001b[0m\u001b[0;34m.\u001b[0m\u001b[0msleep\u001b[0m\u001b[0;34m(\u001b[0m\u001b[0;36m5\u001b[0m\u001b[0;34m)\u001b[0m\u001b[0;34m\u001b[0m\u001b[0m\n\u001b[0m\u001b[1;32m     21\u001b[0m  \u001b[0mwynik\u001b[0m\u001b[0;34m=\u001b[0m\u001b[0;36m3000\u001b[0m\u001b[0;34m\u001b[0m\u001b[0m\n\u001b[1;32m     22\u001b[0m  \u001b[0;32mwhile\u001b[0m\u001b[0;34m(\u001b[0m\u001b[0mser\u001b[0m\u001b[0;34m.\u001b[0m\u001b[0minWaiting\u001b[0m\u001b[0;34m(\u001b[0m\u001b[0;34m)\u001b[0m\u001b[0;34m>\u001b[0m\u001b[0;36m0\u001b[0m\u001b[0;34m)\u001b[0m\u001b[0;34m:\u001b[0m\u001b[0;34m\u001b[0m\u001b[0m\n", 
        "\u001b[0;31mKeyboardInterrupt\u001b[0m: "
       ]
      }, 
      {
       "output_type": "stream", 
       "stream": "stdout", 
       "text": []
      }
     ], 
     "prompt_number": 135
    }, 
    {
     "cell_type": "code", 
     "collapsed": true, 
     "input": [], 
     "language": "python", 
     "outputs": []
    }
   ]
  }
 ]
}