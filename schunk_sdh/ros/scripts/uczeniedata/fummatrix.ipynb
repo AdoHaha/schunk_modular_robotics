{
 "metadata": {
  "name": "fummatrix"
 }, 
 "nbformat": 2, 
 "worksheets": [
  {
   "cells": [
    {
     "cell_type": "code", 
     "collapsed": false, 
     "input": [
      "from numpy import *"
     ], 
     "language": "python", 
     "outputs": [], 
     "prompt_number": 3
    }, 
    {
     "cell_type": "code", 
     "collapsed": false, 
     "input": [
      "a=array([[1.,0.,0.,0.],", 
      "[0.,1.,0.,0.],[0.,0.,-1.2,-2.2],[0.,0.,-1.,0.]])", 
      "b=array([[0,0,0],[0,11,4],[-1, -11,-6],[1,1,1]])", 
      "print dot(a,b)"
     ], 
     "language": "python", 
     "outputs": [
      {
       "output_type": "stream", 
       "stream": "stdout", 
       "text": [
        "[[  0.   0.   0.]", 
        " [  0.  11.   4.]", 
        " [ -1.  11.   5.]", 
        " [  1.  11.   6.]]"
       ]
      }
     ], 
     "prompt_number": 4
    }, 
    {
     "cell_type": "code", 
     "collapsed": true, 
     "input": [], 
     "language": "python", 
     "outputs": []
    }
   ]
  }
 ]
}