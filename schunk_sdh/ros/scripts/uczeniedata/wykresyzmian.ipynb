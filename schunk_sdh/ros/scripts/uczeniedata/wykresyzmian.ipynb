{
 "metadata": {
  "name": ""
 },
 "nbformat": 3,
 "nbformat_minor": 0,
 "worksheets": [
  {
   "cells": [
    {
     "cell_type": "code",
     "collapsed": true,
     "input": [
      "import pandas as pd\n",
      "import numpy as np"
     ],
     "language": "python",
     "metadata": {},
     "outputs": [],
     "prompt_number": 1
    },
    {
     "cell_type": "code",
     "collapsed": false,
     "input": [
      "temp = '/home/igor/palcebadania/%s.txt'\n",
      "path = temp % 'fileczyth'\n",
      "!wc -l $path"
     ],
     "language": "python",
     "metadata": {},
     "outputs": [
      {
       "output_type": "stream",
       "stream": "stdout",
       "text": [
        "63056 /home/igor/palcebadania/fileczyth.txt\r\n"
       ]
      }
     ],
     "prompt_number": 2
    },
    {
     "cell_type": "code",
     "collapsed": false,
     "input": [
      "fileczyth = pd.read_csv(temp % 'fileczyth')\n",
      "fileczyth"
     ],
     "language": "python",
     "metadata": {},
     "outputs": [
      {
       "html": [
        "<pre>\n",
        "&lt;class 'pandas.core.frame.DataFrame'&gt;\n",
        "Int64Index: 63055 entries, 0 to 63054\n",
        "Data columns (total 1 columns):\n",
        "kciuk0 palwska0 palsro0 palser0 palmal0 palmal1 czujmal czujdlo palser1 palsro1 palwska1 kciuk1 czujser czujsro czujkciuk temp time      63055  non-null values\n",
        "dtypes: object(1)\n",
        "</pre>"
       ],
       "metadata": {},
       "output_type": "pyout",
       "prompt_number": 3,
       "text": [
        "<class 'pandas.core.frame.DataFrame'>\n",
        "Int64Index: 63055 entries, 0 to 63054\n",
        "Data columns (total 1 columns):\n",
        "kciuk0 palwska0 palsro0 palser0 palmal0 palmal1 czujmal czujdlo palser1 palsro1 palwska1 kciuk1 czujser czujsro czujkciuk temp time      63055  non-null values\n",
        "dtypes: object(1)"
       ]
      }
     ],
     "prompt_number": 3
    },
    {
     "cell_type": "code",
     "collapsed": false,
     "input": [
      "fileczyth.head()"
     ],
     "language": "python",
     "metadata": {},
     "outputs": [
      {
       "html": [
        "<div style=\"max-height:1000px;max-width:1500px;overflow:auto;\">\n",
        "<table border=\"1\" class=\"dataframe\">\n",
        "  <thead>\n",
        "    <tr style=\"text-align: right;\">\n",
        "      <th></th>\n",
        "      <th>kciuk0 palwska0 palsro0 palser0 palmal0 palmal1 czujmal czujdlo palser1 palsro1 palwska1 kciuk1 czujser czujsro czujkciuk temp time  </th>\n",
        "    </tr>\n",
        "  </thead>\n",
        "  <tbody>\n",
        "    <tr>\n",
        "      <th>0</th>\n",
        "      <td> 325 281 305 329 313 296 0 0 327 277 321 311 0 ...</td>\n",
        "    </tr>\n",
        "    <tr>\n",
        "      <th>1</th>\n",
        "      <td> 324 281 304 329 313 296 0 0 326 277 321 311 0 ...</td>\n",
        "    </tr>\n",
        "    <tr>\n",
        "      <th>2</th>\n",
        "      <td> 324 281 304 329 312 296 0 0 327 277 321 311 0 ...</td>\n",
        "    </tr>\n",
        "    <tr>\n",
        "      <th>3</th>\n",
        "      <td> 324 281 304 329 313 296 0 0 327 278 321 311 0 ...</td>\n",
        "    </tr>\n",
        "    <tr>\n",
        "      <th>4</th>\n",
        "      <td> 325 281 304 329 313 296 0 0 327 277 321 311 0 ...</td>\n",
        "    </tr>\n",
        "  </tbody>\n",
        "</table>\n",
        "</div>"
       ],
       "metadata": {},
       "output_type": "pyout",
       "prompt_number": 4,
       "text": [
        "  kciuk0 palwska0 palsro0 palser0 palmal0 palmal1 czujmal czujdlo palser1 palsro1 palwska1 kciuk1 czujser czujsro czujkciuk temp time  \n",
        "0  325 281 305 329 313 296 0 0 327 277 321 311 0 ...                                                                                   \n",
        "1  324 281 304 329 313 296 0 0 326 277 321 311 0 ...                                                                                   \n",
        "2  324 281 304 329 312 296 0 0 327 277 321 311 0 ...                                                                                   \n",
        "3  324 281 304 329 313 296 0 0 327 278 321 311 0 ...                                                                                   \n",
        "4  325 281 304 329 313 296 0 0 327 277 321 311 0 ...                                                                                   "
       ]
      }
     ],
     "prompt_number": 4
    },
    {
     "cell_type": "code",
     "collapsed": false,
     "input": [
      "plot(arange(10))"
     ],
     "language": "python",
     "metadata": {},
     "outputs": [
      {
       "ename": "NameError",
       "evalue": "name 'plot' is not defined",
       "output_type": "pyerr",
       "traceback": [
        "\u001b[1;31m---------------------------------------------------------------------------\u001b[0m\n\u001b[1;31mNameError\u001b[0m                                 Traceback (most recent call last)",
        "\u001b[1;32m<ipython-input-5-353c92d67d6b>\u001b[0m in \u001b[0;36m<module>\u001b[1;34m()\u001b[0m\n\u001b[1;32m----> 1\u001b[1;33m \u001b[0mplot\u001b[0m\u001b[1;33m(\u001b[0m\u001b[0marange\u001b[0m\u001b[1;33m(\u001b[0m\u001b[1;36m10\u001b[0m\u001b[1;33m)\u001b[0m\u001b[1;33m)\u001b[0m\u001b[1;33m\u001b[0m\u001b[0m\n\u001b[0m",
        "\u001b[1;31mNameError\u001b[0m: name 'plot' is not defined"
       ]
      }
     ],
     "prompt_number": 5
    },
    {
     "cell_type": "code",
     "collapsed": true,
     "input": [],
     "language": "python",
     "metadata": {},
     "outputs": []
    }
   ],
   "metadata": {}
  }
 ]
}