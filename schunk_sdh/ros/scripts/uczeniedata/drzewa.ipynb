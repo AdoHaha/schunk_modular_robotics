{
 "metadata": {
  "name": ""
 },
 "nbformat": 3,
 "nbformat_minor": 0,
 "worksheets": [
  {
   "cells": [
    {
     "cell_type": "code",
     "collapsed": true,
     "input": [
      "import numpy as np\n",
      "\n",
      "fu= open(\"gestures.txt\")\n",
      "#f.readline()\n",
      "data = np.loadtxt(fu,float,'#',',')"
     ],
     "language": "python",
     "metadata": {},
     "outputs": [],
     "prompt_number": 1
    },
    {
     "cell_type": "code",
     "collapsed": true,
     "input": [
      "wart = data[:, 1:]  # select columns 1 through end\n",
      "labels = data[:, 0]   # select column 0, the stock price\n",
      "X,y=wart,labels"
     ],
     "language": "python",
     "metadata": {},
     "outputs": [],
     "prompt_number": 2
    },
    {
     "cell_type": "code",
     "collapsed": false,
     "input": [
      "print(labels)"
     ],
     "language": "python",
     "metadata": {},
     "outputs": [
      {
       "output_type": "stream",
       "stream": "stdout",
       "text": [
        "[ 1.  1.  1.  1.  1.  1.  1.  1.  1.  1.  1.  1.  1.  1.  1.  1.  1.  1.\n",
        "  1.  1.  1.  1.  1.  2.  2.  2.  2.  2.  2.  2.  2.  2.  2.  2.  2.  2.\n",
        "  2.  2.  2.  2.  2.  2.  2.  2.  2.  2.  2.  2.  2.  2.  2.  2.  2.  2.\n",
        "  2.  2.  2.  2.  3.  3.  3.  3.  3.  3.  3.  3.  3.  3.  3.  3.  3.  3.\n",
        "  3.  3.  3.  3.  3.  3.  3.  3.  3.  3.  3.  3.  3.  3.  3.  3.  3.  3.\n",
        "  3.  4.  4.  4.  4.  4.  4.  4.  4.  4.  4.  4.  4.  4.  4.  4.  4.  4.\n",
        "  4.  4.  4.  4.  4.  4.  4.  4.  4.  4.  4.  4.  4.  4.  4.  5.  5.  5.\n",
        "  5.  5.  5.  5.  5.  5.  5.  5.  5.  5.  5.  5.  5.  5.  5.  5.  5.  5.\n",
        "  5.  5.  5.  5.  5.  5.  5.  5.  5.  6.  6.  6.  6.  6.  6.  6.  6.  6.\n",
        "  6.  6.  6.  6.  6.  6.  6.  6.  6.  6.  6.  6.  6.  6.  6.  6.  6.  6.\n",
        "  6.  6.  6.  6.  6.]\n"
       ]
      }
     ],
     "prompt_number": 3
    },
    {
     "cell_type": "code",
     "collapsed": true,
     "input": [
      "from sklearn import tree"
     ],
     "language": "python",
     "metadata": {},
     "outputs": [],
     "prompt_number": 4
    },
    {
     "cell_type": "code",
     "collapsed": true,
     "input": [
      "clf = tree.DecisionTreeClassifier()"
     ],
     "language": "python",
     "metadata": {},
     "outputs": [],
     "prompt_number": 5
    },
    {
     "cell_type": "code",
     "collapsed": true,
     "input": [
      "clf = clf.fit(wart,labels)"
     ],
     "language": "python",
     "metadata": {},
     "outputs": [],
     "prompt_number": 6
    },
    {
     "cell_type": "code",
     "collapsed": true,
     "input": [
      "fu2 = open(\"gestures_test.txt\")\n",
      "data2 = np.loadtxt(fu2,float,'#',',')"
     ],
     "language": "python",
     "metadata": {},
     "outputs": [],
     "prompt_number": 7
    },
    {
     "cell_type": "code",
     "collapsed": true,
     "input": [
      "twart = data2[:, 1:]  # select columns 1 through end\n",
      "tlabels = data2[:, 0]   # select column 0, the stock price\n",
      "X2,y2=twart,tlabels"
     ],
     "language": "python",
     "metadata": {},
     "outputs": [],
     "prompt_number": 8
    },
    {
     "cell_type": "code",
     "collapsed": false,
     "input": [
      "from sklearn.cross_validation import cross_val_score\n",
      "from sklearn.ensemble import ExtraTreesClassifier"
     ],
     "language": "python",
     "metadata": {},
     "outputs": [],
     "prompt_number": 9
    },
    {
     "cell_type": "code",
     "collapsed": true,
     "input": [
      "clf = ExtraTreesClassifier(n_estimators=10, max_depth=10,\n",
      "...     min_samples_split=1, random_state=0)"
     ],
     "language": "python",
     "metadata": {},
     "outputs": [],
     "prompt_number": 10
    },
    {
     "cell_type": "code",
     "collapsed": true,
     "input": [
      "scores = cross_val_score(clf, X, y)"
     ],
     "language": "python",
     "metadata": {},
     "outputs": [],
     "prompt_number": 11
    },
    {
     "cell_type": "code",
     "collapsed": false,
     "input": [
      "print(scores.mean())"
     ],
     "language": "python",
     "metadata": {},
     "outputs": [
      {
       "output_type": "stream",
       "stream": "stdout",
       "text": [
        "0.924290498854\n"
       ]
      }
     ],
     "prompt_number": 12
    },
    {
     "cell_type": "code",
     "collapsed": false,
     "input": [
      "import sklearn\n",
      "clf.fit(X,y)\n",
      "sklearn.metrics.accuracy_score(y2,clf.predict(twart))"
     ],
     "language": "python",
     "metadata": {},
     "outputs": [
      {
       "metadata": {},
       "output_type": "pyout",
       "prompt_number": 13,
       "text": [
        "0.875"
       ]
      }
     ],
     "prompt_number": 13
    },
    {
     "cell_type": "code",
     "collapsed": true,
     "input": [
      "import StringIO, pydot\n",
      "with open(\"klasyf.dot\", 'w') as f:\n",
      "    f = tree.export_graphviz(clf, out_file=f)"
     ],
     "language": "python",
     "metadata": {},
     "outputs": [
      {
       "ename": "AttributeError",
       "evalue": "'ExtraTreesClassifier' object has no attribute 'tree_'",
       "output_type": "pyerr",
       "traceback": [
        "\u001b[1;31m---------------------------------------------------------------------------\u001b[0m\n\u001b[1;31mAttributeError\u001b[0m                            Traceback (most recent call last)",
        "\u001b[1;32m<ipython-input-14-e224b4230ac7>\u001b[0m in \u001b[0;36m<module>\u001b[1;34m()\u001b[0m\n\u001b[0;32m      1\u001b[0m \u001b[1;32mimport\u001b[0m \u001b[0mStringIO\u001b[0m\u001b[1;33m,\u001b[0m \u001b[0mpydot\u001b[0m\u001b[1;33m\u001b[0m\u001b[0m\n\u001b[0;32m      2\u001b[0m \u001b[1;32mwith\u001b[0m \u001b[0mopen\u001b[0m\u001b[1;33m(\u001b[0m\u001b[1;34m\"klasyf.dot\"\u001b[0m\u001b[1;33m,\u001b[0m \u001b[1;34m'w'\u001b[0m\u001b[1;33m)\u001b[0m \u001b[1;32mas\u001b[0m \u001b[0mf\u001b[0m\u001b[1;33m:\u001b[0m\u001b[1;33m\u001b[0m\u001b[0m\n\u001b[1;32m----> 3\u001b[1;33m     \u001b[0mf\u001b[0m \u001b[1;33m=\u001b[0m \u001b[0mtree\u001b[0m\u001b[1;33m.\u001b[0m\u001b[0mexport_graphviz\u001b[0m\u001b[1;33m(\u001b[0m\u001b[0mclf\u001b[0m\u001b[1;33m,\u001b[0m \u001b[0mout_file\u001b[0m\u001b[1;33m=\u001b[0m\u001b[0mf\u001b[0m\u001b[1;33m)\u001b[0m\u001b[1;33m\u001b[0m\u001b[0m\n\u001b[0m",
        "\u001b[1;32m/usr/local/lib/python2.7/dist-packages/scikit_learn-0.13.1-py2.7-linux-x86_64.egg/sklearn/tree/tree.pyc\u001b[0m in \u001b[0;36mexport_graphviz\u001b[1;34m(decision_tree, out_file, feature_names)\u001b[0m\n\u001b[0;32m    133\u001b[0m         \u001b[0mrecurse\u001b[0m\u001b[1;33m(\u001b[0m\u001b[0mdecision_tree\u001b[0m\u001b[1;33m,\u001b[0m \u001b[1;36m0\u001b[0m\u001b[1;33m)\u001b[0m\u001b[1;33m\u001b[0m\u001b[0m\n\u001b[0;32m    134\u001b[0m     \u001b[1;32melse\u001b[0m\u001b[1;33m:\u001b[0m\u001b[1;33m\u001b[0m\u001b[0m\n\u001b[1;32m--> 135\u001b[1;33m         \u001b[0mrecurse\u001b[0m\u001b[1;33m(\u001b[0m\u001b[0mdecision_tree\u001b[0m\u001b[1;33m.\u001b[0m\u001b[0mtree_\u001b[0m\u001b[1;33m,\u001b[0m \u001b[1;36m0\u001b[0m\u001b[1;33m)\u001b[0m\u001b[1;33m\u001b[0m\u001b[0m\n\u001b[0m\u001b[0;32m    136\u001b[0m     \u001b[0mout_file\u001b[0m\u001b[1;33m.\u001b[0m\u001b[0mwrite\u001b[0m\u001b[1;33m(\u001b[0m\u001b[1;34m\"}\"\u001b[0m\u001b[1;33m)\u001b[0m\u001b[1;33m\u001b[0m\u001b[0m\n\u001b[0;32m    137\u001b[0m \u001b[1;33m\u001b[0m\u001b[0m\n",
        "\u001b[1;31mAttributeError\u001b[0m: 'ExtraTreesClassifier' object has no attribute 'tree_'"
       ]
      }
     ],
     "prompt_number": 14
    },
    {
     "cell_type": "code",
     "collapsed": true,
     "input": [
      "import os\n",
      "os.unlink(\"klasyf.dot\")"
     ],
     "language": "python",
     "metadata": {},
     "outputs": [],
     "prompt_number": 10
    },
    {
     "cell_type": "code",
     "collapsed": false,
     "input": [
      "import StringIO, pydot \n",
      "dot_data = StringIO.StringIO() \n",
      "tree.export_graphviz(clf, out_file=dot_data) \n",
      "graph = pydot.graph_from_dot_data(dot_data.getvalue()) \n",
      "graph.write_pdf(\"iris.pdf\") "
     ],
     "language": "python",
     "metadata": {},
     "outputs": [
      {
       "output_type": "pyout",
       "prompt_number": 11,
       "text": [
        "True"
       ]
      }
     ],
     "prompt_number": 11
    },
    {
     "cell_type": "code",
     "collapsed": true,
     "input": [
      "from __future__ import print_function\n",
      "\n",
      "from time import time\n",
      "import logging\n",
      "import pylab as pl\n",
      "\n",
      "from sklearn.cross_validation import train_test_split\n",
      "from sklearn.datasets import fetch_lfw_people\n",
      "from sklearn.grid_search import GridSearchCV\n",
      "from sklearn.metrics import classification_report\n",
      "from sklearn.metrics import confusion_matrix\n",
      "from sklearn.decomposition import RandomizedPCA\n",
      "from sklearn.svm import SVC"
     ],
     "language": "python",
     "metadata": {},
     "outputs": [],
     "prompt_number": 12
    },
    {
     "cell_type": "code",
     "collapsed": false,
     "input": [
      "n_components = 4\n",
      "print(\"Extracting the top %d eigenfaces from %d faces\"\n",
      "      % (n_components, wart.shape[0]))\n",
      "t0 = time()\n",
      "pca = RandomizedPCA(n_components=n_components, whiten=True).fit(wart)\n",
      "print(\"done in %0.3fs\" % (time() - t0))"
     ],
     "language": "python",
     "metadata": {},
     "outputs": [
      {
       "output_type": "stream",
       "stream": "stdout",
       "text": [
        "Extracting the top 4 eigenfaces from 185 faces\n",
        "done in 0.003s"
       ]
      }
     ],
     "prompt_number": 13
    },
    {
     "cell_type": "code",
     "collapsed": false,
     "input": [
      "print pca"
     ],
     "language": "python",
     "metadata": {},
     "outputs": [
      {
       "ename": "SyntaxError",
       "evalue": "invalid syntax (<ipython-input-14-a2c0ca13c6fa>, line 1)",
       "output_type": "pyerr",
       "traceback": [
        "\u001b[0;36m  File \u001b[0;32m\"<ipython-input-14-a2c0ca13c6fa>\"\u001b[0;36m, line \u001b[0;32m1\u001b[0m\n\u001b[0;31m    print pca\u001b[0m\n\u001b[0m            ^\u001b[0m\n\u001b[0;31mSyntaxError\u001b[0m\u001b[0;31m:\u001b[0m invalid syntax\n"
       ]
      }
     ],
     "prompt_number": 14
    },
    {
     "cell_type": "code",
     "collapsed": false,
     "input": [
      "print(pca)"
     ],
     "language": "python",
     "metadata": {},
     "outputs": [
      {
       "output_type": "stream",
       "stream": "stdout",
       "text": [
        "RandomizedPCA(copy=True, iterated_power=3, n_components=4, random_state=None,\n",
        "       whiten=True)"
       ]
      }
     ],
     "prompt_number": 15
    },
    {
     "cell_type": "code",
     "collapsed": false,
     "input": [
      "\n",
      "print(__doc__)\n",
      "\n",
      "import numpy as np\n",
      "import pylab as pl\n",
      "\n",
      "from sklearn import datasets, svm\n",
      "from sklearn.feature_selection import SelectPercentile, f_classif\n",
      "X=wart\n",
      "y=labels\n",
      "\n",
      "pl.figure(1)\n",
      "pl.clf()\n",
      "\n",
      "X_indices = np.arange(X.shape[-1])\n",
      "\n",
      "###############################################################################\n",
      "# Univariate feature selection with F-test for feature scoring\n",
      "# We use the default selection function: the 10% most significant features\n",
      "selector = SelectPercentile(f_classif, percentile=30)\n",
      "selector.fit(X, y)\n",
      "scores = -np.log10(selector.pvalues_)\n",
      "scores /= scores.max()\n",
      "pl.bar(X_indices - .45, scores, width=.2,\n",
      "       label=r'Univariate score ($-Log(p_{value})$)', color='g')\n",
      "\n",
      "###############################################################################\n",
      "# Compare to the weights of an SVM\n",
      "clf = svm.SVC(kernel='linear')\n",
      "clf.fit(X, y)\n",
      "\n",
      "svm_weights = (clf.coef_ ** 2).sum(axis=0)\n",
      "svm_weights /= svm_weights.max()\n",
      "\n",
      "pl.bar(X_indices - .25, svm_weights, width=.2, label='SVM weight', color='r')\n",
      "\n",
      "clf_selected = svm.SVC(kernel='linear')\n",
      "clf_selected.fit(selector.transform(X), y)\n",
      "\n",
      "svm_weights_selected = (clf_selected.coef_ ** 2).sum(axis=0)\n",
      "svm_weights_selected /= svm_weights_selected.max()\n",
      "\n",
      "pl.bar(X_indices[selector.get_support()] - .05, svm_weights_selected, width=.2,\n",
      "       label='SVM weights after selection', color='b')\n",
      "\n",
      "\n",
      "pl.title(\"Comparing feature selection\")\n",
      "pl.xlabel('Feature number')\n",
      "pl.yticks(())\n",
      "pl.axis('tight')\n",
      "pl.legend(loc='upper right')\n",
      "pl.show()"
     ],
     "language": "python",
     "metadata": {},
     "outputs": [
      {
       "output_type": "stream",
       "stream": "stdout",
       "text": [
        "Automatically created module for IPython interactive environment"
       ]
      }
     ],
     "prompt_number": 25
    },
    {
     "cell_type": "code",
     "collapsed": false,
     "input": [
      "print(selector)"
     ],
     "language": "python",
     "metadata": {},
     "outputs": [
      {
       "output_type": "stream",
       "stream": "stdout",
       "text": [
        "SelectPercentile(percentile=10, score_func=<function f_classif at 0x3a3f230>)"
       ]
      }
     ],
     "prompt_number": 35
    },
    {
     "cell_type": "code",
     "collapsed": false,
     "input": [
      "print(selector.pvalues_)"
     ],
     "language": "python",
     "metadata": {},
     "outputs": [
      {
       "output_type": "stream",
       "stream": "stdout",
       "text": [
        "[  1.28805813e-49   5.32800694e-39   7.55758567e-16   1.31985737e-55\n",
        "   5.75931639e-47   6.16928723e-49   2.76017788e-54   7.50297456e-65\n",
        "   2.34347705e-72   2.24816707e-41   4.79554168e-11]"
       ]
      }
     ],
     "prompt_number": 21
    },
    {
     "cell_type": "code",
     "collapsed": false,
     "input": [
      "print(-np.log10(selector.pvalues_))"
     ],
     "language": "python",
     "metadata": {},
     "outputs": [
      {
       "output_type": "stream",
       "stream": "stdout",
       "text": [
        "[ 48.89006454  38.27343522  15.12161692  54.879473    46.23962906\n",
        "  48.20976501  53.55906293  64.12476653  71.6301393   40.64817142\n",
        "  10.31916233]"
       ]
      }
     ],
     "prompt_number": 22
    },
    {
     "cell_type": "code",
     "collapsed": false,
     "input": [
      "print(__doc__)\n",
      "\n",
      "from sklearn import svm\n",
      "from sklearn.datasets import samples_generator\n",
      "from sklearn.feature_selection import SelectKBest, f_regression\n",
      "from sklearn.pipeline import Pipeline\n",
      "\n",
      "# import some data to play with\n",
      "\"\"\"X, y = samples_generator.make_classification(\n",
      "    n_features=20, n_informative=3, n_redundant=0, n_classes=4,\n",
      "    n_clusters_per_class=2)\n",
      "\"\"\"\n",
      "# ANOVA SVM-C\n",
      "# 1) anova filter, take 3 best ranked features\n",
      "anova_filter = SelectKBest(f_regression, k=5)\n",
      "# 2) svm\n",
      "clf = svm.SVC(kernel='linear')\n",
      "\n",
      "anova_svm = Pipeline([('anova', anova_filter), ('svm', clf)])\n",
      "anova_svm.fit(X, y)\n",
      "anova_svm.predict(X)"
     ],
     "language": "python",
     "metadata": {},
     "outputs": [
      {
       "output_type": "stream",
       "stream": "stdout",
       "text": [
        "X, y = samples_generator.make_classification(\n",
        "    n_features=20, n_informative=3, n_redundant=0, n_classes=4,\n",
        "    n_clusters_per_class=2)"
       ]
      },
      {
       "output_type": "pyout",
       "prompt_number": 27,
       "text": [
        "array([ 1.,  1.,  4.,  4.,  1.,  1.,  5.,  1.,  1.,  4.,  1.,  5.,  1.,\n",
        "        4.,  1.,  1.,  1.,  1.,  1.,  1.,  3.,  1.,  1.,  2.,  2.,  2.,\n",
        "        2.,  2.,  2.,  2.,  2.,  2.,  2.,  2.,  2.,  2.,  2.,  2.,  2.,\n",
        "        2.,  2.,  2.,  2.,  2.,  2.,  2.,  2.,  2.,  2.,  2.,  2.,  2.,\n",
        "        2.,  2.,  2.,  2.,  2.,  2.,  3.,  3.,  3.,  3.,  3.,  3.,  3.,\n",
        "        3.,  3.,  3.,  1.,  3.,  3.,  3.,  3.,  3.,  5.,  3.,  3.,  3.,\n",
        "        3.,  3.,  5.,  3.,  1.,  3.,  3.,  3.,  3.,  3.,  3.,  3.,  3.,\n",
        "        4.,  4.,  4.,  4.,  4.,  4.,  1.,  4.,  1.,  4.,  4.,  4.,  1.,\n",
        "        4.,  4.,  1.,  4.,  4.,  4.,  4.,  4.,  4.,  4.,  4.,  4.,  4.,\n",
        "        4.,  4.,  4.,  4.,  4.,  4.,  1.,  1.,  1.,  1.,  1.,  5.,  6.,\n",
        "        5.,  5.,  5.,  5.,  5.,  5.,  5.,  5.,  5.,  5.,  5.,  5.,  5.,\n",
        "        6.,  5.,  5.,  6.,  5.,  5.,  5.,  5.,  5.,  5.,  5.,  6.,  6.,\n",
        "        6.,  6.,  6.,  6.,  6.,  6.,  6.,  6.,  6.,  6.,  6.,  6.,  6.,\n",
        "        6.,  6.,  6.,  6.,  6.,  6.,  6.,  6.,  6.,  6.,  6.,  6.,  6.,\n",
        "        6.,  6.,  5.])"
       ]
      }
     ],
     "prompt_number": 27
    },
    {
     "cell_type": "code",
     "collapsed": false,
     "input": [
      "from sklearn import tree\n",
      "\n",
      "clf = tree.DecisionTreeRegressor()\n",
      "clf = clf.fit(wart, labels)\n",
      "clf.predict(twart)\n",
      "print(1-sum(clf.predict(twart)!=tlabels)/24.0)"
     ],
     "language": "python",
     "metadata": {},
     "outputs": [
      {
       "output_type": "stream",
       "stream": "stdout",
       "text": [
        "0.666666666667"
       ]
      }
     ],
     "prompt_number": 34
    },
    {
     "cell_type": "code",
     "collapsed": true,
     "input": [],
     "language": "python",
     "metadata": {},
     "outputs": []
    }
   ],
   "metadata": {}
  }
 ]
}