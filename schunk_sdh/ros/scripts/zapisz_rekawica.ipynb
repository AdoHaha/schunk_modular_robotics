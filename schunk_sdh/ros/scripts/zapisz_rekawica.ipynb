{
 "metadata": {
  "name": ""
 },
 "nbformat": 3,
 "nbformat_minor": 0,
 "worksheets": [
  {
   "cells": [
    {
     "cell_type": "code",
     "collapsed": false,
     "input": [
      "#!/usr/bin/env python\n",
      "import roslib; roslib.load_manifest('schunk_sdh')\n",
      "import rospy\n",
      "from std_msgs.msg import String\n",
      "from std_msgs.msg import Float64\n",
      "from dlonurdf.msg import Rekawica\n",
      "from dlonurdf.msg import Hand\n",
      "from dlonurdf.msg import Correction\n",
      "import math\n",
      "\n",
      "#import roslib; \n",
      "#roslib.load_manifest('dlonurdf')\n",
      "import sys \n",
      "#import rospy\n",
      "#import roslib\n",
      "import cob_srvs.srv\n",
      "import std_msgs.msg\n",
      "import control_msgs.msg\n",
      "import actionlib_msgs.msg\n",
      "import trajectory_msgs.msg\n",
      "import sensor_msgs.msg\n",
      "import collections\n",
      "import scipy.signal as signal\n",
      "import csv"
     ],
     "language": "python",
     "metadata": {},
     "outputs": [],
     "prompt_number": 1
    },
    {
     "cell_type": "code",
     "collapsed": false,
     "input": [
      "rekawicyzlacze=[]\n",
      "n=0\n",
      "def pobraniedanych(rekawica):\n",
      "    global n\n",
      "    if n<1000:\n",
      "        global rekawicyzlacze\n",
      "        rekawicyzlacze.append(float(rekawica.palwska0))\n",
      "    elif n==0:\n",
      "        print \"done\"\n",
      "    n+=1"
     ],
     "language": "python",
     "metadata": {},
     "outputs": [],
     "prompt_number": 2
    },
    {
     "cell_type": "code",
     "collapsed": false,
     "input": [
      "rospy.init_node('glovezenon')\n",
      "rospy.Subscriber(\"rekawica\",Rekawica,pobraniedanych)"
     ],
     "language": "python",
     "metadata": {},
     "outputs": [
      {
       "metadata": {},
       "output_type": "pyout",
       "prompt_number": 3,
       "text": [
        "<rospy.topics.Subscriber at 0x4985150>"
       ]
      }
     ],
     "prompt_number": 3
    },
    {
     "cell_type": "code",
     "collapsed": false,
     "input": [
      "print \"fufu\""
     ],
     "language": "python",
     "metadata": {},
     "outputs": [
      {
       "output_type": "stream",
       "stream": "stdout",
       "text": [
        "fufu\n"
       ]
      }
     ],
     "prompt_number": 4
    },
    {
     "cell_type": "code",
     "collapsed": false,
     "input": [
      "print len(rekawicyzlacze)\n",
      "import numpy\n"
     ],
     "language": "python",
     "metadata": {},
     "outputs": [
      {
       "output_type": "stream",
       "stream": "stdout",
       "text": [
        "1000\n"
       ]
      }
     ],
     "prompt_number": 8
    },
    {
     "cell_type": "code",
     "collapsed": false,
     "input": [
      "numpy.std(rekawicyzlacze)\n",
      "numpy.var(rekawicyzlacze)"
     ],
     "language": "python",
     "metadata": {},
     "outputs": [
      {
       "metadata": {},
       "output_type": "pyout",
       "prompt_number": 10,
       "text": [
        "0.18015899999999935"
       ]
      }
     ],
     "prompt_number": 10
    },
    {
     "cell_type": "code",
     "collapsed": false,
     "input": [],
     "language": "python",
     "metadata": {},
     "outputs": []
    }
   ],
   "metadata": {}
  }
 ]
}